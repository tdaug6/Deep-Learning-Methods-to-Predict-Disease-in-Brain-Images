{
 "cells": [
  {
   "cell_type": "markdown",
   "id": "439ac241",
   "metadata": {},
   "source": [
    "# Machine Learning with OHSU\n",
    "\n",
    "This notebook investigates the performance of machine learning models to recognize ADHD in subjects. \n",
    "This dataset consits of preprocessed data from the OHSU from the ADHD-200 Competition set and the diagnosis corresponding to each subject.\n",
    "\n",
    "The features for this analysis contains the average signal intensity for each region determined by the AAL atlas. \n",
    "\n",
    "This notebook runs two tests to evaluate the accuracy of multiple classification models.\n",
    "1. Multi-class diagnosis (uses all diagnosis types)\n",
    "2. Binary classification (if subject has ADHD or not)"
   ]
  },
  {
   "cell_type": "markdown",
   "id": "9d4d8c21",
   "metadata": {},
   "source": [
    "## Imports\n",
    "\n",
    "These are the imports that are required for this notebook to run properly\n",
    "\n",
    "- `os` to access the file\n",
    "\n",
    "- `pandas` to work with dataframes\n",
    "\n",
    "- `numpy` for linear algebra\n",
    "\n",
    "- `seaborn` for customizable plotting\n",
    "\n",
    "- `matplotlib.pyplot` for plotting\n",
    "\n",
    "\n",
    "- `train_test_split()` for splitting data into a training and testing set\n",
    "\n",
    "- `LogisticRegression` for a logistic regression machine learning model\n",
    "\n",
    "- `KNeighborsClassifier` for a KNN machine learning model\n",
    "\n",
    "- `SVC` for a SVM machine learning model\n",
    "\n",
    "- `LinearDiscriminantAnalysis` for a LDA machine learning model\n",
    "\n",
    "- `Voting Classifier` for ensemble methods\n",
    "\n",
    "\n",
    "- `accuracy_score()` to evaluate the accuracy of the model\n",
    "\n",
    "- `confusion_matrix` and `ConfusionMatrixDisplay` for viewing confusion matrices\n",
    "\n",
    "- `StratifiedKFold, cross_valscore()` for cross validation"
   ]
  },
  {
   "cell_type": "code",
   "execution_count": 1,
   "id": "26ba9d4d",
   "metadata": {},
   "outputs": [],
   "source": [
    "import os\n",
    "import pandas as pd\n",
    "import numpy as np\n",
    "import seaborn as sns\n",
    "import matplotlib.pyplot as plt\n",
    "\n",
    "from sklearn.model_selection import train_test_split\n",
    "from sklearn.linear_model import LogisticRegression\n",
    "from sklearn.neighbors import KNeighborsClassifier\n",
    "from sklearn.svm import SVC\n",
    "from sklearn.discriminant_analysis import LinearDiscriminantAnalysis\n",
    "from sklearn.ensemble import VotingClassifier\n",
    "\n",
    "from sklearn.metrics import accuracy_score, confusion_matrix, ConfusionMatrixDisplay\n",
    "from sklearn.model_selection import StratifiedKFold, cross_val_score"
   ]
  },
  {
   "cell_type": "markdown",
   "id": "54ff293f",
   "metadata": {},
   "source": [
    "### Models\n",
    "\n",
    "These are the models that will be used in all accuracy evaluations."
   ]
  },
  {
   "cell_type": "code",
   "execution_count": 2,
   "id": "6d263165",
   "metadata": {},
   "outputs": [],
   "source": [
    "# Create a list to hold the models\n",
    "models = []\n",
    "\n",
    "# Create the models\n",
    "logr = LogisticRegression()\n",
    "knn = KNeighborsClassifier()\n",
    "svm = SVC()\n",
    "lda = LinearDiscriminantAnalysis()\n",
    "ens = VotingClassifier([('logr',logr), ('knn',knn), ('svm',svm), ('lda',lda)])\n",
    "ensl = VotingClassifier([('logr',logr), ('knn',knn), ('svm',svm)])\n",
    "\n",
    "# Add the models to the list\n",
    "models.append(('LR', logr))\n",
    "models.append(('KNN', knn))\n",
    "models.append(('SVM', svm))\n",
    "models.append(('LDA', lda))\n",
    "models.append(('Ensemble', ens))\n",
    "models.append(('Ensemble Less', ensl))"
   ]
  },
  {
   "cell_type": "markdown",
   "id": "1b62d93d",
   "metadata": {},
   "source": [
    "## Functions\n",
    "\n",
    "There are basic functions that will be used to create the machine learning model"
   ]
  },
  {
   "cell_type": "markdown",
   "id": "150fc6b7",
   "metadata": {},
   "source": [
    "### get_base_filepath()\n",
    "\n",
    "Access the filepath for th ebase folder of the project. \n",
    "From here, any other asset of the project can be located.\n",
    "\n",
    "**Input:** None\n",
    "\n",
    "**Output:** The filepath to the root of the folder"
   ]
  },
  {
   "cell_type": "code",
   "execution_count": 3,
   "id": "ab6ebd21",
   "metadata": {},
   "outputs": [],
   "source": [
    "def get_base_filepath():\n",
    "    '''\n",
    "    Access the filepath for the base folder of the project\n",
    "    \n",
    "    Input: None\n",
    "    \n",
    "    Output: The filepath to the root of the folder\n",
    "    '''\n",
    "    # Get current directory\n",
    "    os.path.abspath(os.curdir)\n",
    "\n",
    "    # Go up a directory level\n",
    "    os.chdir('..')\n",
    "    os.chdir('..')\n",
    "\n",
    "    # Set baseline filepath to the project folder directory\n",
    "    base_folder_filepath = os.path.abspath(os.curdir)\n",
    "    return base_folder_filepath"
   ]
  },
  {
   "cell_type": "markdown",
   "id": "46549873",
   "metadata": {},
   "source": [
    "### extract_features()\n",
    "\n",
    "Create a dataframe using the mean of regions over time.\n",
    "\n",
    "**Input:** filepath to open the dataframe\n",
    "    \n",
    "**Output:** dataframe of correlations between region"
   ]
  },
  {
   "cell_type": "code",
   "execution_count": 4,
   "id": "277770bd",
   "metadata": {},
   "outputs": [],
   "source": [
    "def extract_features(filepath):\n",
    "    '''\n",
    "    Create a dataframe using the mean of regions over time.\n",
    "    \n",
    "    Input: filepath to open the dataframe\n",
    "    \n",
    "    Output: dataframe of mean for each region\n",
    "    '''\n",
    "    df = pd.read_csv(filepath, sep=r'\\s{1,}', engine='python', header=0)\n",
    "    df = df.drop('File', axis=1)\n",
    "    df = df.drop('Sub-brick', axis=1)\n",
    "    return df.mean()"
   ]
  },
  {
   "cell_type": "markdown",
   "id": "7e39105c",
   "metadata": {},
   "source": [
    "### get_statistics()\n",
    "\n",
    "Get the descriptive statistics for a list of values\n",
    "    \n",
    "**Input:** A list of accuracies\n",
    "    \n",
    "**Output:** The mean, std, max, and min for each model's accuracy"
   ]
  },
  {
   "cell_type": "code",
   "execution_count": 5,
   "id": "55a0bc52",
   "metadata": {},
   "outputs": [],
   "source": [
    "def get_statistics(accuracy_list):\n",
    "    '''\n",
    "    Get the descriptive statistics for a list of values\n",
    "    \n",
    "    Input: A list of accuracies\n",
    "    \n",
    "    Output: The mean, std, max, and min for each model's accuracy\n",
    "    '''\n",
    "    # Create empty lists for descriptive statistics\n",
    "    means = []\n",
    "    stds = []\n",
    "    maxes = []\n",
    "    mins = []\n",
    "    \n",
    "    # Access the descriptive statistics for each list of accuracies\n",
    "    for accuracy in accuracy_list:\n",
    "        accuracy_np = np.array(accuracy)\n",
    "        means.append(accuracy_np.mean())\n",
    "        stds.append(accuracy_np.std())\n",
    "        maxes.append(accuracy_np.max())\n",
    "        mins.append(accuracy_np.min())\n",
    "        \n",
    "    # Create a list for the statistics\n",
    "    stats = [means, stds, maxes, mins]\n",
    "    return stats"
   ]
  },
  {
   "cell_type": "markdown",
   "id": "71e2d03b",
   "metadata": {},
   "source": [
    "### make_predictions()\n",
    "\n",
    "Fit a model using the training data, \n",
    "make predictions on a testing set, \n",
    "and get the accuracy of the model.\n",
    "\n",
    "**Input:** \n",
    "- A model to use to make predictions\n",
    "- Set of training features\n",
    "- Set of testing features\n",
    "- Set of training targets\n",
    "- Set of testing targets\n",
    "\n",
    "**Output:** \n",
    "- Predictions for models\n",
    "- Accuracy of the model\n",
    "\n",
    "\n",
    "**Dependencies:**\n",
    "- Used in `evaluate_models()`"
   ]
  },
  {
   "cell_type": "code",
   "execution_count": 6,
   "id": "c7428f93",
   "metadata": {},
   "outputs": [],
   "source": [
    "def make_predictions(model, X_trn, X_tst, y_trn, y_tst):\n",
    "    '''\n",
    "    Get the accuracy of a model\n",
    "    \n",
    "    Input:\n",
    "        - A model to use to make predictions\n",
    "        - Set of training features\n",
    "        - Set of testing features\n",
    "        - Set of training targets\n",
    "        - Set of testing targets\n",
    "        \n",
    "    Output: \n",
    "        - Predictions for the model\n",
    "        - Accuracy of the model\n",
    "    '''\n",
    "    \n",
    "    # Train the model on the training set\n",
    "    model_fit = model.fit(X_trn, y_trn)\n",
    "    \n",
    "    # Make predictions on the testing features\n",
    "    y_pred = model_fit.predict(X_tst)\n",
    "    \n",
    "    # Compare the predictions to the true values\n",
    "    accuracy = accuracy_score(y_pred, y_tst)\n",
    "    \n",
    "    # Return the predictions and accuracy\n",
    "    return y_pred, accuracy"
   ]
  },
  {
   "cell_type": "markdown",
   "id": "d8f640b6",
   "metadata": {},
   "source": [
    "### evaluate_models()\n",
    "\n",
    "Evaluate the performance of models on a set of features and targets.\n",
    "\n",
    "**Input:**\n",
    "- Set of features\n",
    "- Set of targets\n",
    "        \n",
    "**Output:** \n",
    "- Confusion matrices for models\n",
    "- Accuracy of models\n",
    "\n",
    "**Dependencies:**\n",
    "- Uses `make_predictions()`\n",
    "- Used in `get_accuracies()`"
   ]
  },
  {
   "cell_type": "code",
   "execution_count": 7,
   "id": "2a62cafc",
   "metadata": {},
   "outputs": [],
   "source": [
    "def evaluate_models(X, y):\n",
    "    '''\n",
    "    Evaluate the performance of models on a set of features and targets.\n",
    "    \n",
    "    Input:\n",
    "        - Set of features\n",
    "        - Set of targets\n",
    "        \n",
    "    Output: \n",
    "        - Confusion matrices for models\n",
    "        - Accuracy of models\n",
    "    '''\n",
    "    # Create empty lists to store values\n",
    "    predictions = dict()\n",
    "    accuracies = []\n",
    "    confusion_matrices = []\n",
    "    \n",
    "    # Separate the data into training and testing sets\n",
    "    X_trn, X_tst, y_trn, y_tst = train_test_split(X, y)\n",
    "    \n",
    "    # Evaluate the accuracies using each model\n",
    "    for name, model in models:\n",
    "        pred, acc = make_predictions(model, X_trn, X_tst, y_trn, y_tst)\n",
    "        predictions[name] = pred\n",
    "        accuracies.append(acc)\n",
    "\n",
    "    # Get the confusion matrix for each set of predictions\n",
    "    for name, model in models:\n",
    "        confusion_matrices.append(confusion_matrix(predictions[name], y_tst))\n",
    "    \n",
    "    # Return the accuracy and confusion matrices in a list format\n",
    "    return accuracies, confusion_matrices"
   ]
  },
  {
   "cell_type": "markdown",
   "id": "a8cdc526",
   "metadata": {},
   "source": [
    "### get_accuracies()\n",
    "\n",
    "Get 100 accuracies for the models\n",
    "\n",
    "**Input:**\n",
    "- Set of features\n",
    "- Set of targets\n",
    "        \n",
    "**Output:** \n",
    "- List of 100 accuracies for models\n",
    "- LIst of 100 confusion matrices for models\n",
    "\n",
    "**Dependencies:**\n",
    "- Uses `evaluate_models()`"
   ]
  },
  {
   "cell_type": "code",
   "execution_count": 8,
   "id": "b768664b",
   "metadata": {},
   "outputs": [],
   "source": [
    "def get_accuracies(X, y):\n",
    "    '''\n",
    "    Get 100 accuracies for the models.\n",
    "    \n",
    "    Input:\n",
    "        - Set of features\n",
    "        - Set of targets\n",
    "        \n",
    "    Output: \n",
    "        - List of 100 accuracies for models\n",
    "        - LIst of 100 confusion matrices for models\n",
    "    '''\n",
    "    \n",
    "    accuracies = [[],[],[],[],[],[]]\n",
    "    matrices = [[],[],[],[],[],[]]\n",
    "    \n",
    "    # Run 100 iterations of evaluating the model\n",
    "    for i in range(100):\n",
    "        # Get the accuracy for this iteration\n",
    "        accs, cf_matrices = evaluate_models(X, y)\n",
    "        \n",
    "        for i in range(len(models)):\n",
    "            accuracies[i].append(accs[i])\n",
    "            matrices[i].append(cf_matrices[i])\n",
    "                   \n",
    "    # Return a list of all accuracies and confusion matrices\n",
    "    return accuracies, matrices"
   ]
  },
  {
   "cell_type": "markdown",
   "id": "93a2ecdd",
   "metadata": {},
   "source": [
    "### perform_cross_validation()\n",
    "\n",
    "Use a stratified K-fold for cross validation for the three classification models \n",
    "\n",
    "**Input:** \n",
    "- A dataframe containing the features use to build the model\n",
    "- A Series of the true values associated with the feature list\n",
    "    \n",
    "**Output:** Printed result for the mean and standard deviation of each model"
   ]
  },
  {
   "cell_type": "code",
   "execution_count": 9,
   "id": "507c5ad2",
   "metadata": {},
   "outputs": [],
   "source": [
    "def perform_cross_validation(X_train, y_train):\n",
    "    '''\n",
    "    Input: \n",
    "        - A dataframe containing the features use to build the model\n",
    "        - A Series of the true values associated with the feature list\n",
    "    \n",
    "    Output: Printed result for the mean and standard deviation of each model\n",
    "    '''\n",
    "    # Create an empty dictionary to store the results\n",
    "    results = dict()\n",
    "\n",
    "    # Loop through the models\n",
    "    for name, model in models:\n",
    "        # Create a Stratified K-fold for cross validation\n",
    "        kfold = StratifiedKFold(n_splits=10)\n",
    "        \n",
    "        # Apply cross validation using the current model\n",
    "        cv_results = cross_val_score(model, X_train, y_train, cv=kfold, scoring='accuracy')\n",
    "        \n",
    "        # Add the mean and standard deviation to the dictionary\n",
    "        results[name] = (cv_results.mean(), cv_results.std())\n",
    "\n",
    "    # Print the results\n",
    "    print('Model\\t\\tCV Mean\\t\\tCV std')\n",
    "    print(results)"
   ]
  },
  {
   "cell_type": "markdown",
   "id": "45698a8a",
   "metadata": {},
   "source": [
    "### get_avg_cfm()\n",
    "\n",
    "Get the average confusion matrix for a list of 100 matrices\n",
    "    \n",
    "**Input:** a list of 100 confusion matrices\n",
    "    \n",
    "**Output:** the average confusion matrix\n",
    "\n",
    "**Dependencies:** Used in `get_model_cfms()`"
   ]
  },
  {
   "cell_type": "code",
   "execution_count": 10,
   "id": "8cb5dbbb",
   "metadata": {},
   "outputs": [],
   "source": [
    "def get_avg_cfm(cfms):\n",
    "    '''\n",
    "    Get the average confusion matrix for a list of 100 matrices\n",
    "    \n",
    "    Input: a list of 100 confusion matrices\n",
    "    \n",
    "    Output: the average confusion matrix\n",
    "    '''\n",
    "    # Create an empty confusion matrix based on the size\n",
    "    if len(cfms[0]) == 2:\n",
    "        cfm = [[0,0],\n",
    "                [0,0]]\n",
    "    else:\n",
    "        cfm = [[0,0,0,0],\n",
    "               [0,0,0,0],\n",
    "               [0,0,0,0],\n",
    "               [0,0,0,0]]\n",
    "          \n",
    "            \n",
    "    # Sum up the values for each index in the confusion matrix\n",
    "    for matrix in cfms:\n",
    "        for row in range(len(matrix)):\n",
    "            for col in range(len(matrix[row])):\n",
    "                # If the row or column are out of bounds, skip it and move on\n",
    "                if (len(matrix)==3 and len(cfm)==4) and (col==3 or row==3):\n",
    "                    continue\n",
    "                    \n",
    "                # If the row or column is at diagnosis 2 and the matrix is the incorrect size, move on\n",
    "                elif (len(matrix)==3 and len(cfm)==4) and (col==2 or row==2):\n",
    "                    continue\n",
    "                    \n",
    "                # Otherwise, add the element to the sum matrix\n",
    "                cfm[row][col] += matrix[col][row]\n",
    "                \n",
    "                \n",
    "    # Divide by the number of values in the set\n",
    "    for row in range(len(cfm)):\n",
    "        for col in range(len(cfm[row])):\n",
    "            cfm[row][col] /=100       \n",
    "    \n",
    "    # Return the mean confusion matrix\n",
    "    return cfm"
   ]
  },
  {
   "cell_type": "markdown",
   "id": "798538ac",
   "metadata": {},
   "source": [
    "### get_model_cfms()\n",
    "\n",
    "Get the confusion matrix for each model; intended for use after 100-iteration train/test split\n",
    "    \n",
    "**Input:** A list of the confusion matrices for each model\n",
    "    \n",
    "**Output:** The average confusion matrix for each model\n",
    "\n",
    "**Dependencies:**\n",
    "- Uses `get_avg_cfm()`\n",
    "- Used in `print_model_cfms()`"
   ]
  },
  {
   "cell_type": "code",
   "execution_count": 11,
   "id": "5a77f013",
   "metadata": {},
   "outputs": [],
   "source": [
    "def get_model_cfms(cfms):\n",
    "    '''\n",
    "    Get the confusion matrix for each model; intended for use after 100-iteration train/test split\n",
    "    \n",
    "    Input: A list of the confusion matrices for each model\n",
    "    \n",
    "    Output: The average confusion matrix for each model\n",
    "    '''\n",
    "    # Create an empty list to store the average confusion matrices in\n",
    "    model_cfms = []\n",
    "    \n",
    "    # Get the average cfm for each model type\n",
    "    for cfm_set in cfms:\n",
    "        model_cfms.append(get_avg_cfm(cfm_set))\n",
    "    \n",
    "    # Return the average confusion matrices for each model type\n",
    "    return model_cfms"
   ]
  },
  {
   "cell_type": "markdown",
   "id": "6ecd2528",
   "metadata": {},
   "source": [
    "### print_confusion_matrix()\n",
    "\n",
    "Print a confusion matrix\n",
    "\n",
    "**Input:**\n",
    "\n",
    "- Confusion matrix to print\n",
    "- A string to make a more clear title for the graph\n",
    "        \n",
    "**Ouput:** Display the confusion matrix\n",
    "\n",
    "**Dependencies:**\n",
    "- Used in `print_model_cfms()`"
   ]
  },
  {
   "cell_type": "code",
   "execution_count": 12,
   "id": "8769031d",
   "metadata": {},
   "outputs": [],
   "source": [
    "def print_confusion_matrix(cmf, name):\n",
    "    '''\n",
    "    Print a confusion matrix\n",
    "    \n",
    "    Input:\n",
    "        - Confusion matrix to print\n",
    "        - A string to make a more clear title for the graph\n",
    "        \n",
    "    Ouput: Display the confusion matrix\n",
    "    '''\n",
    "    # Create matrix part of heatmape\n",
    "    sns.heatmap(cmf,\n",
    "            annot=True,\n",
    "        )\n",
    "    \n",
    "    # Make graph labels\n",
    "    plt.ylabel('Actual')\n",
    "    plt.xlabel('Prediction')\n",
    "    plt.title('Confusion Matrix for ' + name)\n",
    "        \n",
    "    # Display graph\n",
    "    plt.show()"
   ]
  },
  {
   "cell_type": "markdown",
   "id": "c095b378",
   "metadata": {},
   "source": [
    "### print_model_cfms()\n",
    "\n",
    "Print all model confusion matrices \n",
    "    \n",
    "**Input:** A list of confusion matrices for each model\n",
    "    \n",
    "**Output:** Average confusion matrix for each model printed\n",
    "\n",
    "**Dependencies:**\n",
    "- Uses `get_model_cfms()`\n",
    "- Uses `print_confusion_matrix()`"
   ]
  },
  {
   "cell_type": "code",
   "execution_count": 13,
   "id": "ab35f531",
   "metadata": {},
   "outputs": [],
   "source": [
    "def print_model_cfms(cfms):\n",
    "    '''\n",
    "    Print all model confusion matrices \n",
    "    \n",
    "    Input: A list of confusion matrices for each model\n",
    "    \n",
    "    Output: Average confusion matrix for each model printed\n",
    "    '''\n",
    "    for i, (name, model) in enumerate(models):\n",
    "        plt.figure(figsize=(3,2))\n",
    "        print_confusion_matrix(get_model_cfms(cfms)[i], name)"
   ]
  },
  {
   "cell_type": "markdown",
   "id": "f2b69910",
   "metadata": {},
   "source": [
    "### print_training_cfm()\n",
    "\n",
    "Print the confusion matrix for the training data\n",
    "    \n",
    "**Input:** features and targets\n",
    "    \n",
    "**Output:** The 6 model's confusion matrices outputted"
   ]
  },
  {
   "cell_type": "code",
   "execution_count": 14,
   "id": "874c58ce",
   "metadata": {},
   "outputs": [],
   "source": [
    "def print_training_cfm(X_, y_):\n",
    "    '''\n",
    "    Print the confusion matrix for the training data\n",
    "    \n",
    "    Input: features and targets\n",
    "    \n",
    "    Output: The 6 model's confusion matrices outputted\n",
    "    '''\n",
    "    # Split the data into the same training and testing as when in feature selection\n",
    "    X_trn, X_tst, y_trn, y_tst = train_test_split(X_, y_, random_state=1)\n",
    "    \n",
    "    classifiers = {\n",
    "        'Logisitic Regression': LogisticRegression(),\n",
    "        'KNN': KNeighborsClassifier(),\n",
    "        'SVM': SVC(),\n",
    "        'LDA': LinearDiscriminantAnalysis(),\n",
    "        'Ensemble': VotingClassifier([('logr',logr), ('knn',knn), ('svm',svm), ('lda',lda)]),\n",
    "        'Ensemble (less)':VotingClassifier([('logr',logr), ('knn',knn), ('svm',svm)])\n",
    "    }\n",
    "\n",
    "    f, axes = plt.subplots(1, 6, figsize=(20, 5), sharey='row')\n",
    "        \n",
    "    for i, (key, classifier) in enumerate(classifiers.items()):\n",
    "        y_pred = classifier.fit(X_trn, y_trn).predict(X_tst)\n",
    "        cf_matrix = confusion_matrix(y_tst, y_pred)\n",
    "        disp = ConfusionMatrixDisplay(cf_matrix)\n",
    "        disp.plot(ax=axes[i], xticks_rotation=45)\n",
    "        disp.ax_.set_title(key)\n",
    "        disp.im_.colorbar.remove()\n",
    "        disp.ax_.set_xlabel('')\n",
    "        if i!=0:\n",
    "            disp.ax_.set_ylabel('')\n",
    "\n",
    "    f.text(0.4, 0.1, 'Predicted label', ha='left')\n",
    "    plt.subplots_adjust(wspace=0.40, hspace=0.1)\n",
    "\n",
    "    f.colorbar(disp.im_, ax=axes)\n",
    "    plt.show()"
   ]
  },
  {
   "cell_type": "markdown",
   "id": "2f4a9898",
   "metadata": {},
   "source": [
    "--------------------------------------------------------------------------------------------------------------------------------"
   ]
  },
  {
   "cell_type": "markdown",
   "id": "35f63451",
   "metadata": {},
   "source": [
    "## Open files\n",
    "\n",
    "In this section, the files for all of the patients is opened and combined into two matrices to build a dataframe in the next section."
   ]
  },
  {
   "cell_type": "markdown",
   "id": "d7855595",
   "metadata": {},
   "source": [
    "###  Filepaths\n",
    "\n",
    "Access the filepath to the OHSU folder. \n",
    "This is where the data for all of the patients at the OHSU site are located."
   ]
  },
  {
   "cell_type": "code",
   "execution_count": 15,
   "id": "8d66a38f",
   "metadata": {},
   "outputs": [],
   "source": [
    "base_folder_filepath = get_base_filepath()\n",
    "ohsu_filepath = base_folder_filepath +  '\\\\Data\\\\Preprocessed_data\\\\Sites\\\\OHSU\\\\'\n",
    "phenotypics_filepath = base_folder_filepath + '\\\\Data\\\\Phenotypic\\\\Sites\\\\OHSU_phenotypic.csv'"
   ]
  },
  {
   "cell_type": "markdown",
   "id": "e0870bd2",
   "metadata": {},
   "source": [
    "### Subjects\n",
    "\n",
    "Open the 'sfnwmrda' file for each subject at the OHSU site. \n",
    "\n",
    "Add the features to a matrix and the subjects to a different matrix."
   ]
  },
  {
   "cell_type": "code",
   "execution_count": 16,
   "id": "a3784788",
   "metadata": {
    "scrolled": true
   },
   "outputs": [],
   "source": [
    "subjects = []\n",
    "subject_features = []\n",
    "\n",
    "# Access all sfnwmrda files in the OHSU folder\n",
    "# Access the patient folders within the site folder\n",
    "for patient_id_folder in os.listdir(ohsu_filepath):\n",
    "    # Access the filepath to the folder\n",
    "    patient_id_folder_path = os.path.join(ohsu_filepath, patient_id_folder)\n",
    "    \n",
    "    subjects.append(patient_id_folder)\n",
    "    \n",
    "    # Check if the filepath is a folder, continue if it is a folder\n",
    "    if os.path.isdir(patient_id_folder_path):\n",
    "        # Get the file name (dependent on folder name)\n",
    "        file_name = f\"sfnwmrda{patient_id_folder}_session_1_rest_1_aal_TCs.1D\"\n",
    "        \n",
    "        # Join the file name to its path\n",
    "        file_path = os.path.join(patient_id_folder_path, file_name)\n",
    "        \n",
    "        # Extract the features and add it to the list of subjects\n",
    "        subject_features.append(extract_features(file_path))"
   ]
  },
  {
   "cell_type": "markdown",
   "id": "15f63a46",
   "metadata": {},
   "source": [
    "--------------------------------------------------------------------------------------------------------------------------------"
   ]
  },
  {
   "cell_type": "markdown",
   "id": "d0944e96",
   "metadata": {},
   "source": [
    "# Multi-Class Classificaiton\n",
    "\n",
    "This section investigates how models perform when predicting the type of ADHD the subject has or if they are a control.\n",
    "\n",
    "This is accomplished by extracting the diagnosis from the phenotypic data and adding it to the regions. \n",
    "Each number corresponds to a type diagnosis for ADHD.\n",
    "\n",
    "    0 = TDC (Typically developing children)\n",
    "    1 = ADHD-Combined\n",
    "    2 = ADHD-Hyperactive/Impulsive\n",
    "    3 = ADHD-Inattentive"
   ]
  },
  {
   "cell_type": "markdown",
   "id": "adde890d",
   "metadata": {},
   "source": [
    "### Subject x Region\n",
    "\n",
    "Using the code from the previous cell, build a matrix of subjects vs. regions."
   ]
  },
  {
   "cell_type": "code",
   "execution_count": 17,
   "id": "201eaf57",
   "metadata": {
    "scrolled": true
   },
   "outputs": [
    {
     "data": {
      "text/html": [
       "<div>\n",
       "<style scoped>\n",
       "    .dataframe tbody tr th:only-of-type {\n",
       "        vertical-align: middle;\n",
       "    }\n",
       "\n",
       "    .dataframe tbody tr th {\n",
       "        vertical-align: top;\n",
       "    }\n",
       "\n",
       "    .dataframe thead th {\n",
       "        text-align: right;\n",
       "    }\n",
       "</style>\n",
       "<table border=\"1\" class=\"dataframe\">\n",
       "  <thead>\n",
       "    <tr style=\"text-align: right;\">\n",
       "      <th></th>\n",
       "      <th>Mean_2001</th>\n",
       "      <th>Mean_2002</th>\n",
       "      <th>Mean_2101</th>\n",
       "      <th>Mean_2102</th>\n",
       "      <th>Mean_2111</th>\n",
       "      <th>Mean_2112</th>\n",
       "      <th>Mean_2201</th>\n",
       "      <th>Mean_2202</th>\n",
       "      <th>Mean_2211</th>\n",
       "      <th>Mean_2212</th>\n",
       "      <th>...</th>\n",
       "      <th>Mean_9081</th>\n",
       "      <th>Mean_9082</th>\n",
       "      <th>Mean_9100</th>\n",
       "      <th>Mean_9110</th>\n",
       "      <th>Mean_9120</th>\n",
       "      <th>Mean_9130</th>\n",
       "      <th>Mean_9140</th>\n",
       "      <th>Mean_9150</th>\n",
       "      <th>Mean_9160</th>\n",
       "      <th>Mean_9170</th>\n",
       "    </tr>\n",
       "  </thead>\n",
       "  <tbody>\n",
       "    <tr>\n",
       "      <th>1084283</th>\n",
       "      <td>0.001087</td>\n",
       "      <td>0.006426</td>\n",
       "      <td>0.003046</td>\n",
       "      <td>0.007911</td>\n",
       "      <td>0.002836</td>\n",
       "      <td>0.010834</td>\n",
       "      <td>0.014295</td>\n",
       "      <td>0.013514</td>\n",
       "      <td>0.000804</td>\n",
       "      <td>0.044241</td>\n",
       "      <td>...</td>\n",
       "      <td>0.020710</td>\n",
       "      <td>0.027268</td>\n",
       "      <td>0.029133</td>\n",
       "      <td>0.005323</td>\n",
       "      <td>-0.006976</td>\n",
       "      <td>-0.010725</td>\n",
       "      <td>-0.018854</td>\n",
       "      <td>-0.017208</td>\n",
       "      <td>-0.021859</td>\n",
       "      <td>0.033943</td>\n",
       "    </tr>\n",
       "    <tr>\n",
       "      <th>1084884</th>\n",
       "      <td>-0.002832</td>\n",
       "      <td>0.032711</td>\n",
       "      <td>-0.019582</td>\n",
       "      <td>-0.008242</td>\n",
       "      <td>-0.006916</td>\n",
       "      <td>-0.009639</td>\n",
       "      <td>-0.020090</td>\n",
       "      <td>-0.014911</td>\n",
       "      <td>-0.025029</td>\n",
       "      <td>-0.025237</td>\n",
       "      <td>...</td>\n",
       "      <td>-0.004995</td>\n",
       "      <td>-0.013224</td>\n",
       "      <td>-0.051607</td>\n",
       "      <td>0.011342</td>\n",
       "      <td>-0.006839</td>\n",
       "      <td>0.000509</td>\n",
       "      <td>-0.021160</td>\n",
       "      <td>-0.012922</td>\n",
       "      <td>-0.022561</td>\n",
       "      <td>-0.031755</td>\n",
       "    </tr>\n",
       "    <tr>\n",
       "      <th>1108916</th>\n",
       "      <td>-0.015434</td>\n",
       "      <td>-0.013533</td>\n",
       "      <td>0.006497</td>\n",
       "      <td>-0.003192</td>\n",
       "      <td>0.002811</td>\n",
       "      <td>0.004337</td>\n",
       "      <td>-0.003781</td>\n",
       "      <td>-0.006387</td>\n",
       "      <td>-0.008912</td>\n",
       "      <td>0.004389</td>\n",
       "      <td>...</td>\n",
       "      <td>0.000488</td>\n",
       "      <td>0.002434</td>\n",
       "      <td>0.018162</td>\n",
       "      <td>-0.022221</td>\n",
       "      <td>-0.020608</td>\n",
       "      <td>-0.010677</td>\n",
       "      <td>-0.022314</td>\n",
       "      <td>0.001143</td>\n",
       "      <td>0.010789</td>\n",
       "      <td>0.010671</td>\n",
       "    </tr>\n",
       "    <tr>\n",
       "      <th>1206380</th>\n",
       "      <td>-0.001697</td>\n",
       "      <td>0.003231</td>\n",
       "      <td>-0.008367</td>\n",
       "      <td>-0.006932</td>\n",
       "      <td>-0.009974</td>\n",
       "      <td>-0.000491</td>\n",
       "      <td>-0.003736</td>\n",
       "      <td>-0.007092</td>\n",
       "      <td>-0.001125</td>\n",
       "      <td>0.002679</td>\n",
       "      <td>...</td>\n",
       "      <td>0.004499</td>\n",
       "      <td>0.001607</td>\n",
       "      <td>0.016533</td>\n",
       "      <td>0.000625</td>\n",
       "      <td>0.002733</td>\n",
       "      <td>-0.021268</td>\n",
       "      <td>-0.016480</td>\n",
       "      <td>-0.003075</td>\n",
       "      <td>0.007536</td>\n",
       "      <td>0.013510</td>\n",
       "    </tr>\n",
       "    <tr>\n",
       "      <th>1340333</th>\n",
       "      <td>-0.007934</td>\n",
       "      <td>0.002444</td>\n",
       "      <td>-0.004535</td>\n",
       "      <td>-0.004931</td>\n",
       "      <td>0.004147</td>\n",
       "      <td>-0.003268</td>\n",
       "      <td>-0.018939</td>\n",
       "      <td>-0.009468</td>\n",
       "      <td>-0.004490</td>\n",
       "      <td>-0.004108</td>\n",
       "      <td>...</td>\n",
       "      <td>0.009226</td>\n",
       "      <td>-0.007520</td>\n",
       "      <td>0.026861</td>\n",
       "      <td>0.017277</td>\n",
       "      <td>-0.016428</td>\n",
       "      <td>-0.018125</td>\n",
       "      <td>-0.006291</td>\n",
       "      <td>-0.021627</td>\n",
       "      <td>-0.021855</td>\n",
       "      <td>0.040774</td>\n",
       "    </tr>\n",
       "  </tbody>\n",
       "</table>\n",
       "<p>5 rows × 116 columns</p>\n",
       "</div>"
      ],
      "text/plain": [
       "         Mean_2001  Mean_2002  Mean_2101  Mean_2102  Mean_2111  Mean_2112   \n",
       "1084283   0.001087   0.006426   0.003046   0.007911   0.002836   0.010834  \\\n",
       "1084884  -0.002832   0.032711  -0.019582  -0.008242  -0.006916  -0.009639   \n",
       "1108916  -0.015434  -0.013533   0.006497  -0.003192   0.002811   0.004337   \n",
       "1206380  -0.001697   0.003231  -0.008367  -0.006932  -0.009974  -0.000491   \n",
       "1340333  -0.007934   0.002444  -0.004535  -0.004931   0.004147  -0.003268   \n",
       "\n",
       "         Mean_2201  Mean_2202  Mean_2211  Mean_2212  ...  Mean_9081   \n",
       "1084283   0.014295   0.013514   0.000804   0.044241  ...   0.020710  \\\n",
       "1084884  -0.020090  -0.014911  -0.025029  -0.025237  ...  -0.004995   \n",
       "1108916  -0.003781  -0.006387  -0.008912   0.004389  ...   0.000488   \n",
       "1206380  -0.003736  -0.007092  -0.001125   0.002679  ...   0.004499   \n",
       "1340333  -0.018939  -0.009468  -0.004490  -0.004108  ...   0.009226   \n",
       "\n",
       "         Mean_9082  Mean_9100  Mean_9110  Mean_9120  Mean_9130  Mean_9140   \n",
       "1084283   0.027268   0.029133   0.005323  -0.006976  -0.010725  -0.018854  \\\n",
       "1084884  -0.013224  -0.051607   0.011342  -0.006839   0.000509  -0.021160   \n",
       "1108916   0.002434   0.018162  -0.022221  -0.020608  -0.010677  -0.022314   \n",
       "1206380   0.001607   0.016533   0.000625   0.002733  -0.021268  -0.016480   \n",
       "1340333  -0.007520   0.026861   0.017277  -0.016428  -0.018125  -0.006291   \n",
       "\n",
       "         Mean_9150  Mean_9160  Mean_9170  \n",
       "1084283  -0.017208  -0.021859   0.033943  \n",
       "1084884  -0.012922  -0.022561  -0.031755  \n",
       "1108916   0.001143   0.010789   0.010671  \n",
       "1206380  -0.003075   0.007536   0.013510  \n",
       "1340333  -0.021627  -0.021855   0.040774  \n",
       "\n",
       "[5 rows x 116 columns]"
      ]
     },
     "execution_count": 17,
     "metadata": {},
     "output_type": "execute_result"
    }
   ],
   "source": [
    "df_subject_x_region = pd.DataFrame(subject_features, index=subjects)\n",
    "df_subject_x_region.head()"
   ]
  },
  {
   "cell_type": "markdown",
   "id": "28dac81a",
   "metadata": {},
   "source": [
    "### Diagnosis\n",
    "\n",
    "Add the subject's diagnosis to the dataframe"
   ]
  },
  {
   "cell_type": "markdown",
   "id": "70a2808a",
   "metadata": {},
   "source": [
    "Read the phenotypic file as a dataframe.\n",
    "\n",
    "Extract the diagnosis as a numpy array."
   ]
  },
  {
   "cell_type": "code",
   "execution_count": 18,
   "id": "bb314eee",
   "metadata": {},
   "outputs": [],
   "source": [
    "df_phenotypic = pd.read_csv(phenotypics_filepath, index_col='ScanDir ID')\n",
    "diagnosis = df_phenotypic['DX'].to_numpy()"
   ]
  },
  {
   "cell_type": "markdown",
   "id": "ea99489f",
   "metadata": {},
   "source": [
    "Add the diagnosis to a new dataframe"
   ]
  },
  {
   "cell_type": "code",
   "execution_count": 19,
   "id": "abbd7193",
   "metadata": {},
   "outputs": [
    {
     "data": {
      "text/html": [
       "<div>\n",
       "<style scoped>\n",
       "    .dataframe tbody tr th:only-of-type {\n",
       "        vertical-align: middle;\n",
       "    }\n",
       "\n",
       "    .dataframe tbody tr th {\n",
       "        vertical-align: top;\n",
       "    }\n",
       "\n",
       "    .dataframe thead th {\n",
       "        text-align: right;\n",
       "    }\n",
       "</style>\n",
       "<table border=\"1\" class=\"dataframe\">\n",
       "  <thead>\n",
       "    <tr style=\"text-align: right;\">\n",
       "      <th></th>\n",
       "      <th>Mean_2001</th>\n",
       "      <th>Mean_2002</th>\n",
       "      <th>Mean_2101</th>\n",
       "      <th>Mean_2102</th>\n",
       "      <th>Mean_2111</th>\n",
       "      <th>Mean_2112</th>\n",
       "      <th>Mean_2201</th>\n",
       "      <th>Mean_2202</th>\n",
       "      <th>Mean_2211</th>\n",
       "      <th>Mean_2212</th>\n",
       "      <th>...</th>\n",
       "      <th>Mean_9082</th>\n",
       "      <th>Mean_9100</th>\n",
       "      <th>Mean_9110</th>\n",
       "      <th>Mean_9120</th>\n",
       "      <th>Mean_9130</th>\n",
       "      <th>Mean_9140</th>\n",
       "      <th>Mean_9150</th>\n",
       "      <th>Mean_9160</th>\n",
       "      <th>Mean_9170</th>\n",
       "      <th>DX</th>\n",
       "    </tr>\n",
       "  </thead>\n",
       "  <tbody>\n",
       "    <tr>\n",
       "      <th>1084283</th>\n",
       "      <td>0.001087</td>\n",
       "      <td>0.006426</td>\n",
       "      <td>0.003046</td>\n",
       "      <td>0.007911</td>\n",
       "      <td>0.002836</td>\n",
       "      <td>0.010834</td>\n",
       "      <td>0.014295</td>\n",
       "      <td>0.013514</td>\n",
       "      <td>0.000804</td>\n",
       "      <td>0.044241</td>\n",
       "      <td>...</td>\n",
       "      <td>0.027268</td>\n",
       "      <td>0.029133</td>\n",
       "      <td>0.005323</td>\n",
       "      <td>-0.006976</td>\n",
       "      <td>-0.010725</td>\n",
       "      <td>-0.018854</td>\n",
       "      <td>-0.017208</td>\n",
       "      <td>-0.021859</td>\n",
       "      <td>0.033943</td>\n",
       "      <td>1</td>\n",
       "    </tr>\n",
       "    <tr>\n",
       "      <th>1084884</th>\n",
       "      <td>-0.002832</td>\n",
       "      <td>0.032711</td>\n",
       "      <td>-0.019582</td>\n",
       "      <td>-0.008242</td>\n",
       "      <td>-0.006916</td>\n",
       "      <td>-0.009639</td>\n",
       "      <td>-0.020090</td>\n",
       "      <td>-0.014911</td>\n",
       "      <td>-0.025029</td>\n",
       "      <td>-0.025237</td>\n",
       "      <td>...</td>\n",
       "      <td>-0.013224</td>\n",
       "      <td>-0.051607</td>\n",
       "      <td>0.011342</td>\n",
       "      <td>-0.006839</td>\n",
       "      <td>0.000509</td>\n",
       "      <td>-0.021160</td>\n",
       "      <td>-0.012922</td>\n",
       "      <td>-0.022561</td>\n",
       "      <td>-0.031755</td>\n",
       "      <td>0</td>\n",
       "    </tr>\n",
       "    <tr>\n",
       "      <th>1108916</th>\n",
       "      <td>-0.015434</td>\n",
       "      <td>-0.013533</td>\n",
       "      <td>0.006497</td>\n",
       "      <td>-0.003192</td>\n",
       "      <td>0.002811</td>\n",
       "      <td>0.004337</td>\n",
       "      <td>-0.003781</td>\n",
       "      <td>-0.006387</td>\n",
       "      <td>-0.008912</td>\n",
       "      <td>0.004389</td>\n",
       "      <td>...</td>\n",
       "      <td>0.002434</td>\n",
       "      <td>0.018162</td>\n",
       "      <td>-0.022221</td>\n",
       "      <td>-0.020608</td>\n",
       "      <td>-0.010677</td>\n",
       "      <td>-0.022314</td>\n",
       "      <td>0.001143</td>\n",
       "      <td>0.010789</td>\n",
       "      <td>0.010671</td>\n",
       "      <td>1</td>\n",
       "    </tr>\n",
       "    <tr>\n",
       "      <th>1206380</th>\n",
       "      <td>-0.001697</td>\n",
       "      <td>0.003231</td>\n",
       "      <td>-0.008367</td>\n",
       "      <td>-0.006932</td>\n",
       "      <td>-0.009974</td>\n",
       "      <td>-0.000491</td>\n",
       "      <td>-0.003736</td>\n",
       "      <td>-0.007092</td>\n",
       "      <td>-0.001125</td>\n",
       "      <td>0.002679</td>\n",
       "      <td>...</td>\n",
       "      <td>0.001607</td>\n",
       "      <td>0.016533</td>\n",
       "      <td>0.000625</td>\n",
       "      <td>0.002733</td>\n",
       "      <td>-0.021268</td>\n",
       "      <td>-0.016480</td>\n",
       "      <td>-0.003075</td>\n",
       "      <td>0.007536</td>\n",
       "      <td>0.013510</td>\n",
       "      <td>3</td>\n",
       "    </tr>\n",
       "    <tr>\n",
       "      <th>1340333</th>\n",
       "      <td>-0.007934</td>\n",
       "      <td>0.002444</td>\n",
       "      <td>-0.004535</td>\n",
       "      <td>-0.004931</td>\n",
       "      <td>0.004147</td>\n",
       "      <td>-0.003268</td>\n",
       "      <td>-0.018939</td>\n",
       "      <td>-0.009468</td>\n",
       "      <td>-0.004490</td>\n",
       "      <td>-0.004108</td>\n",
       "      <td>...</td>\n",
       "      <td>-0.007520</td>\n",
       "      <td>0.026861</td>\n",
       "      <td>0.017277</td>\n",
       "      <td>-0.016428</td>\n",
       "      <td>-0.018125</td>\n",
       "      <td>-0.006291</td>\n",
       "      <td>-0.021627</td>\n",
       "      <td>-0.021855</td>\n",
       "      <td>0.040774</td>\n",
       "      <td>1</td>\n",
       "    </tr>\n",
       "  </tbody>\n",
       "</table>\n",
       "<p>5 rows × 117 columns</p>\n",
       "</div>"
      ],
      "text/plain": [
       "         Mean_2001  Mean_2002  Mean_2101  Mean_2102  Mean_2111  Mean_2112   \n",
       "1084283   0.001087   0.006426   0.003046   0.007911   0.002836   0.010834  \\\n",
       "1084884  -0.002832   0.032711  -0.019582  -0.008242  -0.006916  -0.009639   \n",
       "1108916  -0.015434  -0.013533   0.006497  -0.003192   0.002811   0.004337   \n",
       "1206380  -0.001697   0.003231  -0.008367  -0.006932  -0.009974  -0.000491   \n",
       "1340333  -0.007934   0.002444  -0.004535  -0.004931   0.004147  -0.003268   \n",
       "\n",
       "         Mean_2201  Mean_2202  Mean_2211  Mean_2212  ...  Mean_9082   \n",
       "1084283   0.014295   0.013514   0.000804   0.044241  ...   0.027268  \\\n",
       "1084884  -0.020090  -0.014911  -0.025029  -0.025237  ...  -0.013224   \n",
       "1108916  -0.003781  -0.006387  -0.008912   0.004389  ...   0.002434   \n",
       "1206380  -0.003736  -0.007092  -0.001125   0.002679  ...   0.001607   \n",
       "1340333  -0.018939  -0.009468  -0.004490  -0.004108  ...  -0.007520   \n",
       "\n",
       "         Mean_9100  Mean_9110  Mean_9120  Mean_9130  Mean_9140  Mean_9150   \n",
       "1084283   0.029133   0.005323  -0.006976  -0.010725  -0.018854  -0.017208  \\\n",
       "1084884  -0.051607   0.011342  -0.006839   0.000509  -0.021160  -0.012922   \n",
       "1108916   0.018162  -0.022221  -0.020608  -0.010677  -0.022314   0.001143   \n",
       "1206380   0.016533   0.000625   0.002733  -0.021268  -0.016480  -0.003075   \n",
       "1340333   0.026861   0.017277  -0.016428  -0.018125  -0.006291  -0.021627   \n",
       "\n",
       "         Mean_9160  Mean_9170  DX  \n",
       "1084283  -0.021859   0.033943   1  \n",
       "1084884  -0.022561  -0.031755   0  \n",
       "1108916   0.010789   0.010671   1  \n",
       "1206380   0.007536   0.013510   3  \n",
       "1340333  -0.021855   0.040774   1  \n",
       "\n",
       "[5 rows x 117 columns]"
      ]
     },
     "execution_count": 19,
     "metadata": {},
     "output_type": "execute_result"
    }
   ],
   "source": [
    "df_region_w_dx = df_subject_x_region.copy()\n",
    "\n",
    "df_region_w_dx['DX'] = diagnosis\n",
    "\n",
    "df_region_w_dx.head()"
   ]
  },
  {
   "cell_type": "markdown",
   "id": "745dce4a",
   "metadata": {},
   "source": [
    "## Model\n",
    "\n",
    "Build a machine learning model and use it to make predictions on the dataset. \n",
    "Evaluate the model based on its accuracy."
   ]
  },
  {
   "cell_type": "markdown",
   "id": "0676f177",
   "metadata": {},
   "source": [
    "Separate the data into features and targets"
   ]
  },
  {
   "cell_type": "code",
   "execution_count": 20,
   "id": "4d749fec",
   "metadata": {},
   "outputs": [],
   "source": [
    "X = df_region_w_dx.drop('DX', axis=1)\n",
    "y = df_region_w_dx['DX']"
   ]
  },
  {
   "cell_type": "markdown",
   "id": "b68aad7a",
   "metadata": {},
   "source": [
    "### Build a model and make predictions"
   ]
  },
  {
   "cell_type": "markdown",
   "id": "81e28e76",
   "metadata": {},
   "source": [
    "Logistic Regression"
   ]
  },
  {
   "cell_type": "code",
   "execution_count": 21,
   "id": "20c00641",
   "metadata": {},
   "outputs": [
    {
     "data": {
      "text/plain": [
       "0.5443037974683544"
      ]
     },
     "execution_count": 21,
     "metadata": {},
     "output_type": "execute_result"
    }
   ],
   "source": [
    "model_LR = LogisticRegression().fit(X, y)\n",
    "y_pred_LR = model_LR.predict(X)\n",
    "\n",
    "accuracy_LR = accuracy_score(y_pred_LR, y)\n",
    "accuracy_LR"
   ]
  },
  {
   "cell_type": "markdown",
   "id": "be1648a1",
   "metadata": {},
   "source": [
    "KNN"
   ]
  },
  {
   "cell_type": "code",
   "execution_count": 22,
   "id": "111cf999",
   "metadata": {},
   "outputs": [
    {
     "data": {
      "text/plain": [
       "0.5949367088607594"
      ]
     },
     "execution_count": 22,
     "metadata": {},
     "output_type": "execute_result"
    }
   ],
   "source": [
    "model_KNN = KNeighborsClassifier().fit(X, y)\n",
    "y_pred_KNN = model_KNN.predict(X)\n",
    "\n",
    "accuracy_KNN = accuracy_score(y_pred_KNN, y)\n",
    "accuracy_KNN"
   ]
  },
  {
   "cell_type": "markdown",
   "id": "fa9ba805",
   "metadata": {},
   "source": [
    "SVM"
   ]
  },
  {
   "cell_type": "code",
   "execution_count": 23,
   "id": "1c2fc9ef",
   "metadata": {},
   "outputs": [
    {
     "data": {
      "text/plain": [
       "0.6962025316455697"
      ]
     },
     "execution_count": 23,
     "metadata": {},
     "output_type": "execute_result"
    }
   ],
   "source": [
    "model_SVM = SVC().fit(X, y)\n",
    "y_pred_SVM = model_SVM.predict(X)\n",
    "\n",
    "accuracy_SVM = accuracy_score(y_pred_SVM, y)\n",
    "accuracy_SVM"
   ]
  },
  {
   "cell_type": "markdown",
   "id": "80690844",
   "metadata": {},
   "source": [
    "## Evaluate Accuracy\n",
    "\n",
    "Understand the model accuracies better"
   ]
  },
  {
   "cell_type": "markdown",
   "id": "fe02f00d",
   "metadata": {},
   "source": [
    "### Best model\n",
    "\n",
    "Based on the results from the model building, SVM had the best accuracy."
   ]
  },
  {
   "cell_type": "code",
   "execution_count": 24,
   "id": "d0b4e759",
   "metadata": {},
   "outputs": [
    {
     "name": "stdout",
     "output_type": "stream",
     "text": [
      "Accuracies:\n",
      "\n",
      "Logistic Regression:\t 0.5443037974683544\n",
      "KNN:\t\t\t 0.5949367088607594\n",
      "SVM:\t\t\t 0.6962025316455697\n"
     ]
    }
   ],
   "source": [
    "print('Accuracies:')\n",
    "print('\\nLogistic Regression:\\t', accuracy_LR)\n",
    "print('KNN:\\t\\t\\t', accuracy_KNN)\n",
    "print('SVM:\\t\\t\\t', accuracy_SVM)"
   ]
  },
  {
   "cell_type": "markdown",
   "id": "1ab225ab",
   "metadata": {},
   "source": [
    "### Add the predictions to the model"
   ]
  },
  {
   "cell_type": "code",
   "execution_count": 25,
   "id": "860867ec",
   "metadata": {
    "scrolled": true
   },
   "outputs": [
    {
     "data": {
      "text/html": [
       "<div>\n",
       "<style scoped>\n",
       "    .dataframe tbody tr th:only-of-type {\n",
       "        vertical-align: middle;\n",
       "    }\n",
       "\n",
       "    .dataframe tbody tr th {\n",
       "        vertical-align: top;\n",
       "    }\n",
       "\n",
       "    .dataframe thead th {\n",
       "        text-align: right;\n",
       "    }\n",
       "</style>\n",
       "<table border=\"1\" class=\"dataframe\">\n",
       "  <thead>\n",
       "    <tr style=\"text-align: right;\">\n",
       "      <th></th>\n",
       "      <th>Mean_2001</th>\n",
       "      <th>Mean_2002</th>\n",
       "      <th>Mean_2101</th>\n",
       "      <th>Mean_2102</th>\n",
       "      <th>Mean_2111</th>\n",
       "      <th>Mean_2112</th>\n",
       "      <th>Mean_2201</th>\n",
       "      <th>Mean_2202</th>\n",
       "      <th>Mean_2211</th>\n",
       "      <th>Mean_2212</th>\n",
       "      <th>...</th>\n",
       "      <th>Mean_9100</th>\n",
       "      <th>Mean_9110</th>\n",
       "      <th>Mean_9120</th>\n",
       "      <th>Mean_9130</th>\n",
       "      <th>Mean_9140</th>\n",
       "      <th>Mean_9150</th>\n",
       "      <th>Mean_9160</th>\n",
       "      <th>Mean_9170</th>\n",
       "      <th>DX</th>\n",
       "      <th>DX_pred</th>\n",
       "    </tr>\n",
       "  </thead>\n",
       "  <tbody>\n",
       "    <tr>\n",
       "      <th>1084283</th>\n",
       "      <td>0.001087</td>\n",
       "      <td>0.006426</td>\n",
       "      <td>0.003046</td>\n",
       "      <td>0.007911</td>\n",
       "      <td>0.002836</td>\n",
       "      <td>0.010834</td>\n",
       "      <td>0.014295</td>\n",
       "      <td>0.013514</td>\n",
       "      <td>0.000804</td>\n",
       "      <td>0.044241</td>\n",
       "      <td>...</td>\n",
       "      <td>0.029133</td>\n",
       "      <td>0.005323</td>\n",
       "      <td>-0.006976</td>\n",
       "      <td>-0.010725</td>\n",
       "      <td>-0.018854</td>\n",
       "      <td>-0.017208</td>\n",
       "      <td>-0.021859</td>\n",
       "      <td>0.033943</td>\n",
       "      <td>1</td>\n",
       "      <td>0</td>\n",
       "    </tr>\n",
       "    <tr>\n",
       "      <th>1084884</th>\n",
       "      <td>-0.002832</td>\n",
       "      <td>0.032711</td>\n",
       "      <td>-0.019582</td>\n",
       "      <td>-0.008242</td>\n",
       "      <td>-0.006916</td>\n",
       "      <td>-0.009639</td>\n",
       "      <td>-0.020090</td>\n",
       "      <td>-0.014911</td>\n",
       "      <td>-0.025029</td>\n",
       "      <td>-0.025237</td>\n",
       "      <td>...</td>\n",
       "      <td>-0.051607</td>\n",
       "      <td>0.011342</td>\n",
       "      <td>-0.006839</td>\n",
       "      <td>0.000509</td>\n",
       "      <td>-0.021160</td>\n",
       "      <td>-0.012922</td>\n",
       "      <td>-0.022561</td>\n",
       "      <td>-0.031755</td>\n",
       "      <td>0</td>\n",
       "      <td>0</td>\n",
       "    </tr>\n",
       "    <tr>\n",
       "      <th>1108916</th>\n",
       "      <td>-0.015434</td>\n",
       "      <td>-0.013533</td>\n",
       "      <td>0.006497</td>\n",
       "      <td>-0.003192</td>\n",
       "      <td>0.002811</td>\n",
       "      <td>0.004337</td>\n",
       "      <td>-0.003781</td>\n",
       "      <td>-0.006387</td>\n",
       "      <td>-0.008912</td>\n",
       "      <td>0.004389</td>\n",
       "      <td>...</td>\n",
       "      <td>0.018162</td>\n",
       "      <td>-0.022221</td>\n",
       "      <td>-0.020608</td>\n",
       "      <td>-0.010677</td>\n",
       "      <td>-0.022314</td>\n",
       "      <td>0.001143</td>\n",
       "      <td>0.010789</td>\n",
       "      <td>0.010671</td>\n",
       "      <td>1</td>\n",
       "      <td>0</td>\n",
       "    </tr>\n",
       "    <tr>\n",
       "      <th>1206380</th>\n",
       "      <td>-0.001697</td>\n",
       "      <td>0.003231</td>\n",
       "      <td>-0.008367</td>\n",
       "      <td>-0.006932</td>\n",
       "      <td>-0.009974</td>\n",
       "      <td>-0.000491</td>\n",
       "      <td>-0.003736</td>\n",
       "      <td>-0.007092</td>\n",
       "      <td>-0.001125</td>\n",
       "      <td>0.002679</td>\n",
       "      <td>...</td>\n",
       "      <td>0.016533</td>\n",
       "      <td>0.000625</td>\n",
       "      <td>0.002733</td>\n",
       "      <td>-0.021268</td>\n",
       "      <td>-0.016480</td>\n",
       "      <td>-0.003075</td>\n",
       "      <td>0.007536</td>\n",
       "      <td>0.013510</td>\n",
       "      <td>3</td>\n",
       "      <td>0</td>\n",
       "    </tr>\n",
       "    <tr>\n",
       "      <th>1340333</th>\n",
       "      <td>-0.007934</td>\n",
       "      <td>0.002444</td>\n",
       "      <td>-0.004535</td>\n",
       "      <td>-0.004931</td>\n",
       "      <td>0.004147</td>\n",
       "      <td>-0.003268</td>\n",
       "      <td>-0.018939</td>\n",
       "      <td>-0.009468</td>\n",
       "      <td>-0.004490</td>\n",
       "      <td>-0.004108</td>\n",
       "      <td>...</td>\n",
       "      <td>0.026861</td>\n",
       "      <td>0.017277</td>\n",
       "      <td>-0.016428</td>\n",
       "      <td>-0.018125</td>\n",
       "      <td>-0.006291</td>\n",
       "      <td>-0.021627</td>\n",
       "      <td>-0.021855</td>\n",
       "      <td>0.040774</td>\n",
       "      <td>1</td>\n",
       "      <td>0</td>\n",
       "    </tr>\n",
       "  </tbody>\n",
       "</table>\n",
       "<p>5 rows × 118 columns</p>\n",
       "</div>"
      ],
      "text/plain": [
       "         Mean_2001  Mean_2002  Mean_2101  Mean_2102  Mean_2111  Mean_2112   \n",
       "1084283   0.001087   0.006426   0.003046   0.007911   0.002836   0.010834  \\\n",
       "1084884  -0.002832   0.032711  -0.019582  -0.008242  -0.006916  -0.009639   \n",
       "1108916  -0.015434  -0.013533   0.006497  -0.003192   0.002811   0.004337   \n",
       "1206380  -0.001697   0.003231  -0.008367  -0.006932  -0.009974  -0.000491   \n",
       "1340333  -0.007934   0.002444  -0.004535  -0.004931   0.004147  -0.003268   \n",
       "\n",
       "         Mean_2201  Mean_2202  Mean_2211  Mean_2212  ...  Mean_9100   \n",
       "1084283   0.014295   0.013514   0.000804   0.044241  ...   0.029133  \\\n",
       "1084884  -0.020090  -0.014911  -0.025029  -0.025237  ...  -0.051607   \n",
       "1108916  -0.003781  -0.006387  -0.008912   0.004389  ...   0.018162   \n",
       "1206380  -0.003736  -0.007092  -0.001125   0.002679  ...   0.016533   \n",
       "1340333  -0.018939  -0.009468  -0.004490  -0.004108  ...   0.026861   \n",
       "\n",
       "         Mean_9110  Mean_9120  Mean_9130  Mean_9140  Mean_9150  Mean_9160   \n",
       "1084283   0.005323  -0.006976  -0.010725  -0.018854  -0.017208  -0.021859  \\\n",
       "1084884   0.011342  -0.006839   0.000509  -0.021160  -0.012922  -0.022561   \n",
       "1108916  -0.022221  -0.020608  -0.010677  -0.022314   0.001143   0.010789   \n",
       "1206380   0.000625   0.002733  -0.021268  -0.016480  -0.003075   0.007536   \n",
       "1340333   0.017277  -0.016428  -0.018125  -0.006291  -0.021627  -0.021855   \n",
       "\n",
       "         Mean_9170  DX  DX_pred  \n",
       "1084283   0.033943   1        0  \n",
       "1084884  -0.031755   0        0  \n",
       "1108916   0.010671   1        0  \n",
       "1206380   0.013510   3        0  \n",
       "1340333   0.040774   1        0  \n",
       "\n",
       "[5 rows x 118 columns]"
      ]
     },
     "execution_count": 25,
     "metadata": {},
     "output_type": "execute_result"
    }
   ],
   "source": [
    "df_w_preds = df_region_w_dx.copy()\n",
    "\n",
    "df_w_preds['DX_pred'] = y_pred_SVM\n",
    "df_w_preds.head()"
   ]
  },
  {
   "cell_type": "markdown",
   "id": "69bd488f",
   "metadata": {},
   "source": [
    "### Understand the differences\n",
    "\n",
    "View the value counts to better understand how the predictions and true values are distributed."
   ]
  },
  {
   "cell_type": "markdown",
   "id": "5b4c2882",
   "metadata": {},
   "source": [
    "The model was abel to recognize 3 out of the 4 diagnosis types. The frequency follows a similar frequency to the true values"
   ]
  },
  {
   "cell_type": "code",
   "execution_count": 26,
   "id": "8fc81d36",
   "metadata": {},
   "outputs": [
    {
     "data": {
      "text/plain": [
       "DX_pred\n",
       "0    66\n",
       "1    12\n",
       "3     1\n",
       "Name: count, dtype: int64"
      ]
     },
     "execution_count": 26,
     "metadata": {},
     "output_type": "execute_result"
    }
   ],
   "source": [
    "df_w_preds['DX_pred'].value_counts()"
   ]
  },
  {
   "cell_type": "code",
   "execution_count": 27,
   "id": "2ea85c81",
   "metadata": {
    "scrolled": false
   },
   "outputs": [
    {
     "data": {
      "text/plain": [
       "DX\n",
       "0    42\n",
       "1    23\n",
       "3    12\n",
       "2     2\n",
       "Name: count, dtype: int64"
      ]
     },
     "execution_count": 27,
     "metadata": {},
     "output_type": "execute_result"
    }
   ],
   "source": [
    "df_w_preds['DX'].value_counts()"
   ]
  },
  {
   "cell_type": "markdown",
   "id": "600ce758",
   "metadata": {},
   "source": [
    "#### 100-iteration Train/Test Split\n",
    "\n",
    "Do 100-iterations of train/test splits using this dataframe. \n",
    "Generate 100 accuracies for the models."
   ]
  },
  {
   "cell_type": "code",
   "execution_count": 28,
   "id": "624e4def",
   "metadata": {},
   "outputs": [],
   "source": [
    "accs, cfms = get_accuracies(X, y)"
   ]
  },
  {
   "cell_type": "markdown",
   "id": "6b1910d8",
   "metadata": {},
   "source": [
    "#### View Confusion Matrices"
   ]
  },
  {
   "cell_type": "code",
   "execution_count": 29,
   "id": "0a95da65",
   "metadata": {
    "scrolled": true
   },
   "outputs": [
    {
     "data": {
      "image/png": "[encoded data removed]",
      "text/plain": [
       "<Figure size 300x200 with 2 Axes>"
      ]
     },
     "metadata": {},
     "output_type": "display_data"
    },
    {
     "data": {
      "image/png": "[encoded data removed]",
      "text/plain": [
       "<Figure size 300x200 with 2 Axes>"
      ]
     },
     "metadata": {},
     "output_type": "display_data"
    },
    {
     "data": {
      "image/png": "[encoded data removed]",
      "text/plain": [
       "<Figure size 300x200 with 2 Axes>"
      ]
     },
     "metadata": {},
     "output_type": "display_data"
    },
    {
     "data": {
      "image/png": "[encoded data removed]",
      "text/plain": [
       "<Figure size 300x200 with 2 Axes>"
      ]
     },
     "metadata": {},
     "output_type": "display_data"
    },
    {
     "data": {
      "image/png": "[encoded data removed]",
      "text/plain": [
       "<Figure size 300x200 with 2 Axes>"
      ]
     },
     "metadata": {},
     "output_type": "display_data"
    },
    {
     "data": {
      "image/png": "[encoded data removed]",
      "text/plain": [
       "<Figure size 300x200 with 2 Axes>"
      ]
     },
     "metadata": {},
     "output_type": "display_data"
    }
   ],
   "source": [
    "print_model_cfms(cfms)"
   ]
  },
  {
   "cell_type": "markdown",
   "id": "e4990def",
   "metadata": {},
   "source": [
    "Extract descriptive statistics from the accuracies."
   ]
  },
  {
   "cell_type": "code",
   "execution_count": 30,
   "id": "9bc2c4bc",
   "metadata": {},
   "outputs": [
    {
     "data": {
      "text/html": [
       "<div>\n",
       "<style scoped>\n",
       "    .dataframe tbody tr th:only-of-type {\n",
       "        vertical-align: middle;\n",
       "    }\n",
       "\n",
       "    .dataframe tbody tr th {\n",
       "        vertical-align: top;\n",
       "    }\n",
       "\n",
       "    .dataframe thead th {\n",
       "        text-align: right;\n",
       "    }\n",
       "</style>\n",
       "<table border=\"1\" class=\"dataframe\">\n",
       "  <thead>\n",
       "    <tr style=\"text-align: right;\">\n",
       "      <th></th>\n",
       "      <th>LR_multiclass</th>\n",
       "      <th>KNN_multiclass</th>\n",
       "      <th>SVM_multiclass</th>\n",
       "      <th>LDA_multiclass</th>\n",
       "      <th>Ensemble_multiclass</th>\n",
       "      <th>Ensemble2_multiclass</th>\n",
       "    </tr>\n",
       "  </thead>\n",
       "  <tbody>\n",
       "    <tr>\n",
       "      <th>Mean</th>\n",
       "      <td>0.522500</td>\n",
       "      <td>0.481000</td>\n",
       "      <td>0.522000</td>\n",
       "      <td>0.399000</td>\n",
       "      <td>0.522000</td>\n",
       "      <td>0.523500</td>\n",
       "    </tr>\n",
       "    <tr>\n",
       "      <th>STD</th>\n",
       "      <td>0.102561</td>\n",
       "      <td>0.101926</td>\n",
       "      <td>0.100578</td>\n",
       "      <td>0.091373</td>\n",
       "      <td>0.100578</td>\n",
       "      <td>0.101601</td>\n",
       "    </tr>\n",
       "    <tr>\n",
       "      <th>Max</th>\n",
       "      <td>0.750000</td>\n",
       "      <td>0.750000</td>\n",
       "      <td>0.750000</td>\n",
       "      <td>0.650000</td>\n",
       "      <td>0.700000</td>\n",
       "      <td>0.700000</td>\n",
       "    </tr>\n",
       "    <tr>\n",
       "      <th>Min</th>\n",
       "      <td>0.250000</td>\n",
       "      <td>0.250000</td>\n",
       "      <td>0.250000</td>\n",
       "      <td>0.250000</td>\n",
       "      <td>0.250000</td>\n",
       "      <td>0.250000</td>\n",
       "    </tr>\n",
       "  </tbody>\n",
       "</table>\n",
       "</div>"
      ],
      "text/plain": [
       "      LR_multiclass  KNN_multiclass  SVM_multiclass  LDA_multiclass   \n",
       "Mean       0.522500        0.481000        0.522000        0.399000  \\\n",
       "STD        0.102561        0.101926        0.100578        0.091373   \n",
       "Max        0.750000        0.750000        0.750000        0.650000   \n",
       "Min        0.250000        0.250000        0.250000        0.250000   \n",
       "\n",
       "      Ensemble_multiclass  Ensemble2_multiclass  \n",
       "Mean             0.522000              0.523500  \n",
       "STD              0.100578              0.101601  \n",
       "Max              0.700000              0.700000  \n",
       "Min              0.250000              0.250000  "
      ]
     },
     "execution_count": 30,
     "metadata": {},
     "output_type": "execute_result"
    }
   ],
   "source": [
    "stats = get_statistics(accs)\n",
    "results = pd.DataFrame(stats, \n",
    "                       index=['Mean', 'STD', 'Max', 'Min'], \n",
    "                       columns=['LR_multiclass', 'KNN_multiclass', \n",
    "                                'SVM_multiclass', 'LDA_multiclass', \n",
    "                                'Ensemble_multiclass', 'Ensemble2_multiclass'])\n",
    "\n",
    "results"
   ]
  },
  {
   "cell_type": "markdown",
   "id": "9968f706",
   "metadata": {},
   "source": [
    "#### Cross-validation\n",
    "\n",
    "Perform cross validation on this dataset with the models from before. This is done to compare the results to the train-test split method."
   ]
  },
  {
   "cell_type": "code",
   "execution_count": 31,
   "id": "f90600b1",
   "metadata": {
    "scrolled": true
   },
   "outputs": [
    {
     "name": "stderr",
     "output_type": "stream",
     "text": [
      "C:\\Users\\taylo\\AppData\\Local\\Programs\\Python\\Python310\\lib\\site-packages\\sklearn\\model_selection\\_split.py:700: UserWarning: The least populated class in y has only 2 members, which is less than n_splits=10.\n",
      "  warnings.warn(\n",
      "C:\\Users\\taylo\\AppData\\Local\\Programs\\Python\\Python310\\lib\\site-packages\\sklearn\\model_selection\\_split.py:700: UserWarning: The least populated class in y has only 2 members, which is less than n_splits=10.\n",
      "  warnings.warn(\n",
      "C:\\Users\\taylo\\AppData\\Local\\Programs\\Python\\Python310\\lib\\site-packages\\sklearn\\model_selection\\_split.py:700: UserWarning: The least populated class in y has only 2 members, which is less than n_splits=10.\n",
      "  warnings.warn(\n",
      "C:\\Users\\taylo\\AppData\\Local\\Programs\\Python\\Python310\\lib\\site-packages\\sklearn\\model_selection\\_split.py:700: UserWarning: The least populated class in y has only 2 members, which is less than n_splits=10.\n",
      "  warnings.warn(\n",
      "C:\\Users\\taylo\\AppData\\Local\\Programs\\Python\\Python310\\lib\\site-packages\\sklearn\\model_selection\\_split.py:700: UserWarning: The least populated class in y has only 2 members, which is less than n_splits=10.\n",
      "  warnings.warn(\n",
      "C:\\Users\\taylo\\AppData\\Local\\Programs\\Python\\Python310\\lib\\site-packages\\sklearn\\model_selection\\_split.py:700: UserWarning: The least populated class in y has only 2 members, which is less than n_splits=10.\n",
      "  warnings.warn(\n"
     ]
    },
    {
     "name": "stdout",
     "output_type": "stream",
     "text": [
      "Model\t\tCV Mean\t\tCV std\n",
      "{'LR': (0.5321428571428571, 0.05101020306102036), 'KNN': (0.5196428571428571, 0.1534987369488686), 'SVM': (0.5446428571428571, 0.09723538135758558), 'LDA': (0.39107142857142857, 0.15980895801307413), 'Ensemble': (0.5321428571428571, 0.09408528480228207), 'Ensemble Less': (0.5321428571428571, 0.09408528480228207)}\n"
     ]
    }
   ],
   "source": [
    "perform_cross_validation(X, y)"
   ]
  },
  {
   "cell_type": "markdown",
   "id": "a00416b3",
   "metadata": {},
   "source": [
    "### Conclusion\n",
    "\n",
    "The most accurate model was SVM, closely followed by logistic regression in the tran/test split.\n",
    "Cross validation supports SVM as the most accurate model with logisitc regression, ensemble, and ensemble less sharing the second highest accuracy."
   ]
  },
  {
   "cell_type": "markdown",
   "id": "5c47e6c8",
   "metadata": {},
   "source": [
    "--------------------------------------------------------------------------------------------------------------------------------"
   ]
  },
  {
   "cell_type": "markdown",
   "id": "52a79a5a",
   "metadata": {},
   "source": [
    "# Binary Classification\n",
    "\n",
    "This section investigates how models perform when predicting whether a patient has ADHD or not. \n",
    "\n",
    "This is accomplished by converting the diagnosis to a binary value based on if their diagnosis is a control or has some type of ADHD. \n",
    "For this feature, 'True' signifies the subject has ADHD and 'False' signifies the subject is a control and does not have ADHD.\n",
    "\n",
    "Theoretically, this model should perform better than the multi-class classification since it is simpler."
   ]
  },
  {
   "cell_type": "markdown",
   "id": "b5a64204",
   "metadata": {},
   "source": [
    "## Build the dataframe\n",
    "\n",
    "Create a dataframe of the subjects, regions and their diagnosis."
   ]
  },
  {
   "cell_type": "markdown",
   "id": "7cd67dce",
   "metadata": {},
   "source": [
    "### Combine\n",
    "\n",
    "Add the diagnosis Series to the regions dataframe."
   ]
  },
  {
   "cell_type": "code",
   "execution_count": 32,
   "id": "c040b16e",
   "metadata": {},
   "outputs": [
    {
     "data": {
      "text/html": [
       "<div>\n",
       "<style scoped>\n",
       "    .dataframe tbody tr th:only-of-type {\n",
       "        vertical-align: middle;\n",
       "    }\n",
       "\n",
       "    .dataframe tbody tr th {\n",
       "        vertical-align: top;\n",
       "    }\n",
       "\n",
       "    .dataframe thead th {\n",
       "        text-align: right;\n",
       "    }\n",
       "</style>\n",
       "<table border=\"1\" class=\"dataframe\">\n",
       "  <thead>\n",
       "    <tr style=\"text-align: right;\">\n",
       "      <th></th>\n",
       "      <th>Mean_2001</th>\n",
       "      <th>Mean_2002</th>\n",
       "      <th>Mean_2101</th>\n",
       "      <th>Mean_2102</th>\n",
       "      <th>Mean_2111</th>\n",
       "      <th>Mean_2112</th>\n",
       "      <th>Mean_2201</th>\n",
       "      <th>Mean_2202</th>\n",
       "      <th>Mean_2211</th>\n",
       "      <th>Mean_2212</th>\n",
       "      <th>...</th>\n",
       "      <th>Mean_9082</th>\n",
       "      <th>Mean_9100</th>\n",
       "      <th>Mean_9110</th>\n",
       "      <th>Mean_9120</th>\n",
       "      <th>Mean_9130</th>\n",
       "      <th>Mean_9140</th>\n",
       "      <th>Mean_9150</th>\n",
       "      <th>Mean_9160</th>\n",
       "      <th>Mean_9170</th>\n",
       "      <th>DX</th>\n",
       "    </tr>\n",
       "  </thead>\n",
       "  <tbody>\n",
       "    <tr>\n",
       "      <th>1084283</th>\n",
       "      <td>0.001087</td>\n",
       "      <td>0.006426</td>\n",
       "      <td>0.003046</td>\n",
       "      <td>0.007911</td>\n",
       "      <td>0.002836</td>\n",
       "      <td>0.010834</td>\n",
       "      <td>0.014295</td>\n",
       "      <td>0.013514</td>\n",
       "      <td>0.000804</td>\n",
       "      <td>0.044241</td>\n",
       "      <td>...</td>\n",
       "      <td>0.027268</td>\n",
       "      <td>0.029133</td>\n",
       "      <td>0.005323</td>\n",
       "      <td>-0.006976</td>\n",
       "      <td>-0.010725</td>\n",
       "      <td>-0.018854</td>\n",
       "      <td>-0.017208</td>\n",
       "      <td>-0.021859</td>\n",
       "      <td>0.033943</td>\n",
       "      <td>True</td>\n",
       "    </tr>\n",
       "    <tr>\n",
       "      <th>1084884</th>\n",
       "      <td>-0.002832</td>\n",
       "      <td>0.032711</td>\n",
       "      <td>-0.019582</td>\n",
       "      <td>-0.008242</td>\n",
       "      <td>-0.006916</td>\n",
       "      <td>-0.009639</td>\n",
       "      <td>-0.020090</td>\n",
       "      <td>-0.014911</td>\n",
       "      <td>-0.025029</td>\n",
       "      <td>-0.025237</td>\n",
       "      <td>...</td>\n",
       "      <td>-0.013224</td>\n",
       "      <td>-0.051607</td>\n",
       "      <td>0.011342</td>\n",
       "      <td>-0.006839</td>\n",
       "      <td>0.000509</td>\n",
       "      <td>-0.021160</td>\n",
       "      <td>-0.012922</td>\n",
       "      <td>-0.022561</td>\n",
       "      <td>-0.031755</td>\n",
       "      <td>False</td>\n",
       "    </tr>\n",
       "    <tr>\n",
       "      <th>1108916</th>\n",
       "      <td>-0.015434</td>\n",
       "      <td>-0.013533</td>\n",
       "      <td>0.006497</td>\n",
       "      <td>-0.003192</td>\n",
       "      <td>0.002811</td>\n",
       "      <td>0.004337</td>\n",
       "      <td>-0.003781</td>\n",
       "      <td>-0.006387</td>\n",
       "      <td>-0.008912</td>\n",
       "      <td>0.004389</td>\n",
       "      <td>...</td>\n",
       "      <td>0.002434</td>\n",
       "      <td>0.018162</td>\n",
       "      <td>-0.022221</td>\n",
       "      <td>-0.020608</td>\n",
       "      <td>-0.010677</td>\n",
       "      <td>-0.022314</td>\n",
       "      <td>0.001143</td>\n",
       "      <td>0.010789</td>\n",
       "      <td>0.010671</td>\n",
       "      <td>True</td>\n",
       "    </tr>\n",
       "    <tr>\n",
       "      <th>1206380</th>\n",
       "      <td>-0.001697</td>\n",
       "      <td>0.003231</td>\n",
       "      <td>-0.008367</td>\n",
       "      <td>-0.006932</td>\n",
       "      <td>-0.009974</td>\n",
       "      <td>-0.000491</td>\n",
       "      <td>-0.003736</td>\n",
       "      <td>-0.007092</td>\n",
       "      <td>-0.001125</td>\n",
       "      <td>0.002679</td>\n",
       "      <td>...</td>\n",
       "      <td>0.001607</td>\n",
       "      <td>0.016533</td>\n",
       "      <td>0.000625</td>\n",
       "      <td>0.002733</td>\n",
       "      <td>-0.021268</td>\n",
       "      <td>-0.016480</td>\n",
       "      <td>-0.003075</td>\n",
       "      <td>0.007536</td>\n",
       "      <td>0.013510</td>\n",
       "      <td>True</td>\n",
       "    </tr>\n",
       "    <tr>\n",
       "      <th>1340333</th>\n",
       "      <td>-0.007934</td>\n",
       "      <td>0.002444</td>\n",
       "      <td>-0.004535</td>\n",
       "      <td>-0.004931</td>\n",
       "      <td>0.004147</td>\n",
       "      <td>-0.003268</td>\n",
       "      <td>-0.018939</td>\n",
       "      <td>-0.009468</td>\n",
       "      <td>-0.004490</td>\n",
       "      <td>-0.004108</td>\n",
       "      <td>...</td>\n",
       "      <td>-0.007520</td>\n",
       "      <td>0.026861</td>\n",
       "      <td>0.017277</td>\n",
       "      <td>-0.016428</td>\n",
       "      <td>-0.018125</td>\n",
       "      <td>-0.006291</td>\n",
       "      <td>-0.021627</td>\n",
       "      <td>-0.021855</td>\n",
       "      <td>0.040774</td>\n",
       "      <td>True</td>\n",
       "    </tr>\n",
       "  </tbody>\n",
       "</table>\n",
       "<p>5 rows × 117 columns</p>\n",
       "</div>"
      ],
      "text/plain": [
       "         Mean_2001  Mean_2002  Mean_2101  Mean_2102  Mean_2111  Mean_2112   \n",
       "1084283   0.001087   0.006426   0.003046   0.007911   0.002836   0.010834  \\\n",
       "1084884  -0.002832   0.032711  -0.019582  -0.008242  -0.006916  -0.009639   \n",
       "1108916  -0.015434  -0.013533   0.006497  -0.003192   0.002811   0.004337   \n",
       "1206380  -0.001697   0.003231  -0.008367  -0.006932  -0.009974  -0.000491   \n",
       "1340333  -0.007934   0.002444  -0.004535  -0.004931   0.004147  -0.003268   \n",
       "\n",
       "         Mean_2201  Mean_2202  Mean_2211  Mean_2212  ...  Mean_9082   \n",
       "1084283   0.014295   0.013514   0.000804   0.044241  ...   0.027268  \\\n",
       "1084884  -0.020090  -0.014911  -0.025029  -0.025237  ...  -0.013224   \n",
       "1108916  -0.003781  -0.006387  -0.008912   0.004389  ...   0.002434   \n",
       "1206380  -0.003736  -0.007092  -0.001125   0.002679  ...   0.001607   \n",
       "1340333  -0.018939  -0.009468  -0.004490  -0.004108  ...  -0.007520   \n",
       "\n",
       "         Mean_9100  Mean_9110  Mean_9120  Mean_9130  Mean_9140  Mean_9150   \n",
       "1084283   0.029133   0.005323  -0.006976  -0.010725  -0.018854  -0.017208  \\\n",
       "1084884  -0.051607   0.011342  -0.006839   0.000509  -0.021160  -0.012922   \n",
       "1108916   0.018162  -0.022221  -0.020608  -0.010677  -0.022314   0.001143   \n",
       "1206380   0.016533   0.000625   0.002733  -0.021268  -0.016480  -0.003075   \n",
       "1340333   0.026861   0.017277  -0.016428  -0.018125  -0.006291  -0.021627   \n",
       "\n",
       "         Mean_9160  Mean_9170     DX  \n",
       "1084283  -0.021859   0.033943   True  \n",
       "1084884  -0.022561  -0.031755  False  \n",
       "1108916   0.010789   0.010671   True  \n",
       "1206380   0.007536   0.013510   True  \n",
       "1340333  -0.021855   0.040774   True  \n",
       "\n",
       "[5 rows x 117 columns]"
      ]
     },
     "execution_count": 32,
     "metadata": {},
     "output_type": "execute_result"
    }
   ],
   "source": [
    "# Make a copy of the region dataframe\n",
    "df_region_w_dx_binary = df_subject_x_region.copy()\n",
    "\n",
    "# Add the diagnosis to the region dataframe\n",
    "df_region_w_dx_binary['DX'] = diagnosis>0\n",
    "\n",
    "df_region_w_dx_binary.head()"
   ]
  },
  {
   "cell_type": "markdown",
   "id": "2aa08864",
   "metadata": {},
   "source": [
    "View the number of subjects with and without ADHD."
   ]
  },
  {
   "cell_type": "code",
   "execution_count": 33,
   "id": "51498cb1",
   "metadata": {
    "scrolled": true
   },
   "outputs": [
    {
     "data": {
      "text/plain": [
       "DX\n",
       "False    42\n",
       "True     37\n",
       "Name: count, dtype: int64"
      ]
     },
     "execution_count": 33,
     "metadata": {},
     "output_type": "execute_result"
    }
   ],
   "source": [
    "df_region_w_dx_binary['DX'].value_counts()"
   ]
  },
  {
   "cell_type": "markdown",
   "id": "be63394d",
   "metadata": {},
   "source": [
    "## Evaluate Accuracy\n",
    "\n",
    "Build models and evaluate the accuracy"
   ]
  },
  {
   "cell_type": "markdown",
   "id": "d4114bbe",
   "metadata": {},
   "source": [
    "Separate dataframe into features and targets"
   ]
  },
  {
   "cell_type": "code",
   "execution_count": 34,
   "id": "4bf42c0b",
   "metadata": {},
   "outputs": [],
   "source": [
    "X_binary = df_region_w_dx_binary.drop('DX', axis=1)\n",
    "y_binary = df_region_w_dx_binary['DX']"
   ]
  },
  {
   "cell_type": "markdown",
   "id": "04d4abd6",
   "metadata": {},
   "source": [
    "#### 100-iteration Train/Test Split\n",
    "\n",
    "Do 100-iterations of train/test splits using this dataframe. \n",
    "Generate 100 accuracies for the models."
   ]
  },
  {
   "cell_type": "code",
   "execution_count": 35,
   "id": "45030726",
   "metadata": {},
   "outputs": [],
   "source": [
    "accs_binary, cfm_binary = get_accuracies(X_binary, y_binary)"
   ]
  },
  {
   "cell_type": "markdown",
   "id": "a835bca1",
   "metadata": {},
   "source": [
    "#### View Confusion Matrices"
   ]
  },
  {
   "cell_type": "code",
   "execution_count": 36,
   "id": "5e108f1c",
   "metadata": {
    "scrolled": true
   },
   "outputs": [
    {
     "data": {
      "image/png": "[encoded data removed]",
      "text/plain": [
       "<Figure size 300x200 with 2 Axes>"
      ]
     },
     "metadata": {},
     "output_type": "display_data"
    },
    {
     "data": {
      "image/png": "[encoded data removed]",
      "text/plain": [
       "<Figure size 300x200 with 2 Axes>"
      ]
     },
     "metadata": {},
     "output_type": "display_data"
    },
    {
     "data": {
      "image/png": "[encoded data removed]",
      "text/plain": [
       "<Figure size 300x200 with 2 Axes>"
      ]
     },
     "metadata": {},
     "output_type": "display_data"
    },
    {
     "data": {
      "image/png": "[encoded data removed]",
      "text/plain": [
       "<Figure size 300x200 with 2 Axes>"
      ]
     },
     "metadata": {},
     "output_type": "display_data"
    },
    {
     "data": {
      "image/png": "[encoded data removed]",
      "text/plain": [
       "<Figure size 300x200 with 2 Axes>"
      ]
     },
     "metadata": {},
     "output_type": "display_data"
    },
    {
     "data": {
      "image/png": "[encoded data removed]",
      "text/plain": [
       "<Figure size 300x200 with 2 Axes>"
      ]
     },
     "metadata": {},
     "output_type": "display_data"
    }
   ],
   "source": [
    "print_model_cfms(cfm_binary)"
   ]
  },
  {
   "cell_type": "markdown",
   "id": "3ed9b098",
   "metadata": {},
   "source": [
    "Extract descriptive statistics from the accuracies."
   ]
  },
  {
   "cell_type": "code",
   "execution_count": 37,
   "id": "ba03a929",
   "metadata": {},
   "outputs": [
    {
     "data": {
      "text/html": [
       "<div>\n",
       "<style scoped>\n",
       "    .dataframe tbody tr th:only-of-type {\n",
       "        vertical-align: middle;\n",
       "    }\n",
       "\n",
       "    .dataframe tbody tr th {\n",
       "        vertical-align: top;\n",
       "    }\n",
       "\n",
       "    .dataframe thead th {\n",
       "        text-align: right;\n",
       "    }\n",
       "</style>\n",
       "<table border=\"1\" class=\"dataframe\">\n",
       "  <thead>\n",
       "    <tr style=\"text-align: right;\">\n",
       "      <th></th>\n",
       "      <th>LR_binary</th>\n",
       "      <th>KNN_binary</th>\n",
       "      <th>SVM_binary</th>\n",
       "      <th>LDA_binary</th>\n",
       "      <th>Ensemble_binary</th>\n",
       "      <th>Ensemble2_binary</th>\n",
       "    </tr>\n",
       "  </thead>\n",
       "  <tbody>\n",
       "    <tr>\n",
       "      <th>Mean</th>\n",
       "      <td>0.472000</td>\n",
       "      <td>0.453000</td>\n",
       "      <td>0.53000</td>\n",
       "      <td>0.515000</td>\n",
       "      <td>0.505500</td>\n",
       "      <td>0.482500</td>\n",
       "    </tr>\n",
       "    <tr>\n",
       "      <th>STD</th>\n",
       "      <td>0.120482</td>\n",
       "      <td>0.108356</td>\n",
       "      <td>0.09975</td>\n",
       "      <td>0.099121</td>\n",
       "      <td>0.086283</td>\n",
       "      <td>0.102561</td>\n",
       "    </tr>\n",
       "    <tr>\n",
       "      <th>Max</th>\n",
       "      <td>0.700000</td>\n",
       "      <td>0.700000</td>\n",
       "      <td>0.70000</td>\n",
       "      <td>0.800000</td>\n",
       "      <td>0.750000</td>\n",
       "      <td>0.750000</td>\n",
       "    </tr>\n",
       "    <tr>\n",
       "      <th>Min</th>\n",
       "      <td>0.150000</td>\n",
       "      <td>0.150000</td>\n",
       "      <td>0.15000</td>\n",
       "      <td>0.250000</td>\n",
       "      <td>0.200000</td>\n",
       "      <td>0.150000</td>\n",
       "    </tr>\n",
       "  </tbody>\n",
       "</table>\n",
       "</div>"
      ],
      "text/plain": [
       "      LR_binary  KNN_binary  SVM_binary  LDA_binary  Ensemble_binary   \n",
       "Mean   0.472000    0.453000     0.53000    0.515000         0.505500  \\\n",
       "STD    0.120482    0.108356     0.09975    0.099121         0.086283   \n",
       "Max    0.700000    0.700000     0.70000    0.800000         0.750000   \n",
       "Min    0.150000    0.150000     0.15000    0.250000         0.200000   \n",
       "\n",
       "      Ensemble2_binary  \n",
       "Mean          0.482500  \n",
       "STD           0.102561  \n",
       "Max           0.750000  \n",
       "Min           0.150000  "
      ]
     },
     "execution_count": 37,
     "metadata": {},
     "output_type": "execute_result"
    }
   ],
   "source": [
    "stats_binary = get_statistics(accs_binary)\n",
    "results_binary = pd.DataFrame(stats_binary, \n",
    "                              index=['Mean', 'STD', 'Max', 'Min'], \n",
    "                              columns=['LR_binary', 'KNN_binary', \n",
    "                                       'SVM_binary', 'LDA_binary', \n",
    "                                       'Ensemble_binary', 'Ensemble2_binary'])\n",
    "\n",
    "results_binary"
   ]
  },
  {
   "cell_type": "markdown",
   "id": "09a24acf",
   "metadata": {},
   "source": [
    "#### Cross-validation\n",
    "\n",
    "Perform cross validation on this dataset with the models from before. This is done to compare the results to the train-test split method."
   ]
  },
  {
   "cell_type": "code",
   "execution_count": 38,
   "id": "358af9ec",
   "metadata": {
    "scrolled": false
   },
   "outputs": [
    {
     "name": "stdout",
     "output_type": "stream",
     "text": [
      "Model\t\tCV Mean\t\tCV std\n",
      "{'LR': (0.5446428571428571, 0.056610241014812), 'KNN': (0.4428571428571429, 0.12647093721161268), 'SVM': (0.5589285714285714, 0.12321428571428572), 'LDA': (0.5035714285714286, 0.15273860557387928), 'Ensemble': (0.5071428571428571, 0.09916745269224872), 'Ensemble Less': (0.5321428571428571, 0.10943966747174687)}\n"
     ]
    }
   ],
   "source": [
    "perform_cross_validation(X_binary, y_binary)"
   ]
  },
  {
   "cell_type": "markdown",
   "id": "aedefa22",
   "metadata": {},
   "source": [
    "### Conclusion\n",
    "\n",
    "The most accurate model from this test is SVM in train/test split and cross-validation. \n",
    "Cross-validation also has logistic regression and ensemble less in close second and third, but this is not reflected in the tran/test split results."
   ]
  },
  {
   "cell_type": "markdown",
   "id": "8a2269ad",
   "metadata": {},
   "source": [
    "--------------------------------------------------------------------------------------------------------------------------------"
   ]
  },
  {
   "cell_type": "markdown",
   "id": "95e66880",
   "metadata": {},
   "source": [
    "# Export Results\n",
    "\n",
    "Combine the results from both tests in the notebook to a single dataframe. \n",
    "Save this dataframe as a file in the results folder of this repository."
   ]
  },
  {
   "cell_type": "markdown",
   "id": "90883d28",
   "metadata": {},
   "source": [
    "Combine results"
   ]
  },
  {
   "cell_type": "code",
   "execution_count": 39,
   "id": "98fbb276",
   "metadata": {
    "scrolled": true
   },
   "outputs": [
    {
     "data": {
      "text/html": [
       "<div>\n",
       "<style scoped>\n",
       "    .dataframe tbody tr th:only-of-type {\n",
       "        vertical-align: middle;\n",
       "    }\n",
       "\n",
       "    .dataframe tbody tr th {\n",
       "        vertical-align: top;\n",
       "    }\n",
       "\n",
       "    .dataframe thead th {\n",
       "        text-align: right;\n",
       "    }\n",
       "</style>\n",
       "<table border=\"1\" class=\"dataframe\">\n",
       "  <thead>\n",
       "    <tr style=\"text-align: right;\">\n",
       "      <th></th>\n",
       "      <th>LR_multiclass</th>\n",
       "      <th>KNN_multiclass</th>\n",
       "      <th>SVM_multiclass</th>\n",
       "      <th>LDA_multiclass</th>\n",
       "      <th>Ensemble_multiclass</th>\n",
       "      <th>Ensemble2_multiclass</th>\n",
       "      <th>LR_binary</th>\n",
       "      <th>KNN_binary</th>\n",
       "      <th>SVM_binary</th>\n",
       "      <th>LDA_binary</th>\n",
       "      <th>Ensemble_binary</th>\n",
       "      <th>Ensemble2_binary</th>\n",
       "    </tr>\n",
       "  </thead>\n",
       "  <tbody>\n",
       "    <tr>\n",
       "      <th>Mean</th>\n",
       "      <td>0.522500</td>\n",
       "      <td>0.481000</td>\n",
       "      <td>0.522000</td>\n",
       "      <td>0.399000</td>\n",
       "      <td>0.522000</td>\n",
       "      <td>0.523500</td>\n",
       "      <td>0.472000</td>\n",
       "      <td>0.453000</td>\n",
       "      <td>0.53000</td>\n",
       "      <td>0.515000</td>\n",
       "      <td>0.505500</td>\n",
       "      <td>0.482500</td>\n",
       "    </tr>\n",
       "    <tr>\n",
       "      <th>STD</th>\n",
       "      <td>0.102561</td>\n",
       "      <td>0.101926</td>\n",
       "      <td>0.100578</td>\n",
       "      <td>0.091373</td>\n",
       "      <td>0.100578</td>\n",
       "      <td>0.101601</td>\n",
       "      <td>0.120482</td>\n",
       "      <td>0.108356</td>\n",
       "      <td>0.09975</td>\n",
       "      <td>0.099121</td>\n",
       "      <td>0.086283</td>\n",
       "      <td>0.102561</td>\n",
       "    </tr>\n",
       "    <tr>\n",
       "      <th>Max</th>\n",
       "      <td>0.750000</td>\n",
       "      <td>0.750000</td>\n",
       "      <td>0.750000</td>\n",
       "      <td>0.650000</td>\n",
       "      <td>0.700000</td>\n",
       "      <td>0.700000</td>\n",
       "      <td>0.700000</td>\n",
       "      <td>0.700000</td>\n",
       "      <td>0.70000</td>\n",
       "      <td>0.800000</td>\n",
       "      <td>0.750000</td>\n",
       "      <td>0.750000</td>\n",
       "    </tr>\n",
       "    <tr>\n",
       "      <th>Min</th>\n",
       "      <td>0.250000</td>\n",
       "      <td>0.250000</td>\n",
       "      <td>0.250000</td>\n",
       "      <td>0.250000</td>\n",
       "      <td>0.250000</td>\n",
       "      <td>0.250000</td>\n",
       "      <td>0.150000</td>\n",
       "      <td>0.150000</td>\n",
       "      <td>0.15000</td>\n",
       "      <td>0.250000</td>\n",
       "      <td>0.200000</td>\n",
       "      <td>0.150000</td>\n",
       "    </tr>\n",
       "  </tbody>\n",
       "</table>\n",
       "</div>"
      ],
      "text/plain": [
       "      LR_multiclass  KNN_multiclass  SVM_multiclass  LDA_multiclass   \n",
       "Mean       0.522500        0.481000        0.522000        0.399000  \\\n",
       "STD        0.102561        0.101926        0.100578        0.091373   \n",
       "Max        0.750000        0.750000        0.750000        0.650000   \n",
       "Min        0.250000        0.250000        0.250000        0.250000   \n",
       "\n",
       "      Ensemble_multiclass  Ensemble2_multiclass  LR_binary  KNN_binary   \n",
       "Mean             0.522000              0.523500   0.472000    0.453000  \\\n",
       "STD              0.100578              0.101601   0.120482    0.108356   \n",
       "Max              0.700000              0.700000   0.700000    0.700000   \n",
       "Min              0.250000              0.250000   0.150000    0.150000   \n",
       "\n",
       "      SVM_binary  LDA_binary  Ensemble_binary  Ensemble2_binary  \n",
       "Mean     0.53000    0.515000         0.505500          0.482500  \n",
       "STD      0.09975    0.099121         0.086283          0.102561  \n",
       "Max      0.70000    0.800000         0.750000          0.750000  \n",
       "Min      0.15000    0.250000         0.200000          0.150000  "
      ]
     },
     "execution_count": 39,
     "metadata": {},
     "output_type": "execute_result"
    }
   ],
   "source": [
    "results_complete = pd.concat([results, results_binary], axis=1)\n",
    "results_complete"
   ]
  },
  {
   "cell_type": "markdown",
   "id": "7f9343e3",
   "metadata": {},
   "source": [
    "Export dataframe"
   ]
  },
  {
   "cell_type": "code",
   "execution_count": 40,
   "id": "893ec029",
   "metadata": {},
   "outputs": [],
   "source": [
    "results_complete.to_csv('Results\\\\2023.6.30-Region_Correlation-Results-OHSU.csv')"
   ]
  }
 ],
 "metadata": {
  "kernelspec": {
   "display_name": "Python 3 (ipykernel)",
   "language": "python",
   "name": "python3"
  },
  "language_info": {
   "codemirror_mode": {
    "name": "ipython",
    "version": 3
   },
   "file_extension": ".py",
   "mimetype": "text/x-python",
   "name": "python",
   "nbconvert_exporter": "python",
   "pygments_lexer": "ipython3",
   "version": "3.10.0"
  }
 },
 "nbformat": 4,
 "nbformat_minor": 5
}
