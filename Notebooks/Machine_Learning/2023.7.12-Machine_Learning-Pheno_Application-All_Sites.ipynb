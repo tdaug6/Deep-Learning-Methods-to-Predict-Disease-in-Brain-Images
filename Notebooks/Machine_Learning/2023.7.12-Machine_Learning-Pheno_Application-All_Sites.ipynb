{
 "cells": [
  {
   "cell_type": "markdown",
   "id": "f6718f41",
   "metadata": {},
   "source": [
    "# Machine Learning Application Phenotypic All Sites\n",
    "\n",
    "This notebook applies what was found in the machine learning for all sites notebook.\n",
    "There are two datasets used in this notebook: training and testing. \n",
    "The training dataset is the cleaned phenotypic data for all sites. \n",
    "The testing dataset is the cleaned phenotypic data for all subjects.\n",
    "\n",
    "The features for this application is the personal characteristics for each subject as shown in the testing set.\n",
    "\n",
    "The application will include two tests: \n",
    "\n",
    "1. Multi-class classification with LDA\n",
    "\n",
    "2. Binary classification with SVM"
   ]
  },
  {
   "cell_type": "markdown",
   "id": "9d4d8c21",
   "metadata": {},
   "source": [
    "## Imports\n",
    "\n",
    "These are the imports that are required for this notebook to run properly\n",
    "\n",
    "- `os` to access the file\n",
    "\n",
    "- `pandas` to work with dataframes\n",
    "\n",
    "- `matplotlib.pyplot` for displaying confusion matrices\n",
    "\n",
    "- `seaborn` for formatting plots\n",
    "\n",
    "- `train_test_split()` for splitting data into training and testing\n",
    "\n",
    "\n",
    "- `LogisticRegression` for logistic regression machine learning model\n",
    "\n",
    "- `KNeighborsClassifier` for KNN machine learning model\n",
    "\n",
    "- `SVC` for a SVM machine learning model\n",
    "\n",
    "- `LinearDiscriminantAnalysis` for a LDA machine learning model\n",
    "\n",
    "\n",
    "- `accuracy_score()` and `confusion_matris()` to evaluate the accuracy of the model"
   ]
  },
  {
   "cell_type": "code",
   "execution_count": 1,
   "id": "26ba9d4d",
   "metadata": {},
   "outputs": [],
   "source": [
    "import os\n",
    "import pandas as pd\n",
    "import numpy as np\n",
    "import matplotlib.pyplot as plt\n",
    "import seaborn as sns\n",
    "\n",
    "from sklearn.model_selection import train_test_split\n",
    "from sklearn.linear_model import LogisticRegression\n",
    "from sklearn.neighbors import KNeighborsClassifier\n",
    "from sklearn.svm import SVC\n",
    "from sklearn.discriminant_analysis import LinearDiscriminantAnalysis\n",
    "from sklearn.metrics import accuracy_score, confusion_matrix"
   ]
  },
  {
   "cell_type": "markdown",
   "id": "150fc6b7",
   "metadata": {},
   "source": [
    "### get_base_filepath()\n",
    "\n",
    "Access the filepath for th ebase folder of the project. \n",
    "From here, any other asset of the project can be located.\n",
    "\n",
    "**Input:** None\n",
    "\n",
    "**Output:** The filepath to the root of the folder"
   ]
  },
  {
   "cell_type": "code",
   "execution_count": 2,
   "id": "18789d22",
   "metadata": {},
   "outputs": [],
   "source": [
    "def get_base_filepath():\n",
    "    '''\n",
    "    Access the filepath for the base folder of the project\n",
    "    \n",
    "    Input: None\n",
    "    \n",
    "    Output: The filepath to the root of the folder\n",
    "    '''\n",
    "    # Get current directory\n",
    "    os.path.abspath(os.curdir)\n",
    "\n",
    "    # Go up a directory level\n",
    "    os.chdir('..')\n",
    "    os.chdir('..')\n",
    "\n",
    "    # Set baseline filepath to the project folder directory\n",
    "    base_folder_filepath = os.path.abspath(os.curdir)\n",
    "    return base_folder_filepath"
   ]
  },
  {
   "cell_type": "markdown",
   "id": "dca09b4b",
   "metadata": {},
   "source": [
    "### normalize()\n",
    "\n",
    "Normalizes a Series\n",
    "\n",
    "**Input:** A feature of type Series\n",
    "\n",
    "**Output:** The normalized feature of type Series\n",
    "\n",
    "**Dependencies:** Used in `normalize_features()`"
   ]
  },
  {
   "cell_type": "code",
   "execution_count": 3,
   "id": "d5e0d1c0",
   "metadata": {},
   "outputs": [],
   "source": [
    "def normalize(feature):\n",
    "    '''\n",
    "    This function normalizes a Series\n",
    "    \n",
    "    Input: A feature of type Series\n",
    "    \n",
    "    Output: The normalized feature of type Series\n",
    "    '''\n",
    "    # If the standard deviation is 0, do not divide by it\n",
    "    if feature.std() == 0:\n",
    "        return feature - feature.mean()\n",
    "    \n",
    "    # Otherwise, divide by the standard deviation\n",
    "    return (feature - feature.mean())/feature.std()"
   ]
  },
  {
   "cell_type": "markdown",
   "id": "df2ac0bd",
   "metadata": {},
   "source": [
    "### normalize_features()\n",
    "\n",
    "Normalizes all features in a given dataframe. This will normalize ALL features, so ensure that the inputted dataframe consists only of numeric values.\n",
    "\n",
    "**Input:** A dataframe to normalize\n",
    "\n",
    "**Output:** A normalized dataframe\n",
    "\n",
    "**Dependencies:** Uses `normalize()`"
   ]
  },
  {
   "cell_type": "code",
   "execution_count": 4,
   "id": "0e02eca7",
   "metadata": {},
   "outputs": [],
   "source": [
    "def normalize_features(df):\n",
    "    '''\n",
    "    This function normalizes all features in a dataframe\n",
    "    \n",
    "    Input: A pandas dataframe\n",
    "    \n",
    "    Output: The normalized dataframe\n",
    "    '''\n",
    "    for column in df.columns:\n",
    "        df[column] = normalize(df[column])\n",
    "    return df"
   ]
  },
  {
   "cell_type": "markdown",
   "id": "7f24c6bf",
   "metadata": {},
   "source": [
    "### print_confusion_matrix()\n",
    "\n",
    "Print a confusion matrix\n",
    "    \n",
    "**Input:**\n",
    "- Confusion matrix to print\n",
    "- A string to make a more clear title for the graph\n",
    "        \n",
    "**Ouput:** Display the confusion matrix"
   ]
  },
  {
   "cell_type": "code",
   "execution_count": 5,
   "id": "712eae05",
   "metadata": {},
   "outputs": [],
   "source": [
    "def print_confusion_matrix(cmf, name):\n",
    "    '''\n",
    "    Print a confusion matrix\n",
    "    \n",
    "    Input:\n",
    "        - Confusion matrix to print\n",
    "        - A string to make a more clear title for the graph\n",
    "        \n",
    "    Ouput: Display the confusion matrix\n",
    "    '''\n",
    "    plt.figure(figsize=(3,2))\n",
    "\n",
    "    # Create matrix part of heatmape\n",
    "    sns.heatmap(cmf,\n",
    "            annot=True,\n",
    "            fmt='g',\n",
    "        )\n",
    "    \n",
    "    # Make graph labels\n",
    "    plt.ylabel('Actual',fontsize=13)\n",
    "    plt.xlabel('Prediction',fontsize=13)\n",
    "    plt.title('Confusion Matrix for ' + name, fontsize=17)\n",
    "    \n",
    "    # Display graph\n",
    "    plt.show()"
   ]
  },
  {
   "cell_type": "markdown",
   "id": "2f4a9898",
   "metadata": {},
   "source": [
    "--------------------------------------------------------------------------------------------------------------------------------"
   ]
  },
  {
   "cell_type": "markdown",
   "id": "2d12b3b3",
   "metadata": {},
   "source": [
    "## Import File\n",
    "\n",
    "Locate the file using its filepath from the base folder and load the file as a dataframe."
   ]
  },
  {
   "cell_type": "code",
   "execution_count": 6,
   "id": "62601446",
   "metadata": {},
   "outputs": [],
   "source": [
    "# The folder for the project\n",
    "base_folder_filepath = get_base_filepath()\n",
    "\n",
    "# Phenotypic data site folder\n",
    "filepath_train = base_folder_filepath + '\\\\Data\\\\Phenotypic\\\\2023.7.11-Cleaned_Phenotypic_Training_Sites.csv'\n",
    "filepath_ohsu = base_folder_filepath + '\\\\Data\\\\Phenotypic\\\\Sites\\\\OHSU_phenotypic.csv'\n",
    "filepath_kki = base_folder_filepath + '\\\\Data\\\\Phenotypic\\\\Sites\\\\KKI_phenotypic.csv'\n",
    "\n",
    "# Dataframe from filepath\n",
    "df_train = pd.read_csv(filepath_train, index_col='ID')\n",
    "df_ohsu = pd.read_csv(filepath_ohsu, index_col='ScanDir ID')\n",
    "df_kki = pd.read_csv(filepath_kki, index_col='ScanDir ID')"
   ]
  },
  {
   "cell_type": "code",
   "execution_count": 7,
   "id": "f3aa28ba",
   "metadata": {},
   "outputs": [],
   "source": [
    "df_train_noIQs = df_train.copy()\n",
    "df_train_noIQs = df_train_noIQs.drop(['Verbal IQ', 'Performance IQ'], axis=1)"
   ]
  },
  {
   "cell_type": "code",
   "execution_count": null,
   "id": "bfbff0fd",
   "metadata": {},
   "outputs": [],
   "source": [
    "X_train = df_train.drop('DX', axis=1)\n",
    "y_train = df_train['DX']\n",
    "\n",
    "X_noIQs_train = df_train_noIQs.drop('DX', axis=1)\n",
    "y_noIQs_train = df_train['DX']"
   ]
  },
  {
   "cell_type": "code",
   "execution_count": null,
   "id": "444fc4a3",
   "metadata": {},
   "outputs": [],
   "source": [
    "clf = KNeighborsClassifier().fit(X_train, y_train)\n",
    "clf_noIQs = KNeighborsClassifier().fit(X_noIQs_train, y_noIQs_train)"
   ]
  },
  {
   "cell_type": "code",
   "execution_count": 8,
   "id": "70d9c535",
   "metadata": {},
   "outputs": [],
   "source": [
    "df_ohsu['IQ'] = df_ohsu['Full4 IQ']\n",
    "df_ohsu = df_ohsu[df_train.columns]\n",
    "df_ohsu = df_ohsu.drop(['Verbal IQ', 'Performance IQ'], axis=1)"
   ]
  },
  {
   "cell_type": "code",
   "execution_count": 9,
   "id": "87e878bd",
   "metadata": {},
   "outputs": [
    {
     "data": {
      "text/plain": [
       "0.5949367088607594"
      ]
     },
     "execution_count": 9,
     "metadata": {},
     "output_type": "execute_result"
    }
   ],
   "source": [
    "X_ohsu = df_ohsu.drop('DX', axis=1)\n",
    "y_ohsu = df_ohsu['DX']\n",
    "\n",
    "preds_ohsu = clf_noIQs.predict(X_ohsu)\n",
    "\n",
    "acc_ohsu = accuracy_score(preds_ohsu, y_ohsu)\n",
    "acc_ohsu"
   ]
  },
  {
   "cell_type": "code",
   "execution_count": 10,
   "id": "88421aaf",
   "metadata": {
    "scrolled": true
   },
   "outputs": [
    {
     "data": {
      "image/png": "[encoded data removed]",
      "text/plain": [
       "<Figure size 300x200 with 2 Axes>"
      ]
     },
     "metadata": {},
     "output_type": "display_data"
    }
   ],
   "source": [
    "cfm_ohsu = confusion_matrix(y_ohsu, preds_ohsu, labels=clf_noIQs.classes_)\n",
    "\n",
    "print_confusion_matrix(cfm_ohsu, 'OHSU')"
   ]
  },
  {
   "cell_type": "code",
   "execution_count": 11,
   "id": "6b2cdba9",
   "metadata": {},
   "outputs": [],
   "source": [
    "df_kki['IQ'] = df_kki['Full4 IQ']\n",
    "df_kki = df_kki[df_train.columns]\n",
    "df_kki_noIQs = df_kki.drop(['Performance IQ', 'Verbal IQ'], axis=1)"
   ]
  },
  {
   "cell_type": "code",
   "execution_count": 12,
   "id": "56c5e285",
   "metadata": {},
   "outputs": [
    {
     "data": {
      "text/plain": [
       "0.5421686746987951"
      ]
     },
     "execution_count": 12,
     "metadata": {},
     "output_type": "execute_result"
    }
   ],
   "source": [
    "X_kki = df_kki.drop('DX', axis=1)\n",
    "y_kki = df_kki['DX']\n",
    "\n",
    "preds_kki = clf.predict(X_kki)\n",
    "\n",
    "acc_kki = accuracy_score(preds_kki, y_kki)\n",
    "acc_kki"
   ]
  },
  {
   "cell_type": "code",
   "execution_count": 13,
   "id": "e461c800",
   "metadata": {
    "scrolled": true
   },
   "outputs": [
    {
     "data": {
      "image/png": "[encoded data removed]",
      "text/plain": [
       "<Figure size 300x200 with 2 Axes>"
      ]
     },
     "metadata": {},
     "output_type": "display_data"
    }
   ],
   "source": [
    "cfm_kki = confusion_matrix(y_kki, preds_kki, labels=clf.classes_)\n",
    "\n",
    "print_confusion_matrix(cfm_kki, 'KKI')"
   ]
  },
  {
   "cell_type": "code",
   "execution_count": 14,
   "id": "7854ebaf",
   "metadata": {},
   "outputs": [
    {
     "data": {
      "text/plain": [
       "0.6385542168674698"
      ]
     },
     "execution_count": 14,
     "metadata": {},
     "output_type": "execute_result"
    }
   ],
   "source": [
    "X_kki_noIQs = df_kki_noIQs.drop('DX', axis=1)\n",
    "\n",
    "preds_kki_noIQs = clf_noIQs.predict(X_kki_noIQs)\n",
    "\n",
    "acc_kki_noIQs = accuracy_score(preds_kki_noIQs, y_kki)\n",
    "acc_kki_noIQs"
   ]
  },
  {
   "cell_type": "code",
   "execution_count": 15,
   "id": "4730ed9e",
   "metadata": {
    "scrolled": true
   },
   "outputs": [
    {
     "data": {
      "image/png": "[encoded data removed]",
      "text/plain": [
       "<Figure size 300x200 with 2 Axes>"
      ]
     },
     "metadata": {},
     "output_type": "display_data"
    }
   ],
   "source": [
    "cfm_kki_noIQs = confusion_matrix(y_kki, preds_kki_noIQs, labels=clf.classes_)\n",
    "\n",
    "print_confusion_matrix(cfm_kki_noIQs, 'KKI (no IQs)')"
   ]
  },
  {
   "cell_type": "code",
   "execution_count": 16,
   "id": "0a3b6b5c",
   "metadata": {},
   "outputs": [
    {
     "name": "stderr",
     "output_type": "stream",
     "text": [
      "C:\\Users\\taylo\\AppData\\Local\\Temp\\ipykernel_20528\\4064331885.py:4: SettingWithCopyWarning: \n",
      "A value is trying to be set on a copy of a slice from a DataFrame\n",
      "\n",
      "See the caveats in the documentation: https://pandas.pydata.org/pandas-docs/stable/user_guide/indexing.html#returning-a-view-versus-a-copy\n",
      "  df_train_binary['DX'].loc[df_train_binary['DX'] > 0] = 1\n",
      "C:\\Users\\taylo\\AppData\\Local\\Temp\\ipykernel_20528\\4064331885.py:5: SettingWithCopyWarning: \n",
      "A value is trying to be set on a copy of a slice from a DataFrame\n",
      "\n",
      "See the caveats in the documentation: https://pandas.pydata.org/pandas-docs/stable/user_guide/indexing.html#returning-a-view-versus-a-copy\n",
      "  df_train_noIQs_binary['DX'].loc[df_train_noIQs_binary['DX'] > 0] = 1\n"
     ]
    }
   ],
   "source": [
    "df_train_binary = df_train.copy()\n",
    "df_train_noIQs_binary = df_train_noIQs.copy()\n",
    "\n",
    "df_train_binary['DX'].loc[df_train_binary['DX'] > 0] = 1\n",
    "df_train_noIQs_binary['DX'].loc[df_train_noIQs_binary['DX'] > 0] = 1\n",
    "\n",
    "X_train_noIQs_binary = df_train_noIQs_binary.drop('DX', axis=1)\n",
    "X_train_binary = df_train_binary.drop('DX', axis=1)\n",
    "\n",
    "y_train_noIQs_binary = df_train_noIQs_binary['DX']\n",
    "y_train_binary = df_train_binary['DX']\n",
    "\n",
    "X_train_noIQs_binary = normalize_features(X_train_noIQs_binary)\n",
    "X_train_binary = normalize_features(X_train_binary)\n",
    "\n",
    "clf_noIQs_binary = SVC().fit(X_train_noIQs_binary, y_train_noIQs_binary)\n",
    "clf_binary = SVC().fit(X_train_binary, y_train_binary)"
   ]
  },
  {
   "cell_type": "code",
   "execution_count": 17,
   "id": "bd0f4077",
   "metadata": {},
   "outputs": [
    {
     "name": "stderr",
     "output_type": "stream",
     "text": [
      "C:\\Users\\taylo\\AppData\\Local\\Temp\\ipykernel_20528\\3710078053.py:2: SettingWithCopyWarning: \n",
      "A value is trying to be set on a copy of a slice from a DataFrame\n",
      "\n",
      "See the caveats in the documentation: https://pandas.pydata.org/pandas-docs/stable/user_guide/indexing.html#returning-a-view-versus-a-copy\n",
      "  df_ohsu_binary['DX'].loc[df_ohsu_binary['DX'] > 0] = 1\n"
     ]
    }
   ],
   "source": [
    "df_ohsu_binary = df_ohsu.copy()\n",
    "df_ohsu_binary['DX'].loc[df_ohsu_binary['DX'] > 0] = 1"
   ]
  },
  {
   "cell_type": "code",
   "execution_count": 18,
   "id": "0b0c373c",
   "metadata": {},
   "outputs": [
    {
     "data": {
      "text/plain": [
       "0.7341772151898734"
      ]
     },
     "execution_count": 18,
     "metadata": {},
     "output_type": "execute_result"
    }
   ],
   "source": [
    "X_ohsu_binary = df_ohsu_binary.drop('DX', axis=1)\n",
    "y_ohsu_binary = df_ohsu_binary['DX']\n",
    "\n",
    "X_ohsu_binary = normalize_features(X_ohsu_binary)\n",
    "\n",
    "preds_ohsu_binary = clf_noIQs_binary.predict(X_ohsu_binary)\n",
    "\n",
    "acc_ohsu_binary = accuracy_score(preds_ohsu_binary, y_ohsu_binary)\n",
    "acc_ohsu_binary"
   ]
  },
  {
   "cell_type": "code",
   "execution_count": 19,
   "id": "485d2369",
   "metadata": {
    "scrolled": true
   },
   "outputs": [
    {
     "data": {
      "image/png": "[encoded data removed]",
      "text/plain": [
       "<Figure size 300x200 with 2 Axes>"
      ]
     },
     "metadata": {},
     "output_type": "display_data"
    }
   ],
   "source": [
    "cfm_ohsu_binary = confusion_matrix(y_ohsu_binary, preds_ohsu_binary, labels=clf_noIQs_binary.classes_)\n",
    "\n",
    "print_confusion_matrix(cfm_ohsu_binary, ' Binary OHSU')"
   ]
  },
  {
   "cell_type": "code",
   "execution_count": 20,
   "id": "29822f19",
   "metadata": {},
   "outputs": [
    {
     "name": "stderr",
     "output_type": "stream",
     "text": [
      "C:\\Users\\taylo\\AppData\\Local\\Temp\\ipykernel_20528\\3341513627.py:2: SettingWithCopyWarning: \n",
      "A value is trying to be set on a copy of a slice from a DataFrame\n",
      "\n",
      "See the caveats in the documentation: https://pandas.pydata.org/pandas-docs/stable/user_guide/indexing.html#returning-a-view-versus-a-copy\n",
      "  df_kki_binary['DX'].loc[df_kki_binary['DX'] > 0] = 1\n",
      "C:\\Users\\taylo\\AppData\\Local\\Temp\\ipykernel_20528\\3341513627.py:5: SettingWithCopyWarning: \n",
      "A value is trying to be set on a copy of a slice from a DataFrame\n",
      "\n",
      "See the caveats in the documentation: https://pandas.pydata.org/pandas-docs/stable/user_guide/indexing.html#returning-a-view-versus-a-copy\n",
      "  df_kki_noIQs_binary['DX'].loc[df_kki_noIQs_binary['DX'] > 0] = 1\n"
     ]
    }
   ],
   "source": [
    "df_kki_binary = df_kki.copy()\n",
    "df_kki_binary['DX'].loc[df_kki_binary['DX'] > 0] = 1\n",
    "\n",
    "df_kki_noIQs_binary = df_kki_noIQs.copy()\n",
    "df_kki_noIQs_binary['DX'].loc[df_kki_noIQs_binary['DX'] > 0] = 1"
   ]
  },
  {
   "cell_type": "code",
   "execution_count": 21,
   "id": "16cee0b2",
   "metadata": {},
   "outputs": [
    {
     "data": {
      "text/plain": [
       "0.6746987951807228"
      ]
     },
     "execution_count": 21,
     "metadata": {},
     "output_type": "execute_result"
    }
   ],
   "source": [
    "X_kki_binary = df_kki_binary.drop('DX', axis=1)\n",
    "y_kki_binary = df_kki_binary['DX']\n",
    "\n",
    "X_kki_binary = normalize_features(X_kki_binary)\n",
    "\n",
    "preds_kki_binary = clf_binary.predict(X_kki_binary)\n",
    "\n",
    "acc_kki_binary = accuracy_score(preds_kki_binary, y_kki_binary)\n",
    "acc_kki_binary"
   ]
  },
  {
   "cell_type": "code",
   "execution_count": 22,
   "id": "c5980c7d",
   "metadata": {
    "scrolled": true
   },
   "outputs": [
    {
     "data": {
      "image/png": "[encoded data removed]",
      "text/plain": [
       "<Figure size 300x200 with 2 Axes>"
      ]
     },
     "metadata": {},
     "output_type": "display_data"
    }
   ],
   "source": [
    "cfm_kki_binary = confusion_matrix(y_kki_binary, preds_kki_binary, labels=clf_binary.classes_)\n",
    "\n",
    "print_confusion_matrix(cfm_kki_binary, 'Binary KKI')"
   ]
  },
  {
   "cell_type": "code",
   "execution_count": 23,
   "id": "662007c4",
   "metadata": {},
   "outputs": [
    {
     "data": {
      "text/plain": [
       "0.4939759036144578"
      ]
     },
     "execution_count": 23,
     "metadata": {},
     "output_type": "execute_result"
    }
   ],
   "source": [
    "X_kki_noIQs_binary = df_kki_noIQs_binary.drop('DX', axis=1)\n",
    "\n",
    "X_kki_noIQs_binary = normalize_features(X_kki_noIQs_binary)\n",
    "\n",
    "preds_kki_noIQs_binary = clf_noIQs_binary.predict(X_kki_noIQs_binary)\n",
    "\n",
    "acc_kki_noIQs_binary = accuracy_score(preds_kki_noIQs_binary, y_kki_binary)\n",
    "acc_kki_noIQs_binary"
   ]
  },
  {
   "cell_type": "code",
   "execution_count": 24,
   "id": "4f82db17",
   "metadata": {
    "scrolled": true
   },
   "outputs": [
    {
     "data": {
      "image/png": "[encoded data removed]",
      "text/plain": [
       "<Figure size 300x200 with 2 Axes>"
      ]
     },
     "metadata": {},
     "output_type": "display_data"
    }
   ],
   "source": [
    "cfm_kki_noIQs_binary = confusion_matrix(y_kki_binary, preds_kki_noIQs_binary, labels=clf_noIQs_binary.classes_)\n",
    "\n",
    "print_confusion_matrix(cfm_kki_noIQs_binary, 'Binary OHSU (no IQs)')"
   ]
  }
 ],
 "metadata": {
  "kernelspec": {
   "display_name": "Python 3 (ipykernel)",
   "language": "python",
   "name": "python3"
  },
  "language_info": {
   "codemirror_mode": {
    "name": "ipython",
    "version": 3
   },
   "file_extension": ".py",
   "mimetype": "text/x-python",
   "name": "python",
   "nbconvert_exporter": "python",
   "pygments_lexer": "ipython3",
   "version": "3.10.0"
  }
 },
 "nbformat": 4,
 "nbformat_minor": 5
}
