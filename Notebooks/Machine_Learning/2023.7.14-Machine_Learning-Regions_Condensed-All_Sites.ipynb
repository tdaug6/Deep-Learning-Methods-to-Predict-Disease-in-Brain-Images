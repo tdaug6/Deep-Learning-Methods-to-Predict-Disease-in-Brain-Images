{
 "cells": [
  {
   "cell_type": "markdown",
   "id": "bfe86858",
   "metadata": {},
   "source": [
    "# Machine Learning with Condensed Region Data\n",
    "\n",
    "This notebook investigates the performance of machine learning models to recognize ADHD in subjects. \n",
    "The original dataset for this test consists of average signal intensities for regions of the brain as determined by the AAL atlas from the 7 training sites in the ADHD-200 Competition set. \n",
    "The dataset that will be used in this notebook has been adapted from the original to include only the regions that have the highest correlation to the target (diagnosis).\n",
    "\n",
    "This notebook runs four tests to evaluate the accuracy of multiple classification models.\n",
    "1. Multi-class diagnosis (uses all diagnosis types)\n",
    "1. Multi-class diagnosis (uses all diagnosis types) with normalized features\n",
    "2. Binary classification (if subject has ADHD or not)\n",
    "2. Binary classification (if subject has ADHD or not) with normalized features"
   ]
  },
  {
   "cell_type": "markdown",
   "id": "9d4d8c21",
   "metadata": {},
   "source": [
    "## Imports\n",
    "\n",
    "These are the imports that are required for this notebook to run properly\n",
    "\n",
    "- `os` to access the file\n",
    "\n",
    "- `pandas` to work with dataframes\n",
    "\n",
    "- `numpy` for linear algebra\n",
    "\n",
    "\n",
    "- `train_test_split()` for splitting data into a training and testing set\n",
    "\n",
    "- `LogisticRegression` for a logistic regression machine learning model\n",
    "\n",
    "- `KNeighborsClassifier` for a KNN machine learning model\n",
    "\n",
    "- `SVC` for a SVM machine learning model\n",
    "\n",
    "- `LinearDiscriminantAnalysis` for a LDA machine learning model\n",
    "\n",
    "\n",
    "- `accuracy_score()` to evaluate the accuracy of the model\n",
    "\n",
    "- `StratifiedKFold, cross_valscore()` for cross validation"
   ]
  },
  {
   "cell_type": "code",
   "execution_count": 1,
   "id": "26ba9d4d",
   "metadata": {},
   "outputs": [],
   "source": [
    "import os\n",
    "import pandas as pd\n",
    "import numpy as np\n",
    "import matplotlib.pyplot as plt\n",
    "\n",
    "from sklearn.model_selection import train_test_split\n",
    "from sklearn.linear_model import LogisticRegression\n",
    "from sklearn.neighbors import KNeighborsClassifier\n",
    "from sklearn.svm import SVC\n",
    "from sklearn.discriminant_analysis import LinearDiscriminantAnalysis\n",
    "from sklearn.ensemble import VotingClassifier\n",
    "\n",
    "from sklearn.metrics import accuracy_score, confusion_matrix, ConfusionMatrixDisplay\n",
    "from sklearn.model_selection import StratifiedKFold, cross_val_score"
   ]
  },
  {
   "cell_type": "code",
   "execution_count": 2,
   "id": "6d263165",
   "metadata": {},
   "outputs": [],
   "source": [
    "models = []\n",
    "\n",
    "logr = LogisticRegression()\n",
    "knn = KNeighborsClassifier()\n",
    "svm = SVC()\n",
    "lda = LinearDiscriminantAnalysis()\n",
    "ens = VotingClassifier([('logr',logr), ('knn',knn), ('svm',svm), ('lda',lda)])\n",
    "ensl = VotingClassifier([('logr',logr), ('knn',knn), ('svm',svm)])\n",
    "\n",
    "models.append(('LR', logr))\n",
    "models.append(('KNN', knn))\n",
    "models.append(('SVM', svm))\n",
    "models.append(('LDA', lda))\n",
    "models.append(('Ensemble', ens))\n",
    "models.append(('Ensemble Less', ensl))"
   ]
  },
  {
   "cell_type": "markdown",
   "id": "9a86a398",
   "metadata": {},
   "source": [
    "## Functions\n",
    "\n",
    "There are several functions in this notebook to improve the code readability and reduce the length of the code"
   ]
  },
  {
   "cell_type": "markdown",
   "id": "150fc6b7",
   "metadata": {},
   "source": [
    "### get_base_filepath()\n",
    "\n",
    "Access the filepath for th ebase folder of the project. \n",
    "From here, any other asset of the project can be located."
   ]
  },
  {
   "cell_type": "code",
   "execution_count": 3,
   "id": "18789d22",
   "metadata": {},
   "outputs": [],
   "source": [
    "def get_base_filepath():\n",
    "    '''\n",
    "    Access the filepath for the base folder of the project\n",
    "    \n",
    "    Input: None\n",
    "    \n",
    "    Output: The filepath to the root of the folder\n",
    "    '''\n",
    "    # Get current directory\n",
    "    os.path.abspath(os.curdir)\n",
    "\n",
    "    # Go up a directory level\n",
    "    os.chdir('..')\n",
    "    \n",
    "    # Go up a directory level\n",
    "    os.chdir('..')\n",
    "\n",
    "    # Set baseline filepath to the project folder directory\n",
    "    base_folder_filepath = os.path.abspath(os.curdir)\n",
    "    return base_folder_filepath"
   ]
  },
  {
   "cell_type": "markdown",
   "id": "dca09b4b",
   "metadata": {},
   "source": [
    "### normalize()\n",
    "\n",
    "Normalizes a Series\n",
    "\n",
    "**Input:** A feature of type Series\n",
    "\n",
    "**Output:** The normalized feature of type Series"
   ]
  },
  {
   "cell_type": "code",
   "execution_count": 4,
   "id": "d5e0d1c0",
   "metadata": {},
   "outputs": [],
   "source": [
    "def normalize(feature):\n",
    "    '''\n",
    "    This function normalizes a Series\n",
    "    \n",
    "    Input: A feature of type Series\n",
    "    \n",
    "    Output: The normalized feature of type Series\n",
    "    '''\n",
    "    return (feature - feature.mean())/feature.std()"
   ]
  },
  {
   "cell_type": "markdown",
   "id": "df2ac0bd",
   "metadata": {},
   "source": [
    "### normalize_features()\n",
    "\n",
    "Normalizes all features in a given dataframe. This will normalize ALL features, so ensure that the inputted dataframe consists only of numeric values.\n",
    "\n",
    "**Input:** A dataframe to normalize\n",
    "\n",
    "**Output:** A normalized dataframe"
   ]
  },
  {
   "cell_type": "code",
   "execution_count": 5,
   "id": "0e02eca7",
   "metadata": {},
   "outputs": [],
   "source": [
    "def normalize_features(df):\n",
    "    '''\n",
    "    This function normalizes all features in a dataframe\n",
    "    \n",
    "    Input: A pandas dataframe\n",
    "    \n",
    "    Output: The normalized dataframe\n",
    "    '''\n",
    "    for column in df.columns:\n",
    "        df[column] = normalize(df[column])\n",
    "    return df"
   ]
  },
  {
   "cell_type": "markdown",
   "id": "71e2d03b",
   "metadata": {},
   "source": [
    "### make_predictions()\n",
    "\n",
    "Fit a model using the training data, \n",
    "make predictions on a testing set, \n",
    "and get the accuracy of the model.\n",
    "\n",
    "Used in evaluate_models()"
   ]
  },
  {
   "cell_type": "code",
   "execution_count": 6,
   "id": "04b7aa60",
   "metadata": {},
   "outputs": [],
   "source": [
    "def make_predictions(model, X_trn, X_tst, y_trn, y_tst):\n",
    "    '''\n",
    "    Get the accuracy of a model\n",
    "    \n",
    "    Input:\n",
    "        - A model to use to make predictions\n",
    "        - Set of training features\n",
    "        - Set of testing features\n",
    "        - Set of training targets\n",
    "        - Set of testing targets\n",
    "        \n",
    "    Output: Accuracy of the model\n",
    "    '''\n",
    "    \n",
    "    # Train the model on the training set\n",
    "    model_fit = model.fit(X_trn, y_trn)\n",
    "    \n",
    "    # Make predictions on the testing features\n",
    "    y_pred = model_fit.predict(X_tst)\n",
    "    \n",
    "    # Compare the predictions to the true values\n",
    "    accuracy = accuracy_score(y_pred, y_tst)\n",
    "    \n",
    "    # Return the accuracy\n",
    "    return accuracy"
   ]
  },
  {
   "cell_type": "markdown",
   "id": "d8f640b6",
   "metadata": {},
   "source": [
    "### evaluate_models()\n",
    "\n",
    "Evaluate the performance of models on a set of features and targets.\n",
    "\n",
    "Uses make_predictions()\n",
    "\n",
    "Used in get_accuracies()"
   ]
  },
  {
   "cell_type": "code",
   "execution_count": 7,
   "id": "8fea0b7f",
   "metadata": {},
   "outputs": [],
   "source": [
    "def evaluate_models(X, y):\n",
    "    '''\n",
    "    Evaluate the performance of models on a set of features and targets.\n",
    "    \n",
    "    Input:\n",
    "        - Set of features\n",
    "        - Set of targets\n",
    "        \n",
    "    Output: Accuracy of three models (Logistic regression, KNN, SVM)\n",
    "    '''\n",
    "    # Separate the data into training and testing sets\n",
    "    X_trn, X_tst, y_trn, y_tst = train_test_split(X, y)\n",
    "    \n",
    "    logr = LogisticRegression()\n",
    "    knn = KNeighborsClassifier()\n",
    "    svm = SVC()\n",
    "    lda = LinearDiscriminantAnalysis()\n",
    "    ens = VotingClassifier([('logr',logr), ('knn',knn), ('svm',svm), ('lda',lda)])\n",
    "    ensl = VotingClassifier([('logr',logr), ('knn',knn), ('svm',svm)])\n",
    "    \n",
    "    # Evaluate the accuracies using each model\n",
    "    lr_acc = make_predictions(logr, X_trn, X_tst, y_trn, y_tst)\n",
    "    knn_acc = make_predictions(knn, X_trn, X_tst, y_trn, y_tst)\n",
    "    svm_acc = make_predictions(svm, X_trn, X_tst, y_trn, y_tst)\n",
    "    lda_acc = make_predictions(lda, X_trn, X_tst, y_trn, y_tst)\n",
    "    ens_acc = make_predictions(ens, X_trn, X_tst, y_trn, y_tst)\n",
    "    ensl_acc = make_predictions(ensl, X_trn, X_tst, y_trn, y_tst)\n",
    "    \n",
    "    # Return the accuracy in a list format\n",
    "    return [lr_acc, knn_acc, svm_acc, lda_acc, ens_acc, ensl_acc]"
   ]
  },
  {
   "cell_type": "markdown",
   "id": "a8cdc526",
   "metadata": {},
   "source": [
    "### get_accuracies()\n",
    "\n",
    "Get 100 accuracies for three models (Logistic regression, KNN, SVM)."
   ]
  },
  {
   "cell_type": "code",
   "execution_count": 8,
   "id": "26cc43f3",
   "metadata": {},
   "outputs": [],
   "source": [
    "def get_accuracies(X, y):\n",
    "    '''\n",
    "    Get 100 accuracies for three models (Logistic regression, KNN, SVM).\n",
    "    \n",
    "    Input:\n",
    "        - Set of features\n",
    "        - Set of targets\n",
    "        \n",
    "    Output: List of 100 accuracies for the three models\n",
    "    '''\n",
    "    # Create an empty list to store the accuracies for each model\n",
    "    lr_acc = []\n",
    "    knn_acc = []\n",
    "    svm_acc = []\n",
    "    lda_acc = []\n",
    "    ens_acc = []\n",
    "    ensl_acc = []\n",
    "    \n",
    "    # Run 100 iterations of evaluating the model\n",
    "    for i in range(100):\n",
    "        # Get the accuracy for this iteration\n",
    "        accuracies = evaluate_models(X, y)\n",
    "        \n",
    "        # Add it to the corresponding model holder\n",
    "        lr_acc.append(accuracies[0])\n",
    "        knn_acc.append(accuracies[1])\n",
    "        svm_acc.append(accuracies[2])\n",
    "        lda_acc.append(accuracies[3])\n",
    "        ens_acc.append(accuracies[4])\n",
    "        ensl_acc.append(accuracies[5])\n",
    "        \n",
    "    # Return a list of all accuracies\n",
    "    return [lr_acc, knn_acc, svm_acc, lda_acc, ens_acc, ensl_acc]"
   ]
  },
  {
   "cell_type": "markdown",
   "id": "93a2ecdd",
   "metadata": {},
   "source": [
    "### perform_cross_validation()\n",
    "\n",
    "Use a stratified K-fold for cross validation for the three classification models "
   ]
  },
  {
   "cell_type": "code",
   "execution_count": 9,
   "id": "0a789d38",
   "metadata": {},
   "outputs": [],
   "source": [
    "def perform_cross_validation(X_train, y_train):\n",
    "    '''\n",
    "    Input: \n",
    "        - A dataframe containing the features use to build the model\n",
    "        - A Series of the true values associated with the feature list\n",
    "    \n",
    "    Output: Printed result for the mean and standard deviation of each model\n",
    "    '''\n",
    "    # Create an empty dictionary to store the results\n",
    "    results = dict()\n",
    "\n",
    "    # Loop through the models\n",
    "    for name, model in models:\n",
    "        # Create a Stratified K-fold for cross validation\n",
    "        kfold = StratifiedKFold(n_splits=10)\n",
    "        \n",
    "        # Apply cross validation using the current model\n",
    "        cv_results = cross_val_score(model, X_train, y_train, cv=kfold, scoring='accuracy')\n",
    "        \n",
    "        # Add the mean and standard deviation to the dictionary\n",
    "        results[name] = (cv_results.mean(), cv_results.std())\n",
    "\n",
    "    # Print the results\n",
    "    print('Model\\t\\tCV Mean\\t\\tCV std')\n",
    "    print(results)"
   ]
  },
  {
   "cell_type": "code",
   "execution_count": 10,
   "id": "63c7a420",
   "metadata": {},
   "outputs": [],
   "source": [
    "def get_statistics(accuracy_list):\n",
    "    means = []\n",
    "    stds = []\n",
    "    maxes = []\n",
    "    mins = []\n",
    "    \n",
    "    for accuracy in accuracy_list:\n",
    "        accuracy_np = np.array(accuracy)\n",
    "        means.append(accuracy_np.mean())\n",
    "        stds.append(accuracy_np.std())\n",
    "        maxes.append(accuracy_np.max())\n",
    "        mins.append(accuracy_np.min())\n",
    "        \n",
    "    stats = [means, stds, maxes, mins]\n",
    "    return stats"
   ]
  },
  {
   "cell_type": "code",
   "execution_count": 11,
   "id": "b53f5f18",
   "metadata": {},
   "outputs": [],
   "source": [
    "def print_predictions(X_, y_):\n",
    "    X_train, X_test, y_train, y_test = train_test_split(X_, y_, random_state=1)\n",
    "\n",
    "    logr_acc = make_predictions(logr, X_train, X_test, y_train, y_test)\n",
    "    knn_acc = make_predictions(knn, X_train, X_test, y_train, y_test)\n",
    "    svm_acc = make_predictions(svm, X_train, X_test, y_train, y_test)\n",
    "    lda_acc = make_predictions(lda, X_train, X_test, y_train, y_test)\n",
    "\n",
    "    ens_acc = make_predictions(ens, X_train, X_test, y_train, y_test)\n",
    "    ensl_acc = make_predictions(ensl, X_train, X_test, y_train, y_test)\n",
    "\n",
    "    print('Logistic Regression:', logr_acc)\n",
    "    print('KNN:', knn_acc)\n",
    "    print('SVM:', svm_acc)\n",
    "    print('LDA:', lda_acc)\n",
    "    print('Ensemble:', ens_acc)\n",
    "    print('Ensemble2:', ensl_acc)"
   ]
  },
  {
   "cell_type": "code",
   "execution_count": 12,
   "id": "44a170b5",
   "metadata": {},
   "outputs": [],
   "source": [
    "def print_cmf(X_, y_):\n",
    "    X_trn, X_tst, y_trn, y_tst = train_test_split(X_, y_, random_state=1)\n",
    "    \n",
    "    classifiers = {\n",
    "        'Logisitic Regression': LogisticRegression(),\n",
    "        'KNN': KNeighborsClassifier(),\n",
    "        'SVM': SVC(),\n",
    "        'LDA': LinearDiscriminantAnalysis(),\n",
    "        'Ensemble': VotingClassifier([('logr',logr), ('knn',knn), ('svm',svm), ('lda',lda)]),\n",
    "        'Ensemble (less)':VotingClassifier([('logr',logr), ('knn',knn), ('svm',svm)])\n",
    "    }\n",
    "\n",
    "    f, axes = plt.subplots(1, 6, figsize=(20, 5), sharey='row')\n",
    "\n",
    "    for i, (key, classifier) in enumerate(classifiers.items()):\n",
    "        y_pred = classifier.fit(X_trn, y_trn).predict(X_tst)\n",
    "        cf_matrix = confusion_matrix(y_tst, y_pred)\n",
    "        disp = ConfusionMatrixDisplay(cf_matrix)\n",
    "        disp.plot(ax=axes[i], xticks_rotation=45)\n",
    "        disp.ax_.set_title(key)\n",
    "        disp.im_.colorbar.remove()\n",
    "        disp.ax_.set_xlabel('')\n",
    "        if i!=0:\n",
    "            disp.ax_.set_ylabel('')\n",
    "\n",
    "    f.text(0.4, 0.1, 'Predicted label', ha='left')\n",
    "    plt.subplots_adjust(wspace=0.40, hspace=0.1)\n",
    "\n",
    "    f.colorbar(disp.im_, ax=axes)\n",
    "    plt.show()"
   ]
  },
  {
   "cell_type": "markdown",
   "id": "2d12b3b3",
   "metadata": {},
   "source": [
    "## Import File\n",
    "\n",
    "Locate the file using its filepath from the base folder and load the file as a dataframe."
   ]
  },
  {
   "cell_type": "code",
   "execution_count": 13,
   "id": "62601446",
   "metadata": {},
   "outputs": [],
   "source": [
    "# The folder for the project\n",
    "base_folder_filepath = get_base_filepath()\n",
    "\n",
    "# Preprocessed data folder\n",
    "filepath = base_folder_filepath + '\\\\Data\\\\Preprocessed_data\\\\Condensed\\\\2023.7.14-Region_Condensed_Dataframe.csv'\n",
    "filepath_train = base_folder_filepath + '\\\\Data\\\\Preprocessed_data\\\\Condensed\\\\2023.7.20-Region_Condensed_Train_Dataframe.csv'\n",
    "\n",
    "# Dataframe from filepath\n",
    "df = pd.read_csv(filepath, index_col=0)\n",
    "df_train = pd.read_csv(filepath_train, index_col=0)"
   ]
  },
  {
   "cell_type": "markdown",
   "id": "8a2269ad",
   "metadata": {},
   "source": [
    "--------------------------------------------------------------------------------------------------------------------------------"
   ]
  },
  {
   "cell_type": "markdown",
   "id": "d0944e96",
   "metadata": {},
   "source": [
    "# Multi-Class Classificaiton\n",
    "\n",
    "This section investigates how models perform when predicting the type of ADHD the subject has or if they are a control.\n",
    "\n",
    "This is accomplished by using the phenotypic data for the sites. The target will be the diagnosis which includes three types with each number corresponding to a type diagnosis for ADHD.\n",
    "\n",
    "    0 = TDC (Typically developing children)\n",
    "    1 = ADHD-Combined\n",
    "    2 = ADHD-Hyperactive/Impulsive\n",
    "    3 = ADHD-Inattentive\n",
    "    \n",
    "There will be three methods to make these predictions: \n",
    "\n",
    "- Current dataframe\n",
    "\n",
    "- Normalized dataframe"
   ]
  },
  {
   "cell_type": "markdown",
   "id": "bd184e12",
   "metadata": {},
   "source": [
    "## Current Dataframe\n",
    "\n",
    "This model will use the current dataframe without any modifications to the features. \n",
    "This will act as a baseline to compare the models with changes to."
   ]
  },
  {
   "cell_type": "markdown",
   "id": "3d7b9a7a",
   "metadata": {},
   "source": [
    "### Separate data\n",
    "\n",
    "Split the data into features and target."
   ]
  },
  {
   "cell_type": "code",
   "execution_count": 14,
   "id": "ddd1a76e",
   "metadata": {},
   "outputs": [],
   "source": [
    "X = df.drop('DX', axis=1)\n",
    "y = df['DX']\n",
    "\n",
    "X_train = df_train.drop('DX', axis=1)\n",
    "y_train = df_train['DX']"
   ]
  },
  {
   "cell_type": "markdown",
   "id": "efa29870",
   "metadata": {},
   "source": [
    "### Evaluate Accuracy\n",
    "\n",
    "Determine the accuracy of using this dataframe. "
   ]
  },
  {
   "cell_type": "markdown",
   "id": "600ce758",
   "metadata": {},
   "source": [
    "#### 100-iteration Train/Test Split\n",
    "\n",
    "Do 100-iterations of train/test splits using this dataframe. \n",
    "Generate 100 accuracies for the four models."
   ]
  },
  {
   "cell_type": "code",
   "execution_count": 15,
   "id": "e1d9052a",
   "metadata": {},
   "outputs": [],
   "source": [
    "accs = get_accuracies(X, y)\n",
    "accuracies = np.asarray(accs)\n",
    "\n",
    "accs_train = get_accuracies(X_train, y_train)\n",
    "accuracies_train = np.asarray(accs_train)"
   ]
  },
  {
   "cell_type": "markdown",
   "id": "e4990def",
   "metadata": {},
   "source": [
    "Extract descriptive statistics from the accuracies."
   ]
  },
  {
   "cell_type": "code",
   "execution_count": 16,
   "id": "9bc2c4bc",
   "metadata": {},
   "outputs": [
    {
     "data": {
      "text/html": [
       "<div>\n",
       "<style scoped>\n",
       "    .dataframe tbody tr th:only-of-type {\n",
       "        vertical-align: middle;\n",
       "    }\n",
       "\n",
       "    .dataframe tbody tr th {\n",
       "        vertical-align: top;\n",
       "    }\n",
       "\n",
       "    .dataframe thead th {\n",
       "        text-align: right;\n",
       "    }\n",
       "</style>\n",
       "<table border=\"1\" class=\"dataframe\">\n",
       "  <thead>\n",
       "    <tr style=\"text-align: right;\">\n",
       "      <th></th>\n",
       "      <th>LR_multiclass</th>\n",
       "      <th>KNN_multiclass</th>\n",
       "      <th>SVM_multiclass</th>\n",
       "      <th>LDA_multiclass</th>\n",
       "      <th>Ensemble_multiclass</th>\n",
       "      <th>Ensemble2_multiclass</th>\n",
       "    </tr>\n",
       "  </thead>\n",
       "  <tbody>\n",
       "    <tr>\n",
       "      <th>Mean</th>\n",
       "      <td>0.633822</td>\n",
       "      <td>0.588089</td>\n",
       "      <td>0.633567</td>\n",
       "      <td>0.612357</td>\n",
       "      <td>0.633822</td>\n",
       "      <td>0.633631</td>\n",
       "    </tr>\n",
       "    <tr>\n",
       "      <th>STD</th>\n",
       "      <td>0.033444</td>\n",
       "      <td>0.031784</td>\n",
       "      <td>0.033310</td>\n",
       "      <td>0.032702</td>\n",
       "      <td>0.033444</td>\n",
       "      <td>0.033347</td>\n",
       "    </tr>\n",
       "    <tr>\n",
       "      <th>Max</th>\n",
       "      <td>0.707006</td>\n",
       "      <td>0.681529</td>\n",
       "      <td>0.707006</td>\n",
       "      <td>0.694268</td>\n",
       "      <td>0.707006</td>\n",
       "      <td>0.707006</td>\n",
       "    </tr>\n",
       "    <tr>\n",
       "      <th>Min</th>\n",
       "      <td>0.541401</td>\n",
       "      <td>0.515924</td>\n",
       "      <td>0.541401</td>\n",
       "      <td>0.515924</td>\n",
       "      <td>0.541401</td>\n",
       "      <td>0.541401</td>\n",
       "    </tr>\n",
       "  </tbody>\n",
       "</table>\n",
       "</div>"
      ],
      "text/plain": [
       "      LR_multiclass  KNN_multiclass  SVM_multiclass  LDA_multiclass   \n",
       "Mean       0.633822        0.588089        0.633567        0.612357  \\\n",
       "STD        0.033444        0.031784        0.033310        0.032702   \n",
       "Max        0.707006        0.681529        0.707006        0.694268   \n",
       "Min        0.541401        0.515924        0.541401        0.515924   \n",
       "\n",
       "      Ensemble_multiclass  Ensemble2_multiclass  \n",
       "Mean             0.633822              0.633631  \n",
       "STD              0.033444              0.033347  \n",
       "Max              0.707006              0.707006  \n",
       "Min              0.541401              0.541401  "
      ]
     },
     "execution_count": 16,
     "metadata": {},
     "output_type": "execute_result"
    }
   ],
   "source": [
    "stats = get_statistics(accs)\n",
    "results = pd.DataFrame(stats, \n",
    "                       index=['Mean', 'STD', 'Max', 'Min'], \n",
    "                       columns=['LR_multiclass', 'KNN_multiclass', \n",
    "                                'SVM_multiclass', 'LDA_multiclass', \n",
    "                                'Ensemble_multiclass', 'Ensemble2_multiclass'])\n",
    "\n",
    "results"
   ]
  },
  {
   "cell_type": "code",
   "execution_count": 17,
   "id": "9ec871b2",
   "metadata": {},
   "outputs": [
    {
     "data": {
      "text/html": [
       "<div>\n",
       "<style scoped>\n",
       "    .dataframe tbody tr th:only-of-type {\n",
       "        vertical-align: middle;\n",
       "    }\n",
       "\n",
       "    .dataframe tbody tr th {\n",
       "        vertical-align: top;\n",
       "    }\n",
       "\n",
       "    .dataframe thead th {\n",
       "        text-align: right;\n",
       "    }\n",
       "</style>\n",
       "<table border=\"1\" class=\"dataframe\">\n",
       "  <thead>\n",
       "    <tr style=\"text-align: right;\">\n",
       "      <th></th>\n",
       "      <th>LR_multiclass_train</th>\n",
       "      <th>KNN_multiclass_train</th>\n",
       "      <th>SVM_multiclass_train</th>\n",
       "      <th>LDA_multiclass_train</th>\n",
       "      <th>Ensemble_multiclass_train</th>\n",
       "      <th>Ensemble2_multiclass_train</th>\n",
       "    </tr>\n",
       "  </thead>\n",
       "  <tbody>\n",
       "    <tr>\n",
       "      <th>Mean</th>\n",
       "      <td>0.628599</td>\n",
       "      <td>0.582357</td>\n",
       "      <td>0.628535</td>\n",
       "      <td>0.597834</td>\n",
       "      <td>0.628599</td>\n",
       "      <td>0.628535</td>\n",
       "    </tr>\n",
       "    <tr>\n",
       "      <th>STD</th>\n",
       "      <td>0.034918</td>\n",
       "      <td>0.036714</td>\n",
       "      <td>0.034850</td>\n",
       "      <td>0.036188</td>\n",
       "      <td>0.034918</td>\n",
       "      <td>0.034850</td>\n",
       "    </tr>\n",
       "    <tr>\n",
       "      <th>Max</th>\n",
       "      <td>0.713376</td>\n",
       "      <td>0.656051</td>\n",
       "      <td>0.713376</td>\n",
       "      <td>0.675159</td>\n",
       "      <td>0.713376</td>\n",
       "      <td>0.713376</td>\n",
       "    </tr>\n",
       "    <tr>\n",
       "      <th>Min</th>\n",
       "      <td>0.547771</td>\n",
       "      <td>0.509554</td>\n",
       "      <td>0.547771</td>\n",
       "      <td>0.522293</td>\n",
       "      <td>0.547771</td>\n",
       "      <td>0.547771</td>\n",
       "    </tr>\n",
       "  </tbody>\n",
       "</table>\n",
       "</div>"
      ],
      "text/plain": [
       "      LR_multiclass_train  KNN_multiclass_train  SVM_multiclass_train   \n",
       "Mean             0.628599              0.582357              0.628535  \\\n",
       "STD              0.034918              0.036714              0.034850   \n",
       "Max              0.713376              0.656051              0.713376   \n",
       "Min              0.547771              0.509554              0.547771   \n",
       "\n",
       "      LDA_multiclass_train  Ensemble_multiclass_train   \n",
       "Mean              0.597834                   0.628599  \\\n",
       "STD               0.036188                   0.034918   \n",
       "Max               0.675159                   0.713376   \n",
       "Min               0.522293                   0.547771   \n",
       "\n",
       "      Ensemble2_multiclass_train  \n",
       "Mean                    0.628535  \n",
       "STD                     0.034850  \n",
       "Max                     0.713376  \n",
       "Min                     0.547771  "
      ]
     },
     "execution_count": 17,
     "metadata": {},
     "output_type": "execute_result"
    }
   ],
   "source": [
    "stats_train = get_statistics(accs_train)\n",
    "results_train = pd.DataFrame(stats_train, \n",
    "                       index=['Mean', 'STD', 'Max', 'Min'], \n",
    "                       columns=['LR_multiclass_train', 'KNN_multiclass_train', \n",
    "                                'SVM_multiclass_train', 'LDA_multiclass_train', \n",
    "                                'Ensemble_multiclass_train', 'Ensemble2_multiclass_train'])\n",
    "\n",
    "results_train"
   ]
  },
  {
   "cell_type": "markdown",
   "id": "9968f706",
   "metadata": {},
   "source": [
    "#### Cross-validation\n",
    "\n",
    "Perform cross validation on this dataset with the four models from before. This is done to compare the results to the train-test split method."
   ]
  },
  {
   "cell_type": "code",
   "execution_count": 18,
   "id": "c48cd446",
   "metadata": {
    "scrolled": true
   },
   "outputs": [
    {
     "name": "stderr",
     "output_type": "stream",
     "text": [
      "C:\\Users\\taylo\\AppData\\Local\\Programs\\Python\\Python310\\lib\\site-packages\\sklearn\\model_selection\\_split.py:700: UserWarning: The least populated class in y has only 4 members, which is less than n_splits=10.\n",
      "  warnings.warn(\n",
      "C:\\Users\\taylo\\AppData\\Local\\Programs\\Python\\Python310\\lib\\site-packages\\sklearn\\model_selection\\_split.py:700: UserWarning: The least populated class in y has only 4 members, which is less than n_splits=10.\n",
      "  warnings.warn(\n",
      "C:\\Users\\taylo\\AppData\\Local\\Programs\\Python\\Python310\\lib\\site-packages\\sklearn\\model_selection\\_split.py:700: UserWarning: The least populated class in y has only 4 members, which is less than n_splits=10.\n",
      "  warnings.warn(\n",
      "C:\\Users\\taylo\\AppData\\Local\\Programs\\Python\\Python310\\lib\\site-packages\\sklearn\\model_selection\\_split.py:700: UserWarning: The least populated class in y has only 4 members, which is less than n_splits=10.\n",
      "  warnings.warn(\n",
      "C:\\Users\\taylo\\AppData\\Local\\Programs\\Python\\Python310\\lib\\site-packages\\sklearn\\model_selection\\_split.py:700: UserWarning: The least populated class in y has only 4 members, which is less than n_splits=10.\n",
      "  warnings.warn(\n",
      "C:\\Users\\taylo\\AppData\\Local\\Programs\\Python\\Python310\\lib\\site-packages\\sklearn\\model_selection\\_split.py:700: UserWarning: The least populated class in y has only 4 members, which is less than n_splits=10.\n",
      "  warnings.warn(\n"
     ]
    },
    {
     "name": "stdout",
     "output_type": "stream",
     "text": [
      "Model\t\tCV Mean\t\tCV std\n",
      "{'LR': (0.6290066564260113, 0.008930862894101646), 'KNN': (0.5608038914490528, 0.07719861970677068), 'SVM': (0.6274193548387097, 0.009146666829568337), 'LDA': (0.6114439324116744, 0.03051346941825479), 'Ensemble': (0.6290066564260113, 0.008930862894101646), 'Ensemble Less': (0.6274193548387097, 0.009146666829568337)}\n"
     ]
    }
   ],
   "source": [
    "perform_cross_validation(X, y)"
   ]
  },
  {
   "cell_type": "code",
   "execution_count": 19,
   "id": "c82394ea",
   "metadata": {
    "scrolled": true
   },
   "outputs": [
    {
     "name": "stderr",
     "output_type": "stream",
     "text": [
      "C:\\Users\\taylo\\AppData\\Local\\Programs\\Python\\Python310\\lib\\site-packages\\sklearn\\model_selection\\_split.py:700: UserWarning: The least populated class in y has only 4 members, which is less than n_splits=10.\n",
      "  warnings.warn(\n",
      "C:\\Users\\taylo\\AppData\\Local\\Programs\\Python\\Python310\\lib\\site-packages\\sklearn\\model_selection\\_split.py:700: UserWarning: The least populated class in y has only 4 members, which is less than n_splits=10.\n",
      "  warnings.warn(\n",
      "C:\\Users\\taylo\\AppData\\Local\\Programs\\Python\\Python310\\lib\\site-packages\\sklearn\\model_selection\\_split.py:700: UserWarning: The least populated class in y has only 4 members, which is less than n_splits=10.\n",
      "  warnings.warn(\n",
      "C:\\Users\\taylo\\AppData\\Local\\Programs\\Python\\Python310\\lib\\site-packages\\sklearn\\model_selection\\_split.py:700: UserWarning: The least populated class in y has only 4 members, which is less than n_splits=10.\n",
      "  warnings.warn(\n",
      "C:\\Users\\taylo\\AppData\\Local\\Programs\\Python\\Python310\\lib\\site-packages\\sklearn\\model_selection\\_split.py:700: UserWarning: The least populated class in y has only 4 members, which is less than n_splits=10.\n",
      "  warnings.warn(\n",
      "C:\\Users\\taylo\\AppData\\Local\\Programs\\Python\\Python310\\lib\\site-packages\\sklearn\\model_selection\\_split.py:700: UserWarning: The least populated class in y has only 4 members, which is less than n_splits=10.\n",
      "  warnings.warn(\n"
     ]
    },
    {
     "name": "stdout",
     "output_type": "stream",
     "text": [
      "Model\t\tCV Mean\t\tCV std\n",
      "{'LR': (0.6290066564260113, 0.008930862894101646), 'KNN': (0.5703277009728623, 0.06929432856013872), 'SVM': (0.6290066564260113, 0.008930862894101646), 'LDA': (0.6067076292882745, 0.04356294644150734), 'Ensemble': (0.6290066564260113, 0.008930862894101646), 'Ensemble Less': (0.6290066564260113, 0.008930862894101646)}\n"
     ]
    }
   ],
   "source": [
    "perform_cross_validation(X_train, y_train)"
   ]
  },
  {
   "cell_type": "markdown",
   "id": "bda081da",
   "metadata": {},
   "source": [
    "### Method Conclusion\n",
    "\n",
    "Logistic regression and SVM were the most accurate method in the train/test split, and logistic regression was the most accurate method for cross validation. \n",
    "The train/test split and cross-validation had similar results.\n",
    "\n",
    "Logistic regression and SVM are close to the average from using all features, but not higher."
   ]
  },
  {
   "cell_type": "markdown",
   "id": "d1149be0",
   "metadata": {},
   "source": [
    "## Normalized Dataframe\n",
    "\n",
    "This model will use a normalized version of the dataframe. \n",
    "This method will adjust the features to be normally distributed.\n",
    "\n",
    "This should reduce some of the bias that results from the different scales in the dataframe's features"
   ]
  },
  {
   "cell_type": "markdown",
   "id": "328cd6e3",
   "metadata": {},
   "source": [
    "### Separate data\n",
    "\n",
    "Make a copy of the original dataframe to ensure that it is preserved. \n",
    "Split the data into features and target."
   ]
  },
  {
   "cell_type": "code",
   "execution_count": 20,
   "id": "422435b6",
   "metadata": {},
   "outputs": [],
   "source": [
    "df_norm = df.copy()\n",
    "df_train_norm = df_train.copy()\n",
    "\n",
    "X_norm = df_norm.drop('DX', axis=1)\n",
    "y_norm = df_norm['DX']\n",
    "\n",
    "X_train_norm = df_train_norm.drop('DX', axis=1)"
   ]
  },
  {
   "cell_type": "markdown",
   "id": "6c988b3b",
   "metadata": {},
   "source": [
    "### Normalize columns\n",
    "\n",
    "Normalize the features and update the feature dataframe to use these changes."
   ]
  },
  {
   "cell_type": "code",
   "execution_count": 21,
   "id": "f34b6a02",
   "metadata": {},
   "outputs": [],
   "source": [
    "X_norm = normalize_features(X_norm)\n",
    "X_train_norm = normalize_features(X_train_norm)"
   ]
  },
  {
   "cell_type": "markdown",
   "id": "1ad1a8e7",
   "metadata": {},
   "source": [
    "### Evaluate Accuracy\n",
    "\n",
    "Determine the accuracy of using this dataframe. "
   ]
  },
  {
   "cell_type": "markdown",
   "id": "6b1d86aa",
   "metadata": {},
   "source": [
    "#### 100-iteration Train/Test Split\n",
    "\n",
    "Do 100-iterations of train/test splits using this dataframe. \n",
    "Generate 100 accuracies for the four models."
   ]
  },
  {
   "cell_type": "code",
   "execution_count": 22,
   "id": "aea73705",
   "metadata": {
    "scrolled": true
   },
   "outputs": [
    {
     "name": "stderr",
     "output_type": "stream",
     "text": [
      "C:\\Users\\taylo\\AppData\\Local\\Programs\\Python\\Python310\\lib\\site-packages\\sklearn\\linear_model\\_logistic.py:458: ConvergenceWarning: lbfgs failed to converge (status=1):\n",
      "STOP: TOTAL NO. of ITERATIONS REACHED LIMIT.\n",
      "\n",
      "Increase the number of iterations (max_iter) or scale the data as shown in:\n",
      "    https://scikit-learn.org/stable/modules/preprocessing.html\n",
      "Please also refer to the documentation for alternative solver options:\n",
      "    https://scikit-learn.org/stable/modules/linear_model.html#logistic-regression\n",
      "  n_iter_i = _check_optimize_result(\n",
      "C:\\Users\\taylo\\AppData\\Local\\Programs\\Python\\Python310\\lib\\site-packages\\sklearn\\linear_model\\_logistic.py:458: ConvergenceWarning: lbfgs failed to converge (status=1):\n",
      "STOP: TOTAL NO. of ITERATIONS REACHED LIMIT.\n",
      "\n",
      "Increase the number of iterations (max_iter) or scale the data as shown in:\n",
      "    https://scikit-learn.org/stable/modules/preprocessing.html\n",
      "Please also refer to the documentation for alternative solver options:\n",
      "    https://scikit-learn.org/stable/modules/linear_model.html#logistic-regression\n",
      "  n_iter_i = _check_optimize_result(\n",
      "C:\\Users\\taylo\\AppData\\Local\\Programs\\Python\\Python310\\lib\\site-packages\\sklearn\\linear_model\\_logistic.py:458: ConvergenceWarning: lbfgs failed to converge (status=1):\n",
      "STOP: TOTAL NO. of ITERATIONS REACHED LIMIT.\n",
      "\n",
      "Increase the number of iterations (max_iter) or scale the data as shown in:\n",
      "    https://scikit-learn.org/stable/modules/preprocessing.html\n",
      "Please also refer to the documentation for alternative solver options:\n",
      "    https://scikit-learn.org/stable/modules/linear_model.html#logistic-regression\n",
      "  n_iter_i = _check_optimize_result(\n",
      "C:\\Users\\taylo\\AppData\\Local\\Programs\\Python\\Python310\\lib\\site-packages\\sklearn\\linear_model\\_logistic.py:458: ConvergenceWarning: lbfgs failed to converge (status=1):\n",
      "STOP: TOTAL NO. of ITERATIONS REACHED LIMIT.\n",
      "\n",
      "Increase the number of iterations (max_iter) or scale the data as shown in:\n",
      "    https://scikit-learn.org/stable/modules/preprocessing.html\n",
      "Please also refer to the documentation for alternative solver options:\n",
      "    https://scikit-learn.org/stable/modules/linear_model.html#logistic-regression\n",
      "  n_iter_i = _check_optimize_result(\n",
      "C:\\Users\\taylo\\AppData\\Local\\Programs\\Python\\Python310\\lib\\site-packages\\sklearn\\linear_model\\_logistic.py:458: ConvergenceWarning: lbfgs failed to converge (status=1):\n",
      "STOP: TOTAL NO. of ITERATIONS REACHED LIMIT.\n",
      "\n",
      "Increase the number of iterations (max_iter) or scale the data as shown in:\n",
      "    https://scikit-learn.org/stable/modules/preprocessing.html\n",
      "Please also refer to the documentation for alternative solver options:\n",
      "    https://scikit-learn.org/stable/modules/linear_model.html#logistic-regression\n",
      "  n_iter_i = _check_optimize_result(\n",
      "C:\\Users\\taylo\\AppData\\Local\\Programs\\Python\\Python310\\lib\\site-packages\\sklearn\\linear_model\\_logistic.py:458: ConvergenceWarning: lbfgs failed to converge (status=1):\n",
      "STOP: TOTAL NO. of ITERATIONS REACHED LIMIT.\n",
      "\n",
      "Increase the number of iterations (max_iter) or scale the data as shown in:\n",
      "    https://scikit-learn.org/stable/modules/preprocessing.html\n",
      "Please also refer to the documentation for alternative solver options:\n",
      "    https://scikit-learn.org/stable/modules/linear_model.html#logistic-regression\n",
      "  n_iter_i = _check_optimize_result(\n"
     ]
    }
   ],
   "source": [
    "accs_norm = get_accuracies(X_norm, y_norm)\n",
    "accuracies_norm = np.asarray(accs_norm)\n",
    "\n",
    "accs_train_norm = get_accuracies(X_train_norm, y_train)\n",
    "accuracies_train_norm = np.asarray(accs_train_norm)"
   ]
  },
  {
   "cell_type": "code",
   "execution_count": 23,
   "id": "15a403f9",
   "metadata": {},
   "outputs": [
    {
     "data": {
      "text/html": [
       "<div>\n",
       "<style scoped>\n",
       "    .dataframe tbody tr th:only-of-type {\n",
       "        vertical-align: middle;\n",
       "    }\n",
       "\n",
       "    .dataframe tbody tr th {\n",
       "        vertical-align: top;\n",
       "    }\n",
       "\n",
       "    .dataframe thead th {\n",
       "        text-align: right;\n",
       "    }\n",
       "</style>\n",
       "<table border=\"1\" class=\"dataframe\">\n",
       "  <thead>\n",
       "    <tr style=\"text-align: right;\">\n",
       "      <th></th>\n",
       "      <th>LR_multiclass_norm</th>\n",
       "      <th>KNN_multiclass_norm</th>\n",
       "      <th>SVM_multiclass_norm</th>\n",
       "      <th>LDA_multiclass_norm</th>\n",
       "      <th>Ensemble_multiclass_norm</th>\n",
       "      <th>Ensemble2_multiclass_norm</th>\n",
       "    </tr>\n",
       "  </thead>\n",
       "  <tbody>\n",
       "    <tr>\n",
       "      <th>Mean</th>\n",
       "      <td>0.607516</td>\n",
       "      <td>0.588599</td>\n",
       "      <td>0.626624</td>\n",
       "      <td>0.606306</td>\n",
       "      <td>0.625414</td>\n",
       "      <td>0.626051</td>\n",
       "    </tr>\n",
       "    <tr>\n",
       "      <th>STD</th>\n",
       "      <td>0.036320</td>\n",
       "      <td>0.033512</td>\n",
       "      <td>0.034369</td>\n",
       "      <td>0.036408</td>\n",
       "      <td>0.033604</td>\n",
       "      <td>0.033995</td>\n",
       "    </tr>\n",
       "    <tr>\n",
       "      <th>Max</th>\n",
       "      <td>0.675159</td>\n",
       "      <td>0.681529</td>\n",
       "      <td>0.713376</td>\n",
       "      <td>0.675159</td>\n",
       "      <td>0.700637</td>\n",
       "      <td>0.694268</td>\n",
       "    </tr>\n",
       "    <tr>\n",
       "      <th>Min</th>\n",
       "      <td>0.522293</td>\n",
       "      <td>0.515924</td>\n",
       "      <td>0.541401</td>\n",
       "      <td>0.528662</td>\n",
       "      <td>0.541401</td>\n",
       "      <td>0.541401</td>\n",
       "    </tr>\n",
       "  </tbody>\n",
       "</table>\n",
       "</div>"
      ],
      "text/plain": [
       "      LR_multiclass_norm  KNN_multiclass_norm  SVM_multiclass_norm   \n",
       "Mean            0.607516             0.588599             0.626624  \\\n",
       "STD             0.036320             0.033512             0.034369   \n",
       "Max             0.675159             0.681529             0.713376   \n",
       "Min             0.522293             0.515924             0.541401   \n",
       "\n",
       "      LDA_multiclass_norm  Ensemble_multiclass_norm  Ensemble2_multiclass_norm  \n",
       "Mean             0.606306                  0.625414                   0.626051  \n",
       "STD              0.036408                  0.033604                   0.033995  \n",
       "Max              0.675159                  0.700637                   0.694268  \n",
       "Min              0.528662                  0.541401                   0.541401  "
      ]
     },
     "execution_count": 23,
     "metadata": {},
     "output_type": "execute_result"
    }
   ],
   "source": [
    "stats_norm = get_statistics(accs_norm)\n",
    "results_norm = pd.DataFrame(stats_norm, \n",
    "                       index=['Mean', 'STD', 'Max', 'Min'], \n",
    "                       columns=['LR_multiclass_norm', 'KNN_multiclass_norm', \n",
    "                                'SVM_multiclass_norm', 'LDA_multiclass_norm',\n",
    "                                'Ensemble_multiclass_norm', 'Ensemble2_multiclass_norm'])\n",
    "\n",
    "results_norm"
   ]
  },
  {
   "cell_type": "code",
   "execution_count": 24,
   "id": "8ede086b",
   "metadata": {},
   "outputs": [
    {
     "data": {
      "text/html": [
       "<div>\n",
       "<style scoped>\n",
       "    .dataframe tbody tr th:only-of-type {\n",
       "        vertical-align: middle;\n",
       "    }\n",
       "\n",
       "    .dataframe tbody tr th {\n",
       "        vertical-align: top;\n",
       "    }\n",
       "\n",
       "    .dataframe thead th {\n",
       "        text-align: right;\n",
       "    }\n",
       "</style>\n",
       "<table border=\"1\" class=\"dataframe\">\n",
       "  <thead>\n",
       "    <tr style=\"text-align: right;\">\n",
       "      <th></th>\n",
       "      <th>LR_multiclass_train_norm</th>\n",
       "      <th>KNN_train_multiclass_norm</th>\n",
       "      <th>SVM_multiclass_train_norm</th>\n",
       "      <th>LDA_train_multiclass_norm</th>\n",
       "      <th>Ensemble_multiclass_train_norm</th>\n",
       "      <th>Ensemble2_train_multiclass_norm</th>\n",
       "    </tr>\n",
       "  </thead>\n",
       "  <tbody>\n",
       "    <tr>\n",
       "      <th>Mean</th>\n",
       "      <td>0.588854</td>\n",
       "      <td>0.578599</td>\n",
       "      <td>0.625669</td>\n",
       "      <td>0.596178</td>\n",
       "      <td>0.622293</td>\n",
       "      <td>0.618217</td>\n",
       "    </tr>\n",
       "    <tr>\n",
       "      <th>STD</th>\n",
       "      <td>0.031801</td>\n",
       "      <td>0.038054</td>\n",
       "      <td>0.034464</td>\n",
       "      <td>0.032863</td>\n",
       "      <td>0.033902</td>\n",
       "      <td>0.033738</td>\n",
       "    </tr>\n",
       "    <tr>\n",
       "      <th>Max</th>\n",
       "      <td>0.687898</td>\n",
       "      <td>0.656051</td>\n",
       "      <td>0.707006</td>\n",
       "      <td>0.681529</td>\n",
       "      <td>0.700637</td>\n",
       "      <td>0.707006</td>\n",
       "    </tr>\n",
       "    <tr>\n",
       "      <th>Min</th>\n",
       "      <td>0.515924</td>\n",
       "      <td>0.471338</td>\n",
       "      <td>0.509554</td>\n",
       "      <td>0.509554</td>\n",
       "      <td>0.509554</td>\n",
       "      <td>0.509554</td>\n",
       "    </tr>\n",
       "  </tbody>\n",
       "</table>\n",
       "</div>"
      ],
      "text/plain": [
       "      LR_multiclass_train_norm  KNN_train_multiclass_norm   \n",
       "Mean                  0.588854                   0.578599  \\\n",
       "STD                   0.031801                   0.038054   \n",
       "Max                   0.687898                   0.656051   \n",
       "Min                   0.515924                   0.471338   \n",
       "\n",
       "      SVM_multiclass_train_norm  LDA_train_multiclass_norm   \n",
       "Mean                   0.625669                   0.596178  \\\n",
       "STD                    0.034464                   0.032863   \n",
       "Max                    0.707006                   0.681529   \n",
       "Min                    0.509554                   0.509554   \n",
       "\n",
       "      Ensemble_multiclass_train_norm  Ensemble2_train_multiclass_norm  \n",
       "Mean                        0.622293                         0.618217  \n",
       "STD                         0.033902                         0.033738  \n",
       "Max                         0.700637                         0.707006  \n",
       "Min                         0.509554                         0.509554  "
      ]
     },
     "execution_count": 24,
     "metadata": {},
     "output_type": "execute_result"
    }
   ],
   "source": [
    "stats_train_norm = get_statistics(accs_train_norm)\n",
    "results_train_norm = pd.DataFrame(stats_train_norm, \n",
    "                       index=['Mean', 'STD', 'Max', 'Min'], \n",
    "                       columns=['LR_multiclass_train_norm', 'KNN_train_multiclass_norm', \n",
    "                                'SVM_multiclass_train_norm', 'LDA_train_multiclass_norm',\n",
    "                                'Ensemble_multiclass_train_norm', 'Ensemble2_train_multiclass_norm'])\n",
    "\n",
    "results_train_norm"
   ]
  },
  {
   "cell_type": "markdown",
   "id": "996f6ed5",
   "metadata": {},
   "source": [
    "Extract descriptive statistics from the accuracies."
   ]
  },
  {
   "cell_type": "markdown",
   "id": "fbb8fbd3",
   "metadata": {},
   "source": [
    "#### Cross-validation\n",
    "\n",
    "Perform cross validation on this dataset with the four models from before. This is done to compare the results to the train-test split method."
   ]
  },
  {
   "cell_type": "code",
   "execution_count": 25,
   "id": "fc266001",
   "metadata": {},
   "outputs": [
    {
     "name": "stderr",
     "output_type": "stream",
     "text": [
      "C:\\Users\\taylo\\AppData\\Local\\Programs\\Python\\Python310\\lib\\site-packages\\sklearn\\model_selection\\_split.py:700: UserWarning: The least populated class in y has only 4 members, which is less than n_splits=10.\n",
      "  warnings.warn(\n",
      "C:\\Users\\taylo\\AppData\\Local\\Programs\\Python\\Python310\\lib\\site-packages\\sklearn\\model_selection\\_split.py:700: UserWarning: The least populated class in y has only 4 members, which is less than n_splits=10.\n",
      "  warnings.warn(\n",
      "C:\\Users\\taylo\\AppData\\Local\\Programs\\Python\\Python310\\lib\\site-packages\\sklearn\\model_selection\\_split.py:700: UserWarning: The least populated class in y has only 4 members, which is less than n_splits=10.\n",
      "  warnings.warn(\n",
      "C:\\Users\\taylo\\AppData\\Local\\Programs\\Python\\Python310\\lib\\site-packages\\sklearn\\model_selection\\_split.py:700: UserWarning: The least populated class in y has only 4 members, which is less than n_splits=10.\n",
      "  warnings.warn(\n",
      "C:\\Users\\taylo\\AppData\\Local\\Programs\\Python\\Python310\\lib\\site-packages\\sklearn\\model_selection\\_split.py:700: UserWarning: The least populated class in y has only 4 members, which is less than n_splits=10.\n",
      "  warnings.warn(\n",
      "C:\\Users\\taylo\\AppData\\Local\\Programs\\Python\\Python310\\lib\\site-packages\\sklearn\\model_selection\\_split.py:700: UserWarning: The least populated class in y has only 4 members, which is less than n_splits=10.\n",
      "  warnings.warn(\n"
     ]
    },
    {
     "name": "stdout",
     "output_type": "stream",
     "text": [
      "Model\t\tCV Mean\t\tCV std\n",
      "{'LR': (0.5988223246287763, 0.05283969797865226), 'KNN': (0.5767025089605735, 0.06679154940398133), 'SVM': (0.6274193548387097, 0.009146666829568337), 'LDA': (0.6114439324116744, 0.03051346941825479), 'Ensemble': (0.6273937532002049, 0.01594560808460879), 'Ensemble Less': (0.6258320532514081, 0.015287094008800965)}\n"
     ]
    }
   ],
   "source": [
    "perform_cross_validation(X_norm, y_norm)"
   ]
  },
  {
   "cell_type": "code",
   "execution_count": 26,
   "id": "d59c3ee9",
   "metadata": {},
   "outputs": [
    {
     "name": "stderr",
     "output_type": "stream",
     "text": [
      "C:\\Users\\taylo\\AppData\\Local\\Programs\\Python\\Python310\\lib\\site-packages\\sklearn\\model_selection\\_split.py:700: UserWarning: The least populated class in y has only 4 members, which is less than n_splits=10.\n",
      "  warnings.warn(\n",
      "C:\\Users\\taylo\\AppData\\Local\\Programs\\Python\\Python310\\lib\\site-packages\\sklearn\\model_selection\\_split.py:700: UserWarning: The least populated class in y has only 4 members, which is less than n_splits=10.\n",
      "  warnings.warn(\n",
      "C:\\Users\\taylo\\AppData\\Local\\Programs\\Python\\Python310\\lib\\site-packages\\sklearn\\model_selection\\_split.py:700: UserWarning: The least populated class in y has only 4 members, which is less than n_splits=10.\n",
      "  warnings.warn(\n",
      "C:\\Users\\taylo\\AppData\\Local\\Programs\\Python\\Python310\\lib\\site-packages\\sklearn\\model_selection\\_split.py:700: UserWarning: The least populated class in y has only 4 members, which is less than n_splits=10.\n",
      "  warnings.warn(\n",
      "C:\\Users\\taylo\\AppData\\Local\\Programs\\Python\\Python310\\lib\\site-packages\\sklearn\\model_selection\\_split.py:700: UserWarning: The least populated class in y has only 4 members, which is less than n_splits=10.\n",
      "  warnings.warn(\n",
      "C:\\Users\\taylo\\AppData\\Local\\Programs\\Python\\Python310\\lib\\site-packages\\sklearn\\model_selection\\_split.py:700: UserWarning: The least populated class in y has only 4 members, which is less than n_splits=10.\n",
      "  warnings.warn(\n"
     ]
    },
    {
     "name": "stdout",
     "output_type": "stream",
     "text": [
      "Model\t\tCV Mean\t\tCV std\n",
      "{'LR': (0.5956477214541731, 0.06684010746801954), 'KNN': (0.5719662058371736, 0.07180266498694925), 'SVM': (0.6290066564260113, 0.008930862894101646), 'LDA': (0.6067076292882745, 0.04356294644150734), 'Ensemble': (0.625857654889913, 0.016371121833486765), 'Ensemble Less': (0.6242703533026114, 0.01904465948851353)}\n"
     ]
    }
   ],
   "source": [
    "perform_cross_validation(X_train_norm, y_train)"
   ]
  },
  {
   "cell_type": "markdown",
   "id": "8eaf8076",
   "metadata": {},
   "source": [
    "### Method Conclusion\n",
    "\n",
    "SVM was the most accurate method in both the train/test split and cross-validation.\n",
    "The train/test split and cross-validation had similar results.\n",
    "\n",
    "SVM is the only model from this test that is better than the previous test using the condensed features. \n",
    "\n",
    "SVM is also higher than the average from using all features."
   ]
  },
  {
   "cell_type": "markdown",
   "id": "0827fa02",
   "metadata": {},
   "source": [
    "## Classification Conclusion\n",
    "\n",
    "The most accurate method for this classification method was SVM on the normalized dataframe.\n",
    "\n",
    "This method scored with higher accuracy than the same dataframe with all region means."
   ]
  },
  {
   "cell_type": "markdown",
   "id": "1457d13d",
   "metadata": {},
   "source": [
    "--------------------------------------------------------------------------------------------------------------------------------"
   ]
  },
  {
   "cell_type": "markdown",
   "id": "52a79a5a",
   "metadata": {},
   "source": [
    "# Binary Classificaiton\n",
    "\n",
    "This section investigates how models perform when predicting whether a patient has ADHD or not. \n",
    "\n",
    "This is accomplished by converting the diagnosis to a binary value based on if their diagnosis is a control or has some type of ADHD. \n",
    "For this feature, 'True' signifies the subject has ADHD and 'False' signifies the subject is a control and does not have ADHD.\n",
    "\n",
    "Theoretically, this model should perform better than the multi-class classification since it is simpler."
   ]
  },
  {
   "cell_type": "markdown",
   "id": "44ad0ded",
   "metadata": {},
   "source": [
    "## Base Binary Dataframe\n",
    "\n",
    "The binary dataframe is exactly the same as the multiclass dataframe except the diagnosis is binary. \n",
    "Any value for 'DX' greater than 0 for this column indicates that the subject has ADHD."
   ]
  },
  {
   "cell_type": "code",
   "execution_count": 27,
   "id": "6aed97eb",
   "metadata": {},
   "outputs": [
    {
     "name": "stderr",
     "output_type": "stream",
     "text": [
      "C:\\Users\\taylo\\AppData\\Local\\Temp\\ipykernel_16776\\2509784829.py:4: SettingWithCopyWarning: \n",
      "A value is trying to be set on a copy of a slice from a DataFrame\n",
      "\n",
      "See the caveats in the documentation: https://pandas.pydata.org/pandas-docs/stable/user_guide/indexing.html#returning-a-view-versus-a-copy\n",
      "  df_binary['DX'].loc[df_binary['DX'] > 0] = 1\n",
      "C:\\Users\\taylo\\AppData\\Local\\Temp\\ipykernel_16776\\2509784829.py:5: SettingWithCopyWarning: \n",
      "A value is trying to be set on a copy of a slice from a DataFrame\n",
      "\n",
      "See the caveats in the documentation: https://pandas.pydata.org/pandas-docs/stable/user_guide/indexing.html#returning-a-view-versus-a-copy\n",
      "  df_binary_train['DX'].loc[df_binary_train['DX'] > 0] = 1\n"
     ]
    }
   ],
   "source": [
    "df_binary = df.copy()\n",
    "df_binary_train = df_train.copy()\n",
    "\n",
    "df_binary['DX'].loc[df_binary['DX'] > 0] = 1\n",
    "df_binary_train['DX'].loc[df_binary_train['DX'] > 0] = 1"
   ]
  },
  {
   "cell_type": "markdown",
   "id": "23f3f51b",
   "metadata": {},
   "source": [
    "## Binary Current Dataframe\n",
    "\n",
    "This model will use the current dataframe with the only modification being to the diagnosis column. \n",
    "Any value for 'DX' greater than 0 indicates that the patient has ADHD.\n",
    "\n",
    "This will act as a baseline to compare the binary models with other changes to."
   ]
  },
  {
   "cell_type": "markdown",
   "id": "9770f5e4",
   "metadata": {},
   "source": [
    "### Separate data\n",
    "\n",
    "Split the data into features and target."
   ]
  },
  {
   "cell_type": "code",
   "execution_count": 28,
   "id": "ab8b43fc",
   "metadata": {},
   "outputs": [],
   "source": [
    "X_binary = df_binary.drop('DX', axis=1)\n",
    "y_binary = df_binary['DX']\n",
    "\n",
    "X_binary_train = df_binary_train.drop('DX', axis=1)\n",
    "y_binary_train = df_binary_train['DX']"
   ]
  },
  {
   "cell_type": "markdown",
   "id": "1d388afb",
   "metadata": {},
   "source": [
    "### Evaluate Accuracy\n",
    "\n",
    "Determine the accuracy of using this dataframe. "
   ]
  },
  {
   "cell_type": "markdown",
   "id": "0295c86c",
   "metadata": {},
   "source": [
    "#### 100-iteration Train/Test Split\n",
    "\n",
    "Do 100-iterations of train/test splits using this dataframe. \n",
    "Generate 100 accuracies for the four models."
   ]
  },
  {
   "cell_type": "code",
   "execution_count": 29,
   "id": "6a65382f",
   "metadata": {},
   "outputs": [],
   "source": [
    "accs_binary = get_accuracies(X_binary, y_binary)\n",
    "accuracies_binary = np.asarray(accs_binary)\n",
    "\n",
    "accs_binary_train = get_accuracies(X_binary_train, y_binary_train)\n",
    "accuracies_binary_train = np.asarray(accs_binary_train)"
   ]
  },
  {
   "cell_type": "markdown",
   "id": "3ed9b098",
   "metadata": {},
   "source": [
    "Extract descriptive statistics from the accuracies."
   ]
  },
  {
   "cell_type": "code",
   "execution_count": 30,
   "id": "ba03a929",
   "metadata": {},
   "outputs": [
    {
     "data": {
      "text/html": [
       "<div>\n",
       "<style scoped>\n",
       "    .dataframe tbody tr th:only-of-type {\n",
       "        vertical-align: middle;\n",
       "    }\n",
       "\n",
       "    .dataframe tbody tr th {\n",
       "        vertical-align: top;\n",
       "    }\n",
       "\n",
       "    .dataframe thead th {\n",
       "        text-align: right;\n",
       "    }\n",
       "</style>\n",
       "<table border=\"1\" class=\"dataframe\">\n",
       "  <thead>\n",
       "    <tr style=\"text-align: right;\">\n",
       "      <th></th>\n",
       "      <th>LR_binary</th>\n",
       "      <th>KNN_binary</th>\n",
       "      <th>SVM_binary</th>\n",
       "      <th>LDA_binary</th>\n",
       "      <th>Ensemble_binary</th>\n",
       "      <th>Ensemble2_binary</th>\n",
       "    </tr>\n",
       "  </thead>\n",
       "  <tbody>\n",
       "    <tr>\n",
       "      <th>Mean</th>\n",
       "      <td>0.631083</td>\n",
       "      <td>0.634013</td>\n",
       "      <td>0.627707</td>\n",
       "      <td>0.631465</td>\n",
       "      <td>0.629873</td>\n",
       "      <td>0.627197</td>\n",
       "    </tr>\n",
       "    <tr>\n",
       "      <th>STD</th>\n",
       "      <td>0.032884</td>\n",
       "      <td>0.033443</td>\n",
       "      <td>0.031416</td>\n",
       "      <td>0.033992</td>\n",
       "      <td>0.032775</td>\n",
       "      <td>0.031507</td>\n",
       "    </tr>\n",
       "    <tr>\n",
       "      <th>Max</th>\n",
       "      <td>0.713376</td>\n",
       "      <td>0.719745</td>\n",
       "      <td>0.700637</td>\n",
       "      <td>0.707006</td>\n",
       "      <td>0.700637</td>\n",
       "      <td>0.700637</td>\n",
       "    </tr>\n",
       "    <tr>\n",
       "      <th>Min</th>\n",
       "      <td>0.541401</td>\n",
       "      <td>0.535032</td>\n",
       "      <td>0.541401</td>\n",
       "      <td>0.560510</td>\n",
       "      <td>0.541401</td>\n",
       "      <td>0.535032</td>\n",
       "    </tr>\n",
       "  </tbody>\n",
       "</table>\n",
       "</div>"
      ],
      "text/plain": [
       "      LR_binary  KNN_binary  SVM_binary  LDA_binary  Ensemble_binary   \n",
       "Mean   0.631083    0.634013    0.627707    0.631465         0.629873  \\\n",
       "STD    0.032884    0.033443    0.031416    0.033992         0.032775   \n",
       "Max    0.713376    0.719745    0.700637    0.707006         0.700637   \n",
       "Min    0.541401    0.535032    0.541401    0.560510         0.541401   \n",
       "\n",
       "      Ensemble2_binary  \n",
       "Mean          0.627197  \n",
       "STD           0.031507  \n",
       "Max           0.700637  \n",
       "Min           0.535032  "
      ]
     },
     "execution_count": 30,
     "metadata": {},
     "output_type": "execute_result"
    }
   ],
   "source": [
    "stats_binary = get_statistics(accs_binary)\n",
    "results_binary = pd.DataFrame(stats_binary, \n",
    "                              index=['Mean', 'STD', 'Max', 'Min'], \n",
    "                              columns=['LR_binary', 'KNN_binary', \n",
    "                                       'SVM_binary', 'LDA_binary', \n",
    "                                       'Ensemble_binary', 'Ensemble2_binary'])\n",
    "\n",
    "results_binary"
   ]
  },
  {
   "cell_type": "code",
   "execution_count": 31,
   "id": "be71c700",
   "metadata": {},
   "outputs": [
    {
     "data": {
      "text/html": [
       "<div>\n",
       "<style scoped>\n",
       "    .dataframe tbody tr th:only-of-type {\n",
       "        vertical-align: middle;\n",
       "    }\n",
       "\n",
       "    .dataframe tbody tr th {\n",
       "        vertical-align: top;\n",
       "    }\n",
       "\n",
       "    .dataframe thead th {\n",
       "        text-align: right;\n",
       "    }\n",
       "</style>\n",
       "<table border=\"1\" class=\"dataframe\">\n",
       "  <thead>\n",
       "    <tr style=\"text-align: right;\">\n",
       "      <th></th>\n",
       "      <th>LR_binary_train</th>\n",
       "      <th>KNN_binary_train</th>\n",
       "      <th>SVM_binary_train</th>\n",
       "      <th>LDA_binary_train</th>\n",
       "      <th>Ensemble_binary_train</th>\n",
       "      <th>Ensemble2_binary_train</th>\n",
       "    </tr>\n",
       "  </thead>\n",
       "  <tbody>\n",
       "    <tr>\n",
       "      <th>Mean</th>\n",
       "      <td>0.627006</td>\n",
       "      <td>0.613439</td>\n",
       "      <td>0.620764</td>\n",
       "      <td>0.607134</td>\n",
       "      <td>0.623439</td>\n",
       "      <td>0.622739</td>\n",
       "    </tr>\n",
       "    <tr>\n",
       "      <th>STD</th>\n",
       "      <td>0.033442</td>\n",
       "      <td>0.035426</td>\n",
       "      <td>0.032608</td>\n",
       "      <td>0.033230</td>\n",
       "      <td>0.032494</td>\n",
       "      <td>0.031072</td>\n",
       "    </tr>\n",
       "    <tr>\n",
       "      <th>Max</th>\n",
       "      <td>0.694268</td>\n",
       "      <td>0.687898</td>\n",
       "      <td>0.681529</td>\n",
       "      <td>0.694268</td>\n",
       "      <td>0.681529</td>\n",
       "      <td>0.681529</td>\n",
       "    </tr>\n",
       "    <tr>\n",
       "      <th>Min</th>\n",
       "      <td>0.522293</td>\n",
       "      <td>0.496815</td>\n",
       "      <td>0.522293</td>\n",
       "      <td>0.535032</td>\n",
       "      <td>0.522293</td>\n",
       "      <td>0.522293</td>\n",
       "    </tr>\n",
       "  </tbody>\n",
       "</table>\n",
       "</div>"
      ],
      "text/plain": [
       "      LR_binary_train  KNN_binary_train  SVM_binary_train  LDA_binary_train   \n",
       "Mean         0.627006          0.613439          0.620764          0.607134  \\\n",
       "STD          0.033442          0.035426          0.032608          0.033230   \n",
       "Max          0.694268          0.687898          0.681529          0.694268   \n",
       "Min          0.522293          0.496815          0.522293          0.535032   \n",
       "\n",
       "      Ensemble_binary_train  Ensemble2_binary_train  \n",
       "Mean               0.623439                0.622739  \n",
       "STD                0.032494                0.031072  \n",
       "Max                0.681529                0.681529  \n",
       "Min                0.522293                0.522293  "
      ]
     },
     "execution_count": 31,
     "metadata": {},
     "output_type": "execute_result"
    }
   ],
   "source": [
    "stats_binary_train = get_statistics(accs_binary_train)\n",
    "results_binary_train = pd.DataFrame(stats_binary_train, \n",
    "                              index=['Mean', 'STD', 'Max', 'Min'], \n",
    "                              columns=['LR_binary_train', 'KNN_binary_train', \n",
    "                                       'SVM_binary_train', 'LDA_binary_train', \n",
    "                                       'Ensemble_binary_train', 'Ensemble2_binary_train'])\n",
    "\n",
    "results_binary_train"
   ]
  },
  {
   "cell_type": "markdown",
   "id": "6510297c",
   "metadata": {},
   "source": [
    "#### Cross-validation\n",
    "\n",
    "Perform cross validation on this dataset with the four models from before. This is done to compare the results to the train-test split method."
   ]
  },
  {
   "cell_type": "code",
   "execution_count": 32,
   "id": "c08cdfa5",
   "metadata": {
    "scrolled": true
   },
   "outputs": [
    {
     "name": "stdout",
     "output_type": "stream",
     "text": [
      "Model\t\tCV Mean\t\tCV std\n",
      "{'LR': (0.6289810547875063, 0.006873265171196576), 'KNN': (0.6054275473630313, 0.10340918547205324), 'SVM': (0.5940604198668714, 0.05383047536239013), 'LDA': (0.6291602662570405, 0.060572551530569514), 'Ensemble': (0.6242191500256016, 0.019907739280273323), 'Ensemble Less': (0.6083461341525858, 0.0293740843149191)}\n"
     ]
    }
   ],
   "source": [
    "perform_cross_validation(X_binary, y_binary)"
   ]
  },
  {
   "cell_type": "code",
   "execution_count": 33,
   "id": "e1e73994",
   "metadata": {
    "scrolled": true
   },
   "outputs": [
    {
     "name": "stdout",
     "output_type": "stream",
     "text": [
      "Model\t\tCV Mean\t\tCV std\n",
      "{'LR': (0.6289810547875063, 0.006873265171196576), 'KNN': (0.6088069636456733, 0.15207873228328808), 'SVM': (0.5861239119303635, 0.05629184972730032), 'LDA': (0.6115207373271889, 0.0482870521375382), 'Ensemble': (0.6242191500256016, 0.013955499880954665), 'Ensemble Less': (0.6067588325652842, 0.028304576870175673)}\n"
     ]
    }
   ],
   "source": [
    "perform_cross_validation(X_binary_train, y_binary_train)"
   ]
  },
  {
   "cell_type": "markdown",
   "id": "4f441f08",
   "metadata": {},
   "source": [
    "### Method Conclusion\n",
    "\n",
    "LDA is the most accurate model for both train/test split and cross-validation with all models very close.\n",
    "\n",
    "None of these models are higher than the SVM model on the normalized dataframe from earlier in the notebook.\n",
    "\n",
    "KNN and LDA performed better than the binary classification from the average from using all features."
   ]
  },
  {
   "cell_type": "markdown",
   "id": "28f90a13",
   "metadata": {},
   "source": [
    "## Normalized Binary Dataframe\n",
    "\n",
    "This model will use a normalized version of the dataframe. \n",
    "This method will adjust the features to be normally distributed.\n",
    "\n",
    "This should reduce some of the bias that results from the different scales in the dataframe's features"
   ]
  },
  {
   "cell_type": "markdown",
   "id": "3b66546c",
   "metadata": {},
   "source": [
    "### Separate data\n",
    "\n",
    "Make a copy of the original dataframe to ensure that it is preserved. \n",
    "Split the data into features and target."
   ]
  },
  {
   "cell_type": "code",
   "execution_count": 34,
   "id": "fb60d88d",
   "metadata": {},
   "outputs": [],
   "source": [
    "df_binary_norm = df_binary.copy()\n",
    "df_binary_train_norm = df_binary_train.copy()\n",
    "\n",
    "X_binary_norm = df_binary_norm.drop('DX', axis=1)\n",
    "y_binary_norm = df_binary_norm['DX']\n",
    "\n",
    "X_binary_train_norm = df_binary_train_norm.drop('DX', axis=1)"
   ]
  },
  {
   "cell_type": "markdown",
   "id": "d55c347e",
   "metadata": {},
   "source": [
    "### Normalize columns\n",
    "\n",
    "Normalize the features and update the feature dataframe to use these changes."
   ]
  },
  {
   "cell_type": "code",
   "execution_count": 35,
   "id": "ccde23da",
   "metadata": {},
   "outputs": [],
   "source": [
    "X_binary_norm = normalize_features(X_binary_norm)\n",
    "X_binary_train_norm = normalize_features(X_binary_train_norm)"
   ]
  },
  {
   "cell_type": "markdown",
   "id": "de8b213d",
   "metadata": {},
   "source": [
    "### Evaluate Accuracy\n",
    "\n",
    "Determine the accuracy of using this dataframe. "
   ]
  },
  {
   "cell_type": "markdown",
   "id": "d90bc343",
   "metadata": {},
   "source": [
    "#### 100-iteration Train/Test Split\n",
    "\n",
    "Do 100-iterations of train/test splits using this dataframe. \n",
    "Generate 100 accuracies for the four models."
   ]
  },
  {
   "cell_type": "code",
   "execution_count": 36,
   "id": "9b04feb0",
   "metadata": {},
   "outputs": [],
   "source": [
    "accs_binary_norm = get_accuracies(X_binary_norm, y_binary_norm)\n",
    "accuracies_binary_norm = np.asarray(accs_binary_norm)\n",
    "\n",
    "accs_binary_train_norm = get_accuracies(X_binary_norm, y_binary_norm)\n",
    "accuracies_binary_train_norm = np.asarray(accs_binary_train_norm)"
   ]
  },
  {
   "cell_type": "markdown",
   "id": "f9d5cea5",
   "metadata": {},
   "source": [
    "Extract descriptive statistics from the accuracies."
   ]
  },
  {
   "cell_type": "code",
   "execution_count": 37,
   "id": "95910fdf",
   "metadata": {},
   "outputs": [
    {
     "data": {
      "text/html": [
       "<div>\n",
       "<style scoped>\n",
       "    .dataframe tbody tr th:only-of-type {\n",
       "        vertical-align: middle;\n",
       "    }\n",
       "\n",
       "    .dataframe tbody tr th {\n",
       "        vertical-align: top;\n",
       "    }\n",
       "\n",
       "    .dataframe thead th {\n",
       "        text-align: right;\n",
       "    }\n",
       "</style>\n",
       "<table border=\"1\" class=\"dataframe\">\n",
       "  <thead>\n",
       "    <tr style=\"text-align: right;\">\n",
       "      <th></th>\n",
       "      <th>LR_binary_norm</th>\n",
       "      <th>KNN_binary_norm</th>\n",
       "      <th>SVM_binary_norm</th>\n",
       "      <th>LDA_binary_norm</th>\n",
       "      <th>Ensemble_binary_norm</th>\n",
       "      <th>Ensemble2_binary_norm</th>\n",
       "    </tr>\n",
       "  </thead>\n",
       "  <tbody>\n",
       "    <tr>\n",
       "      <th>Mean</th>\n",
       "      <td>0.630382</td>\n",
       "      <td>0.618280</td>\n",
       "      <td>0.626178</td>\n",
       "      <td>0.629490</td>\n",
       "      <td>0.632293</td>\n",
       "      <td>0.631210</td>\n",
       "    </tr>\n",
       "    <tr>\n",
       "      <th>STD</th>\n",
       "      <td>0.034187</td>\n",
       "      <td>0.036202</td>\n",
       "      <td>0.033567</td>\n",
       "      <td>0.033244</td>\n",
       "      <td>0.032947</td>\n",
       "      <td>0.034318</td>\n",
       "    </tr>\n",
       "    <tr>\n",
       "      <th>Max</th>\n",
       "      <td>0.726115</td>\n",
       "      <td>0.726115</td>\n",
       "      <td>0.694268</td>\n",
       "      <td>0.700637</td>\n",
       "      <td>0.700637</td>\n",
       "      <td>0.713376</td>\n",
       "    </tr>\n",
       "    <tr>\n",
       "      <th>Min</th>\n",
       "      <td>0.535032</td>\n",
       "      <td>0.541401</td>\n",
       "      <td>0.541401</td>\n",
       "      <td>0.547771</td>\n",
       "      <td>0.547771</td>\n",
       "      <td>0.528662</td>\n",
       "    </tr>\n",
       "  </tbody>\n",
       "</table>\n",
       "</div>"
      ],
      "text/plain": [
       "      LR_binary_norm  KNN_binary_norm  SVM_binary_norm  LDA_binary_norm   \n",
       "Mean        0.630382         0.618280         0.626178         0.629490  \\\n",
       "STD         0.034187         0.036202         0.033567         0.033244   \n",
       "Max         0.726115         0.726115         0.694268         0.700637   \n",
       "Min         0.535032         0.541401         0.541401         0.547771   \n",
       "\n",
       "      Ensemble_binary_norm  Ensemble2_binary_norm  \n",
       "Mean              0.632293               0.631210  \n",
       "STD               0.032947               0.034318  \n",
       "Max               0.700637               0.713376  \n",
       "Min               0.547771               0.528662  "
      ]
     },
     "execution_count": 37,
     "metadata": {},
     "output_type": "execute_result"
    }
   ],
   "source": [
    "stats_binary_norm = get_statistics(accs_binary_norm)\n",
    "results_binary_norm = pd.DataFrame(stats_binary_norm, \n",
    "                       index=['Mean', 'STD', 'Max', 'Min'], \n",
    "                       columns=['LR_binary_norm', 'KNN_binary_norm', \n",
    "                                'SVM_binary_norm', 'LDA_binary_norm', \n",
    "                                'Ensemble_binary_norm', 'Ensemble2_binary_norm'])\n",
    "\n",
    "results_binary_norm"
   ]
  },
  {
   "cell_type": "code",
   "execution_count": 38,
   "id": "ff1a9695",
   "metadata": {},
   "outputs": [
    {
     "data": {
      "text/html": [
       "<div>\n",
       "<style scoped>\n",
       "    .dataframe tbody tr th:only-of-type {\n",
       "        vertical-align: middle;\n",
       "    }\n",
       "\n",
       "    .dataframe tbody tr th {\n",
       "        vertical-align: top;\n",
       "    }\n",
       "\n",
       "    .dataframe thead th {\n",
       "        text-align: right;\n",
       "    }\n",
       "</style>\n",
       "<table border=\"1\" class=\"dataframe\">\n",
       "  <thead>\n",
       "    <tr style=\"text-align: right;\">\n",
       "      <th></th>\n",
       "      <th>LR_binary_train_norm</th>\n",
       "      <th>KNN_binary_train_norm</th>\n",
       "      <th>SVM_binary_train_norm</th>\n",
       "      <th>LDA_binary_train_norm</th>\n",
       "      <th>Ensemble_binary_train_norm</th>\n",
       "      <th>Ensemble2_binary_train_norm</th>\n",
       "    </tr>\n",
       "  </thead>\n",
       "  <tbody>\n",
       "    <tr>\n",
       "      <th>Mean</th>\n",
       "      <td>0.631083</td>\n",
       "      <td>0.622229</td>\n",
       "      <td>0.627197</td>\n",
       "      <td>0.632166</td>\n",
       "      <td>0.633758</td>\n",
       "      <td>0.631911</td>\n",
       "    </tr>\n",
       "    <tr>\n",
       "      <th>STD</th>\n",
       "      <td>0.031226</td>\n",
       "      <td>0.033796</td>\n",
       "      <td>0.035193</td>\n",
       "      <td>0.032582</td>\n",
       "      <td>0.033938</td>\n",
       "      <td>0.033551</td>\n",
       "    </tr>\n",
       "    <tr>\n",
       "      <th>Max</th>\n",
       "      <td>0.719745</td>\n",
       "      <td>0.707006</td>\n",
       "      <td>0.707006</td>\n",
       "      <td>0.707006</td>\n",
       "      <td>0.713376</td>\n",
       "      <td>0.713376</td>\n",
       "    </tr>\n",
       "    <tr>\n",
       "      <th>Min</th>\n",
       "      <td>0.566879</td>\n",
       "      <td>0.535032</td>\n",
       "      <td>0.541401</td>\n",
       "      <td>0.566879</td>\n",
       "      <td>0.560510</td>\n",
       "      <td>0.560510</td>\n",
       "    </tr>\n",
       "  </tbody>\n",
       "</table>\n",
       "</div>"
      ],
      "text/plain": [
       "      LR_binary_train_norm  KNN_binary_train_norm  SVM_binary_train_norm   \n",
       "Mean              0.631083               0.622229               0.627197  \\\n",
       "STD               0.031226               0.033796               0.035193   \n",
       "Max               0.719745               0.707006               0.707006   \n",
       "Min               0.566879               0.535032               0.541401   \n",
       "\n",
       "      LDA_binary_train_norm  Ensemble_binary_train_norm   \n",
       "Mean               0.632166                    0.633758  \\\n",
       "STD                0.032582                    0.033938   \n",
       "Max                0.707006                    0.713376   \n",
       "Min                0.566879                    0.560510   \n",
       "\n",
       "      Ensemble2_binary_train_norm  \n",
       "Mean                     0.631911  \n",
       "STD                      0.033551  \n",
       "Max                      0.713376  \n",
       "Min                      0.560510  "
      ]
     },
     "execution_count": 38,
     "metadata": {},
     "output_type": "execute_result"
    }
   ],
   "source": [
    "stats_binary_train_norm = get_statistics(accs_binary_train_norm)\n",
    "results_binary_train_norm = pd.DataFrame(stats_binary_train_norm, \n",
    "                       index=['Mean', 'STD', 'Max', 'Min'], \n",
    "                       columns=['LR_binary_train_norm', 'KNN_binary_train_norm', \n",
    "                                'SVM_binary_train_norm', 'LDA_binary_train_norm', \n",
    "                                'Ensemble_binary_train_norm', 'Ensemble2_binary_train_norm'])\n",
    "\n",
    "results_binary_train_norm"
   ]
  },
  {
   "cell_type": "markdown",
   "id": "e6159047",
   "metadata": {},
   "source": [
    "#### Cross-validation\n",
    "\n",
    "Perform cross validation on this dataset with the four models from before. This is done to compare the results to the train-test split method."
   ]
  },
  {
   "cell_type": "code",
   "execution_count": 39,
   "id": "830f12ab",
   "metadata": {},
   "outputs": [
    {
     "name": "stdout",
     "output_type": "stream",
     "text": [
      "Model\t\tCV Mean\t\tCV std\n",
      "{'LR': (0.6292114695340503, 0.07786838833775525), 'KNN': (0.6182795698924731, 0.10282530870140304), 'SVM': (0.5877368151561699, 0.055485555272934674), 'LDA': (0.6291602662570405, 0.060572551530569514), 'Ensemble': (0.622657450076805, 0.04156943807040537), 'Ensemble Less': (0.6052483358934972, 0.05925575970000989)}\n"
     ]
    }
   ],
   "source": [
    "perform_cross_validation(X_binary_norm, y_binary_norm)"
   ]
  },
  {
   "cell_type": "code",
   "execution_count": 40,
   "id": "391d46e0",
   "metadata": {},
   "outputs": [
    {
     "name": "stdout",
     "output_type": "stream",
     "text": [
      "Model\t\tCV Mean\t\tCV std\n",
      "{'LR': (0.6131336405529955, 0.06017403036187434), 'KNN': (0.616794674859191, 0.1435824614954524), 'SVM': (0.5829493087557603, 0.0625065983331002), 'LDA': (0.6115207373271889, 0.0482870521375382), 'Ensemble': (0.6067588325652842, 0.03681636679780767), 'Ensemble Less': (0.5877368151561699, 0.07030715701436796)}\n"
     ]
    }
   ],
   "source": [
    "perform_cross_validation(X_binary_train_norm, y_binary_train)"
   ]
  },
  {
   "cell_type": "markdown",
   "id": "a92b267c",
   "metadata": {},
   "source": [
    "### Method Conclusion\n",
    "\n",
    "LDA is the most accurate model for both train/test split and cross-validation with all models very close.\n",
    "\n",
    "None of these models are higher than the SVM model on the normalized dataframe from earlier in the notebook or the LDA from the baseline binary models.\n",
    "\n",
    "Logistic regression, SVM and LDA performed better than the binary classification from the average from using all features."
   ]
  },
  {
   "cell_type": "markdown",
   "id": "c844423f",
   "metadata": {},
   "source": [
    "## Classification Conclusion\n",
    "\n",
    "The binary classification yielded more accurate predictions on average. \n",
    "However, the most accurate model from this notebook was SVM on the normalized features.\n",
    "\n",
    "Using SVM on a normalized multi-class dataframe resulted in the most accurate model. \n",
    "Using LDA on a unchanged dataframe resulted in the most accurate binary model. Both of these outpreformed their respective classification method on the original dataframe."
   ]
  },
  {
   "cell_type": "markdown",
   "id": "71f4569b",
   "metadata": {},
   "source": [
    "--------------------------------------------------------------------------------------------------------------------------------"
   ]
  },
  {
   "cell_type": "markdown",
   "id": "de4cfde7",
   "metadata": {},
   "source": [
    "# Complete Results\n",
    "\n",
    "Combine the accuracy from the multiclass and binary tests. \n",
    "\n",
    "Concatenate the two results to a single dataframe to export."
   ]
  },
  {
   "cell_type": "code",
   "execution_count": 41,
   "id": "4d330500",
   "metadata": {
    "scrolled": true
   },
   "outputs": [
    {
     "data": {
      "text/html": [
       "<div>\n",
       "<style scoped>\n",
       "    .dataframe tbody tr th:only-of-type {\n",
       "        vertical-align: middle;\n",
       "    }\n",
       "\n",
       "    .dataframe tbody tr th {\n",
       "        vertical-align: top;\n",
       "    }\n",
       "\n",
       "    .dataframe thead th {\n",
       "        text-align: right;\n",
       "    }\n",
       "</style>\n",
       "<table border=\"1\" class=\"dataframe\">\n",
       "  <thead>\n",
       "    <tr style=\"text-align: right;\">\n",
       "      <th></th>\n",
       "      <th>LR_multiclass</th>\n",
       "      <th>KNN_multiclass</th>\n",
       "      <th>SVM_multiclass</th>\n",
       "      <th>LDA_multiclass</th>\n",
       "      <th>Ensemble_multiclass</th>\n",
       "      <th>Ensemble2_multiclass</th>\n",
       "      <th>LR_multiclass_norm</th>\n",
       "      <th>KNN_multiclass_norm</th>\n",
       "      <th>SVM_multiclass_norm</th>\n",
       "      <th>LDA_multiclass_norm</th>\n",
       "      <th>...</th>\n",
       "      <th>SVM_binary</th>\n",
       "      <th>LDA_binary</th>\n",
       "      <th>Ensemble_binary</th>\n",
       "      <th>Ensemble2_binary</th>\n",
       "      <th>LR_binary_norm</th>\n",
       "      <th>KNN_binary_norm</th>\n",
       "      <th>SVM_binary_norm</th>\n",
       "      <th>LDA_binary_norm</th>\n",
       "      <th>Ensemble_binary_norm</th>\n",
       "      <th>Ensemble2_binary_norm</th>\n",
       "    </tr>\n",
       "  </thead>\n",
       "  <tbody>\n",
       "    <tr>\n",
       "      <th>Mean</th>\n",
       "      <td>0.633822</td>\n",
       "      <td>0.588089</td>\n",
       "      <td>0.633567</td>\n",
       "      <td>0.612357</td>\n",
       "      <td>0.633822</td>\n",
       "      <td>0.633631</td>\n",
       "      <td>0.607516</td>\n",
       "      <td>0.588599</td>\n",
       "      <td>0.626624</td>\n",
       "      <td>0.606306</td>\n",
       "      <td>...</td>\n",
       "      <td>0.627707</td>\n",
       "      <td>0.631465</td>\n",
       "      <td>0.629873</td>\n",
       "      <td>0.627197</td>\n",
       "      <td>0.630382</td>\n",
       "      <td>0.618280</td>\n",
       "      <td>0.626178</td>\n",
       "      <td>0.629490</td>\n",
       "      <td>0.632293</td>\n",
       "      <td>0.631210</td>\n",
       "    </tr>\n",
       "    <tr>\n",
       "      <th>STD</th>\n",
       "      <td>0.033444</td>\n",
       "      <td>0.031784</td>\n",
       "      <td>0.033310</td>\n",
       "      <td>0.032702</td>\n",
       "      <td>0.033444</td>\n",
       "      <td>0.033347</td>\n",
       "      <td>0.036320</td>\n",
       "      <td>0.033512</td>\n",
       "      <td>0.034369</td>\n",
       "      <td>0.036408</td>\n",
       "      <td>...</td>\n",
       "      <td>0.031416</td>\n",
       "      <td>0.033992</td>\n",
       "      <td>0.032775</td>\n",
       "      <td>0.031507</td>\n",
       "      <td>0.034187</td>\n",
       "      <td>0.036202</td>\n",
       "      <td>0.033567</td>\n",
       "      <td>0.033244</td>\n",
       "      <td>0.032947</td>\n",
       "      <td>0.034318</td>\n",
       "    </tr>\n",
       "    <tr>\n",
       "      <th>Max</th>\n",
       "      <td>0.707006</td>\n",
       "      <td>0.681529</td>\n",
       "      <td>0.707006</td>\n",
       "      <td>0.694268</td>\n",
       "      <td>0.707006</td>\n",
       "      <td>0.707006</td>\n",
       "      <td>0.675159</td>\n",
       "      <td>0.681529</td>\n",
       "      <td>0.713376</td>\n",
       "      <td>0.675159</td>\n",
       "      <td>...</td>\n",
       "      <td>0.700637</td>\n",
       "      <td>0.707006</td>\n",
       "      <td>0.700637</td>\n",
       "      <td>0.700637</td>\n",
       "      <td>0.726115</td>\n",
       "      <td>0.726115</td>\n",
       "      <td>0.694268</td>\n",
       "      <td>0.700637</td>\n",
       "      <td>0.700637</td>\n",
       "      <td>0.713376</td>\n",
       "    </tr>\n",
       "    <tr>\n",
       "      <th>Min</th>\n",
       "      <td>0.541401</td>\n",
       "      <td>0.515924</td>\n",
       "      <td>0.541401</td>\n",
       "      <td>0.515924</td>\n",
       "      <td>0.541401</td>\n",
       "      <td>0.541401</td>\n",
       "      <td>0.522293</td>\n",
       "      <td>0.515924</td>\n",
       "      <td>0.541401</td>\n",
       "      <td>0.528662</td>\n",
       "      <td>...</td>\n",
       "      <td>0.541401</td>\n",
       "      <td>0.560510</td>\n",
       "      <td>0.541401</td>\n",
       "      <td>0.535032</td>\n",
       "      <td>0.535032</td>\n",
       "      <td>0.541401</td>\n",
       "      <td>0.541401</td>\n",
       "      <td>0.547771</td>\n",
       "      <td>0.547771</td>\n",
       "      <td>0.528662</td>\n",
       "    </tr>\n",
       "  </tbody>\n",
       "</table>\n",
       "<p>4 rows × 24 columns</p>\n",
       "</div>"
      ],
      "text/plain": [
       "      LR_multiclass  KNN_multiclass  SVM_multiclass  LDA_multiclass   \n",
       "Mean       0.633822        0.588089        0.633567        0.612357  \\\n",
       "STD        0.033444        0.031784        0.033310        0.032702   \n",
       "Max        0.707006        0.681529        0.707006        0.694268   \n",
       "Min        0.541401        0.515924        0.541401        0.515924   \n",
       "\n",
       "      Ensemble_multiclass  Ensemble2_multiclass  LR_multiclass_norm   \n",
       "Mean             0.633822              0.633631            0.607516  \\\n",
       "STD              0.033444              0.033347            0.036320   \n",
       "Max              0.707006              0.707006            0.675159   \n",
       "Min              0.541401              0.541401            0.522293   \n",
       "\n",
       "      KNN_multiclass_norm  SVM_multiclass_norm  LDA_multiclass_norm  ...   \n",
       "Mean             0.588599             0.626624             0.606306  ...  \\\n",
       "STD              0.033512             0.034369             0.036408  ...   \n",
       "Max              0.681529             0.713376             0.675159  ...   \n",
       "Min              0.515924             0.541401             0.528662  ...   \n",
       "\n",
       "      SVM_binary  LDA_binary  Ensemble_binary  Ensemble2_binary   \n",
       "Mean    0.627707    0.631465         0.629873          0.627197  \\\n",
       "STD     0.031416    0.033992         0.032775          0.031507   \n",
       "Max     0.700637    0.707006         0.700637          0.700637   \n",
       "Min     0.541401    0.560510         0.541401          0.535032   \n",
       "\n",
       "      LR_binary_norm  KNN_binary_norm  SVM_binary_norm  LDA_binary_norm   \n",
       "Mean        0.630382         0.618280         0.626178         0.629490  \\\n",
       "STD         0.034187         0.036202         0.033567         0.033244   \n",
       "Max         0.726115         0.726115         0.694268         0.700637   \n",
       "Min         0.535032         0.541401         0.541401         0.547771   \n",
       "\n",
       "      Ensemble_binary_norm  Ensemble2_binary_norm  \n",
       "Mean              0.632293               0.631210  \n",
       "STD               0.032947               0.034318  \n",
       "Max               0.700637               0.713376  \n",
       "Min               0.547771               0.528662  \n",
       "\n",
       "[4 rows x 24 columns]"
      ]
     },
     "execution_count": 41,
     "metadata": {},
     "output_type": "execute_result"
    }
   ],
   "source": [
    "results_complete = pd.concat([results, results_norm, results_binary, results_binary_norm], axis=1)\n",
    "results_complete"
   ]
  },
  {
   "cell_type": "code",
   "execution_count": 42,
   "id": "b3ce8b27",
   "metadata": {
    "scrolled": true
   },
   "outputs": [
    {
     "data": {
      "text/html": [
       "<div>\n",
       "<style scoped>\n",
       "    .dataframe tbody tr th:only-of-type {\n",
       "        vertical-align: middle;\n",
       "    }\n",
       "\n",
       "    .dataframe tbody tr th {\n",
       "        vertical-align: top;\n",
       "    }\n",
       "\n",
       "    .dataframe thead th {\n",
       "        text-align: right;\n",
       "    }\n",
       "</style>\n",
       "<table border=\"1\" class=\"dataframe\">\n",
       "  <thead>\n",
       "    <tr style=\"text-align: right;\">\n",
       "      <th></th>\n",
       "      <th>LR_multiclass_train</th>\n",
       "      <th>KNN_multiclass_train</th>\n",
       "      <th>SVM_multiclass_train</th>\n",
       "      <th>LDA_multiclass_train</th>\n",
       "      <th>Ensemble_multiclass_train</th>\n",
       "      <th>Ensemble2_multiclass_train</th>\n",
       "      <th>LR_multiclass_train_norm</th>\n",
       "      <th>KNN_train_multiclass_norm</th>\n",
       "      <th>SVM_multiclass_train_norm</th>\n",
       "      <th>LDA_train_multiclass_norm</th>\n",
       "      <th>...</th>\n",
       "      <th>SVM_binary_train</th>\n",
       "      <th>LDA_binary_train</th>\n",
       "      <th>Ensemble_binary_train</th>\n",
       "      <th>Ensemble2_binary_train</th>\n",
       "      <th>LR_binary_train_norm</th>\n",
       "      <th>KNN_binary_train_norm</th>\n",
       "      <th>SVM_binary_train_norm</th>\n",
       "      <th>LDA_binary_train_norm</th>\n",
       "      <th>Ensemble_binary_train_norm</th>\n",
       "      <th>Ensemble2_binary_train_norm</th>\n",
       "    </tr>\n",
       "  </thead>\n",
       "  <tbody>\n",
       "    <tr>\n",
       "      <th>Mean</th>\n",
       "      <td>0.628599</td>\n",
       "      <td>0.582357</td>\n",
       "      <td>0.628535</td>\n",
       "      <td>0.597834</td>\n",
       "      <td>0.628599</td>\n",
       "      <td>0.628535</td>\n",
       "      <td>0.588854</td>\n",
       "      <td>0.578599</td>\n",
       "      <td>0.625669</td>\n",
       "      <td>0.596178</td>\n",
       "      <td>...</td>\n",
       "      <td>0.620764</td>\n",
       "      <td>0.607134</td>\n",
       "      <td>0.623439</td>\n",
       "      <td>0.622739</td>\n",
       "      <td>0.631083</td>\n",
       "      <td>0.622229</td>\n",
       "      <td>0.627197</td>\n",
       "      <td>0.632166</td>\n",
       "      <td>0.633758</td>\n",
       "      <td>0.631911</td>\n",
       "    </tr>\n",
       "    <tr>\n",
       "      <th>STD</th>\n",
       "      <td>0.034918</td>\n",
       "      <td>0.036714</td>\n",
       "      <td>0.034850</td>\n",
       "      <td>0.036188</td>\n",
       "      <td>0.034918</td>\n",
       "      <td>0.034850</td>\n",
       "      <td>0.031801</td>\n",
       "      <td>0.038054</td>\n",
       "      <td>0.034464</td>\n",
       "      <td>0.032863</td>\n",
       "      <td>...</td>\n",
       "      <td>0.032608</td>\n",
       "      <td>0.033230</td>\n",
       "      <td>0.032494</td>\n",
       "      <td>0.031072</td>\n",
       "      <td>0.031226</td>\n",
       "      <td>0.033796</td>\n",
       "      <td>0.035193</td>\n",
       "      <td>0.032582</td>\n",
       "      <td>0.033938</td>\n",
       "      <td>0.033551</td>\n",
       "    </tr>\n",
       "    <tr>\n",
       "      <th>Max</th>\n",
       "      <td>0.713376</td>\n",
       "      <td>0.656051</td>\n",
       "      <td>0.713376</td>\n",
       "      <td>0.675159</td>\n",
       "      <td>0.713376</td>\n",
       "      <td>0.713376</td>\n",
       "      <td>0.687898</td>\n",
       "      <td>0.656051</td>\n",
       "      <td>0.707006</td>\n",
       "      <td>0.681529</td>\n",
       "      <td>...</td>\n",
       "      <td>0.681529</td>\n",
       "      <td>0.694268</td>\n",
       "      <td>0.681529</td>\n",
       "      <td>0.681529</td>\n",
       "      <td>0.719745</td>\n",
       "      <td>0.707006</td>\n",
       "      <td>0.707006</td>\n",
       "      <td>0.707006</td>\n",
       "      <td>0.713376</td>\n",
       "      <td>0.713376</td>\n",
       "    </tr>\n",
       "    <tr>\n",
       "      <th>Min</th>\n",
       "      <td>0.547771</td>\n",
       "      <td>0.509554</td>\n",
       "      <td>0.547771</td>\n",
       "      <td>0.522293</td>\n",
       "      <td>0.547771</td>\n",
       "      <td>0.547771</td>\n",
       "      <td>0.515924</td>\n",
       "      <td>0.471338</td>\n",
       "      <td>0.509554</td>\n",
       "      <td>0.509554</td>\n",
       "      <td>...</td>\n",
       "      <td>0.522293</td>\n",
       "      <td>0.535032</td>\n",
       "      <td>0.522293</td>\n",
       "      <td>0.522293</td>\n",
       "      <td>0.566879</td>\n",
       "      <td>0.535032</td>\n",
       "      <td>0.541401</td>\n",
       "      <td>0.566879</td>\n",
       "      <td>0.560510</td>\n",
       "      <td>0.560510</td>\n",
       "    </tr>\n",
       "  </tbody>\n",
       "</table>\n",
       "<p>4 rows × 24 columns</p>\n",
       "</div>"
      ],
      "text/plain": [
       "      LR_multiclass_train  KNN_multiclass_train  SVM_multiclass_train   \n",
       "Mean             0.628599              0.582357              0.628535  \\\n",
       "STD              0.034918              0.036714              0.034850   \n",
       "Max              0.713376              0.656051              0.713376   \n",
       "Min              0.547771              0.509554              0.547771   \n",
       "\n",
       "      LDA_multiclass_train  Ensemble_multiclass_train   \n",
       "Mean              0.597834                   0.628599  \\\n",
       "STD               0.036188                   0.034918   \n",
       "Max               0.675159                   0.713376   \n",
       "Min               0.522293                   0.547771   \n",
       "\n",
       "      Ensemble2_multiclass_train  LR_multiclass_train_norm   \n",
       "Mean                    0.628535                  0.588854  \\\n",
       "STD                     0.034850                  0.031801   \n",
       "Max                     0.713376                  0.687898   \n",
       "Min                     0.547771                  0.515924   \n",
       "\n",
       "      KNN_train_multiclass_norm  SVM_multiclass_train_norm   \n",
       "Mean                   0.578599                   0.625669  \\\n",
       "STD                    0.038054                   0.034464   \n",
       "Max                    0.656051                   0.707006   \n",
       "Min                    0.471338                   0.509554   \n",
       "\n",
       "      LDA_train_multiclass_norm  ...  SVM_binary_train  LDA_binary_train   \n",
       "Mean                   0.596178  ...          0.620764          0.607134  \\\n",
       "STD                    0.032863  ...          0.032608          0.033230   \n",
       "Max                    0.681529  ...          0.681529          0.694268   \n",
       "Min                    0.509554  ...          0.522293          0.535032   \n",
       "\n",
       "      Ensemble_binary_train  Ensemble2_binary_train  LR_binary_train_norm   \n",
       "Mean               0.623439                0.622739              0.631083  \\\n",
       "STD                0.032494                0.031072              0.031226   \n",
       "Max                0.681529                0.681529              0.719745   \n",
       "Min                0.522293                0.522293              0.566879   \n",
       "\n",
       "      KNN_binary_train_norm  SVM_binary_train_norm  LDA_binary_train_norm   \n",
       "Mean               0.622229               0.627197               0.632166  \\\n",
       "STD                0.033796               0.035193               0.032582   \n",
       "Max                0.707006               0.707006               0.707006   \n",
       "Min                0.535032               0.541401               0.566879   \n",
       "\n",
       "      Ensemble_binary_train_norm  Ensemble2_binary_train_norm  \n",
       "Mean                    0.633758                     0.631911  \n",
       "STD                     0.033938                     0.033551  \n",
       "Max                     0.713376                     0.713376  \n",
       "Min                     0.560510                     0.560510  \n",
       "\n",
       "[4 rows x 24 columns]"
      ]
     },
     "execution_count": 42,
     "metadata": {},
     "output_type": "execute_result"
    }
   ],
   "source": [
    "results_complete_train = pd.concat([results_train, results_train_norm, \n",
    "                                    results_binary_train, results_binary_train_norm], axis=1)\n",
    "results_complete_train"
   ]
  },
  {
   "cell_type": "code",
   "execution_count": 43,
   "id": "4b1b92cd",
   "metadata": {},
   "outputs": [],
   "source": [
    "results_complete.to_csv(base_folder_filepath + '\\\\Results\\\\2023.7.17-Regions_Condensed-Results.csv')"
   ]
  },
  {
   "cell_type": "code",
   "execution_count": 44,
   "id": "d2839bc8",
   "metadata": {},
   "outputs": [
    {
     "name": "stdout",
     "output_type": "stream",
     "text": [
      "Logistic Regression: 0.7006369426751592\n",
      "KNN: 0.5668789808917197\n",
      "SVM: 0.6496815286624203\n",
      "LDA: 0.6624203821656051\n",
      "Ensemble: 0.6815286624203821\n",
      "Ensemble2: 0.6624203821656051\n"
     ]
    }
   ],
   "source": [
    "print_predictions(X_binary_train, y_binary_train)"
   ]
  },
  {
   "cell_type": "code",
   "execution_count": 45,
   "id": "77072d01",
   "metadata": {},
   "outputs": [
    {
     "data": {
      "image/png": "[encoded data removed]",
      "text/plain": [
       "<Figure size 2000x500 with 7 Axes>"
      ]
     },
     "metadata": {},
     "output_type": "display_data"
    }
   ],
   "source": [
    "print_cmf(X_binary_train, y_binary_train)"
   ]
  },
  {
   "cell_type": "code",
   "execution_count": 46,
   "id": "b61d7db6",
   "metadata": {},
   "outputs": [
    {
     "name": "stdout",
     "output_type": "stream",
     "text": [
      "Logistic Regression: 0.6496815286624203\n",
      "KNN: 0.6369426751592356\n",
      "SVM: 0.6751592356687898\n",
      "LDA: 0.6624203821656051\n",
      "Ensemble: 0.6624203821656051\n",
      "Ensemble2: 0.6496815286624203\n"
     ]
    }
   ],
   "source": [
    "print_predictions(X_binary_train_norm, y_binary_train)"
   ]
  },
  {
   "cell_type": "code",
   "execution_count": 47,
   "id": "75cf7321",
   "metadata": {},
   "outputs": [
    {
     "data": {
      "image/png": "[encoded data removed]",
      "text/plain": [
       "<Figure size 2000x500 with 7 Axes>"
      ]
     },
     "metadata": {},
     "output_type": "display_data"
    }
   ],
   "source": [
    "print_cmf(X_binary_train_norm, y_binary_train)"
   ]
  },
  {
   "cell_type": "code",
   "execution_count": 48,
   "id": "37b9097b",
   "metadata": {},
   "outputs": [
    {
     "name": "stdout",
     "output_type": "stream",
     "text": [
      "Logistic Regression: 0.7006369426751592\n",
      "KNN: 0.5668789808917197\n",
      "SVM: 0.7006369426751592\n",
      "LDA: 0.6496815286624203\n",
      "Ensemble: 0.7006369426751592\n",
      "Ensemble2: 0.7006369426751592\n"
     ]
    }
   ],
   "source": [
    "print_predictions(X_train, y_train)"
   ]
  },
  {
   "cell_type": "code",
   "execution_count": 49,
   "id": "3906f31a",
   "metadata": {},
   "outputs": [
    {
     "data": {
      "image/png": "[encoded data removed]",
      "text/plain": [
       "<Figure size 2000x500 with 7 Axes>"
      ]
     },
     "metadata": {},
     "output_type": "display_data"
    }
   ],
   "source": [
    "print_cmf(X_train, y_train)"
   ]
  },
  {
   "cell_type": "code",
   "execution_count": 50,
   "id": "e19e7b40",
   "metadata": {},
   "outputs": [
    {
     "name": "stdout",
     "output_type": "stream",
     "text": [
      "Logistic Regression: 0.6496815286624203\n",
      "KNN: 0.6050955414012739\n",
      "SVM: 0.7006369426751592\n",
      "LDA: 0.6496815286624203\n",
      "Ensemble: 0.6815286624203821\n",
      "Ensemble2: 0.6815286624203821\n"
     ]
    }
   ],
   "source": [
    "print_predictions(X_train_norm, y_train)"
   ]
  },
  {
   "cell_type": "code",
   "execution_count": 66,
   "id": "725713d2",
   "metadata": {},
   "outputs": [
    {
     "data": {
      "image/png": "[encoded data removed]",
      "text/plain": [
       "<Figure size 2000x500 with 7 Axes>"
      ]
     },
     "metadata": {},
     "output_type": "display_data"
    }
   ],
   "source": [
    "print_cmf(X_train_norm, y_train)"
   ]
  }
 ],
 "metadata": {
  "kernelspec": {
   "display_name": "Python 3 (ipykernel)",
   "language": "python",
   "name": "python3"
  },
  "language_info": {
   "codemirror_mode": {
    "name": "ipython",
    "version": 3
   },
   "file_extension": ".py",
   "mimetype": "text/x-python",
   "name": "python",
   "nbconvert_exporter": "python",
   "pygments_lexer": "ipython3",
   "version": "3.10.0"
  }
 },
 "nbformat": 4,
 "nbformat_minor": 5
}
