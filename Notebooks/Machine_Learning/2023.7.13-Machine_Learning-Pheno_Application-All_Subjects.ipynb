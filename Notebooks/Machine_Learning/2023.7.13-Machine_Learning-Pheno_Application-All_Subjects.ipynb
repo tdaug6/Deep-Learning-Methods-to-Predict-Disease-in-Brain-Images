{
 "cells": [
  {
   "cell_type": "markdown",
   "id": "f6718f41",
   "metadata": {},
   "source": [
    "# Machine Learning Application: All Subjects\n",
    "\n",
    "This notebook applies what was found in the machine learning for all subjects notebook.\n",
    "There are two datasets used in this notebook: training and testing. \n",
    "The training dataset is the cleaned phenotypic data for all subjects. \n",
    "The testing dataset is the cleaned phenotypic data for all sites.\n",
    "\n",
    "The features for this application is the personal characteristics for each subject as shown in the testing set.\n",
    "\n",
    "The application will include two tests: \n",
    "\n",
    "1. Multi-class classification with LDA\n",
    "\n",
    "2. Binary classification with SVM"
   ]
  },
  {
   "cell_type": "markdown",
   "id": "9d4d8c21",
   "metadata": {},
   "source": [
    "## Imports\n",
    "\n",
    "These are the imports that are required for this notebook to run properly\n",
    "\n",
    "- `os` to access the file\n",
    "\n",
    "- `pandas` to work with dataframes\n",
    "\n",
    "\n",
    "- `SVC` for a SVM machine learning model\n",
    "\n",
    "- `LinearDiscriminantAnalysis` for a LDA machine learning model\n",
    "\n",
    "\n",
    "- `accuracy_score()` and `confusion_matris()` to evaluate the accuracy of the model"
   ]
  },
  {
   "cell_type": "code",
   "execution_count": 1,
   "id": "26ba9d4d",
   "metadata": {},
   "outputs": [],
   "source": [
    "import os\n",
    "import pandas as pd\n",
    "import matplotlib.pyplot as plt\n",
    "import seaborn as sns\n",
    "\n",
    "from sklearn.svm import SVC\n",
    "from sklearn.discriminant_analysis import LinearDiscriminantAnalysis\n",
    "\n",
    "from sklearn.metrics import accuracy_score, confusion_matrix"
   ]
  },
  {
   "cell_type": "markdown",
   "id": "150fc6b7",
   "metadata": {},
   "source": [
    "### get_base_filepath()\n",
    "\n",
    "Access the filepath for th ebase folder of the project. \n",
    "From here, any other asset of the project can be located."
   ]
  },
  {
   "cell_type": "code",
   "execution_count": 2,
   "id": "18789d22",
   "metadata": {},
   "outputs": [],
   "source": [
    "def get_base_filepath():\n",
    "    '''\n",
    "    Access the filepath for the base folder of the project\n",
    "    \n",
    "    Input: None\n",
    "    \n",
    "    Output: The filepath to the root of the folder\n",
    "    '''\n",
    "    # Get current directory\n",
    "    os.path.abspath(os.curdir)\n",
    "\n",
    "    # Go up a directory level\n",
    "    os.chdir('..')\n",
    "    \n",
    "    # Go up a directory level\n",
    "    os.chdir('..')\n",
    "\n",
    "    # Set baseline filepath to the project folder directory\n",
    "    base_folder_filepath = os.path.abspath(os.curdir)\n",
    "    return base_folder_filepath"
   ]
  },
  {
   "cell_type": "markdown",
   "id": "dca09b4b",
   "metadata": {},
   "source": [
    "### normalize()\n",
    "\n",
    "Normalizes a Series\n",
    "\n",
    "**Input:** A feature of type Series\n",
    "\n",
    "**Output:** The normalized feature of type Series"
   ]
  },
  {
   "cell_type": "code",
   "execution_count": 3,
   "id": "d5e0d1c0",
   "metadata": {},
   "outputs": [],
   "source": [
    "def normalize(feature):\n",
    "    '''\n",
    "    This function normalizes a Series\n",
    "    \n",
    "    Input: A feature of type Series\n",
    "    \n",
    "    Output: The normalized feature of type Series\n",
    "    '''\n",
    "    # If the standard deviation is 0, do not divide by it\n",
    "    if feature.std() == 0:\n",
    "        return feature - feature.mean()\n",
    "    \n",
    "    # Otherwise, divide by the standard deviation\n",
    "    return (feature - feature.mean())/feature.std()"
   ]
  },
  {
   "cell_type": "markdown",
   "id": "df2ac0bd",
   "metadata": {},
   "source": [
    "### normalize_features()\n",
    "\n",
    "Normalizes all features in a given dataframe. This will normalize ALL features, so ensure that the inputted dataframe consists only of numeric values.\n",
    "\n",
    "**Input:** A dataframe to normalize\n",
    "\n",
    "**Output:** A normalized dataframe"
   ]
  },
  {
   "cell_type": "code",
   "execution_count": 4,
   "id": "0e02eca7",
   "metadata": {},
   "outputs": [],
   "source": [
    "def normalize_features(df):\n",
    "    '''\n",
    "    This function normalizes all features in a dataframe\n",
    "    \n",
    "    Input: A pandas dataframe\n",
    "    \n",
    "    Output: The normalized dataframe\n",
    "    '''\n",
    "    for column in df.columns:\n",
    "        df[column] = normalize(df[column])\n",
    "    return df"
   ]
  },
  {
   "cell_type": "markdown",
   "id": "7f24c6bf",
   "metadata": {},
   "source": [
    "### print_confusion_matrix()\n",
    "\n",
    "Print a confusion matrix\n",
    "    \n",
    "**Input:**\n",
    "- Confusion matrix to print\n",
    "- A string to make a more clear title for the graph\n",
    "        \n",
    "**Ouput:** Display the confusion matrix"
   ]
  },
  {
   "cell_type": "code",
   "execution_count": 5,
   "id": "712eae05",
   "metadata": {},
   "outputs": [],
   "source": [
    "def print_confusion_matrix(cmf, name):\n",
    "    '''\n",
    "    Print a confusion matrix\n",
    "    \n",
    "    Input:\n",
    "        - Confusion matrix to print\n",
    "        - A string to make a more clear title for the graph\n",
    "        \n",
    "    Ouput: Display the confusion matrix\n",
    "    '''\n",
    "    # Create matrix part of heatmape\n",
    "    sns.heatmap(cmf,\n",
    "            annot=True,\n",
    "            fmt='g',\n",
    "        )\n",
    "    \n",
    "    # Make graph labels\n",
    "    plt.ylabel('Prediction',fontsize=13)\n",
    "    plt.xlabel('Actual',fontsize=13)\n",
    "    plt.title('Confusion Matrix for ' + name, fontsize=17)\n",
    "    \n",
    "    # Display graph\n",
    "    plt.show()"
   ]
  },
  {
   "cell_type": "markdown",
   "id": "2d12b3b3",
   "metadata": {},
   "source": [
    "## Import File\n",
    "\n",
    "Locate the file using its filepath from the base folder and load the file as a dataframe."
   ]
  },
  {
   "cell_type": "code",
   "execution_count": 6,
   "id": "62601446",
   "metadata": {},
   "outputs": [],
   "source": [
    "# The folder for the project\n",
    "base_folder_filepath = get_base_filepath()\n",
    "\n",
    "# Phenotypic data site folder\n",
    "filepath_train = base_folder_filepath + '\\\\Data\\\\Phenotypic\\\\2023.7.13-Cleaned_Phenotypic_All_Subjects.csv'\n",
    "filepath_test = base_folder_filepath + '\\\\Data\\\\Phenotypic\\\\2023.7.11-Cleaned_Phenotypic_Training_Sites.csv'\n",
    "\n",
    "# Dataframe from filepath\n",
    "df_train = pd.read_csv(filepath_train, index_col='ScanDir ID')\n",
    "df_test = pd.read_csv(filepath_test, index_col='ID')"
   ]
  },
  {
   "cell_type": "markdown",
   "id": "95c6aa0f",
   "metadata": {},
   "source": [
    "### Condense Training Dataframe\n",
    "\n",
    "The three unfilled IQ columns contain null values. \n",
    "Since the who dataframe will be used for training, it won't be necessary to include them. \n",
    "These features will be replaced with the filled versions of these columns and have the names changed to match the testing features."
   ]
  },
  {
   "cell_type": "code",
   "execution_count": 7,
   "id": "09428eaa",
   "metadata": {},
   "outputs": [],
   "source": [
    "df_train_condensed = df_train.copy()\n",
    "\n",
    "df_train_condensed['Performance IQ'] = df_train_condensed['Performance IQ Filled']\n",
    "df_train_condensed['Verbal IQ'] = df_train_condensed['Verbal IQ Filled']\n",
    "df_train_condensed['IQ'] = df_train_condensed['IQ Filled']\n",
    "\n",
    "df_train_condensed = df_train_condensed.drop(['Performance IQ Filled', 'Verbal IQ Filled', 'IQ Filled'], axis=1)"
   ]
  },
  {
   "cell_type": "markdown",
   "id": "d0944e96",
   "metadata": {},
   "source": [
    "# Multi-Class Classificaiton\n",
    "\n",
    "This section investigates how models perform when predicting the type of ADHD the subject has or if they are a control.\n",
    "\n",
    "This is accomplished by using the phenotypic data for the sites. The target will be the diagnosis which includes three types with each number corresponding to a type diagnosis for ADHD.\n",
    "\n",
    "    0 = TDC (Typically developing children)\n",
    "    1 = ADHD-Combined\n",
    "    2 = ADHD-Hyperactive/Impulsive\n",
    "    3 = ADHD-Inattentive"
   ]
  },
  {
   "cell_type": "markdown",
   "id": "fe93ed23",
   "metadata": {},
   "source": [
    "### Separate data\n",
    "\n",
    "Split the training and testing dataframes into features and targets. \n",
    "The target for the models is the diagnosis."
   ]
  },
  {
   "cell_type": "code",
   "execution_count": 8,
   "id": "7c276c63",
   "metadata": {},
   "outputs": [],
   "source": [
    "X_train = df_train_condensed.drop('DX', axis=1)\n",
    "y_train = df_train_condensed['DX']\n",
    "\n",
    "X_test = df_test.drop('DX', axis=1)\n",
    "y_test = df_test['DX']"
   ]
  },
  {
   "cell_type": "markdown",
   "id": "bf6da25e",
   "metadata": {},
   "source": [
    "### Model\n",
    "\n",
    "Train a LDA model on the training set and use it to make predictions. \n",
    "Display the accuracy."
   ]
  },
  {
   "cell_type": "code",
   "execution_count": 9,
   "id": "62855c4f",
   "metadata": {},
   "outputs": [
    {
     "data": {
      "text/plain": [
       "0.5964912280701754"
      ]
     },
     "execution_count": 9,
     "metadata": {},
     "output_type": "execute_result"
    }
   ],
   "source": [
    "clf = LinearDiscriminantAnalysis().fit(X_train, y_train)\n",
    "\n",
    "preds = clf.predict(X_test)\n",
    "accuracy = accuracy_score(y_test, preds)\n",
    "accuracy"
   ]
  },
  {
   "cell_type": "markdown",
   "id": "8c884881",
   "metadata": {},
   "source": [
    "### Confusion Matrix\n",
    "\n",
    "Display the confusion matrix to understand what mistakes the model made."
   ]
  },
  {
   "cell_type": "code",
   "execution_count": 10,
   "id": "43b007b6",
   "metadata": {},
   "outputs": [
    {
     "data": {
      "image/png": "[encoded data removed]",
      "text/plain": [
       "<Figure size 640x480 with 2 Axes>"
      ]
     },
     "metadata": {},
     "output_type": "display_data"
    }
   ],
   "source": [
    "cfm = confusion_matrix(y_test, preds, labels=clf.classes_)\n",
    "\n",
    "print_confusion_matrix(cfm, 'All Sites')"
   ]
  },
  {
   "cell_type": "markdown",
   "id": "1457d13d",
   "metadata": {},
   "source": [
    "--------------------------------------------------------------------------------------------------------------------------------"
   ]
  },
  {
   "cell_type": "markdown",
   "id": "52a79a5a",
   "metadata": {},
   "source": [
    "# Binary Classificaiton\n",
    "\n",
    "This section investigates how models perform when predicting whether a patient has ADHD or not. \n",
    "\n",
    "This is accomplished by converting the diagnosis to a binary value based on if their diagnosis is a control or has some type of ADHD. \n",
    "For this feature, 'True' signifies the subject has ADHD and 'False' signifies the subject is a control and does not have ADHD.\n",
    "\n",
    "Theoretically, this model should perform better than the multi-class classification since it is simpler."
   ]
  },
  {
   "cell_type": "code",
   "execution_count": 11,
   "id": "5cd75845",
   "metadata": {},
   "outputs": [
    {
     "name": "stderr",
     "output_type": "stream",
     "text": [
      "C:\\Users\\taylo\\AppData\\Local\\Temp\\ipykernel_8112\\2046022704.py:5: SettingWithCopyWarning: \n",
      "A value is trying to be set on a copy of a slice from a DataFrame\n",
      "\n",
      "See the caveats in the documentation: https://pandas.pydata.org/pandas-docs/stable/user_guide/indexing.html#returning-a-view-versus-a-copy\n",
      "  df_test_binary['DX'].loc[df_test['DX'] > 0] = 1\n"
     ]
    }
   ],
   "source": [
    "df_train_binary = df_train_condensed.copy()\n",
    "df_train_binary['DX'].loc[df_train_binary['DX'] > 0] = 1\n",
    "\n",
    "df_test_binary = df_test.copy()\n",
    "df_test_binary['DX'].loc[df_test['DX'] > 0] = 1"
   ]
  },
  {
   "cell_type": "markdown",
   "id": "bc84ea66",
   "metadata": {},
   "source": [
    "### Separate data\n",
    "\n",
    "Split the training and testing dataframes into features and targets. \n",
    "The target for the models is the diagnosis."
   ]
  },
  {
   "cell_type": "code",
   "execution_count": 12,
   "id": "9c7c8211",
   "metadata": {},
   "outputs": [],
   "source": [
    "X_train_binary = df_train_binary.drop('DX', axis=1)\n",
    "y_train_binary = df_train_binary['DX']\n",
    "\n",
    "X_test_binary = df_test_binary.drop('DX', axis=1)\n",
    "y_test_binary = df_test_binary['DX']"
   ]
  },
  {
   "cell_type": "markdown",
   "id": "2f9597c5",
   "metadata": {},
   "source": [
    "### Normalize Features\n",
    "\n",
    "Normalize the features for the training and testing datasets."
   ]
  },
  {
   "cell_type": "code",
   "execution_count": 13,
   "id": "f407f931",
   "metadata": {},
   "outputs": [],
   "source": [
    "X_train_binary = normalize_features(X_train_binary)\n",
    "X_test_binary = normalize_features(X_test_binary)"
   ]
  },
  {
   "cell_type": "markdown",
   "id": "1d860611",
   "metadata": {},
   "source": [
    "### Model\n",
    "\n",
    "Train a LDA model on the training set and use it to make predictions. \n",
    "Display the accuracy."
   ]
  },
  {
   "cell_type": "code",
   "execution_count": 17,
   "id": "bb7587a2",
   "metadata": {},
   "outputs": [
    {
     "data": {
      "text/plain": [
       "0.6608187134502924"
      ]
     },
     "execution_count": 17,
     "metadata": {},
     "output_type": "execute_result"
    }
   ],
   "source": [
    "clf_binary = SVC().fit(X_train_binary, y_train_binary)\n",
    "\n",
    "preds_binary = clf_binary.predict(X_test_binary)\n",
    "accuracy_binary = accuracy_score(y_test_binary, preds_binary)\n",
    "accuracy_binary"
   ]
  },
  {
   "cell_type": "markdown",
   "id": "ff5f821c",
   "metadata": {},
   "source": [
    "### Confusion Matrix\n",
    "\n",
    "Display the confusion matrix to understand what mistakes the model made."
   ]
  },
  {
   "cell_type": "code",
   "execution_count": 22,
   "id": "2af75a91",
   "metadata": {},
   "outputs": [
    {
     "data": {
      "image/png": "[encoded data removed]",
      "text/plain": [
       "<Figure size 500x300 with 2 Axes>"
      ]
     },
     "metadata": {},
     "output_type": "display_data"
    }
   ],
   "source": [
    "cfm_binary = confusion_matrix(y_test_binary, preds_binary, labels=clf_binary.classes_)\n",
    "\n",
    "plt.figure(figsize=(5,3))\n",
    "print_confusion_matrix(cfm_binary, 'All Sites (binary)')"
   ]
  }
 ],
 "metadata": {
  "kernelspec": {
   "display_name": "Python 3 (ipykernel)",
   "language": "python",
   "name": "python3"
  },
  "language_info": {
   "codemirror_mode": {
    "name": "ipython",
    "version": 3
   },
   "file_extension": ".py",
   "mimetype": "text/x-python",
   "name": "python",
   "nbconvert_exporter": "python",
   "pygments_lexer": "ipython3",
   "version": "3.10.0"
  }
 },
 "nbformat": 4,
 "nbformat_minor": 5
}
