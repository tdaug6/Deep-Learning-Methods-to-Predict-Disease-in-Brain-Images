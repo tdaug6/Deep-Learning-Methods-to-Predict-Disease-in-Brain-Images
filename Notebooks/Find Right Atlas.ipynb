{
 "cells": [
  {
   "cell_type": "markdown",
   "id": "939efecc",
   "metadata": {},
   "source": [
    "# Find the Right Atlas\n",
    "\n",
    "This file was created to find the atlas with matching dimensions for the file that will be used for analysis\n",
    "\n",
    "Atlases were accessed from two websites:\n",
    "\n",
    "- https://github.com/neurodata/neuroparc/tree/master/atlases/label/Human Files with size 4x4x4 mm\n",
    "\n",
    "- https://www.nitrc.org/frs/?group_id=383 Section: Package: ADHD200 Preproc Athena > AAL Time Courses Corrected Filtering\n",
    "\n",
    "The usability of the atlas was determine by comparing the dimensions (with the `shape` attribute) of the atlas to the dimensions of the fMRI file. If the dimensions match, the atlas is usable. If the dimensions don't match, the atlas is unusable."
   ]
  },
  {
   "cell_type": "markdown",
   "id": "2f35d9a2",
   "metadata": {},
   "source": [
    "## fMRI\n",
    "\n",
    "This is an example of a NIfTI file that will have the atlas applied to it. All files have the same dimensions, so using only one sample file from the set will be necessary for comparison.\n",
    "\n",
    "### File attributes\n",
    "\n",
    "1. All files will be recorded from the Brown site\n",
    "\n",
    "2. All files will be the preprocessed fMRI using the Athena pipeline\n",
    "\n",
    "    - Template file name: sfnwmrda{subject#}_session_{session#}_rest_{scan#}.nii.gz\n",
    "    \n",
    "3. The `fdata` attribute of the file will be used to compare dimensions\n",
    "\n",
    "### Sample file\n",
    "\n",
    "This file represents an preprocessed fMRI for patient 0026001\n",
    "\n",
    "### Dimensions\n",
    "\n",
    "The dimensions that the atlas will need to match are (49, 58, 47, 247)"
   ]
  },
  {
   "cell_type": "code",
   "execution_count": 1,
   "id": "45f07664",
   "metadata": {},
   "outputs": [
    {
     "data": {
      "text/plain": [
       "(49, 58, 47, 247)"
      ]
     },
     "execution_count": 1,
     "metadata": {},
     "output_type": "execute_result"
    }
   ],
   "source": [
    "import nibabel as nib\n",
    "import matplotlib.pyplot as plt\n",
    "\n",
    "img = nib.load('Brown/0026001/sfnwmrda0026001_session_1_rest_1.nii.gz')\n",
    "img_data = img.get_fdata()\n",
    "\n",
    "img_data.shape"
   ]
  },
  {
   "cell_type": "markdown",
   "id": "97bd782e",
   "metadata": {},
   "source": [
    "### Visualize\n",
    "\n",
    "To ensure that this file contains the correct data, the image is displayed.\n",
    "\n",
    "The image reveals that this is the correct file type"
   ]
  },
  {
   "cell_type": "code",
   "execution_count": 2,
   "id": "107826b9",
   "metadata": {},
   "outputs": [
    {
     "data": {
      "image/png": "[encoded data removed]",
      "text/plain": [
       "<Figure size 640x480 with 1 Axes>"
      ]
     },
     "metadata": {},
     "output_type": "display_data"
    }
   ],
   "source": [
    "import scipy.ndimage as ndi\n",
    "\n",
    "plt.imshow(ndi.rotate(img_data[25, :, :, 0], 90), cmap='bone')\n",
    "plt.axis('off')\n",
    "plt.show()"
   ]
  },
  {
   "cell_type": "markdown",
   "id": "384f4a44",
   "metadata": {},
   "source": [
    "## Load Atlases\n",
    "\n",
    "This is where all of the atlases will be loaded and have their dimensions checked using the `shape` attribute. As discussed previously, the shape to match is (49, 58, 47)"
   ]
  },
  {
   "cell_type": "markdown",
   "id": "c78e9fdb",
   "metadata": {},
   "source": [
    "### GitHub Atlases\n",
    "\n",
    "These atlases were accessed from a GitHub repository. This repository contains many atlases for three different sizes (1x1, 2x2, 4x4). The only atlases that will be tested are 4x4 since this is the resolution of the images that will have the atlas applied to them.\n",
    "\n",
    "The link to access these atlases can be found here: https://github.com/neurodata/neuroparc/tree/master/atlases/label/Human"
   ]
  },
  {
   "cell_type": "code",
   "execution_count": 3,
   "id": "27b8a376",
   "metadata": {},
   "outputs": [
    {
     "data": {
      "text/plain": [
       "(45, 54, 45)"
      ]
     },
     "execution_count": 3,
     "metadata": {},
     "output_type": "execute_result"
    }
   ],
   "source": [
    "AAL_atlas = nib.load('Atlases/AAL_space-MNI152NLin6_res-4x4x4.nii.gz')\n",
    "AAL_atlas_data = AAL_atlas.get_fdata()\n",
    "\n",
    "AAL_atlas_data.shape"
   ]
  },
  {
   "cell_type": "code",
   "execution_count": 4,
   "id": "bb8b05d4",
   "metadata": {},
   "outputs": [
    {
     "data": {
      "text/plain": [
       "(45, 54, 45)"
      ]
     },
     "execution_count": 4,
     "metadata": {},
     "output_type": "execute_result"
    }
   ],
   "source": [
    "AICHA_atlas = nib.load('Atlases/AICHAJoliot2015_space-MNI152NLin6_res-4x4x4.nii.gz')\n",
    "AICHA_atlas_data = AICHA_atlas.get_fdata()\n",
    "\n",
    "AICHA_atlas_data.shape"
   ]
  },
  {
   "cell_type": "code",
   "execution_count": 5,
   "id": "57810cb5",
   "metadata": {},
   "outputs": [
    {
     "data": {
      "text/plain": [
       "(45, 54, 45)"
      ]
     },
     "execution_count": 5,
     "metadata": {},
     "output_type": "execute_result"
    }
   ],
   "source": [
    "Brodmann_atlas = nib.load('Atlases/Brodmann_space-MNI152NLin6_res-4x4x4.nii.gz')\n",
    "Brodmann_atlas_data = Brodmann_atlas.get_fdata()\n",
    "\n",
    "Brodmann_atlas_data.shape"
   ]
  },
  {
   "cell_type": "code",
   "execution_count": 6,
   "id": "560f5b56",
   "metadata": {},
   "outputs": [
    {
     "data": {
      "text/plain": [
       "(45, 54, 45)"
      ]
     },
     "execution_count": 6,
     "metadata": {},
     "output_type": "execute_result"
    }
   ],
   "source": [
    "CAPRSC_atlas = nib.load('Atlases/CAPRSC_space-MNI152NLin6_res-4x4x4.nii.gz')\n",
    "CAPRSC_atlas_data = CAPRSC_atlas.get_fdata()\n",
    "\n",
    "CAPRSC_atlas_data.shape"
   ]
  },
  {
   "cell_type": "code",
   "execution_count": 7,
   "id": "7f20fbbf",
   "metadata": {},
   "outputs": [
    {
     "data": {
      "text/plain": [
       "(45, 54, 45)"
      ]
     },
     "execution_count": 7,
     "metadata": {},
     "output_type": "execute_result"
    }
   ],
   "source": [
    "CPAC200_atlas = nib.load('Atlases/CPAC200_space-MNI152NLin6_res-4x4x4.nii.gz')\n",
    "CPAC200_atlas_data = CPAC200_atlas.get_fdata()\n",
    "\n",
    "CPAC200_atlas_data.shape"
   ]
  },
  {
   "cell_type": "code",
   "execution_count": 8,
   "id": "4304dd26",
   "metadata": {},
   "outputs": [
    {
     "data": {
      "text/plain": [
       "(45, 54, 45)"
      ]
     },
     "execution_count": 8,
     "metadata": {},
     "output_type": "execute_result"
    }
   ],
   "source": [
    "DKT_space_atlas = nib.load('Atlases/DKT_space-MNI152NLin6_res-4x4x4.nii.gz')\n",
    "DKT_space_atlas_data = DKT_space_atlas.get_fdata()\n",
    "\n",
    "DKT_space_atlas_data.shape"
   ]
  },
  {
   "cell_type": "code",
   "execution_count": 9,
   "id": "80bfd329",
   "metadata": {},
   "outputs": [
    {
     "data": {
      "text/plain": [
       "(45, 54, 45)"
      ]
     },
     "execution_count": 9,
     "metadata": {},
     "output_type": "execute_result"
    }
   ],
   "source": [
    "DS00071_atlas = nib.load('Atlases/DS00071_space-MNI152NLin6_res-4x4x4.nii.gz')\n",
    "DS00071_atlas_data = DS00071_atlas.get_fdata()\n",
    "\n",
    "DS00071_atlas_data.shape"
   ]
  },
  {
   "cell_type": "code",
   "execution_count": 10,
   "id": "5be3d20d",
   "metadata": {
    "scrolled": true
   },
   "outputs": [
    {
     "data": {
      "text/plain": [
       "(45, 54, 45)"
      ]
     },
     "execution_count": 10,
     "metadata": {},
     "output_type": "execute_result"
    }
   ],
   "source": [
    "DS00096_atlas = nib.load('Atlases/DS00096_space-MNI152NLin6_res-4x4x4.nii.gz')\n",
    "DS00096_atlas_data = DS00096_atlas.get_fdata()\n",
    "\n",
    "DS00096_atlas_data.shape"
   ]
  },
  {
   "cell_type": "code",
   "execution_count": 11,
   "id": "cf830b8d",
   "metadata": {},
   "outputs": [
    {
     "data": {
      "text/plain": [
       "(45, 54, 45)"
      ]
     },
     "execution_count": 11,
     "metadata": {},
     "output_type": "execute_result"
    }
   ],
   "source": [
    "DS00108_atlas = nib.load('Atlases/DS00108_space-MNI152NLin6_res-4x4x4.nii.gz')\n",
    "DS00108_atlas_data = DS00108_atlas.get_fdata()\n",
    "\n",
    "DS00108_atlas_data.shape"
   ]
  },
  {
   "cell_type": "code",
   "execution_count": 12,
   "id": "a0ecc9e7",
   "metadata": {},
   "outputs": [
    {
     "data": {
      "text/plain": [
       "(45, 54, 45)"
      ]
     },
     "execution_count": 12,
     "metadata": {},
     "output_type": "execute_result"
    }
   ],
   "source": [
    "DS00140_atlas = nib.load('Atlases/DS00140_space-MNI152NLin6_res-4x4x4.nii.gz')\n",
    "DS00140_atlas_data = DS00140_atlas.get_fdata()\n",
    "\n",
    "DS00140_atlas_data.shape"
   ]
  },
  {
   "cell_type": "code",
   "execution_count": 13,
   "id": "a69c6354",
   "metadata": {},
   "outputs": [
    {
     "data": {
      "text/plain": [
       "(45, 54, 45)"
      ]
     },
     "execution_count": 13,
     "metadata": {},
     "output_type": "execute_result"
    }
   ],
   "source": [
    "DS00195_atlas = nib.load('Atlases/DS00195_space-MNI152NLin6_res-4x4x4.nii.gz')\n",
    "DS00195_atlas_data = DS00195_atlas.get_fdata()\n",
    "\n",
    "DS00195_atlas_data.shape"
   ]
  },
  {
   "cell_type": "code",
   "execution_count": 14,
   "id": "be2b671c",
   "metadata": {},
   "outputs": [
    {
     "data": {
      "text/plain": [
       "(45, 54, 45)"
      ]
     },
     "execution_count": 14,
     "metadata": {},
     "output_type": "execute_result"
    }
   ],
   "source": [
    "DS00278_atlas = nib.load('Atlases/DS00278_space-MNI152NLin6_res-4x4x4.nii.gz')\n",
    "DS00278_atlas_data = DS00278_atlas.get_fdata()\n",
    "\n",
    "DS00278_atlas_data.shape"
   ]
  },
  {
   "cell_type": "code",
   "execution_count": 15,
   "id": "d56645d9",
   "metadata": {},
   "outputs": [
    {
     "data": {
      "text/plain": [
       "(45, 54, 45)"
      ]
     },
     "execution_count": 15,
     "metadata": {},
     "output_type": "execute_result"
    }
   ],
   "source": [
    "DS00350_atlas = nib.load('Atlases/DS00350_space-MNI152NLin6_res-4x4x4.nii.gz')\n",
    "DS00350_atlas_data = DS00350_atlas.get_fdata()\n",
    "\n",
    "DS00350_atlas_data.shape"
   ]
  },
  {
   "cell_type": "code",
   "execution_count": 16,
   "id": "e078c368",
   "metadata": {},
   "outputs": [
    {
     "data": {
      "text/plain": [
       "(45, 54, 45)"
      ]
     },
     "execution_count": 16,
     "metadata": {},
     "output_type": "execute_result"
    }
   ],
   "source": [
    "DS00446_atlas = nib.load('Atlases/DS00446_space-MNI152NLin6_res-4x4x4.nii.gz')\n",
    "DS00446_atlas_data = DS00446_atlas.get_fdata()\n",
    "\n",
    "DS00446_atlas_data.shape"
   ]
  },
  {
   "cell_type": "code",
   "execution_count": 17,
   "id": "a61cbf65",
   "metadata": {},
   "outputs": [
    {
     "data": {
      "text/plain": [
       "(45, 54, 45)"
      ]
     },
     "execution_count": 17,
     "metadata": {},
     "output_type": "execute_result"
    }
   ],
   "source": [
    "DS00583_atlas = nib.load('Atlases/DS00583_space-MNI152NLin6_res-4x4x4.nii.gz')\n",
    "DS00583_atlas_data = DS00583_atlas.get_fdata()\n",
    "\n",
    "DS00583_atlas_data.shape"
   ]
  },
  {
   "cell_type": "code",
   "execution_count": 18,
   "id": "efafb5d8",
   "metadata": {},
   "outputs": [
    {
     "data": {
      "text/plain": [
       "(45, 54, 45)"
      ]
     },
     "execution_count": 18,
     "metadata": {},
     "output_type": "execute_result"
    }
   ],
   "source": [
    "DS00833_atlas = nib.load('Atlases/DS00833_space-MNI152NLin6_res-4x4x4.nii.gz')\n",
    "DS00833_atlas_data = DS00833_atlas.get_fdata()\n",
    "\n",
    "DS00833_atlas_data.shape"
   ]
  },
  {
   "cell_type": "code",
   "execution_count": 19,
   "id": "88175b93",
   "metadata": {},
   "outputs": [
    {
     "data": {
      "text/plain": [
       "(45, 54, 45)"
      ]
     },
     "execution_count": 19,
     "metadata": {},
     "output_type": "execute_result"
    }
   ],
   "source": [
    "DS01216_atlas = nib.load('Atlases/DS01216_space-MNI152NLin6_res-4x4x4.nii.gz')\n",
    "DS01216_atlas_data = DS01216_atlas.get_fdata()\n",
    "\n",
    "DS01216_atlas_data.shape"
   ]
  },
  {
   "cell_type": "code",
   "execution_count": 20,
   "id": "ab81fd7c",
   "metadata": {},
   "outputs": [
    {
     "data": {
      "text/plain": [
       "(45, 54, 45)"
      ]
     },
     "execution_count": 20,
     "metadata": {},
     "output_type": "execute_result"
    }
   ],
   "source": [
    "DS01876_atlas = nib.load('Atlases/DS01876_space-MNI152NLin6_res-4x4x4.nii.gz')\n",
    "DS01876_atlas_data = DS01876_atlas.get_fdata()\n",
    "\n",
    "DS01876_atlas_data.shape"
   ]
  },
  {
   "cell_type": "code",
   "execution_count": 21,
   "id": "4a456204",
   "metadata": {},
   "outputs": [
    {
     "data": {
      "text/plain": [
       "(45, 54, 45)"
      ]
     },
     "execution_count": 21,
     "metadata": {},
     "output_type": "execute_result"
    }
   ],
   "source": [
    "DS03231_atlas = nib.load('Atlases/DS03231_space-MNI152NLin6_res-4x4x4.nii.gz')\n",
    "DS03231_atlas_data = DS03231_atlas.get_fdata()\n",
    "\n",
    "DS03231_atlas_data.shape"
   ]
  },
  {
   "cell_type": "code",
   "execution_count": 22,
   "id": "359e6c52",
   "metadata": {},
   "outputs": [
    {
     "data": {
      "text/plain": [
       "(45, 54, 45)"
      ]
     },
     "execution_count": 22,
     "metadata": {},
     "output_type": "execute_result"
    }
   ],
   "source": [
    "DS06481_atlas = nib.load('Atlases/DS06481_space-MNI152NLin6_res-4x4x4.nii.gz')\n",
    "DS06481_atlas_data = DS06481_atlas.get_fdata()\n",
    "\n",
    "DS06481_atlas_data.shape"
   ]
  },
  {
   "cell_type": "code",
   "execution_count": 23,
   "id": "7eb93fe3",
   "metadata": {},
   "outputs": [
    {
     "data": {
      "text/plain": [
       "(45, 54, 45)"
      ]
     },
     "execution_count": 23,
     "metadata": {},
     "output_type": "execute_result"
    }
   ],
   "source": [
    "DS16784_atlas = nib.load('Atlases/DS16784_space-MNI152NLin6_res-4x4x4.nii.gz')\n",
    "DS16784_atlas_data = DS16784_atlas.get_fdata()\n",
    "\n",
    "DS16784_atlas_data.shape"
   ]
  },
  {
   "cell_type": "code",
   "execution_count": 24,
   "id": "e8fa8cf8",
   "metadata": {},
   "outputs": [
    {
     "data": {
      "text/plain": [
       "(45, 54, 45)"
      ]
     },
     "execution_count": 24,
     "metadata": {},
     "output_type": "execute_result"
    }
   ],
   "source": [
    "DS72784_atlas = nib.load('Atlases/DS72784_space-MNI152NLin6_res-4x4x4.nii.gz')\n",
    "DS72784_atlas_data = DS72784_atlas.get_fdata()\n",
    "\n",
    "DS72784_atlas_data.shape"
   ]
  },
  {
   "cell_type": "code",
   "execution_count": 25,
   "id": "181c705e",
   "metadata": {},
   "outputs": [
    {
     "data": {
      "text/plain": [
       "(45, 54, 45)"
      ]
     },
     "execution_count": 25,
     "metadata": {},
     "output_type": "execute_result"
    }
   ],
   "source": [
    "DesikanKlein_atlas = nib.load('Atlases/DesikanKlein_space-MNI152NLin6_res-4x4x4.nii.gz')\n",
    "DesikanKlein_atlas_data = DesikanKlein_atlas.get_fdata()\n",
    "\n",
    "DesikanKlein_atlas_data.shape"
   ]
  },
  {
   "cell_type": "code",
   "execution_count": 26,
   "id": "da5f2d99",
   "metadata": {},
   "outputs": [
    {
     "data": {
      "text/plain": [
       "(45, 54, 45)"
      ]
     },
     "execution_count": 26,
     "metadata": {},
     "output_type": "execute_result"
    }
   ],
   "source": [
    "Desikan_atlas = nib.load('Atlases/Desikan_space-MNI152NLin6_res-4x4x4.nii.gz')\n",
    "Desikan_atlas_data = Desikan_atlas.get_fdata()\n",
    "\n",
    "Desikan_atlas_data.shape"
   ]
  },
  {
   "cell_type": "code",
   "execution_count": 27,
   "id": "847db7fe",
   "metadata": {},
   "outputs": [
    {
     "data": {
      "text/plain": [
       "(45, 54, 45)"
      ]
     },
     "execution_count": 27,
     "metadata": {},
     "output_type": "execute_result"
    }
   ],
   "source": [
    "Destrieux_atlas = nib.load('Atlases/Destrieux_space-MNI152NLin6_res-4x4x4.nii.gz')\n",
    "Destrieux_atlas_data = Destrieux_atlas.get_fdata()\n",
    "\n",
    "Destrieux_atlas_data.shape"
   ]
  },
  {
   "cell_type": "markdown",
   "id": "bdcf4fc3",
   "metadata": {},
   "source": [
    "All of the atlases checked so far have the same dimensions. I am making the assumption that all files in this repository will have the same dimensions, so I should look elsewhere for an eligible atlas."
   ]
  },
  {
   "cell_type": "markdown",
   "id": "96d71e09",
   "metadata": {},
   "source": [
    "### Athena download\n",
    "\n",
    "Within the ADHD 200 download for the Athena pipeline, there is an aal template that could be the correct atlas.\n",
    "\n",
    "This was downloaded at https://www.nitrc.org/frs/?group_id=383 within the ADHD200 Preproc Athena section and the AAL Time Courses Corrected Filtering download"
   ]
  },
  {
   "cell_type": "code",
   "execution_count": 28,
   "id": "56736034",
   "metadata": {},
   "outputs": [
    {
     "data": {
      "text/plain": [
       "(49, 58, 47)"
      ]
     },
     "execution_count": 28,
     "metadata": {},
     "output_type": "execute_result"
    }
   ],
   "source": [
    "ADHD_AAL_atlas = nib.load('ADHD200_AAL_TCs_filtfix/templates/aal_mask_pad.nii.gz')\n",
    "ADHD_AAL_atlas_data = ADHD_AAL_atlas.get_fdata()\n",
    "\n",
    "ADHD_AAL_atlas_data.shape"
   ]
  },
  {
   "cell_type": "markdown",
   "id": "2eed126d",
   "metadata": {},
   "source": [
    "This atlas works! This is what will be applied to the fMRI files in the Brown dataset"
   ]
  }
 ],
 "metadata": {
  "kernelspec": {
   "display_name": "Python 3 (ipykernel)",
   "language": "python",
   "name": "python3"
  },
  "language_info": {
   "codemirror_mode": {
    "name": "ipython",
    "version": 3
   },
   "file_extension": ".py",
   "mimetype": "text/x-python",
   "name": "python",
   "nbconvert_exporter": "python",
   "pygments_lexer": "ipython3",
   "version": "3.10.0"
  }
 },
 "nbformat": 4,
 "nbformat_minor": 5
}
