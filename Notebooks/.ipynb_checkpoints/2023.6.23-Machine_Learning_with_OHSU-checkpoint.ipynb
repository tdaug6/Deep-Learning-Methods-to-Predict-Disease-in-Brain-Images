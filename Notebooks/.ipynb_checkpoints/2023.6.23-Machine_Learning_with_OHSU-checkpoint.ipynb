{
 "cells": [
  {
   "cell_type": "markdown",
   "id": "439ac241",
   "metadata": {},
   "source": [
    "# Machine Learning with OHSU\n",
    "\n",
    "This notebook begins the machine learning process on the data from OHSU\n",
    "\n",
    "First the image data for each subject is combined into a single dataframe (subject x region)\n",
    "\n",
    "Next, the diagnosis for the patient is added for the corresponding subject.\n",
    "\n",
    "Finally, a machine learning model is trained on the dataframe and the predictions are compared to the true values"
   ]
  },
  {
   "cell_type": "markdown",
   "id": "ec5b5745",
   "metadata": {},
   "source": [
    "## Imports\n",
    "\n",
    "These are the imports that are required for this notebook to run properly\n",
    "\n",
    "- `os` to access the file\n",
    "\n",
    "- `pandas` to work with dataframes\n",
    "\n",
    "- `numpy` for linear algebra\n",
    "\n",
    "- `train_test_split()` for splitting data into a training and testing set\n",
    "\n",
    "- `LogisticRegression` for a logistic regression machine learning model\n",
    "\n",
    "- `KNeighborsClassifier` for a KNN machine learning model\n",
    "\n",
    "- `SVC` for a SVM machine learning model\n",
    "\n",
    "- `accuracy_score()` to evaluate the accuracy of the model"
   ]
  },
  {
   "cell_type": "code",
   "execution_count": 1,
   "id": "fb2faad0",
   "metadata": {},
   "outputs": [],
   "source": [
    "import os\n",
    "import pandas as pd\n",
    "import numpy as np\n",
    "from sklearn.model_selection import train_test_split\n",
    "from sklearn.linear_model import LogisticRegression\n",
    "from sklearn.metrics import accuracy_score\n",
    "from sklearn.neighbors import KNeighborsClassifier\n",
    "from sklearn.svm import SVC"
   ]
  },
  {
   "cell_type": "markdown",
   "id": "49889de0",
   "metadata": {},
   "source": [
    "## Functions\n",
    "\n",
    "There are two basic functions that will be used to create the machine learning model\n",
    "\n",
    "1. get_base_filepath()\n",
    "\n",
    "2. extract_features()"
   ]
  },
  {
   "cell_type": "markdown",
   "id": "0840cdf0",
   "metadata": {},
   "source": [
    "### get_base_filepath()\n",
    "\n",
    "Access the filepath for th ebase folder of the project. \n",
    "From here, any other asset of the project can be located."
   ]
  },
  {
   "cell_type": "code",
   "execution_count": 2,
   "id": "ab6ebd21",
   "metadata": {},
   "outputs": [],
   "source": [
    "def get_base_filepath():\n",
    "    '''\n",
    "    Access the filepath for the base folder of the project\n",
    "    \n",
    "    Input: None\n",
    "    \n",
    "    Output: The filepath to the root of the folder\n",
    "    '''\n",
    "    # Get current directory\n",
    "    os.path.abspath(os.curdir)\n",
    "\n",
    "    # Go up a directory level\n",
    "    os.chdir('..')\n",
    "\n",
    "    # Set baseline filepath to the project folder directory\n",
    "    base_folder_filepath = os.path.abspath(os.curdir)\n",
    "    return base_folder_filepath"
   ]
  },
  {
   "cell_type": "markdown",
   "id": "d65a8fcb",
   "metadata": {},
   "source": [
    "### extract_features()\n",
    "\n",
    "Create a dataframe using the mean of regions over time."
   ]
  },
  {
   "cell_type": "code",
   "execution_count": 3,
   "id": "277770bd",
   "metadata": {},
   "outputs": [],
   "source": [
    "def extract_features(filepath):\n",
    "    '''\n",
    "    Create a dataframe using the mean of regions over time.\n",
    "    \n",
    "    Input: filepath to open the dataframe\n",
    "    \n",
    "    Output: dataframe of mean for each region\n",
    "    '''\n",
    "    df = pd.read_csv(filepath, sep=r'\\s{1,}', engine='python', header=0)\n",
    "    df = df.drop('File', axis=1)\n",
    "    df = df.drop('Sub-brick', axis=1)\n",
    "    return df.mean()"
   ]
  },
  {
   "cell_type": "markdown",
   "id": "35f63451",
   "metadata": {},
   "source": [
    "## Open files\n",
    "\n",
    "In this section, the files for all of the patients is opened and combined into two matrices to build a dataframe in the next section."
   ]
  },
  {
   "cell_type": "markdown",
   "id": "d7855595",
   "metadata": {},
   "source": [
    "###  Filepaths\n",
    "\n",
    "Access the filepath to the OHSU folder. \n",
    "This is where the data for all of the patients at the OHSU site are located."
   ]
  },
  {
   "cell_type": "code",
   "execution_count": 4,
   "id": "8d66a38f",
   "metadata": {},
   "outputs": [],
   "source": [
    "base_folder_filepath = get_base_filepath()\n",
    "ohsu_filepath = base_folder_filepath +  '\\\\Data\\\\Preprocessed_data\\\\Sites\\\\OHSU\\\\'\n",
    "phenotypics_filepath = base_folder_filepath + '\\\\Data\\\\Phenotypic\\\\Sites\\\\OHSU_phenotypic.csv'"
   ]
  },
  {
   "cell_type": "markdown",
   "id": "e0870bd2",
   "metadata": {},
   "source": [
    "### Subjects\n",
    "\n",
    "Open the 'sfnwmrda' file for each subject at the OHSU site. \n",
    "\n",
    "Add the features to a matrix and the subjects to a different matrix."
   ]
  },
  {
   "cell_type": "code",
   "execution_count": 5,
   "id": "a3784788",
   "metadata": {
    "scrolled": true
   },
   "outputs": [
    {
     "data": {
      "text/plain": [
       "['1084283', '1084884', '1108916']"
      ]
     },
     "execution_count": 5,
     "metadata": {},
     "output_type": "execute_result"
    }
   ],
   "source": [
    "subjects = []\n",
    "subject_features = []\n",
    "\n",
    "# Access all sfnwmrda files in the OHSU folder\n",
    "# Access the patient folders within the site folder\n",
    "for patient_id_folder in os.listdir(ohsu_filepath):\n",
    "    # Access the filepath to the folder\n",
    "    patient_id_folder_path = os.path.join(ohsu_filepath, patient_id_folder)\n",
    "    \n",
    "    subjects.append(patient_id_folder)\n",
    "    \n",
    "    # Check if the filepath is a folder, continue if it is a folder\n",
    "    if os.path.isdir(patient_id_folder_path):\n",
    "        # Get the file name (dependent on folder name)\n",
    "        file_name = f\"sfnwmrda{patient_id_folder}_session_1_rest_1_aal_TCs.1D\"\n",
    "        \n",
    "        # Join the file name to its path\n",
    "        file_path = os.path.join(patient_id_folder_path, file_name)\n",
    "        \n",
    "        # Extract the features and add it to the list of subjects\n",
    "        subject_features.append(extract_features(file_path))\n",
    "        \n",
    "subjects[:3]"
   ]
  },
  {
   "cell_type": "markdown",
   "id": "1ab1d27d",
   "metadata": {},
   "source": [
    "## Build the dataframe\n",
    "\n",
    "Using the subjects, their features, and their phenotypics, create a dataframe of subjects."
   ]
  },
  {
   "cell_type": "markdown",
   "id": "adde890d",
   "metadata": {},
   "source": [
    "### Subject x Region\n",
    "\n",
    "Using the code from the previous cell, build a matrix of subjects vs. regions."
   ]
  },
  {
   "cell_type": "code",
   "execution_count": 6,
   "id": "201eaf57",
   "metadata": {
    "scrolled": true
   },
   "outputs": [
    {
     "data": {
      "text/html": [
       "<div>\n",
       "<style scoped>\n",
       "    .dataframe tbody tr th:only-of-type {\n",
       "        vertical-align: middle;\n",
       "    }\n",
       "\n",
       "    .dataframe tbody tr th {\n",
       "        vertical-align: top;\n",
       "    }\n",
       "\n",
       "    .dataframe thead th {\n",
       "        text-align: right;\n",
       "    }\n",
       "</style>\n",
       "<table border=\"1\" class=\"dataframe\">\n",
       "  <thead>\n",
       "    <tr style=\"text-align: right;\">\n",
       "      <th></th>\n",
       "      <th>Mean_2001</th>\n",
       "      <th>Mean_2002</th>\n",
       "      <th>Mean_2101</th>\n",
       "      <th>Mean_2102</th>\n",
       "      <th>Mean_2111</th>\n",
       "      <th>Mean_2112</th>\n",
       "      <th>Mean_2201</th>\n",
       "      <th>Mean_2202</th>\n",
       "      <th>Mean_2211</th>\n",
       "      <th>Mean_2212</th>\n",
       "      <th>...</th>\n",
       "      <th>Mean_9081</th>\n",
       "      <th>Mean_9082</th>\n",
       "      <th>Mean_9100</th>\n",
       "      <th>Mean_9110</th>\n",
       "      <th>Mean_9120</th>\n",
       "      <th>Mean_9130</th>\n",
       "      <th>Mean_9140</th>\n",
       "      <th>Mean_9150</th>\n",
       "      <th>Mean_9160</th>\n",
       "      <th>Mean_9170</th>\n",
       "    </tr>\n",
       "  </thead>\n",
       "  <tbody>\n",
       "    <tr>\n",
       "      <th>1084283</th>\n",
       "      <td>0.001087</td>\n",
       "      <td>0.006426</td>\n",
       "      <td>0.003046</td>\n",
       "      <td>0.007911</td>\n",
       "      <td>0.002836</td>\n",
       "      <td>0.010834</td>\n",
       "      <td>0.014295</td>\n",
       "      <td>0.013514</td>\n",
       "      <td>0.000804</td>\n",
       "      <td>0.044241</td>\n",
       "      <td>...</td>\n",
       "      <td>0.020710</td>\n",
       "      <td>0.027268</td>\n",
       "      <td>0.029133</td>\n",
       "      <td>0.005323</td>\n",
       "      <td>-0.006976</td>\n",
       "      <td>-0.010725</td>\n",
       "      <td>-0.018854</td>\n",
       "      <td>-0.017208</td>\n",
       "      <td>-0.021859</td>\n",
       "      <td>0.033943</td>\n",
       "    </tr>\n",
       "    <tr>\n",
       "      <th>1084884</th>\n",
       "      <td>-0.002832</td>\n",
       "      <td>0.032711</td>\n",
       "      <td>-0.019582</td>\n",
       "      <td>-0.008242</td>\n",
       "      <td>-0.006916</td>\n",
       "      <td>-0.009639</td>\n",
       "      <td>-0.020090</td>\n",
       "      <td>-0.014911</td>\n",
       "      <td>-0.025029</td>\n",
       "      <td>-0.025237</td>\n",
       "      <td>...</td>\n",
       "      <td>-0.004995</td>\n",
       "      <td>-0.013224</td>\n",
       "      <td>-0.051607</td>\n",
       "      <td>0.011342</td>\n",
       "      <td>-0.006839</td>\n",
       "      <td>0.000509</td>\n",
       "      <td>-0.021160</td>\n",
       "      <td>-0.012922</td>\n",
       "      <td>-0.022561</td>\n",
       "      <td>-0.031755</td>\n",
       "    </tr>\n",
       "    <tr>\n",
       "      <th>1108916</th>\n",
       "      <td>-0.015434</td>\n",
       "      <td>-0.013533</td>\n",
       "      <td>0.006497</td>\n",
       "      <td>-0.003192</td>\n",
       "      <td>0.002811</td>\n",
       "      <td>0.004337</td>\n",
       "      <td>-0.003781</td>\n",
       "      <td>-0.006387</td>\n",
       "      <td>-0.008912</td>\n",
       "      <td>0.004389</td>\n",
       "      <td>...</td>\n",
       "      <td>0.000488</td>\n",
       "      <td>0.002434</td>\n",
       "      <td>0.018162</td>\n",
       "      <td>-0.022221</td>\n",
       "      <td>-0.020608</td>\n",
       "      <td>-0.010677</td>\n",
       "      <td>-0.022314</td>\n",
       "      <td>0.001143</td>\n",
       "      <td>0.010789</td>\n",
       "      <td>0.010671</td>\n",
       "    </tr>\n",
       "    <tr>\n",
       "      <th>1206380</th>\n",
       "      <td>-0.001697</td>\n",
       "      <td>0.003231</td>\n",
       "      <td>-0.008367</td>\n",
       "      <td>-0.006932</td>\n",
       "      <td>-0.009974</td>\n",
       "      <td>-0.000491</td>\n",
       "      <td>-0.003736</td>\n",
       "      <td>-0.007092</td>\n",
       "      <td>-0.001125</td>\n",
       "      <td>0.002679</td>\n",
       "      <td>...</td>\n",
       "      <td>0.004499</td>\n",
       "      <td>0.001607</td>\n",
       "      <td>0.016533</td>\n",
       "      <td>0.000625</td>\n",
       "      <td>0.002733</td>\n",
       "      <td>-0.021268</td>\n",
       "      <td>-0.016480</td>\n",
       "      <td>-0.003075</td>\n",
       "      <td>0.007536</td>\n",
       "      <td>0.013510</td>\n",
       "    </tr>\n",
       "    <tr>\n",
       "      <th>1340333</th>\n",
       "      <td>-0.007934</td>\n",
       "      <td>0.002444</td>\n",
       "      <td>-0.004535</td>\n",
       "      <td>-0.004931</td>\n",
       "      <td>0.004147</td>\n",
       "      <td>-0.003268</td>\n",
       "      <td>-0.018939</td>\n",
       "      <td>-0.009468</td>\n",
       "      <td>-0.004490</td>\n",
       "      <td>-0.004108</td>\n",
       "      <td>...</td>\n",
       "      <td>0.009226</td>\n",
       "      <td>-0.007520</td>\n",
       "      <td>0.026861</td>\n",
       "      <td>0.017277</td>\n",
       "      <td>-0.016428</td>\n",
       "      <td>-0.018125</td>\n",
       "      <td>-0.006291</td>\n",
       "      <td>-0.021627</td>\n",
       "      <td>-0.021855</td>\n",
       "      <td>0.040774</td>\n",
       "    </tr>\n",
       "  </tbody>\n",
       "</table>\n",
       "<p>5 rows × 116 columns</p>\n",
       "</div>"
      ],
      "text/plain": [
       "         Mean_2001  Mean_2002  Mean_2101  Mean_2102  Mean_2111  Mean_2112   \n",
       "1084283   0.001087   0.006426   0.003046   0.007911   0.002836   0.010834  \\\n",
       "1084884  -0.002832   0.032711  -0.019582  -0.008242  -0.006916  -0.009639   \n",
       "1108916  -0.015434  -0.013533   0.006497  -0.003192   0.002811   0.004337   \n",
       "1206380  -0.001697   0.003231  -0.008367  -0.006932  -0.009974  -0.000491   \n",
       "1340333  -0.007934   0.002444  -0.004535  -0.004931   0.004147  -0.003268   \n",
       "\n",
       "         Mean_2201  Mean_2202  Mean_2211  Mean_2212  ...  Mean_9081   \n",
       "1084283   0.014295   0.013514   0.000804   0.044241  ...   0.020710  \\\n",
       "1084884  -0.020090  -0.014911  -0.025029  -0.025237  ...  -0.004995   \n",
       "1108916  -0.003781  -0.006387  -0.008912   0.004389  ...   0.000488   \n",
       "1206380  -0.003736  -0.007092  -0.001125   0.002679  ...   0.004499   \n",
       "1340333  -0.018939  -0.009468  -0.004490  -0.004108  ...   0.009226   \n",
       "\n",
       "         Mean_9082  Mean_9100  Mean_9110  Mean_9120  Mean_9130  Mean_9140   \n",
       "1084283   0.027268   0.029133   0.005323  -0.006976  -0.010725  -0.018854  \\\n",
       "1084884  -0.013224  -0.051607   0.011342  -0.006839   0.000509  -0.021160   \n",
       "1108916   0.002434   0.018162  -0.022221  -0.020608  -0.010677  -0.022314   \n",
       "1206380   0.001607   0.016533   0.000625   0.002733  -0.021268  -0.016480   \n",
       "1340333  -0.007520   0.026861   0.017277  -0.016428  -0.018125  -0.006291   \n",
       "\n",
       "         Mean_9150  Mean_9160  Mean_9170  \n",
       "1084283  -0.017208  -0.021859   0.033943  \n",
       "1084884  -0.012922  -0.022561  -0.031755  \n",
       "1108916   0.001143   0.010789   0.010671  \n",
       "1206380  -0.003075   0.007536   0.013510  \n",
       "1340333  -0.021627  -0.021855   0.040774  \n",
       "\n",
       "[5 rows x 116 columns]"
      ]
     },
     "execution_count": 6,
     "metadata": {},
     "output_type": "execute_result"
    }
   ],
   "source": [
    "df_subject_x_region = pd.DataFrame(subject_features, index=subjects)\n",
    "df_subject_x_region.head()"
   ]
  },
  {
   "cell_type": "markdown",
   "id": "28dac81a",
   "metadata": {},
   "source": [
    "### Diagnosis\n",
    "\n",
    "Add the subject's diagnosis to the dataframe"
   ]
  },
  {
   "cell_type": "markdown",
   "id": "70a2808a",
   "metadata": {},
   "source": [
    "Read the phenotypic file as a dataframe.\n",
    "\n",
    "Extract the diagnosis as a numpy array."
   ]
  },
  {
   "cell_type": "code",
   "execution_count": 7,
   "id": "bb314eee",
   "metadata": {},
   "outputs": [],
   "source": [
    "df_phenotypic = pd.read_csv(phenotypics_filepath, index_col='ScanDir ID')\n",
    "diagnosis = df_phenotypic['DX'].to_numpy()"
   ]
  },
  {
   "cell_type": "markdown",
   "id": "ea99489f",
   "metadata": {},
   "source": [
    "Add the diagnosis to a new dataframe"
   ]
  },
  {
   "cell_type": "code",
   "execution_count": 8,
   "id": "abbd7193",
   "metadata": {},
   "outputs": [
    {
     "data": {
      "text/html": [
       "<div>\n",
       "<style scoped>\n",
       "    .dataframe tbody tr th:only-of-type {\n",
       "        vertical-align: middle;\n",
       "    }\n",
       "\n",
       "    .dataframe tbody tr th {\n",
       "        vertical-align: top;\n",
       "    }\n",
       "\n",
       "    .dataframe thead th {\n",
       "        text-align: right;\n",
       "    }\n",
       "</style>\n",
       "<table border=\"1\" class=\"dataframe\">\n",
       "  <thead>\n",
       "    <tr style=\"text-align: right;\">\n",
       "      <th></th>\n",
       "      <th>Mean_2001</th>\n",
       "      <th>Mean_2002</th>\n",
       "      <th>Mean_2101</th>\n",
       "      <th>Mean_2102</th>\n",
       "      <th>Mean_2111</th>\n",
       "      <th>Mean_2112</th>\n",
       "      <th>Mean_2201</th>\n",
       "      <th>Mean_2202</th>\n",
       "      <th>Mean_2211</th>\n",
       "      <th>Mean_2212</th>\n",
       "      <th>...</th>\n",
       "      <th>Mean_9082</th>\n",
       "      <th>Mean_9100</th>\n",
       "      <th>Mean_9110</th>\n",
       "      <th>Mean_9120</th>\n",
       "      <th>Mean_9130</th>\n",
       "      <th>Mean_9140</th>\n",
       "      <th>Mean_9150</th>\n",
       "      <th>Mean_9160</th>\n",
       "      <th>Mean_9170</th>\n",
       "      <th>DX</th>\n",
       "    </tr>\n",
       "  </thead>\n",
       "  <tbody>\n",
       "    <tr>\n",
       "      <th>1084283</th>\n",
       "      <td>0.001087</td>\n",
       "      <td>0.006426</td>\n",
       "      <td>0.003046</td>\n",
       "      <td>0.007911</td>\n",
       "      <td>0.002836</td>\n",
       "      <td>0.010834</td>\n",
       "      <td>0.014295</td>\n",
       "      <td>0.013514</td>\n",
       "      <td>0.000804</td>\n",
       "      <td>0.044241</td>\n",
       "      <td>...</td>\n",
       "      <td>0.027268</td>\n",
       "      <td>0.029133</td>\n",
       "      <td>0.005323</td>\n",
       "      <td>-0.006976</td>\n",
       "      <td>-0.010725</td>\n",
       "      <td>-0.018854</td>\n",
       "      <td>-0.017208</td>\n",
       "      <td>-0.021859</td>\n",
       "      <td>0.033943</td>\n",
       "      <td>1</td>\n",
       "    </tr>\n",
       "    <tr>\n",
       "      <th>1084884</th>\n",
       "      <td>-0.002832</td>\n",
       "      <td>0.032711</td>\n",
       "      <td>-0.019582</td>\n",
       "      <td>-0.008242</td>\n",
       "      <td>-0.006916</td>\n",
       "      <td>-0.009639</td>\n",
       "      <td>-0.020090</td>\n",
       "      <td>-0.014911</td>\n",
       "      <td>-0.025029</td>\n",
       "      <td>-0.025237</td>\n",
       "      <td>...</td>\n",
       "      <td>-0.013224</td>\n",
       "      <td>-0.051607</td>\n",
       "      <td>0.011342</td>\n",
       "      <td>-0.006839</td>\n",
       "      <td>0.000509</td>\n",
       "      <td>-0.021160</td>\n",
       "      <td>-0.012922</td>\n",
       "      <td>-0.022561</td>\n",
       "      <td>-0.031755</td>\n",
       "      <td>0</td>\n",
       "    </tr>\n",
       "    <tr>\n",
       "      <th>1108916</th>\n",
       "      <td>-0.015434</td>\n",
       "      <td>-0.013533</td>\n",
       "      <td>0.006497</td>\n",
       "      <td>-0.003192</td>\n",
       "      <td>0.002811</td>\n",
       "      <td>0.004337</td>\n",
       "      <td>-0.003781</td>\n",
       "      <td>-0.006387</td>\n",
       "      <td>-0.008912</td>\n",
       "      <td>0.004389</td>\n",
       "      <td>...</td>\n",
       "      <td>0.002434</td>\n",
       "      <td>0.018162</td>\n",
       "      <td>-0.022221</td>\n",
       "      <td>-0.020608</td>\n",
       "      <td>-0.010677</td>\n",
       "      <td>-0.022314</td>\n",
       "      <td>0.001143</td>\n",
       "      <td>0.010789</td>\n",
       "      <td>0.010671</td>\n",
       "      <td>1</td>\n",
       "    </tr>\n",
       "    <tr>\n",
       "      <th>1206380</th>\n",
       "      <td>-0.001697</td>\n",
       "      <td>0.003231</td>\n",
       "      <td>-0.008367</td>\n",
       "      <td>-0.006932</td>\n",
       "      <td>-0.009974</td>\n",
       "      <td>-0.000491</td>\n",
       "      <td>-0.003736</td>\n",
       "      <td>-0.007092</td>\n",
       "      <td>-0.001125</td>\n",
       "      <td>0.002679</td>\n",
       "      <td>...</td>\n",
       "      <td>0.001607</td>\n",
       "      <td>0.016533</td>\n",
       "      <td>0.000625</td>\n",
       "      <td>0.002733</td>\n",
       "      <td>-0.021268</td>\n",
       "      <td>-0.016480</td>\n",
       "      <td>-0.003075</td>\n",
       "      <td>0.007536</td>\n",
       "      <td>0.013510</td>\n",
       "      <td>3</td>\n",
       "    </tr>\n",
       "    <tr>\n",
       "      <th>1340333</th>\n",
       "      <td>-0.007934</td>\n",
       "      <td>0.002444</td>\n",
       "      <td>-0.004535</td>\n",
       "      <td>-0.004931</td>\n",
       "      <td>0.004147</td>\n",
       "      <td>-0.003268</td>\n",
       "      <td>-0.018939</td>\n",
       "      <td>-0.009468</td>\n",
       "      <td>-0.004490</td>\n",
       "      <td>-0.004108</td>\n",
       "      <td>...</td>\n",
       "      <td>-0.007520</td>\n",
       "      <td>0.026861</td>\n",
       "      <td>0.017277</td>\n",
       "      <td>-0.016428</td>\n",
       "      <td>-0.018125</td>\n",
       "      <td>-0.006291</td>\n",
       "      <td>-0.021627</td>\n",
       "      <td>-0.021855</td>\n",
       "      <td>0.040774</td>\n",
       "      <td>1</td>\n",
       "    </tr>\n",
       "  </tbody>\n",
       "</table>\n",
       "<p>5 rows × 117 columns</p>\n",
       "</div>"
      ],
      "text/plain": [
       "         Mean_2001  Mean_2002  Mean_2101  Mean_2102  Mean_2111  Mean_2112   \n",
       "1084283   0.001087   0.006426   0.003046   0.007911   0.002836   0.010834  \\\n",
       "1084884  -0.002832   0.032711  -0.019582  -0.008242  -0.006916  -0.009639   \n",
       "1108916  -0.015434  -0.013533   0.006497  -0.003192   0.002811   0.004337   \n",
       "1206380  -0.001697   0.003231  -0.008367  -0.006932  -0.009974  -0.000491   \n",
       "1340333  -0.007934   0.002444  -0.004535  -0.004931   0.004147  -0.003268   \n",
       "\n",
       "         Mean_2201  Mean_2202  Mean_2211  Mean_2212  ...  Mean_9082   \n",
       "1084283   0.014295   0.013514   0.000804   0.044241  ...   0.027268  \\\n",
       "1084884  -0.020090  -0.014911  -0.025029  -0.025237  ...  -0.013224   \n",
       "1108916  -0.003781  -0.006387  -0.008912   0.004389  ...   0.002434   \n",
       "1206380  -0.003736  -0.007092  -0.001125   0.002679  ...   0.001607   \n",
       "1340333  -0.018939  -0.009468  -0.004490  -0.004108  ...  -0.007520   \n",
       "\n",
       "         Mean_9100  Mean_9110  Mean_9120  Mean_9130  Mean_9140  Mean_9150   \n",
       "1084283   0.029133   0.005323  -0.006976  -0.010725  -0.018854  -0.017208  \\\n",
       "1084884  -0.051607   0.011342  -0.006839   0.000509  -0.021160  -0.012922   \n",
       "1108916   0.018162  -0.022221  -0.020608  -0.010677  -0.022314   0.001143   \n",
       "1206380   0.016533   0.000625   0.002733  -0.021268  -0.016480  -0.003075   \n",
       "1340333   0.026861   0.017277  -0.016428  -0.018125  -0.006291  -0.021627   \n",
       "\n",
       "         Mean_9160  Mean_9170  DX  \n",
       "1084283  -0.021859   0.033943   1  \n",
       "1084884  -0.022561  -0.031755   0  \n",
       "1108916   0.010789   0.010671   1  \n",
       "1206380   0.007536   0.013510   3  \n",
       "1340333  -0.021855   0.040774   1  \n",
       "\n",
       "[5 rows x 117 columns]"
      ]
     },
     "execution_count": 8,
     "metadata": {},
     "output_type": "execute_result"
    }
   ],
   "source": [
    "df_region_w_dx = df_subject_x_region.copy()\n",
    "\n",
    "df_region_w_dx['DX'] = diagnosis\n",
    "\n",
    "df_region_w_dx.head()"
   ]
  },
  {
   "cell_type": "markdown",
   "id": "745dce4a",
   "metadata": {},
   "source": [
    "## Model\n",
    "\n",
    "Build a machine learning model and use it to make predictions on the dataset. \n",
    "Evaluate the model based on its accuracy."
   ]
  },
  {
   "cell_type": "markdown",
   "id": "0676f177",
   "metadata": {},
   "source": [
    "Separate the data into features and targets"
   ]
  },
  {
   "cell_type": "code",
   "execution_count": 9,
   "id": "4d749fec",
   "metadata": {},
   "outputs": [],
   "source": [
    "X = df_region_w_dx.drop('DX', axis=1)\n",
    "y = df_region_w_dx['DX']"
   ]
  },
  {
   "cell_type": "markdown",
   "id": "b68aad7a",
   "metadata": {},
   "source": [
    "### Build a model and make predictions"
   ]
  },
  {
   "cell_type": "markdown",
   "id": "81e28e76",
   "metadata": {},
   "source": [
    "Logistic Regression"
   ]
  },
  {
   "cell_type": "code",
   "execution_count": 13,
   "id": "20c00641",
   "metadata": {},
   "outputs": [
    {
     "data": {
      "text/plain": [
       "0.5443037974683544"
      ]
     },
     "execution_count": 13,
     "metadata": {},
     "output_type": "execute_result"
    }
   ],
   "source": [
    "model_LR = LogisticRegression().fit(X, y)\n",
    "y_pred_LR = model_LR.predict(X)\n",
    "\n",
    "accuracy_LR = accuracy_score(y_pred_LR, y)\n",
    "accuracy_LR"
   ]
  },
  {
   "cell_type": "markdown",
   "id": "be1648a1",
   "metadata": {},
   "source": [
    "KNN"
   ]
  },
  {
   "cell_type": "code",
   "execution_count": 14,
   "id": "111cf999",
   "metadata": {},
   "outputs": [
    {
     "data": {
      "text/plain": [
       "0.5949367088607594"
      ]
     },
     "execution_count": 14,
     "metadata": {},
     "output_type": "execute_result"
    }
   ],
   "source": [
    "model_KNN = KNeighborsClassifier().fit(X, y)\n",
    "y_pred_KNN = model_KNN.predict(X)\n",
    "\n",
    "accuracy_KNN = accuracy_score(y_pred_KNN, y)\n",
    "accuracy_KNN"
   ]
  },
  {
   "cell_type": "markdown",
   "id": "fa9ba805",
   "metadata": {},
   "source": [
    "SVM"
   ]
  },
  {
   "cell_type": "code",
   "execution_count": 15,
   "id": "1c2fc9ef",
   "metadata": {},
   "outputs": [
    {
     "data": {
      "text/plain": [
       "0.6962025316455697"
      ]
     },
     "execution_count": 15,
     "metadata": {},
     "output_type": "execute_result"
    }
   ],
   "source": [
    "model_SVM = SVC().fit(X, y)\n",
    "y_pred_SVM = model_SVM.predict(X)\n",
    "\n",
    "accuracy_SVM = accuracy_score(y_pred_SVM, y)\n",
    "accuracy_SVM"
   ]
  },
  {
   "cell_type": "markdown",
   "id": "80690844",
   "metadata": {},
   "source": [
    "## Evaluate Accuracy\n",
    "\n",
    "Understand the model accuracies better"
   ]
  },
  {
   "cell_type": "markdown",
   "id": "fe02f00d",
   "metadata": {},
   "source": [
    "### Best model\n",
    "\n",
    "Based on the results from the model building, SVM had the best accuracy."
   ]
  },
  {
   "cell_type": "code",
   "execution_count": 19,
   "id": "d0b4e759",
   "metadata": {},
   "outputs": [
    {
     "name": "stdout",
     "output_type": "stream",
     "text": [
      "Accuracies:\n",
      "\n",
      "Logistic Regression:\t 0.5443037974683544\n",
      "KNN:\t\t\t 0.5949367088607594\n",
      "SVM:\t\t\t 0.6962025316455697\n"
     ]
    }
   ],
   "source": [
    "print('Accuracies:')\n",
    "print('\\nLogistic Regression:\\t', accuracy_LR)\n",
    "print('KNN:\\t\\t\\t', accuracy_KNN)\n",
    "print('SVM:\\t\\t\\t', accuracy_SVM)"
   ]
  },
  {
   "cell_type": "markdown",
   "id": "1ab225ab",
   "metadata": {},
   "source": [
    "### Add the predictions to the model"
   ]
  },
  {
   "cell_type": "code",
   "execution_count": 20,
   "id": "860867ec",
   "metadata": {
    "scrolled": true
   },
   "outputs": [
    {
     "data": {
      "text/html": [
       "<div>\n",
       "<style scoped>\n",
       "    .dataframe tbody tr th:only-of-type {\n",
       "        vertical-align: middle;\n",
       "    }\n",
       "\n",
       "    .dataframe tbody tr th {\n",
       "        vertical-align: top;\n",
       "    }\n",
       "\n",
       "    .dataframe thead th {\n",
       "        text-align: right;\n",
       "    }\n",
       "</style>\n",
       "<table border=\"1\" class=\"dataframe\">\n",
       "  <thead>\n",
       "    <tr style=\"text-align: right;\">\n",
       "      <th></th>\n",
       "      <th>Mean_2001</th>\n",
       "      <th>Mean_2002</th>\n",
       "      <th>Mean_2101</th>\n",
       "      <th>Mean_2102</th>\n",
       "      <th>Mean_2111</th>\n",
       "      <th>Mean_2112</th>\n",
       "      <th>Mean_2201</th>\n",
       "      <th>Mean_2202</th>\n",
       "      <th>Mean_2211</th>\n",
       "      <th>Mean_2212</th>\n",
       "      <th>...</th>\n",
       "      <th>Mean_9100</th>\n",
       "      <th>Mean_9110</th>\n",
       "      <th>Mean_9120</th>\n",
       "      <th>Mean_9130</th>\n",
       "      <th>Mean_9140</th>\n",
       "      <th>Mean_9150</th>\n",
       "      <th>Mean_9160</th>\n",
       "      <th>Mean_9170</th>\n",
       "      <th>DX</th>\n",
       "      <th>DX_pred</th>\n",
       "    </tr>\n",
       "  </thead>\n",
       "  <tbody>\n",
       "    <tr>\n",
       "      <th>1084283</th>\n",
       "      <td>0.001087</td>\n",
       "      <td>0.006426</td>\n",
       "      <td>0.003046</td>\n",
       "      <td>0.007911</td>\n",
       "      <td>0.002836</td>\n",
       "      <td>0.010834</td>\n",
       "      <td>0.014295</td>\n",
       "      <td>0.013514</td>\n",
       "      <td>0.000804</td>\n",
       "      <td>0.044241</td>\n",
       "      <td>...</td>\n",
       "      <td>0.029133</td>\n",
       "      <td>0.005323</td>\n",
       "      <td>-0.006976</td>\n",
       "      <td>-0.010725</td>\n",
       "      <td>-0.018854</td>\n",
       "      <td>-0.017208</td>\n",
       "      <td>-0.021859</td>\n",
       "      <td>0.033943</td>\n",
       "      <td>1</td>\n",
       "      <td>0</td>\n",
       "    </tr>\n",
       "    <tr>\n",
       "      <th>1084884</th>\n",
       "      <td>-0.002832</td>\n",
       "      <td>0.032711</td>\n",
       "      <td>-0.019582</td>\n",
       "      <td>-0.008242</td>\n",
       "      <td>-0.006916</td>\n",
       "      <td>-0.009639</td>\n",
       "      <td>-0.020090</td>\n",
       "      <td>-0.014911</td>\n",
       "      <td>-0.025029</td>\n",
       "      <td>-0.025237</td>\n",
       "      <td>...</td>\n",
       "      <td>-0.051607</td>\n",
       "      <td>0.011342</td>\n",
       "      <td>-0.006839</td>\n",
       "      <td>0.000509</td>\n",
       "      <td>-0.021160</td>\n",
       "      <td>-0.012922</td>\n",
       "      <td>-0.022561</td>\n",
       "      <td>-0.031755</td>\n",
       "      <td>0</td>\n",
       "      <td>0</td>\n",
       "    </tr>\n",
       "    <tr>\n",
       "      <th>1108916</th>\n",
       "      <td>-0.015434</td>\n",
       "      <td>-0.013533</td>\n",
       "      <td>0.006497</td>\n",
       "      <td>-0.003192</td>\n",
       "      <td>0.002811</td>\n",
       "      <td>0.004337</td>\n",
       "      <td>-0.003781</td>\n",
       "      <td>-0.006387</td>\n",
       "      <td>-0.008912</td>\n",
       "      <td>0.004389</td>\n",
       "      <td>...</td>\n",
       "      <td>0.018162</td>\n",
       "      <td>-0.022221</td>\n",
       "      <td>-0.020608</td>\n",
       "      <td>-0.010677</td>\n",
       "      <td>-0.022314</td>\n",
       "      <td>0.001143</td>\n",
       "      <td>0.010789</td>\n",
       "      <td>0.010671</td>\n",
       "      <td>1</td>\n",
       "      <td>0</td>\n",
       "    </tr>\n",
       "    <tr>\n",
       "      <th>1206380</th>\n",
       "      <td>-0.001697</td>\n",
       "      <td>0.003231</td>\n",
       "      <td>-0.008367</td>\n",
       "      <td>-0.006932</td>\n",
       "      <td>-0.009974</td>\n",
       "      <td>-0.000491</td>\n",
       "      <td>-0.003736</td>\n",
       "      <td>-0.007092</td>\n",
       "      <td>-0.001125</td>\n",
       "      <td>0.002679</td>\n",
       "      <td>...</td>\n",
       "      <td>0.016533</td>\n",
       "      <td>0.000625</td>\n",
       "      <td>0.002733</td>\n",
       "      <td>-0.021268</td>\n",
       "      <td>-0.016480</td>\n",
       "      <td>-0.003075</td>\n",
       "      <td>0.007536</td>\n",
       "      <td>0.013510</td>\n",
       "      <td>3</td>\n",
       "      <td>0</td>\n",
       "    </tr>\n",
       "    <tr>\n",
       "      <th>1340333</th>\n",
       "      <td>-0.007934</td>\n",
       "      <td>0.002444</td>\n",
       "      <td>-0.004535</td>\n",
       "      <td>-0.004931</td>\n",
       "      <td>0.004147</td>\n",
       "      <td>-0.003268</td>\n",
       "      <td>-0.018939</td>\n",
       "      <td>-0.009468</td>\n",
       "      <td>-0.004490</td>\n",
       "      <td>-0.004108</td>\n",
       "      <td>...</td>\n",
       "      <td>0.026861</td>\n",
       "      <td>0.017277</td>\n",
       "      <td>-0.016428</td>\n",
       "      <td>-0.018125</td>\n",
       "      <td>-0.006291</td>\n",
       "      <td>-0.021627</td>\n",
       "      <td>-0.021855</td>\n",
       "      <td>0.040774</td>\n",
       "      <td>1</td>\n",
       "      <td>0</td>\n",
       "    </tr>\n",
       "  </tbody>\n",
       "</table>\n",
       "<p>5 rows × 118 columns</p>\n",
       "</div>"
      ],
      "text/plain": [
       "         Mean_2001  Mean_2002  Mean_2101  Mean_2102  Mean_2111  Mean_2112   \n",
       "1084283   0.001087   0.006426   0.003046   0.007911   0.002836   0.010834  \\\n",
       "1084884  -0.002832   0.032711  -0.019582  -0.008242  -0.006916  -0.009639   \n",
       "1108916  -0.015434  -0.013533   0.006497  -0.003192   0.002811   0.004337   \n",
       "1206380  -0.001697   0.003231  -0.008367  -0.006932  -0.009974  -0.000491   \n",
       "1340333  -0.007934   0.002444  -0.004535  -0.004931   0.004147  -0.003268   \n",
       "\n",
       "         Mean_2201  Mean_2202  Mean_2211  Mean_2212  ...  Mean_9100   \n",
       "1084283   0.014295   0.013514   0.000804   0.044241  ...   0.029133  \\\n",
       "1084884  -0.020090  -0.014911  -0.025029  -0.025237  ...  -0.051607   \n",
       "1108916  -0.003781  -0.006387  -0.008912   0.004389  ...   0.018162   \n",
       "1206380  -0.003736  -0.007092  -0.001125   0.002679  ...   0.016533   \n",
       "1340333  -0.018939  -0.009468  -0.004490  -0.004108  ...   0.026861   \n",
       "\n",
       "         Mean_9110  Mean_9120  Mean_9130  Mean_9140  Mean_9150  Mean_9160   \n",
       "1084283   0.005323  -0.006976  -0.010725  -0.018854  -0.017208  -0.021859  \\\n",
       "1084884   0.011342  -0.006839   0.000509  -0.021160  -0.012922  -0.022561   \n",
       "1108916  -0.022221  -0.020608  -0.010677  -0.022314   0.001143   0.010789   \n",
       "1206380   0.000625   0.002733  -0.021268  -0.016480  -0.003075   0.007536   \n",
       "1340333   0.017277  -0.016428  -0.018125  -0.006291  -0.021627  -0.021855   \n",
       "\n",
       "         Mean_9170  DX  DX_pred  \n",
       "1084283   0.033943   1        0  \n",
       "1084884  -0.031755   0        0  \n",
       "1108916   0.010671   1        0  \n",
       "1206380   0.013510   3        0  \n",
       "1340333   0.040774   1        0  \n",
       "\n",
       "[5 rows x 118 columns]"
      ]
     },
     "execution_count": 20,
     "metadata": {},
     "output_type": "execute_result"
    }
   ],
   "source": [
    "df_w_preds = df_region_w_dx.copy()\n",
    "\n",
    "df_w_preds['DX_pred'] = y_pred_SVM\n",
    "df_w_preds.head()"
   ]
  },
  {
   "cell_type": "markdown",
   "id": "69bd488f",
   "metadata": {},
   "source": [
    "### Understand the differences\n",
    "\n",
    "View the value counts to better understand how the predictions and true values are distributed."
   ]
  },
  {
   "cell_type": "markdown",
   "id": "5b4c2882",
   "metadata": {},
   "source": [
    "The model was abel to recognize 3 out of the 4 diagnosis types. The frequency follows a similar frequency to the true values"
   ]
  },
  {
   "cell_type": "code",
   "execution_count": 21,
   "id": "8fc81d36",
   "metadata": {},
   "outputs": [
    {
     "data": {
      "text/plain": [
       "DX_pred\n",
       "0    66\n",
       "1    12\n",
       "3     1\n",
       "Name: count, dtype: int64"
      ]
     },
     "execution_count": 21,
     "metadata": {},
     "output_type": "execute_result"
    }
   ],
   "source": [
    "df_w_preds['DX_pred'].value_counts()"
   ]
  },
  {
   "cell_type": "code",
   "execution_count": 22,
   "id": "2ea85c81",
   "metadata": {},
   "outputs": [
    {
     "data": {
      "text/plain": [
       "DX\n",
       "0    42\n",
       "1    23\n",
       "3    12\n",
       "2     2\n",
       "Name: count, dtype: int64"
      ]
     },
     "execution_count": 22,
     "metadata": {},
     "output_type": "execute_result"
    }
   ],
   "source": [
    "df_w_preds['DX'].value_counts()"
   ]
  }
 ],
 "metadata": {
  "kernelspec": {
   "display_name": "Python 3 (ipykernel)",
   "language": "python",
   "name": "python3"
  },
  "language_info": {
   "codemirror_mode": {
    "name": "ipython",
    "version": 3
   },
   "file_extension": ".py",
   "mimetype": "text/x-python",
   "name": "python",
   "nbconvert_exporter": "python",
   "pygments_lexer": "ipython3",
   "version": "3.10.0"
  }
 },
 "nbformat": 4,
 "nbformat_minor": 5
}
