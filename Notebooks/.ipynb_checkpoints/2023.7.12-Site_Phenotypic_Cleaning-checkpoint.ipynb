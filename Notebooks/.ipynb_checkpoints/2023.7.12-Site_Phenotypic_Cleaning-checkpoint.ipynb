{
 "cells": [
  {
   "cell_type": "markdown",
   "id": "e6bc38ba",
   "metadata": {},
   "source": [
    "# Cleaning Phenotypic Data\n",
    "\n",
    "This notebook focuses on cleaning the phenotypic data for all sites. \n",
    "Many of the insights from the Exploratory Data Analysis notebook were used when writing this notebook.\n",
    "\n",
    "The purpose of this notebook is to modify the dataframe to be ready to build a machine learning model. \n",
    "The primary issue with the current dataframe is the null values and excessive features. \n",
    "\n",
    "The resulting file is a .csv file of a cleaned dataframe. "
   ]
  },
  {
   "cell_type": "code",
   "execution_count": 1,
   "id": "bc31555c",
   "metadata": {},
   "outputs": [],
   "source": [
    "import os\n",
    "import pandas as pd\n",
    "import numpy as np\n",
    "\n",
    "import matplotlib.pyplot as plt\n",
    "import seaborn as sns"
   ]
  },
  {
   "cell_type": "code",
   "execution_count": 2,
   "id": "6ce2d75c",
   "metadata": {},
   "outputs": [],
   "source": [
    "def get_base_filepath():\n",
    "    '''\n",
    "    Access the filepath for the base folder of the project\n",
    "    \n",
    "    Input: None\n",
    "    \n",
    "    Output: The filepath to the root of the folder\n",
    "    '''\n",
    "    # Get current directory\n",
    "    os.path.abspath(os.curdir)\n",
    "\n",
    "    # Go up a directory level\n",
    "    os.chdir('..')\n",
    "\n",
    "    # Set baseline filepath to the project folder directory\n",
    "    base_folder_filepath = os.path.abspath(os.curdir)\n",
    "    return base_folder_filepath"
   ]
  },
  {
   "cell_type": "code",
   "execution_count": 3,
   "id": "ddea51c8",
   "metadata": {},
   "outputs": [],
   "source": [
    "def get_null_values(features, df):\n",
    "    '''\n",
    "    Generate a dataframe of the null value count and the minimum value\n",
    "    \n",
    "    Input:\n",
    "        - A list of numeric features to find the null an min values for\n",
    "        - A dataframe to access the features from\n",
    "        \n",
    "    Output: A dataframe of null value coutn and minimum value for each feature\n",
    "    '''\n",
    "    null_vals = dict()\n",
    "    for col in features:\n",
    "        null_vals[col] = (df[col].isnull().sum(), df[col].min())\n",
    "        \n",
    "    df_null_vals = pd.DataFrame(data=null_vals, index=['null_count', 'min_value'])\n",
    "    return df_null_vals"
   ]
  },
  {
   "cell_type": "code",
   "execution_count": 4,
   "id": "eb4cb2a8",
   "metadata": {},
   "outputs": [],
   "source": [
    "def get_null_values(features, df):\n",
    "    '''\n",
    "    Generate a dataframe of the null value count and the minimum value\n",
    "    \n",
    "    Input:\n",
    "        - A list of numeric features to find the null an min values for\n",
    "        - A dataframe to access the features from\n",
    "        \n",
    "    Output: A dataframe of null value coutn and minimum value for each feature\n",
    "    '''\n",
    "    null_vals = dict()\n",
    "    for col in features:\n",
    "        null_vals[col] = (df[col].isnull().sum(), df[col].min())\n",
    "        \n",
    "    df_null_vals = pd.DataFrame(data=null_vals, index=['null_count', 'min_value'])\n",
    "    return df_null_vals"
   ]
  },
  {
   "cell_type": "code",
   "execution_count": 5,
   "id": "c2b243f7",
   "metadata": {},
   "outputs": [],
   "source": [
    "# The folder for the project\n",
    "base_folder_filepath = get_base_filepath() + '\\\\Data\\\\Phenotypic\\\\'\n",
    "\n",
    "# Phenotypic data site folder\n",
    "filepath = base_folder_filepath + 'allSubs_testSet_phenotypic_dx.csv'\n",
    "\n",
    "phenotypics_filepath = base_folder_filepath + '\\\\Sites\\\\'\n",
    "\n",
    "# Dataframe from filepath\n",
    "df_pheno = pd.read_csv(filepath, index_col='ID')"
   ]
  },
  {
   "cell_type": "code",
   "execution_count": 6,
   "id": "451246a2",
   "metadata": {},
   "outputs": [],
   "source": [
    "# Create empty lists to store important values\n",
    "features = [] # For the diagnosis\n",
    "subjects = [] # For the patient id\n",
    "\n",
    "# Iterate through each file in the folder\n",
    "for site_pheno in os.listdir(phenotypics_filepath):\n",
    "    # Access the filepath to the phenotypic data\n",
    "    site_pheno_filepath = os.path.join(phenotypics_filepath, site_pheno)\n",
    "    \n",
    "    # Check if the current item in the directory is a file\n",
    "    if os.path.isfile(site_pheno_filepath):\n",
    "        # Read the file as a dataframe\n",
    "        df_pheno = pd.read_csv(site_pheno_filepath, index_col='ScanDir ID')\n",
    "        \n",
    "        # Add the diagnosis to the list\n",
    "        features.append(df_pheno)\n",
    "        \n",
    "        # Add the patient id to the list\n",
    "        subjects.append(df_pheno.index)"
   ]
  },
  {
   "cell_type": "code",
   "execution_count": 7,
   "id": "0ab78fd2",
   "metadata": {},
   "outputs": [],
   "source": [
    "df_all_phenos = pd.concat(features, axis=0)\n",
    "df_all_phenos"
   ]
  },
  {
   "cell_type": "code",
   "execution_count": 8,
   "id": "0d0b9343",
   "metadata": {},
   "outputs": [],
   "source": [
    "df_all_phenos['DX'].isnull().sum()"
   ]
  },
  {
   "cell_type": "code",
   "execution_count": 9,
   "id": "d08c301e",
   "metadata": {},
   "outputs": [],
   "source": [
    "df_all_phenos.columns"
   ]
  },
  {
   "cell_type": "code",
   "execution_count": 10,
   "id": "516f91aa",
   "metadata": {},
   "outputs": [],
   "source": [
    "drop_features = ['QC_Rest_1', 'QC_Rest_2', 'QC_Rest_3', 'QC_Rest_4',\n",
    "       'QC_Anatomical_1', 'QC_Anatomical_2', 'Study #', 'QC_S1_Rest_1',\n",
    "       'QC_S1_Rest_2', 'QC_S1_Rest_3', 'QC_S1_Rest_4', 'QC_S1_Rest_5',\n",
    "       'QC_S1_Rest_6', 'QC_S1_Anat', 'QC_S2_Rest_1', 'QC_S2_Rest_2',\n",
    "       'QC_S2_Anat']\n",
    "\n",
    "df_all_phenos_filtered = df_all_phenos.copy()\n",
    "df_all_phenos_filtered = df_all_phenos_filtered.drop(drop_features, axis=1)\n",
    "df_all_phenos_filtered"
   ]
  },
  {
   "cell_type": "code",
   "execution_count": 11,
   "id": "94d996f4",
   "metadata": {},
   "outputs": [],
   "source": [
    "df_all_phenos_filtered.loc[df_all_phenos_filtered['Full4 IQ'].isnull(), 'Full4 IQ'] = df_all_phenos_filtered.loc[df_all_phenos_filtered['Full4 IQ'].isnull(), 'Full2 IQ']"
   ]
  },
  {
   "cell_type": "code",
   "execution_count": 12,
   "id": "f052a44c",
   "metadata": {},
   "outputs": [],
   "source": [
    "df_all_phenos_filtered.loc[df_all_phenos_filtered['Full4 IQ'].isnull(), 'Full4 IQ']"
   ]
  },
  {
   "cell_type": "code",
   "execution_count": 13,
   "id": "fc25a730",
   "metadata": {},
   "outputs": [],
   "source": [
    "df_all_phenos_filtered['IQ'] = df_all_phenos_filtered['Full4 IQ']\n",
    "df_all_phenos_filtered = df_all_phenos_filtered.drop(['Full4 IQ', 'Full2 IQ'], axis=1)"
   ]
  },
  {
   "cell_type": "code",
   "execution_count": 14,
   "id": "44601a19",
   "metadata": {},
   "outputs": [],
   "source": [
    "df_all_phenos_filtered"
   ]
  },
  {
   "cell_type": "code",
   "execution_count": 15,
   "id": "28a25d2b",
   "metadata": {},
   "outputs": [],
   "source": [
    "null_values = dict()\n",
    "numeric_cols = ['Gender', 'Age', 'Handedness',\n",
    "                'Verbal IQ', 'Performance IQ', 'IQ']\n",
    "\n",
    "df_null_values_train = get_null_values(numeric_cols, df_all_phenos_filtered)\n",
    "\n",
    "df_null_values_train.head()"
   ]
  },
  {
   "cell_type": "code",
   "execution_count": 16,
   "id": "08b6b5ca",
   "metadata": {},
   "outputs": [],
   "source": [
    "for col in df_all_phenos_filtered.columns:\n",
    "    df_all_phenos_filtered.loc[df_all_phenos_filtered[col] == -999, col] = None"
   ]
  },
  {
   "cell_type": "code",
   "execution_count": 17,
   "id": "bc0dcd85",
   "metadata": {},
   "outputs": [],
   "source": [
    "null_values = dict()\n",
    "numeric_cols = ['Gender', 'Age', 'Handedness',\n",
    "                'Verbal IQ', 'Performance IQ', 'IQ']\n",
    "\n",
    "df_null_values_train = get_null_values(numeric_cols, df_all_phenos_filtered)\n",
    "\n",
    "df_null_values_train.head()"
   ]
  },
  {
   "cell_type": "code",
   "execution_count": 18,
   "id": "29930a28",
   "metadata": {},
   "outputs": [],
   "source": [
    "df_all_phenos_filtered.loc[df_all_phenos_filtered['Gender'].isnull()]"
   ]
  },
  {
   "cell_type": "code",
   "execution_count": 19,
   "id": "c8109f1b",
   "metadata": {},
   "outputs": [],
   "source": [
    "df_all_phenos_filtered.groupby('DX')['Gender'].median()"
   ]
  },
  {
   "cell_type": "code",
   "execution_count": 20,
   "id": "3d571ec7",
   "metadata": {},
   "outputs": [],
   "source": [
    "df_all_phenos_filtered.groupby('Site')['Gender'].median()"
   ]
  },
  {
   "cell_type": "code",
   "execution_count": 21,
   "id": "6f2a98a0",
   "metadata": {},
   "outputs": [],
   "source": [
    "df_all_phenos_filtered['Gender'] = df_all_phenos_filtered['Gender'].fillna(1)"
   ]
  },
  {
   "cell_type": "code",
   "execution_count": 22,
   "id": "5a0f290d",
   "metadata": {},
   "outputs": [],
   "source": [
    "df_all_phenos_filtered['Handedness'] = df_all_phenos_filtered['Handedness'].fillna(1)"
   ]
  },
  {
   "cell_type": "code",
   "execution_count": 23,
   "id": "b5869a32",
   "metadata": {},
   "outputs": [],
   "source": [
    "df_all_phenos_filtered.loc[df_all_phenos_filtered['Handedness'] > 0, 'Handedness'] = 1\n",
    "df_all_phenos_filtered.loc[df_all_phenos_filtered['Handedness'] < 0, 'Handedness'] = 0"
   ]
  },
  {
   "cell_type": "code",
   "execution_count": 24,
   "id": "a55a94b5",
   "metadata": {},
   "outputs": [],
   "source": [
    "df_all_phenos_filtered.groupby('DX')['Verbal IQ'].mean()"
   ]
  },
  {
   "cell_type": "code",
   "execution_count": 25,
   "id": "6c1913ac",
   "metadata": {},
   "outputs": [],
   "source": [
    "df_all_phenos_filtered['Verbal IQ Filled'] = df_all_phenos_filtered['Verbal IQ']\n",
    "\n",
    "df_all_phenos_filtered.loc[df_all_phenos_filtered['Verbal IQ Filled'].isnull(), 'Verbal IQ Filled'] = df_all_phenos_filtered.loc[df_all_phenos_filtered['Verbal IQ Filled'].isnull(), 'DX']\n",
    "\n",
    "df_all_phenos_filtered.loc[df_all_phenos_filtered['Verbal IQ Filled'] == 0, 'Verbal IQ Filled'] = 114.563694\n",
    "df_all_phenos_filtered.loc[df_all_phenos_filtered['Verbal IQ Filled'] == 1, 'Verbal IQ Filled'] = 109.401639\n",
    "df_all_phenos_filtered.loc[df_all_phenos_filtered['Verbal IQ Filled'] == 2, 'Verbal IQ Filled'] = 105.666667\n",
    "df_all_phenos_filtered.loc[df_all_phenos_filtered['Verbal IQ Filled'] == 3, 'Verbal IQ Filled'] = 107.357895"
   ]
  },
  {
   "cell_type": "code",
   "execution_count": 26,
   "id": "ec11a4b4",
   "metadata": {},
   "outputs": [],
   "source": [
    "df_all_phenos_filtered.groupby('DX')['Performance IQ'].mean()"
   ]
  },
  {
   "cell_type": "code",
   "execution_count": 27,
   "id": "6db0ad47",
   "metadata": {},
   "outputs": [],
   "source": [
    "df_all_phenos_filtered['Performance IQ Filled'] = df_all_phenos_filtered['Performance IQ']\n",
    "\n",
    "df_all_phenos_filtered.loc[df_all_phenos_filtered['Performance IQ Filled'].isnull(), 'Performance IQ Filled'] = df_all_phenos_filtered.loc[df_all_phenos_filtered['Performance IQ Filled'].isnull(), 'DX']\n",
    "\n",
    "df_all_phenos_filtered.loc[df_all_phenos_filtered['Performance IQ Filled'] == 0, 'Performance IQ Filled'] = 109.984076\n",
    "df_all_phenos_filtered.loc[df_all_phenos_filtered['Performance IQ Filled'] == 1, 'Performance IQ Filled'] = 103.254098\n",
    "df_all_phenos_filtered.loc[df_all_phenos_filtered['Performance IQ Filled'] == 2, 'Performance IQ Filled'] = 113.333333\n",
    "df_all_phenos_filtered.loc[df_all_phenos_filtered['Performance IQ Filled'] == 3, 'Performance IQ Filled'] = 100.968421"
   ]
  },
  {
   "cell_type": "code",
   "execution_count": 28,
   "id": "e7637228",
   "metadata": {},
   "outputs": [],
   "source": [
    "df_all_phenos_filtered.groupby('DX')['IQ'].mean()"
   ]
  },
  {
   "cell_type": "code",
   "execution_count": 29,
   "id": "2aea6209",
   "metadata": {},
   "outputs": [],
   "source": [
    "df_all_phenos_filtered['IQ Filled'] = df_all_phenos_filtered['IQ']\n",
    "\n",
    "df_all_phenos_filtered.loc[df_all_phenos_filtered['IQ Filled'].isnull(), 'IQ Filled'] = df_all_phenos_filtered.loc[df_all_phenos_filtered['IQ Filled'].isnull(), 'DX']\n",
    "\n",
    "df_all_phenos_filtered.loc[df_all_phenos_filtered['IQ Filled'] == 0, 'IQ Filled'] = 113.745098\n",
    "df_all_phenos_filtered.loc[df_all_phenos_filtered['IQ Filled'] == 1, 'IQ Filled'] = 107.620690\n",
    "df_all_phenos_filtered.loc[df_all_phenos_filtered['IQ Filled'] == 2, 'IQ Filled'] = 110.800000\n",
    "df_all_phenos_filtered.loc[df_all_phenos_filtered['IQ Filled'] == 3, 'IQ Filled'] = 104.710280"
   ]
  },
  {
   "cell_type": "code",
   "execution_count": 30,
   "id": "f58b3eb2",
   "metadata": {},
   "outputs": [],
   "source": [
    "null_values = dict()\n",
    "numeric_cols = ['Gender', 'Age', 'Handedness', 'Verbal IQ', 'Verbal IQ Filled',\n",
    "                'Performance IQ', 'Performance IQ Filled', 'IQ', 'IQ Filled']\n",
    "\n",
    "df_null_values_train = get_null_values(numeric_cols, df_all_phenos_filtered)\n",
    "\n",
    "df_null_values_train.head()"
   ]
  },
  {
   "cell_type": "code",
   "execution_count": 31,
   "id": "1ba66d6c",
   "metadata": {},
   "outputs": [],
   "source": [
    "features = ['Gender', 'Age', 'Handedness', 'Verbal IQ', 'Verbal IQ Filled',\n",
    "                'Performance IQ', 'Performance IQ Filled', 'IQ', 'IQ Filled', 'DX']\n",
    "\n",
    "df_all_phenos_filtered[features]"
   ]
  },
  {
   "cell_type": "code",
   "execution_count": 32,
   "id": "a61c94e6",
   "metadata": {},
   "outputs": [],
   "source": [
    "df_all_phenos_filtered[features].to_csv(base_folder_filepath + '2023.7.13-Cleaned_Phenotypic_All_Subjects.csv')"
   ]
  },
  {
   "cell_type": "code",
   "execution_count": 33,
   "id": "5d3799e4",
   "metadata": {},
   "outputs": [],
   "source": [
    "site_filepath = base_folder_filepath + 'Cleaned_Sites\\\\'"
   ]
  },
  {
   "cell_type": "code",
   "execution_count": 34,
   "id": "5d88c5fb",
   "metadata": {},
   "outputs": [],
   "source": [
    "site_names = ['KKI', 'NYU', 'OHSU', 'Peking', 'Pittsburgh', 'WashU']\n",
    "site_nums = [3,5,6,1,7,8]"
   ]
  },
  {
   "cell_type": "code",
   "execution_count": 35,
   "id": "8b80d50e",
   "metadata": {},
   "outputs": [],
   "source": [
    "for i in range(len(site_nums)):\n",
    "    site_pheno = df_all_phenos_filtered.loc[df_all_phenos_filtered['Site'] == site_nums[i]]\n",
    "    site_pheno[features].to_csv(site_filepath + '2023.7.13-Cleaned_' + site_names[i] + '_pheno.csv')"
   ]
  }
 ],
 "metadata": {
  "kernelspec": {
   "display_name": "Python 3 (ipykernel)",
   "language": "python",
   "name": "python3"
  },
  "language_info": {
   "codemirror_mode": {
    "name": "ipython",
    "version": 3
   },
   "file_extension": ".py",
   "mimetype": "text/x-python",
   "name": "python",
   "nbconvert_exporter": "python",
   "pygments_lexer": "ipython3",
   "version": "3.10.0"
  }
 },
 "nbformat": 4,
 "nbformat_minor": 5
}
