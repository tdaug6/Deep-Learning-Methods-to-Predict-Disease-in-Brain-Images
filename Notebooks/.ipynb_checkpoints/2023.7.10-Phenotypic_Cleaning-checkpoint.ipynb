{
 "cells": [
  {
   "cell_type": "markdown",
   "id": "bb7212d6",
   "metadata": {},
   "source": [
    "# Cleaning Phenotypic Data\n",
    "\n",
    "This notebook focuses on cleaning the phenotypic data for all sites. \n",
    "Many of the insights from the Exploratory Data Analysis notebook were used when writing this notebook.\n",
    "\n",
    "The purpose of this notebook is to modify the dataframe to be ready to build a machine learning model. \n",
    "The primary issue with the current dataframe is the null values and excessive features. \n",
    "\n",
    "The resulting file is a .csv file of a cleaned dataframe. "
   ]
  },
  {
   "cell_type": "markdown",
   "id": "a3318372",
   "metadata": {},
   "source": [
    "## Prepare Notebook\n",
    "\n",
    "Import packages and files to prepare for the contents of the notebook."
   ]
  },
  {
   "cell_type": "markdown",
   "id": "9479fcf1",
   "metadata": {},
   "source": [
    "### Imports\n",
    "\n",
    "These are the packages that will be used to perform the evaluations and actions on the dataframe.\n",
    "\n",
    "- `os` for accessing files\n",
    "\n",
    "- `pandas` for using dataframes\n",
    "\n",
    "- `matplotlib.pyplot` for plotting\n",
    "\n",
    "- `seaborn` for more customized plots"
   ]
  },
  {
   "cell_type": "code",
   "execution_count": 1,
   "id": "bc31555c",
   "metadata": {},
   "outputs": [],
   "source": [
    "import os\n",
    "import pandas as pd\n",
    "\n",
    "import matplotlib.pyplot as plt\n",
    "import seaborn as sns"
   ]
  },
  {
   "cell_type": "markdown",
   "id": "eb72480e",
   "metadata": {},
   "source": [
    "### Functions\n",
    "\n",
    "There are only two functions in this notebook\n",
    "\n",
    "1. get_base_filepath\n",
    "\n",
    "2. get_null_values"
   ]
  },
  {
   "cell_type": "markdown",
   "id": "5b8090ba",
   "metadata": {},
   "source": [
    "#### get_base_filepath()\n",
    "\n",
    "Access the filepath for the base folder of the project\n",
    "\n",
    "**Input:** None\n",
    "\n",
    "**Output:** The filepath to the root of the folder"
   ]
  },
  {
   "cell_type": "code",
   "execution_count": 2,
   "id": "6ce2d75c",
   "metadata": {},
   "outputs": [],
   "source": [
    "def get_base_filepath():\n",
    "    '''\n",
    "    Access the filepath for the base folder of the project\n",
    "    \n",
    "    Input: None\n",
    "    \n",
    "    Output: The filepath to the root of the folder\n",
    "    '''\n",
    "    # Get current directory\n",
    "    os.path.abspath(os.curdir)\n",
    "\n",
    "    # Go up a directory level\n",
    "    os.chdir('..')\n",
    "\n",
    "    # Set baseline filepath to the project folder directory\n",
    "    base_folder_filepath = os.path.abspath(os.curdir)\n",
    "    return base_folder_filepath"
   ]
  },
  {
   "cell_type": "markdown",
   "id": "a5116236",
   "metadata": {},
   "source": [
    "#### get_null_values()\n",
    "\n",
    "Generate a dataframe of the null value count and the minimum value.\n",
    "\n",
    "**Input:** \n",
    "\n",
    "- A list of numeric features to find the null an min values for\n",
    "\n",
    "- A dataframe to access the features from\n",
    "\n",
    "**Output:** A dataframe of null value coutn and minimum value for each feature"
   ]
  },
  {
   "cell_type": "code",
   "execution_count": 3,
   "id": "ddea51c8",
   "metadata": {},
   "outputs": [],
   "source": [
    "def get_null_values(features, df):\n",
    "    '''\n",
    "    Generate a dataframe of the null value count and the minimum value\n",
    "    \n",
    "    Input:\n",
    "        - A list of numeric features to find the null an min values for\n",
    "        - A dataframe to access the features from\n",
    "        \n",
    "    Output: A dataframe of null value coutn and minimum value for each feature\n",
    "    '''\n",
    "    null_vals = dict()\n",
    "    for col in features:\n",
    "        null_vals[col] = (df[col].isnull().sum(), df[col].min())\n",
    "        \n",
    "    df_null_vals = pd.DataFrame(data=null_vals, index=['null_count', 'min_value'])\n",
    "    return df_null_vals"
   ]
  },
  {
   "cell_type": "markdown",
   "id": "01f7d655",
   "metadata": {},
   "source": [
    "### Load File\n",
    "\n",
    "Read the phenotypic file as a dataframe. Set the 'ID' as the index since it is unique for each patient."
   ]
  },
  {
   "cell_type": "code",
   "execution_count": 4,
   "id": "c2b243f7",
   "metadata": {},
   "outputs": [],
   "source": [
    "# The folder for the project\n",
    "base_folder_filepath = get_base_filepath()\n",
    "\n",
    "# Phenotypic data site folder\n",
    "filepath = base_folder_filepath + '\\\\Data\\\\Phenotypic\\\\allSubs_testSet_phenotypic_dx.csv'\n",
    "\n",
    "# Dataframe from filepath\n",
    "df_pheno = pd.read_csv(filepath, index_col='ID')"
   ]
  },
  {
   "cell_type": "markdown",
   "id": "ab0d89d5",
   "metadata": {},
   "source": [
    "## Feature Engineering\n",
    "\n",
    "Adjust existing features and create new ones to improve the dataframe."
   ]
  },
  {
   "cell_type": "markdown",
   "id": "886222cf",
   "metadata": {},
   "source": [
    "### Drop Features\n",
    "\n",
    "Some features in the current dataframe will not be useful for making predictions. \n",
    "The way that the IQ and ADHD values are measured should not be included as an indicator of ADHD. \n",
    "Similarly, the quality of the fMRIs should not determine what diagnosis the patient has."
   ]
  },
  {
   "cell_type": "code",
   "execution_count": 5,
   "id": "9f128fa0",
   "metadata": {},
   "outputs": [],
   "source": [
    "drop_features = ['Disclaimer', 'IQ Measure', 'ADHD Measure',\n",
    "                 'QC_Rest_1', 'QC_Rest_2', 'QC_Rest_3', 'QC_Rest_4', \n",
    "                 'QC_Anatomical_1', 'QC_Anatomical_2']\n",
    "\n",
    "df_pheno_filtered = df_pheno.copy()\n",
    "df_pheno_filtered = df_pheno.drop(drop_features, axis=1)"
   ]
  },
  {
   "cell_type": "markdown",
   "id": "66225f89",
   "metadata": {},
   "source": [
    "### IQ \n",
    "\n",
    "The places where Full4 IQ are null is the same subjects that have Full2 IQ. \n",
    "These two features can be combined to a create a single IQ feature. \n",
    "There are still some points where both Full4 and Full2 IQs are null, which will be filled later in the notebook."
   ]
  },
  {
   "cell_type": "code",
   "execution_count": 6,
   "id": "94d996f4",
   "metadata": {},
   "outputs": [],
   "source": [
    "df_pheno_filtered.loc[df_pheno_filtered['Full4 IQ'].isnull(), 'Full4 IQ'] = df_pheno_filtered.loc[df_pheno_filtered['Full4 IQ'].isnull(), 'Full2 IQ']"
   ]
  },
  {
   "cell_type": "code",
   "execution_count": 7,
   "id": "f052a44c",
   "metadata": {},
   "outputs": [
    {
     "data": {
      "text/plain": [
       "ID\n",
       "27012   NaN\n",
       "21008   NaN\n",
       "21030   NaN\n",
       "Name: Full4 IQ, dtype: float64"
      ]
     },
     "execution_count": 7,
     "metadata": {},
     "output_type": "execute_result"
    }
   ],
   "source": [
    "df_pheno_filtered.loc[df_pheno_filtered['Full4 IQ'].isnull(), 'Full4 IQ']"
   ]
  },
  {
   "cell_type": "code",
   "execution_count": 8,
   "id": "fc25a730",
   "metadata": {},
   "outputs": [],
   "source": [
    "df_pheno_filtered['IQ'] = df_pheno_filtered['Full4 IQ']\n",
    "df_pheno_filtered = df_pheno_filtered.drop(['Full4 IQ', 'Full2 IQ'], axis=1)"
   ]
  },
  {
   "cell_type": "markdown",
   "id": "b02d3379",
   "metadata": {},
   "source": [
    "### Handedness\n",
    "\n",
    "The handedness measure at one of the sites measures handedness on a continuous scale unlike the other sites. \n",
    "The values greater than 0 are right-handed and the values less than 0 are left-handed. \n",
    "These categorical values replace the continuous values."
   ]
  },
  {
   "cell_type": "code",
   "execution_count": 9,
   "id": "9c1bd806",
   "metadata": {},
   "outputs": [],
   "source": [
    "df_pheno_filtered.loc[df_pheno_filtered['Handedness'] > 0, 'Handedness'] = 1\n",
    "df_pheno_filtered.loc[df_pheno_filtered['Handedness'] < 0, 'Handedness'] = 0"
   ]
  },
  {
   "cell_type": "markdown",
   "id": "5a05a60d",
   "metadata": {},
   "source": [
    "## Extract Brown Site\n",
    "\n",
    "Remove the data from the Brown site and set it as its own dataframe. \n",
    "Save the Brown dataframe as a .csv file."
   ]
  },
  {
   "cell_type": "code",
   "execution_count": 10,
   "id": "b1922b73",
   "metadata": {},
   "outputs": [],
   "source": [
    "df_brown = df_pheno_filtered.loc[df_pheno_filtered['Site'] == 2]\n",
    "df_pheno_filtered = df_pheno_filtered.drop(df_pheno_filtered.loc[df_pheno_filtered['Site'] == 2].index)\n",
    "\n",
    "df_brown.to_csv('2023.7.10-Brown_phenotypic.csv')"
   ]
  },
  {
   "cell_type": "markdown",
   "id": "a7fda75f",
   "metadata": {},
   "source": [
    "## Null Values\n",
    "\n",
    "Explore the null values and fill them with reasonable values."
   ]
  },
  {
   "cell_type": "markdown",
   "id": "280c4948",
   "metadata": {},
   "source": [
    "### View null values\n",
    "\n",
    "Look at the null values and potential false null values for the numeric features in the dataframe."
   ]
  },
  {
   "cell_type": "code",
   "execution_count": 12,
   "id": "7d9d88ba",
   "metadata": {},
   "outputs": [
    {
     "data": {
      "text/html": [
       "<div>\n",
       "<style scoped>\n",
       "    .dataframe tbody tr th:only-of-type {\n",
       "        vertical-align: middle;\n",
       "    }\n",
       "\n",
       "    .dataframe tbody tr th {\n",
       "        vertical-align: top;\n",
       "    }\n",
       "\n",
       "    .dataframe thead th {\n",
       "        text-align: right;\n",
       "    }\n",
       "</style>\n",
       "<table border=\"1\" class=\"dataframe\">\n",
       "  <thead>\n",
       "    <tr style=\"text-align: right;\">\n",
       "      <th></th>\n",
       "      <th>Gender</th>\n",
       "      <th>Age</th>\n",
       "      <th>Handedness</th>\n",
       "      <th>Verbal IQ</th>\n",
       "      <th>Performance IQ</th>\n",
       "      <th>IQ</th>\n",
       "    </tr>\n",
       "  </thead>\n",
       "  <tbody>\n",
       "    <tr>\n",
       "      <th>null_count</th>\n",
       "      <td>0</td>\n",
       "      <td>0.00</td>\n",
       "      <td>2.0</td>\n",
       "      <td>60.0</td>\n",
       "      <td>60.0</td>\n",
       "      <td>3.0</td>\n",
       "    </tr>\n",
       "    <tr>\n",
       "      <th>min_value</th>\n",
       "      <td>0</td>\n",
       "      <td>7.26</td>\n",
       "      <td>0.0</td>\n",
       "      <td>80.0</td>\n",
       "      <td>67.0</td>\n",
       "      <td>75.0</td>\n",
       "    </tr>\n",
       "  </tbody>\n",
       "</table>\n",
       "</div>"
      ],
      "text/plain": [
       "            Gender   Age  Handedness  Verbal IQ  Performance IQ    IQ\n",
       "null_count       0  0.00         2.0       60.0            60.0   3.0\n",
       "min_value        0  7.26         0.0       80.0            67.0  75.0"
      ]
     },
     "execution_count": 12,
     "metadata": {},
     "output_type": "execute_result"
    }
   ],
   "source": [
    "null_values = dict()\n",
    "numeric_cols = ['Gender', 'Age', 'Handedness',\n",
    "                'Verbal IQ', 'Performance IQ', 'IQ']\n",
    "\n",
    "df_null_values_train = get_null_values(numeric_cols, df_pheno_filtered)\n",
    "\n",
    "df_null_values_train.head()"
   ]
  },
  {
   "cell_type": "code",
   "execution_count": 13,
   "id": "bbafe24b",
   "metadata": {
    "scrolled": true
   },
   "outputs": [
    {
     "data": {
      "text/html": [
       "<div>\n",
       "<style scoped>\n",
       "    .dataframe tbody tr th:only-of-type {\n",
       "        vertical-align: middle;\n",
       "    }\n",
       "\n",
       "    .dataframe tbody tr th {\n",
       "        vertical-align: top;\n",
       "    }\n",
       "\n",
       "    .dataframe thead th {\n",
       "        text-align: right;\n",
       "    }\n",
       "</style>\n",
       "<table border=\"1\" class=\"dataframe\">\n",
       "  <thead>\n",
       "    <tr style=\"text-align: right;\">\n",
       "      <th></th>\n",
       "      <th>Gender</th>\n",
       "      <th>Age</th>\n",
       "      <th>Handedness</th>\n",
       "      <th>Verbal IQ</th>\n",
       "      <th>Performance IQ</th>\n",
       "      <th>IQ</th>\n",
       "    </tr>\n",
       "  </thead>\n",
       "  <tbody>\n",
       "    <tr>\n",
       "      <th>null_count</th>\n",
       "      <td>0</td>\n",
       "      <td>0.0</td>\n",
       "      <td>0.0</td>\n",
       "      <td>0.0</td>\n",
       "      <td>0.0</td>\n",
       "      <td>0.0</td>\n",
       "    </tr>\n",
       "    <tr>\n",
       "      <th>min_value</th>\n",
       "      <td>0</td>\n",
       "      <td>8.5</td>\n",
       "      <td>0.0</td>\n",
       "      <td>89.0</td>\n",
       "      <td>81.0</td>\n",
       "      <td>85.0</td>\n",
       "    </tr>\n",
       "  </tbody>\n",
       "</table>\n",
       "</div>"
      ],
      "text/plain": [
       "            Gender  Age  Handedness  Verbal IQ  Performance IQ    IQ\n",
       "null_count       0  0.0         0.0        0.0             0.0   0.0\n",
       "min_value        0  8.5         0.0       89.0            81.0  85.0"
      ]
     },
     "execution_count": 13,
     "metadata": {},
     "output_type": "execute_result"
    }
   ],
   "source": [
    "df_null_values_brown = get_null_values(numeric_cols, df_brown)\n",
    "df_null_values_brown.head()"
   ]
  },
  {
   "cell_type": "markdown",
   "id": "7c132ee5",
   "metadata": {},
   "source": [
    "### Handedness\n",
    "\n",
    "There are two null values for handedness. \n",
    "Most people are right-handed, including the subjects in this study, so null values will be filled with 1 (right)."
   ]
  },
  {
   "cell_type": "code",
   "execution_count": 14,
   "id": "da5c0fcd",
   "metadata": {},
   "outputs": [],
   "source": [
    "df_pheno_filtered['Handedness'] = df_pheno_filtered['Handedness'].fillna(1)"
   ]
  },
  {
   "cell_type": "markdown",
   "id": "a0808cfd",
   "metadata": {},
   "source": [
    "### Secondary DX\n",
    "\n",
    "Fill the null values with 'None' since it can be assumed that the patient does not have any secondary diagnosis.\n",
    "Map the types of diagnosis to numbers."
   ]
  },
  {
   "cell_type": "code",
   "execution_count": 16,
   "id": "316626c5",
   "metadata": {},
   "outputs": [],
   "source": [
    "df_pheno_filtered['Secondary Dx '] = df_pheno_filtered['Secondary Dx '].fillna('None')"
   ]
  },
  {
   "cell_type": "code",
   "execution_count": 17,
   "id": "f9646446",
   "metadata": {},
   "outputs": [],
   "source": [
    "df_pheno_filtered['Secondary Dx '] = df_pheno_filtered['Secondary Dx '].map({'None': 0, \n",
    "                                                                             'ODD': 1, \n",
    "                                                                             'TS':2, \n",
    "                                                                             'enuresis':3})"
   ]
  },
  {
   "cell_type": "markdown",
   "id": "e1475f8b",
   "metadata": {},
   "source": [
    "The number of secondary diagnosis could also be a useful insight to include as a target."
   ]
  },
  {
   "cell_type": "code",
   "execution_count": 15,
   "id": "01abb84c",
   "metadata": {},
   "outputs": [],
   "source": [
    "df_pheno_filtered['Num Secondary DX'] = df_pheno_filtered['Secondary Dx '].isnull()\n",
    "df_pheno_filtered['Num Secondary DX'] = df_pheno_filtered['Num Secondary DX'].map({True: 0, False: 1})"
   ]
  },
  {
   "cell_type": "markdown",
   "id": "62d3c341",
   "metadata": {},
   "source": [
    "## Mean-based fill values\n",
    "\n",
    "The features with IQ have more null values than the other features. \n",
    "For this reason, it is more important to fill the null values with points that are representative of the subject. \n",
    "\n",
    "With this in mind, the null values for these features will be filled according to the average value for other subjects with the same diagnosis. "
   ]
  },
  {
   "cell_type": "markdown",
   "id": "7a4fa266",
   "metadata": {},
   "source": [
    "### Performance IQ\n",
    "\n",
    "Fill the nulll Performance IQ values with the average value for each type of diagnosis."
   ]
  },
  {
   "cell_type": "code",
   "execution_count": 22,
   "id": "89f22f5f",
   "metadata": {
    "scrolled": true
   },
   "outputs": [
    {
     "data": {
      "text/plain": [
       "DX\n",
       "0    108.480769\n",
       "1    101.060606\n",
       "2    104.000000\n",
       "3    101.480000\n",
       "Name: Performance IQ, dtype: float64"
      ]
     },
     "execution_count": 22,
     "metadata": {},
     "output_type": "execute_result"
    }
   ],
   "source": [
    "df_pheno_filtered.groupby('DX')['Performance IQ'].mean()"
   ]
  },
  {
   "cell_type": "code",
   "execution_count": 23,
   "id": "8a92d7ef",
   "metadata": {
    "scrolled": true
   },
   "outputs": [
    {
     "name": "stderr",
     "output_type": "stream",
     "text": [
      "C:\\Users\\taylo\\AppData\\Local\\Temp\\ipykernel_16020\\3006464107.py:3: SettingWithCopyWarning: \n",
      "A value is trying to be set on a copy of a slice from a DataFrame\n",
      "\n",
      "See the caveats in the documentation: https://pandas.pydata.org/pandas-docs/stable/user_guide/indexing.html#returning-a-view-versus-a-copy\n",
      "  df_pheno_filtered['Performance IQ'].loc[df_pheno_filtered['Performance IQ'] == '0'] = 108.480769\n",
      "C:\\Users\\taylo\\AppData\\Local\\Temp\\ipykernel_16020\\3006464107.py:4: SettingWithCopyWarning: \n",
      "A value is trying to be set on a copy of a slice from a DataFrame\n",
      "\n",
      "See the caveats in the documentation: https://pandas.pydata.org/pandas-docs/stable/user_guide/indexing.html#returning-a-view-versus-a-copy\n",
      "  df_pheno_filtered['Performance IQ'].loc[df_pheno_filtered['Performance IQ'] == '1'] = 101.060606\n",
      "C:\\Users\\taylo\\AppData\\Local\\Temp\\ipykernel_16020\\3006464107.py:5: SettingWithCopyWarning: \n",
      "A value is trying to be set on a copy of a slice from a DataFrame\n",
      "\n",
      "See the caveats in the documentation: https://pandas.pydata.org/pandas-docs/stable/user_guide/indexing.html#returning-a-view-versus-a-copy\n",
      "  df_pheno_filtered['Performance IQ'].loc[df_pheno_filtered['Performance IQ'] == '2'] = 104.000000\n",
      "C:\\Users\\taylo\\AppData\\Local\\Temp\\ipykernel_16020\\3006464107.py:6: SettingWithCopyWarning: \n",
      "A value is trying to be set on a copy of a slice from a DataFrame\n",
      "\n",
      "See the caveats in the documentation: https://pandas.pydata.org/pandas-docs/stable/user_guide/indexing.html#returning-a-view-versus-a-copy\n",
      "  df_pheno_filtered['Performance IQ'].loc[df_pheno_filtered['Performance IQ'] == '3'] = 101.480000\n"
     ]
    }
   ],
   "source": [
    "df_pheno_filtered.loc[df_pheno_filtered['Performance IQ'].isnull(), 'Performance IQ'] = df_pheno_filtered.loc[df_pheno_filtered['Performance IQ'].isnull(), 'DX']\n",
    "\n",
    "df_pheno_filtered['Performance IQ'].loc[df_pheno_filtered['Performance IQ'] == '0'] = 108.480769\n",
    "df_pheno_filtered['Performance IQ'].loc[df_pheno_filtered['Performance IQ'] == '1'] = 101.060606\n",
    "df_pheno_filtered['Performance IQ'].loc[df_pheno_filtered['Performance IQ'] == '2'] = 104.000000\n",
    "df_pheno_filtered['Performance IQ'].loc[df_pheno_filtered['Performance IQ'] == '3'] = 101.480000"
   ]
  },
  {
   "cell_type": "markdown",
   "id": "9dbf45ca",
   "metadata": {},
   "source": [
    "### Verbal IQ\n",
    "\n",
    "Fill the nulll Verbal IQ values with the average value for each type of diagnosis."
   ]
  },
  {
   "cell_type": "code",
   "execution_count": 21,
   "id": "3ba6923b",
   "metadata": {
    "scrolled": true
   },
   "outputs": [
    {
     "data": {
      "text/plain": [
       "DX\n",
       "0    119.250000\n",
       "1    109.212121\n",
       "2    108.000000\n",
       "3    108.560000\n",
       "Name: Verbal IQ, dtype: float64"
      ]
     },
     "execution_count": 21,
     "metadata": {},
     "output_type": "execute_result"
    }
   ],
   "source": [
    "df_pheno_filtered.groupby('DX')['Verbal IQ'].mean()"
   ]
  },
  {
   "cell_type": "code",
   "execution_count": 24,
   "id": "a46bd0b4",
   "metadata": {
    "scrolled": true
   },
   "outputs": [
    {
     "name": "stderr",
     "output_type": "stream",
     "text": [
      "C:\\Users\\taylo\\AppData\\Local\\Temp\\ipykernel_16020\\1075670407.py:3: SettingWithCopyWarning: \n",
      "A value is trying to be set on a copy of a slice from a DataFrame\n",
      "\n",
      "See the caveats in the documentation: https://pandas.pydata.org/pandas-docs/stable/user_guide/indexing.html#returning-a-view-versus-a-copy\n",
      "  df_pheno_filtered['Verbal IQ'].loc[df_pheno_filtered['Verbal IQ'] == '0'] = 108.480769\n",
      "C:\\Users\\taylo\\AppData\\Local\\Temp\\ipykernel_16020\\1075670407.py:4: SettingWithCopyWarning: \n",
      "A value is trying to be set on a copy of a slice from a DataFrame\n",
      "\n",
      "See the caveats in the documentation: https://pandas.pydata.org/pandas-docs/stable/user_guide/indexing.html#returning-a-view-versus-a-copy\n",
      "  df_pheno_filtered['Verbal IQ'].loc[df_pheno_filtered['Verbal IQ'] == '1'] = 101.060606\n",
      "C:\\Users\\taylo\\AppData\\Local\\Temp\\ipykernel_16020\\1075670407.py:5: SettingWithCopyWarning: \n",
      "A value is trying to be set on a copy of a slice from a DataFrame\n",
      "\n",
      "See the caveats in the documentation: https://pandas.pydata.org/pandas-docs/stable/user_guide/indexing.html#returning-a-view-versus-a-copy\n",
      "  df_pheno_filtered['Verbal IQ'].loc[df_pheno_filtered['Verbal IQ'] == '2'] = 104.000000\n",
      "C:\\Users\\taylo\\AppData\\Local\\Temp\\ipykernel_16020\\1075670407.py:6: SettingWithCopyWarning: \n",
      "A value is trying to be set on a copy of a slice from a DataFrame\n",
      "\n",
      "See the caveats in the documentation: https://pandas.pydata.org/pandas-docs/stable/user_guide/indexing.html#returning-a-view-versus-a-copy\n",
      "  df_pheno_filtered['Verbal IQ'].loc[df_pheno_filtered['Verbal IQ'] == '3'] = 101.480000\n"
     ]
    }
   ],
   "source": [
    "df_pheno_filtered.loc[df_pheno_filtered['Verbal IQ'].isnull(), 'Verbal IQ'] = df_pheno_filtered.loc[df_pheno_filtered['Verbal IQ'].isnull(), 'DX']\n",
    "\n",
    "df_pheno_filtered['Verbal IQ'].loc[df_pheno_filtered['Verbal IQ'] == '0'] = 108.480769\n",
    "df_pheno_filtered['Verbal IQ'].loc[df_pheno_filtered['Verbal IQ'] == '1'] = 101.060606\n",
    "df_pheno_filtered['Verbal IQ'].loc[df_pheno_filtered['Verbal IQ'] == '2'] = 104.000000\n",
    "df_pheno_filtered['Verbal IQ'].loc[df_pheno_filtered['Verbal IQ'] == '3'] = 101.480000"
   ]
  },
  {
   "cell_type": "markdown",
   "id": "6b95dfab",
   "metadata": {},
   "source": [
    "### IQ\n",
    "\n",
    "Fill the nulll IQ values with the average value for each type of diagnosis."
   ]
  },
  {
   "cell_type": "code",
   "execution_count": null,
   "id": "3a678116",
   "metadata": {},
   "outputs": [],
   "source": [
    "df_pheno_filtered.groupby('DX')['IQ'].mean()"
   ]
  },
  {
   "cell_type": "code",
   "execution_count": 25,
   "id": "f3f71ec3",
   "metadata": {},
   "outputs": [
    {
     "name": "stderr",
     "output_type": "stream",
     "text": [
      "C:\\Users\\taylo\\AppData\\Local\\Temp\\ipykernel_16020\\606052101.py:3: SettingWithCopyWarning: \n",
      "A value is trying to be set on a copy of a slice from a DataFrame\n",
      "\n",
      "See the caveats in the documentation: https://pandas.pydata.org/pandas-docs/stable/user_guide/indexing.html#returning-a-view-versus-a-copy\n",
      "  df_pheno_filtered['IQ'].loc[df_pheno_filtered['IQ'] == '0'] = 112.666667\n",
      "C:\\Users\\taylo\\AppData\\Local\\Temp\\ipykernel_16020\\606052101.py:4: SettingWithCopyWarning: \n",
      "A value is trying to be set on a copy of a slice from a DataFrame\n",
      "\n",
      "See the caveats in the documentation: https://pandas.pydata.org/pandas-docs/stable/user_guide/indexing.html#returning-a-view-versus-a-copy\n",
      "  df_pheno_filtered['IQ'].loc[df_pheno_filtered['IQ'] == '1'] = 103.357447\n",
      "C:\\Users\\taylo\\AppData\\Local\\Temp\\ipykernel_16020\\606052101.py:5: SettingWithCopyWarning: \n",
      "A value is trying to be set on a copy of a slice from a DataFrame\n",
      "\n",
      "See the caveats in the documentation: https://pandas.pydata.org/pandas-docs/stable/user_guide/indexing.html#returning-a-view-versus-a-copy\n",
      "  df_pheno_filtered['IQ'].loc[df_pheno_filtered['IQ'] == '2'] = 116.500000\n",
      "C:\\Users\\taylo\\AppData\\Local\\Temp\\ipykernel_16020\\606052101.py:6: SettingWithCopyWarning: \n",
      "A value is trying to be set on a copy of a slice from a DataFrame\n",
      "\n",
      "See the caveats in the documentation: https://pandas.pydata.org/pandas-docs/stable/user_guide/indexing.html#returning-a-view-versus-a-copy\n",
      "  df_pheno_filtered['IQ'].loc[df_pheno_filtered['IQ'] == '3'] = 106.115385\n"
     ]
    }
   ],
   "source": [
    "df_pheno_filtered.loc[df_pheno_filtered['IQ'].isnull(), 'IQ'] = df_pheno_filtered.loc[df_pheno_filtered['IQ'].isnull(), 'DX']\n",
    "\n",
    "df_pheno_filtered['IQ'].loc[df_pheno_filtered['IQ'] == '0'] = 112.666667\n",
    "df_pheno_filtered['IQ'].loc[df_pheno_filtered['IQ'] == '1'] = 103.357447\n",
    "df_pheno_filtered['IQ'].loc[df_pheno_filtered['IQ'] == '2'] = 116.500000\n",
    "df_pheno_filtered['IQ'].loc[df_pheno_filtered['IQ'] == '3'] = 106.115385"
   ]
  },
  {
   "cell_type": "markdown",
   "id": "341b4c85",
   "metadata": {},
   "source": [
    "## Export Dataframe\n",
    "\n",
    "Save the dataframe as a .csv file and export it to the Phenotypic folder in the project folder for later use."
   ]
  },
  {
   "cell_type": "code",
   "execution_count": 26,
   "id": "5a50b52c",
   "metadata": {},
   "outputs": [],
   "source": [
    "df_pheno_filtered[features].to_csv(base_folder_filepath + \n",
    "                                   '\\\\Data\\\\Phenotypic\\\\2023.7.11-Cleaned_Phenotypic_Training_Sites.csv')"
   ]
  }
 ],
 "metadata": {
  "kernelspec": {
   "display_name": "Python 3 (ipykernel)",
   "language": "python",
   "name": "python3"
  },
  "language_info": {
   "codemirror_mode": {
    "name": "ipython",
    "version": 3
   },
   "file_extension": ".py",
   "mimetype": "text/x-python",
   "name": "python",
   "nbconvert_exporter": "python",
   "pygments_lexer": "ipython3",
   "version": "3.10.0"
  }
 },
 "nbformat": 4,
 "nbformat_minor": 5
}
