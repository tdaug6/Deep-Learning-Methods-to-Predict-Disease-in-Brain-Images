{
 "cells": [
  {
   "cell_type": "code",
   "execution_count": 24,
   "id": "438daa36",
   "metadata": {},
   "outputs": [],
   "source": [
    "import os\n",
    "import pandas as pd\n",
    "import numpy as np\n",
    "from sklearn.model_selection import train_test_split\n",
    "from sklearn.linear_model import LogisticRegression\n",
    "from sklearn.metrics import accuracy_score\n",
    "from sklearn.neighbors import KNeighborsClassifier\n",
    "from sklearn.svm import SVC\n",
    "from sklearn.model_selection import StratifiedKFold, cross_val_score"
   ]
  },
  {
   "cell_type": "code",
   "execution_count": 2,
   "id": "7bb3a4fb",
   "metadata": {},
   "outputs": [],
   "source": [
    "def get_base_filepath():\n",
    "    '''\n",
    "    Access the filepath for the base folder of the project\n",
    "    \n",
    "    Input: None\n",
    "    \n",
    "    Output: The filepath to the root of the folder\n",
    "    '''\n",
    "    # Get current directory\n",
    "    os.path.abspath(os.curdir)\n",
    "\n",
    "    # Go up a directory level\n",
    "    os.chdir('..')\n",
    "\n",
    "    # Set baseline filepath to the project folder directory\n",
    "    base_folder_filepath = os.path.abspath(os.curdir)\n",
    "    return base_folder_filepath"
   ]
  },
  {
   "cell_type": "code",
   "execution_count": 3,
   "id": "ec2e873f",
   "metadata": {},
   "outputs": [],
   "source": [
    "def extract_features(filepath):\n",
    "    '''\n",
    "    Create a dataframe using the mean of regions over time.\n",
    "    \n",
    "    Input: filepath to open the dataframe\n",
    "    \n",
    "    Output: dataframe of mean for each region\n",
    "    '''\n",
    "    df = pd.read_csv(filepath, sep=r'\\s{1,}', engine='python', header=0)\n",
    "    df = df.drop('File', axis=1)\n",
    "    df = df.drop('Sub-brick', axis=1)\n",
    "    return df.mean()"
   ]
  },
  {
   "cell_type": "code",
   "execution_count": 4,
   "id": "98771425",
   "metadata": {},
   "outputs": [],
   "source": [
    "base_folder_filepath = get_base_filepath()\n",
    "sites_filepath = base_folder_filepath +  '\\\\Data\\\\Preprocessed_data\\\\Sites\\\\'\n",
    "phenotypics_filepath = base_folder_filepath + '\\\\Data\\\\Phenotypic\\\\Sites\\\\'"
   ]
  },
  {
   "cell_type": "code",
   "execution_count": 5,
   "id": "017bf29a",
   "metadata": {},
   "outputs": [
    {
     "name": "stdout",
     "output_type": "stream",
     "text": [
      "Skipping empty folder: 0010016\n",
      "Skipping empty folder: 0010027\n",
      "Skipping empty folder: 0010055\n",
      "Skipping empty folder: 0010098\n",
      "Skipping empty folder: 0010105\n",
      "Skipping empty folder: 0010127\n",
      "Skipping folder sfnwmrda0015001_session_1_rest_1_aal_TCs.1D: not found.\n",
      "Skipping folder sfnwmrda0015004_session_1_rest_1_aal_TCs.1D: not found.\n",
      "Skipping empty folder: 0015011\n",
      "Skipping folder sfnwmrda0015016_session_1_rest_1_aal_TCs.1D: not found.\n",
      "Skipping empty folder: 0015018\n",
      "Skipping folder sfnwmrda0015026_session_1_rest_1_aal_TCs.1D: not found.\n",
      "Skipping folder sfnwmrda0015027_session_1_rest_1_aal_TCs.1D: not found.\n",
      "Skipping folder sfnwmrda0015032_session_1_rest_1_aal_TCs.1D: not found.\n",
      "Skipping folder sfnwmrda0015036_session_1_rest_1_aal_TCs.1D: not found.\n",
      "Skipping folder sfnwmrda0015052_session_1_rest_1_aal_TCs.1D: not found.\n",
      "Skipping folder sfnwmrda0015057_session_1_rest_1_aal_TCs.1D: not found.\n"
     ]
    },
    {
     "data": {
      "text/plain": [
       "['0010001', '0010002', '0010003']"
      ]
     },
     "execution_count": 5,
     "metadata": {},
     "output_type": "execute_result"
    }
   ],
   "source": [
    "subjects = []\n",
    "subject_features = []\n",
    "subjects_dropped = []\n",
    "\n",
    "# Access all sfnwmrda files in the OHSU folder\n",
    "for site_folder in os.listdir(sites_filepath):\n",
    "    # Access the filepath to the folder\n",
    "    site_folder_path = os.path.join(sites_filepath, site_folder)\n",
    "        \n",
    "    # Access the patient folders within the site folder\n",
    "    for patient_id_folder in os.listdir(site_folder_path):            \n",
    "        # Access the filepath to the folder\n",
    "        patient_id_folder_path = os.path.join(site_folder_path, patient_id_folder)\n",
    "        \n",
    "        # Skip the folder if it is empty\n",
    "        if len(os.listdir(patient_id_folder_path)) == 0:\n",
    "            print(f\"Skipping empty folder: {patient_id_folder}\")\n",
    "            subjects_dropped.append(patient_id_folder)\n",
    "            continue\n",
    "\n",
    "        # Check if the filepath is a folder, continue if it is a folder\n",
    "        if os.path.isdir(patient_id_folder_path):\n",
    "            # Get the file name (dependent on folder name)\n",
    "            file_name = f\"sfnwmrda{patient_id_folder}_session_1_rest_1_aal_TCs.1D\"\n",
    "            \n",
    "            # Join the file name to its path\n",
    "            file_path = os.path.join(patient_id_folder_path, file_name)\n",
    "            \n",
    "            if not os.path.exists(file_path):\n",
    "                print(f\"Skipping folder {file_name}: not found.\")\n",
    "                subjects_dropped.append(patient_id_folder)\n",
    "                continue\n",
    "\n",
    "            # Extract the features and add it to the list of subjects\n",
    "            subject_features.append(extract_features(file_path))\n",
    "            \n",
    "            # Add the patient ID to the subjects list\n",
    "            subjects.append(patient_id_folder)\n",
    "        \n",
    "subjects[:3]"
   ]
  },
  {
   "cell_type": "code",
   "execution_count": 6,
   "id": "81f11929",
   "metadata": {},
   "outputs": [
    {
     "data": {
      "text/plain": [
       "['0010016', '0010027', '0010055']"
      ]
     },
     "execution_count": 6,
     "metadata": {},
     "output_type": "execute_result"
    }
   ],
   "source": [
    "subjects_dropped[:3]"
   ]
  },
  {
   "cell_type": "code",
   "execution_count": 7,
   "id": "ba5a2307",
   "metadata": {},
   "outputs": [
    {
     "data": {
      "text/plain": [
       "[ScanDir ID\n",
       " 1018959    0\n",
       " 1019436    3\n",
       " 1043241    0\n",
       " 1266183    0\n",
       " 1535233    0\n",
       "           ..\n",
       " 8337695    1\n",
       " 8432725    0\n",
       " 8628223    0\n",
       " 8658218    0\n",
       " 9922944    0\n",
       " Name: DX, Length: 83, dtype: int64,\n",
       " ScanDir ID\n",
       " 1000804    0\n",
       " 1023964    3\n",
       " 1057962    1\n",
       " 1099481    1\n",
       " 1127915    0\n",
       "           ..\n",
       " 10127      1\n",
       " 10128      0\n",
       " 10129      3\n",
       " 10013      1\n",
       " 10043      0\n",
       " Name: DX, Length: 222, dtype: int64,\n",
       " ScanDir ID\n",
       " 1084283    1\n",
       " 1084884    0\n",
       " 1108916    1\n",
       " 1206380    3\n",
       " 1340333    1\n",
       "           ..\n",
       " 7333005    1\n",
       " 8064456    0\n",
       " 8218392    0\n",
       " 8720244    3\n",
       " 9499804    0\n",
       " Name: DX, Length: 79, dtype: int64]"
      ]
     },
     "execution_count": 7,
     "metadata": {},
     "output_type": "execute_result"
    }
   ],
   "source": [
    "dx = []\n",
    "pheno_index = []\n",
    "\n",
    "# Iterate through each file in the directory\n",
    "for site_pheno in os.listdir(phenotypics_filepath):\n",
    "    site_pheno_filepath = os.path.join(phenotypics_filepath, site_pheno)\n",
    "    \n",
    "    # Check if the current item in the directory is a file\n",
    "    if os.path.isfile(site_pheno_filepath):\n",
    "        df_pheno = pd.read_csv(site_pheno_filepath, index_col='ScanDir ID')\n",
    "        dx.append(df_pheno['DX'])\n",
    "        pheno_index.append(df_pheno.index)\n",
    "        \n",
    "dx[:3]"
   ]
  },
  {
   "cell_type": "code",
   "execution_count": 8,
   "id": "af7d35d2",
   "metadata": {},
   "outputs": [
    {
     "data": {
      "text/html": [
       "<div>\n",
       "<style scoped>\n",
       "    .dataframe tbody tr th:only-of-type {\n",
       "        vertical-align: middle;\n",
       "    }\n",
       "\n",
       "    .dataframe tbody tr th {\n",
       "        vertical-align: top;\n",
       "    }\n",
       "\n",
       "    .dataframe thead th {\n",
       "        text-align: right;\n",
       "    }\n",
       "</style>\n",
       "<table border=\"1\" class=\"dataframe\">\n",
       "  <thead>\n",
       "    <tr style=\"text-align: right;\">\n",
       "      <th></th>\n",
       "      <th>Mean_2001</th>\n",
       "      <th>Mean_2002</th>\n",
       "      <th>Mean_2101</th>\n",
       "      <th>Mean_2102</th>\n",
       "      <th>Mean_2111</th>\n",
       "      <th>Mean_2112</th>\n",
       "      <th>Mean_2201</th>\n",
       "      <th>Mean_2202</th>\n",
       "      <th>Mean_2211</th>\n",
       "      <th>Mean_2212</th>\n",
       "      <th>...</th>\n",
       "      <th>Mean_9081</th>\n",
       "      <th>Mean_9082</th>\n",
       "      <th>Mean_9100</th>\n",
       "      <th>Mean_9110</th>\n",
       "      <th>Mean_9120</th>\n",
       "      <th>Mean_9130</th>\n",
       "      <th>Mean_9140</th>\n",
       "      <th>Mean_9150</th>\n",
       "      <th>Mean_9160</th>\n",
       "      <th>Mean_9170</th>\n",
       "    </tr>\n",
       "  </thead>\n",
       "  <tbody>\n",
       "    <tr>\n",
       "      <th>0010001</th>\n",
       "      <td>0.001918</td>\n",
       "      <td>0.001396</td>\n",
       "      <td>0.000917</td>\n",
       "      <td>0.001579</td>\n",
       "      <td>0.001620</td>\n",
       "      <td>0.000398</td>\n",
       "      <td>0.000401</td>\n",
       "      <td>0.000248</td>\n",
       "      <td>-0.000006</td>\n",
       "      <td>-0.001791</td>\n",
       "      <td>...</td>\n",
       "      <td>-0.001946</td>\n",
       "      <td>-0.001540</td>\n",
       "      <td>0.002221</td>\n",
       "      <td>0.001640</td>\n",
       "      <td>-0.000227</td>\n",
       "      <td>-0.000473</td>\n",
       "      <td>-0.000525</td>\n",
       "      <td>0.002460</td>\n",
       "      <td>0.001810</td>\n",
       "      <td>-0.000823</td>\n",
       "    </tr>\n",
       "    <tr>\n",
       "      <th>0010002</th>\n",
       "      <td>0.000535</td>\n",
       "      <td>-0.000911</td>\n",
       "      <td>-0.004370</td>\n",
       "      <td>0.000013</td>\n",
       "      <td>-0.012312</td>\n",
       "      <td>0.001798</td>\n",
       "      <td>-0.001885</td>\n",
       "      <td>0.000525</td>\n",
       "      <td>-0.002277</td>\n",
       "      <td>0.015622</td>\n",
       "      <td>...</td>\n",
       "      <td>-0.000176</td>\n",
       "      <td>-0.001465</td>\n",
       "      <td>-0.002169</td>\n",
       "      <td>-0.000968</td>\n",
       "      <td>0.001107</td>\n",
       "      <td>0.001050</td>\n",
       "      <td>0.000374</td>\n",
       "      <td>-0.000629</td>\n",
       "      <td>-0.000025</td>\n",
       "      <td>0.001806</td>\n",
       "    </tr>\n",
       "    <tr>\n",
       "      <th>0010003</th>\n",
       "      <td>0.004598</td>\n",
       "      <td>0.001763</td>\n",
       "      <td>0.001807</td>\n",
       "      <td>-0.000461</td>\n",
       "      <td>-0.004121</td>\n",
       "      <td>-0.007068</td>\n",
       "      <td>0.003899</td>\n",
       "      <td>0.004255</td>\n",
       "      <td>-0.001597</td>\n",
       "      <td>-0.011144</td>\n",
       "      <td>...</td>\n",
       "      <td>-0.001121</td>\n",
       "      <td>-0.001566</td>\n",
       "      <td>-0.009230</td>\n",
       "      <td>-0.002198</td>\n",
       "      <td>0.006707</td>\n",
       "      <td>0.009246</td>\n",
       "      <td>-0.000108</td>\n",
       "      <td>0.001620</td>\n",
       "      <td>-0.000059</td>\n",
       "      <td>-0.007794</td>\n",
       "    </tr>\n",
       "    <tr>\n",
       "      <th>0010004</th>\n",
       "      <td>-0.000559</td>\n",
       "      <td>0.000830</td>\n",
       "      <td>-0.003498</td>\n",
       "      <td>-0.001282</td>\n",
       "      <td>-0.004143</td>\n",
       "      <td>0.001574</td>\n",
       "      <td>-0.001477</td>\n",
       "      <td>-0.000162</td>\n",
       "      <td>-0.005601</td>\n",
       "      <td>0.002853</td>\n",
       "      <td>...</td>\n",
       "      <td>0.000800</td>\n",
       "      <td>-0.000904</td>\n",
       "      <td>-0.000326</td>\n",
       "      <td>0.000155</td>\n",
       "      <td>0.003007</td>\n",
       "      <td>0.001742</td>\n",
       "      <td>0.002644</td>\n",
       "      <td>0.000302</td>\n",
       "      <td>-0.000304</td>\n",
       "      <td>-0.000530</td>\n",
       "    </tr>\n",
       "    <tr>\n",
       "      <th>0010005</th>\n",
       "      <td>0.003364</td>\n",
       "      <td>0.006273</td>\n",
       "      <td>0.014627</td>\n",
       "      <td>0.015924</td>\n",
       "      <td>0.000704</td>\n",
       "      <td>0.002034</td>\n",
       "      <td>0.016690</td>\n",
       "      <td>0.014993</td>\n",
       "      <td>0.004241</td>\n",
       "      <td>0.008220</td>\n",
       "      <td>...</td>\n",
       "      <td>0.007601</td>\n",
       "      <td>0.004895</td>\n",
       "      <td>0.001707</td>\n",
       "      <td>-0.004593</td>\n",
       "      <td>-0.007235</td>\n",
       "      <td>-0.008659</td>\n",
       "      <td>-0.007546</td>\n",
       "      <td>-0.000393</td>\n",
       "      <td>-0.003564</td>\n",
       "      <td>-0.001598</td>\n",
       "    </tr>\n",
       "  </tbody>\n",
       "</table>\n",
       "<p>5 rows × 116 columns</p>\n",
       "</div>"
      ],
      "text/plain": [
       "         Mean_2001  Mean_2002  Mean_2101  Mean_2102  Mean_2111  Mean_2112   \n",
       "0010001   0.001918   0.001396   0.000917   0.001579   0.001620   0.000398  \\\n",
       "0010002   0.000535  -0.000911  -0.004370   0.000013  -0.012312   0.001798   \n",
       "0010003   0.004598   0.001763   0.001807  -0.000461  -0.004121  -0.007068   \n",
       "0010004  -0.000559   0.000830  -0.003498  -0.001282  -0.004143   0.001574   \n",
       "0010005   0.003364   0.006273   0.014627   0.015924   0.000704   0.002034   \n",
       "\n",
       "         Mean_2201  Mean_2202  Mean_2211  Mean_2212  ...  Mean_9081   \n",
       "0010001   0.000401   0.000248  -0.000006  -0.001791  ...  -0.001946  \\\n",
       "0010002  -0.001885   0.000525  -0.002277   0.015622  ...  -0.000176   \n",
       "0010003   0.003899   0.004255  -0.001597  -0.011144  ...  -0.001121   \n",
       "0010004  -0.001477  -0.000162  -0.005601   0.002853  ...   0.000800   \n",
       "0010005   0.016690   0.014993   0.004241   0.008220  ...   0.007601   \n",
       "\n",
       "         Mean_9082  Mean_9100  Mean_9110  Mean_9120  Mean_9130  Mean_9140   \n",
       "0010001  -0.001540   0.002221   0.001640  -0.000227  -0.000473  -0.000525  \\\n",
       "0010002  -0.001465  -0.002169  -0.000968   0.001107   0.001050   0.000374   \n",
       "0010003  -0.001566  -0.009230  -0.002198   0.006707   0.009246  -0.000108   \n",
       "0010004  -0.000904  -0.000326   0.000155   0.003007   0.001742   0.002644   \n",
       "0010005   0.004895   0.001707  -0.004593  -0.007235  -0.008659  -0.007546   \n",
       "\n",
       "         Mean_9150  Mean_9160  Mean_9170  \n",
       "0010001   0.002460   0.001810  -0.000823  \n",
       "0010002  -0.000629  -0.000025   0.001806  \n",
       "0010003   0.001620  -0.000059  -0.007794  \n",
       "0010004   0.000302  -0.000304  -0.000530  \n",
       "0010005  -0.000393  -0.003564  -0.001598  \n",
       "\n",
       "[5 rows x 116 columns]"
      ]
     },
     "execution_count": 8,
     "metadata": {},
     "output_type": "execute_result"
    }
   ],
   "source": [
    "df_subject_x_region = pd.DataFrame(subject_features, index=subjects)\n",
    "df_subject_x_region.head()"
   ]
  },
  {
   "cell_type": "code",
   "execution_count": 9,
   "id": "51e88a92",
   "metadata": {},
   "outputs": [],
   "source": [
    "pheno_index = [ind for site_pheno in pheno_index for ind in site_pheno]"
   ]
  },
  {
   "cell_type": "code",
   "execution_count": 10,
   "id": "ac8f7ac2",
   "metadata": {
    "scrolled": true
   },
   "outputs": [
    {
     "data": {
      "text/html": [
       "<div>\n",
       "<style scoped>\n",
       "    .dataframe tbody tr th:only-of-type {\n",
       "        vertical-align: middle;\n",
       "    }\n",
       "\n",
       "    .dataframe tbody tr th {\n",
       "        vertical-align: top;\n",
       "    }\n",
       "\n",
       "    .dataframe thead th {\n",
       "        text-align: right;\n",
       "    }\n",
       "</style>\n",
       "<table border=\"1\" class=\"dataframe\">\n",
       "  <thead>\n",
       "    <tr style=\"text-align: right;\">\n",
       "      <th></th>\n",
       "      <th>Mean_2001</th>\n",
       "      <th>Mean_2002</th>\n",
       "      <th>Mean_2101</th>\n",
       "      <th>Mean_2102</th>\n",
       "      <th>Mean_2111</th>\n",
       "      <th>Mean_2112</th>\n",
       "      <th>Mean_2201</th>\n",
       "      <th>Mean_2202</th>\n",
       "      <th>Mean_2211</th>\n",
       "      <th>Mean_2212</th>\n",
       "      <th>...</th>\n",
       "      <th>Mean_9082</th>\n",
       "      <th>Mean_9100</th>\n",
       "      <th>Mean_9110</th>\n",
       "      <th>Mean_9120</th>\n",
       "      <th>Mean_9130</th>\n",
       "      <th>Mean_9140</th>\n",
       "      <th>Mean_9150</th>\n",
       "      <th>Mean_9160</th>\n",
       "      <th>Mean_9170</th>\n",
       "      <th>DX</th>\n",
       "    </tr>\n",
       "  </thead>\n",
       "  <tbody>\n",
       "    <tr>\n",
       "      <th>0010001</th>\n",
       "      <td>0.001918</td>\n",
       "      <td>0.001396</td>\n",
       "      <td>0.000917</td>\n",
       "      <td>0.001579</td>\n",
       "      <td>0.001620</td>\n",
       "      <td>0.000398</td>\n",
       "      <td>0.000401</td>\n",
       "      <td>0.000248</td>\n",
       "      <td>-0.000006</td>\n",
       "      <td>-0.001791</td>\n",
       "      <td>...</td>\n",
       "      <td>-0.001540</td>\n",
       "      <td>0.002221</td>\n",
       "      <td>0.001640</td>\n",
       "      <td>-0.000227</td>\n",
       "      <td>-0.000473</td>\n",
       "      <td>-0.000525</td>\n",
       "      <td>0.002460</td>\n",
       "      <td>0.001810</td>\n",
       "      <td>-0.000823</td>\n",
       "      <td>3</td>\n",
       "    </tr>\n",
       "    <tr>\n",
       "      <th>0010002</th>\n",
       "      <td>0.000535</td>\n",
       "      <td>-0.000911</td>\n",
       "      <td>-0.004370</td>\n",
       "      <td>0.000013</td>\n",
       "      <td>-0.012312</td>\n",
       "      <td>0.001798</td>\n",
       "      <td>-0.001885</td>\n",
       "      <td>0.000525</td>\n",
       "      <td>-0.002277</td>\n",
       "      <td>0.015622</td>\n",
       "      <td>...</td>\n",
       "      <td>-0.001465</td>\n",
       "      <td>-0.002169</td>\n",
       "      <td>-0.000968</td>\n",
       "      <td>0.001107</td>\n",
       "      <td>0.001050</td>\n",
       "      <td>0.000374</td>\n",
       "      <td>-0.000629</td>\n",
       "      <td>-0.000025</td>\n",
       "      <td>0.001806</td>\n",
       "      <td>3</td>\n",
       "    </tr>\n",
       "    <tr>\n",
       "      <th>0010003</th>\n",
       "      <td>0.004598</td>\n",
       "      <td>0.001763</td>\n",
       "      <td>0.001807</td>\n",
       "      <td>-0.000461</td>\n",
       "      <td>-0.004121</td>\n",
       "      <td>-0.007068</td>\n",
       "      <td>0.003899</td>\n",
       "      <td>0.004255</td>\n",
       "      <td>-0.001597</td>\n",
       "      <td>-0.011144</td>\n",
       "      <td>...</td>\n",
       "      <td>-0.001566</td>\n",
       "      <td>-0.009230</td>\n",
       "      <td>-0.002198</td>\n",
       "      <td>0.006707</td>\n",
       "      <td>0.009246</td>\n",
       "      <td>-0.000108</td>\n",
       "      <td>0.001620</td>\n",
       "      <td>-0.000059</td>\n",
       "      <td>-0.007794</td>\n",
       "      <td>0</td>\n",
       "    </tr>\n",
       "    <tr>\n",
       "      <th>0010004</th>\n",
       "      <td>-0.000559</td>\n",
       "      <td>0.000830</td>\n",
       "      <td>-0.003498</td>\n",
       "      <td>-0.001282</td>\n",
       "      <td>-0.004143</td>\n",
       "      <td>0.001574</td>\n",
       "      <td>-0.001477</td>\n",
       "      <td>-0.000162</td>\n",
       "      <td>-0.005601</td>\n",
       "      <td>0.002853</td>\n",
       "      <td>...</td>\n",
       "      <td>-0.000904</td>\n",
       "      <td>-0.000326</td>\n",
       "      <td>0.000155</td>\n",
       "      <td>0.003007</td>\n",
       "      <td>0.001742</td>\n",
       "      <td>0.002644</td>\n",
       "      <td>0.000302</td>\n",
       "      <td>-0.000304</td>\n",
       "      <td>-0.000530</td>\n",
       "      <td>0</td>\n",
       "    </tr>\n",
       "    <tr>\n",
       "      <th>0010005</th>\n",
       "      <td>0.003364</td>\n",
       "      <td>0.006273</td>\n",
       "      <td>0.014627</td>\n",
       "      <td>0.015924</td>\n",
       "      <td>0.000704</td>\n",
       "      <td>0.002034</td>\n",
       "      <td>0.016690</td>\n",
       "      <td>0.014993</td>\n",
       "      <td>0.004241</td>\n",
       "      <td>0.008220</td>\n",
       "      <td>...</td>\n",
       "      <td>0.004895</td>\n",
       "      <td>0.001707</td>\n",
       "      <td>-0.004593</td>\n",
       "      <td>-0.007235</td>\n",
       "      <td>-0.008659</td>\n",
       "      <td>-0.007546</td>\n",
       "      <td>-0.000393</td>\n",
       "      <td>-0.003564</td>\n",
       "      <td>-0.001598</td>\n",
       "      <td>2</td>\n",
       "    </tr>\n",
       "  </tbody>\n",
       "</table>\n",
       "<p>5 rows × 117 columns</p>\n",
       "</div>"
      ],
      "text/plain": [
       "         Mean_2001  Mean_2002  Mean_2101  Mean_2102  Mean_2111  Mean_2112   \n",
       "0010001   0.001918   0.001396   0.000917   0.001579   0.001620   0.000398  \\\n",
       "0010002   0.000535  -0.000911  -0.004370   0.000013  -0.012312   0.001798   \n",
       "0010003   0.004598   0.001763   0.001807  -0.000461  -0.004121  -0.007068   \n",
       "0010004  -0.000559   0.000830  -0.003498  -0.001282  -0.004143   0.001574   \n",
       "0010005   0.003364   0.006273   0.014627   0.015924   0.000704   0.002034   \n",
       "\n",
       "         Mean_2201  Mean_2202  Mean_2211  Mean_2212  ...  Mean_9082   \n",
       "0010001   0.000401   0.000248  -0.000006  -0.001791  ...  -0.001540  \\\n",
       "0010002  -0.001885   0.000525  -0.002277   0.015622  ...  -0.001465   \n",
       "0010003   0.003899   0.004255  -0.001597  -0.011144  ...  -0.001566   \n",
       "0010004  -0.001477  -0.000162  -0.005601   0.002853  ...  -0.000904   \n",
       "0010005   0.016690   0.014993   0.004241   0.008220  ...   0.004895   \n",
       "\n",
       "         Mean_9100  Mean_9110  Mean_9120  Mean_9130  Mean_9140  Mean_9150   \n",
       "0010001   0.002221   0.001640  -0.000227  -0.000473  -0.000525   0.002460  \\\n",
       "0010002  -0.002169  -0.000968   0.001107   0.001050   0.000374  -0.000629   \n",
       "0010003  -0.009230  -0.002198   0.006707   0.009246  -0.000108   0.001620   \n",
       "0010004  -0.000326   0.000155   0.003007   0.001742   0.002644   0.000302   \n",
       "0010005   0.001707  -0.004593  -0.007235  -0.008659  -0.007546  -0.000393   \n",
       "\n",
       "         Mean_9160  Mean_9170  DX  \n",
       "0010001   0.001810  -0.000823   3  \n",
       "0010002  -0.000025   0.001806   3  \n",
       "0010003  -0.000059  -0.007794   0  \n",
       "0010004  -0.000304  -0.000530   0  \n",
       "0010005  -0.003564  -0.001598   2  \n",
       "\n",
       "[5 rows x 117 columns]"
      ]
     },
     "execution_count": 10,
     "metadata": {},
     "output_type": "execute_result"
    }
   ],
   "source": [
    "df_region_w_dx = df_subject_x_region.copy()\n",
    "\n",
    "for i in range (len(pheno_index)):\n",
    "    s_id = pheno_index[i]\n",
    "    \n",
    "    if len(str(s_id)) == 5:\n",
    "        pheno_index[i] = '00' + str(s_id)\n",
    "    else:\n",
    "        pheno_index[i] = str(s_id)\n",
    "    \n",
    "diagnosis = pd.Series([diag for site_pheno in dx for diag in site_pheno], index=pheno_index)\n",
    "\n",
    "filtered_diagnosis = diagnosis.drop(index=subjects_dropped)\n",
    "\n",
    "df_region_w_dx['DX'] = filtered_diagnosis\n",
    "df_region_w_dx.head()"
   ]
  },
  {
   "cell_type": "code",
   "execution_count": 11,
   "id": "cec232cf",
   "metadata": {
    "scrolled": true
   },
   "outputs": [
    {
     "data": {
      "text/plain": [
       "(628, 117)"
      ]
     },
     "execution_count": 11,
     "metadata": {},
     "output_type": "execute_result"
    }
   ],
   "source": [
    "df_region_w_dx.shape"
   ]
  },
  {
   "cell_type": "code",
   "execution_count": 12,
   "id": "2fb61023",
   "metadata": {
    "scrolled": true
   },
   "outputs": [
    {
     "data": {
      "text/plain": [
       "DX\n",
       "0    395\n",
       "1    125\n",
       "3    104\n",
       "2      4\n",
       "Name: count, dtype: int64"
      ]
     },
     "execution_count": 12,
     "metadata": {},
     "output_type": "execute_result"
    }
   ],
   "source": [
    "df_region_w_dx['DX'].value_counts()"
   ]
  },
  {
   "cell_type": "code",
   "execution_count": 13,
   "id": "be777f9f",
   "metadata": {},
   "outputs": [],
   "source": [
    "X = df_region_w_dx.drop('DX', axis=1)\n",
    "y = df_region_w_dx['DX']\n",
    "\n",
    "X_train, X_val, y_train, y_val = train_test_split(X, y)"
   ]
  },
  {
   "cell_type": "code",
   "execution_count": 14,
   "id": "f23cfdf5",
   "metadata": {},
   "outputs": [
    {
     "data": {
      "text/plain": [
       "Series([], Name: DX, dtype: int64)"
      ]
     },
     "execution_count": 14,
     "metadata": {},
     "output_type": "execute_result"
    }
   ],
   "source": [
    "df_region_w_dx['DX'].loc[df_region_w_dx['DX'].isnull()]"
   ]
  },
  {
   "cell_type": "code",
   "execution_count": 15,
   "id": "24cb7ea5",
   "metadata": {},
   "outputs": [
    {
     "data": {
      "text/plain": [
       "0.6305732484076433"
      ]
     },
     "execution_count": 15,
     "metadata": {},
     "output_type": "execute_result"
    }
   ],
   "source": [
    "model_LR = LogisticRegression().fit(X_train, y_train)\n",
    "y_pred_LR = model_LR.predict(X_val)\n",
    "\n",
    "accuracy_LR = accuracy_score(y_pred_LR, y_val)\n",
    "accuracy_LR"
   ]
  },
  {
   "cell_type": "code",
   "execution_count": 16,
   "id": "50a06682",
   "metadata": {},
   "outputs": [
    {
     "data": {
      "text/plain": [
       "0.6178343949044586"
      ]
     },
     "execution_count": 16,
     "metadata": {},
     "output_type": "execute_result"
    }
   ],
   "source": [
    "model_KNN = KNeighborsClassifier().fit(X_train, y_train)\n",
    "y_pred_KNN = model_KNN.predict(X_val)\n",
    "\n",
    "accuracy_KNN = accuracy_score(y_pred_KNN, y_val)\n",
    "accuracy_KNN"
   ]
  },
  {
   "cell_type": "code",
   "execution_count": 17,
   "id": "1cd3a3f3",
   "metadata": {},
   "outputs": [
    {
     "data": {
      "text/plain": [
       "0.6305732484076433"
      ]
     },
     "execution_count": 17,
     "metadata": {},
     "output_type": "execute_result"
    }
   ],
   "source": [
    "model_SVM = SVC().fit(X_train, y_train)\n",
    "y_pred_SVM = model_SVM.predict(X_val)\n",
    "\n",
    "accuracy_SVM = accuracy_score(y_pred_SVM, y_val)\n",
    "accuracy_SVM"
   ]
  },
  {
   "cell_type": "code",
   "execution_count": 18,
   "id": "30abf912",
   "metadata": {},
   "outputs": [
    {
     "name": "stdout",
     "output_type": "stream",
     "text": [
      "Accuracies:\n",
      "\n",
      "Logistic Regression:\t 0.6305732484076433\n",
      "KNN:\t\t\t 0.6178343949044586\n",
      "SVM:\t\t\t 0.6305732484076433\n"
     ]
    }
   ],
   "source": [
    "print('Accuracies:')\n",
    "print('\\nLogistic Regression:\\t', accuracy_LR)\n",
    "print('KNN:\\t\\t\\t', accuracy_KNN)\n",
    "print('SVM:\\t\\t\\t', accuracy_SVM)"
   ]
  },
  {
   "cell_type": "code",
   "execution_count": 19,
   "id": "ebd2e64c",
   "metadata": {},
   "outputs": [],
   "source": [
    "def evaluate_models(X, y):\n",
    "    X_trn, X_tst, y_trn, y_tst = train_test_split(X, y)\n",
    "    \n",
    "    lr_acc = make_predictions(LogisticRegression(), X_trn, X_tst, y_trn, y_tst)\n",
    "    knn_acc = make_predictions(KNeighborsClassifier(), X_trn, X_tst, y_trn, y_tst)\n",
    "    svm_acc = make_predictions(SVC(), X_trn, X_tst, y_trn, y_tst)\n",
    "    \n",
    "    return [lr_acc, knn_acc, svm_acc]"
   ]
  },
  {
   "cell_type": "code",
   "execution_count": 20,
   "id": "a481bcae",
   "metadata": {},
   "outputs": [],
   "source": [
    "def make_predictions(model, X_trn, X_tst, y_trn, y_tst):\n",
    "    model_fit = model.fit(X_trn, y_trn)\n",
    "    y_pred = model_fit.predict(X_tst)\n",
    "    accuracy = accuracy_score(y_pred, y_tst)\n",
    "    return accuracy"
   ]
  },
  {
   "cell_type": "code",
   "execution_count": 21,
   "id": "fc10bd92",
   "metadata": {},
   "outputs": [],
   "source": [
    "def run_predictions(X, y):\n",
    "    lr_acc = []\n",
    "    knn_acc = []\n",
    "    svm_acc = []\n",
    "    \n",
    "    for i in range(100):\n",
    "        accuracies = evaluate_models(X, y)\n",
    "        lr_acc.append(accuracies[0])\n",
    "        knn_acc.append(accuracies[1])\n",
    "        svm_acc.append(accuracies[2])\n",
    "        \n",
    "    return [lr_acc, knn_acc, svm_acc]"
   ]
  },
  {
   "cell_type": "code",
   "execution_count": 22,
   "id": "93324439",
   "metadata": {},
   "outputs": [],
   "source": [
    "accs = run_predictions(X, y)\n",
    "accuracies = np.asarray(accs)\n",
    "\n",
    "means = [accuracies[0].mean(), accuracies[1].mean(), accuracies[2].mean()]\n",
    "stds = [accuracies[0].std(), accuracies[1].std(), accuracies[2].std()]"
   ]
  },
  {
   "cell_type": "code",
   "execution_count": null,
   "id": "c07758e8",
   "metadata": {},
   "outputs": [],
   "source": [
    "[means, stds]"
   ]
  },
  {
   "cell_type": "code",
   "execution_count": 23,
   "id": "37f2ca4c",
   "metadata": {},
   "outputs": [
    {
     "data": {
      "text/html": [
       "<div>\n",
       "<style scoped>\n",
       "    .dataframe tbody tr th:only-of-type {\n",
       "        vertical-align: middle;\n",
       "    }\n",
       "\n",
       "    .dataframe tbody tr th {\n",
       "        vertical-align: top;\n",
       "    }\n",
       "\n",
       "    .dataframe thead th {\n",
       "        text-align: right;\n",
       "    }\n",
       "</style>\n",
       "<table border=\"1\" class=\"dataframe\">\n",
       "  <thead>\n",
       "    <tr style=\"text-align: right;\">\n",
       "      <th></th>\n",
       "      <th>LR</th>\n",
       "      <th>KNN</th>\n",
       "      <th>SVM</th>\n",
       "    </tr>\n",
       "  </thead>\n",
       "  <tbody>\n",
       "    <tr>\n",
       "      <th>Mean</th>\n",
       "      <td>0.630382</td>\n",
       "      <td>0.577261</td>\n",
       "      <td>0.630382</td>\n",
       "    </tr>\n",
       "    <tr>\n",
       "      <th>STD</th>\n",
       "      <td>0.033973</td>\n",
       "      <td>0.033470</td>\n",
       "      <td>0.033973</td>\n",
       "    </tr>\n",
       "  </tbody>\n",
       "</table>\n",
       "</div>"
      ],
      "text/plain": [
       "            LR       KNN       SVM\n",
       "Mean  0.630382  0.577261  0.630382\n",
       "STD   0.033973  0.033470  0.033973"
      ]
     },
     "execution_count": 23,
     "metadata": {},
     "output_type": "execute_result"
    }
   ],
   "source": [
    "results = pd.DataFrame([means, stds], index=['Mean', 'STD'], columns=['LR', 'KNN', 'SVM'])\n",
    "results"
   ]
  },
  {
   "cell_type": "code",
   "execution_count": 25,
   "id": "b951f45f",
   "metadata": {},
   "outputs": [],
   "source": [
    "def perform_cross_validation(X_train, y_train):\n",
    "    '''\n",
    "    Input: \n",
    "        - A dataframe containing the features use to build the model\n",
    "        - A Series of the true values associated with the feature list\n",
    "    \n",
    "    Output: Printed result for the mean and standard deviation of each model\n",
    "    '''\n",
    "    results = dict()\n",
    "\n",
    "    for name, model in models:\n",
    "        kfold = StratifiedKFold(n_splits=10)\n",
    "        cv_results = cross_val_score(model, X_train, y_train, cv=kfold, scoring='accuracy')\n",
    "        results[name] = (cv_results.mean(), cv_results.std())\n",
    "\n",
    "    print('Model\\t\\tCV Mean\\t\\tCV std')\n",
    "    print(results)"
   ]
  },
  {
   "cell_type": "code",
   "execution_count": 31,
   "id": "afdf4370",
   "metadata": {},
   "outputs": [],
   "source": [
    "models = []\n",
    "\n",
    "models.append(('LR', LogisticRegression()))\n",
    "models.append(('KNN', KNeighborsClassifier()))\n",
    "models.append(('SVM', SVC()))"
   ]
  },
  {
   "cell_type": "code",
   "execution_count": 32,
   "id": "f90600b1",
   "metadata": {},
   "outputs": [
    {
     "name": "stderr",
     "output_type": "stream",
     "text": [
      "C:\\Users\\taylo\\AppData\\Local\\Programs\\Python\\Python310\\lib\\site-packages\\sklearn\\model_selection\\_split.py:700: UserWarning: The least populated class in y has only 4 members, which is less than n_splits=10.\n",
      "  warnings.warn(\n",
      "C:\\Users\\taylo\\AppData\\Local\\Programs\\Python\\Python310\\lib\\site-packages\\sklearn\\model_selection\\_split.py:700: UserWarning: The least populated class in y has only 4 members, which is less than n_splits=10.\n",
      "  warnings.warn(\n",
      "C:\\Users\\taylo\\AppData\\Local\\Programs\\Python\\Python310\\lib\\site-packages\\sklearn\\model_selection\\_split.py:700: UserWarning: The least populated class in y has only 4 members, which is less than n_splits=10.\n",
      "  warnings.warn(\n"
     ]
    },
    {
     "name": "stdout",
     "output_type": "stream",
     "text": [
      "Model\t\tCV Mean\t\tCV std\n",
      "{'LR': (0.6290066564260113, 0.008930862894101646), 'KNN': (0.5734511008704557, 0.07671529589607275), 'SVM': (0.6290066564260113, 0.008930862894101646)}\n"
     ]
    }
   ],
   "source": [
    "perform_cross_validation(X, y)"
   ]
  }
 ],
 "metadata": {
  "kernelspec": {
   "display_name": "Python 3 (ipykernel)",
   "language": "python",
   "name": "python3"
  },
  "language_info": {
   "codemirror_mode": {
    "name": "ipython",
    "version": 3
   },
   "file_extension": ".py",
   "mimetype": "text/x-python",
   "name": "python",
   "nbconvert_exporter": "python",
   "pygments_lexer": "ipython3",
   "version": "3.10.0"
  }
 },
 "nbformat": 4,
 "nbformat_minor": 5
}
