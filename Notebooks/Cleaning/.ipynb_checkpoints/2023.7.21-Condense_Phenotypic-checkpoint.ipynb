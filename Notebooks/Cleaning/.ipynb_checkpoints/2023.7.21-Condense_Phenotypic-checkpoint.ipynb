{
 "cells": [
  {
   "cell_type": "markdown",
   "id": "f722ad17",
   "metadata": {},
   "source": [
    "# Condense Region Correlation Dataframe\n",
    "\n",
    "This notebook attempts to extract the most important features from the region correlations. \n",
    "The original dataset is the atlas region correlations for the subjects from all the sites.\n",
    "The output dataset will be the features from the original dataset that have the highest correlation to the diagnosis."
   ]
  },
  {
   "cell_type": "code",
   "execution_count": 1,
   "id": "80539c21",
   "metadata": {},
   "outputs": [],
   "source": [
    "import os\n",
    "import pandas as pd\n",
    "import numpy as np\n",
    "from sklearn.model_selection import train_test_split"
   ]
  },
  {
   "cell_type": "markdown",
   "id": "150fc6b7",
   "metadata": {},
   "source": [
    "### get_base_filepath()\n",
    "\n",
    "Access the filepath for th ebase folder of the project. \n",
    "From here, any other asset of the project can be located."
   ]
  },
  {
   "cell_type": "code",
   "execution_count": 2,
   "id": "542f0f48",
   "metadata": {},
   "outputs": [],
   "source": [
    "def get_base_filepath():\n",
    "    '''\n",
    "    Access the filepath for the base folder of the project\n",
    "    \n",
    "    Input: None\n",
    "    \n",
    "    Output: The filepath to the root of the folder\n",
    "    '''\n",
    "    # Get current directory\n",
    "    os.path.abspath(os.curdir)\n",
    "\n",
    "    # Go up a directory level\n",
    "    os.chdir('..')\n",
    "    os.chdir('..')\n",
    "\n",
    "    # Set baseline filepath to the project folder directory\n",
    "    base_folder_filepath = os.path.abspath(os.curdir)\n",
    "    return base_folder_filepath"
   ]
  },
  {
   "cell_type": "markdown",
   "id": "e9cecf13",
   "metadata": {},
   "source": [
    "### extract_features()\n",
    "\n",
    "Create a dataframe using the mean of regions over time."
   ]
  },
  {
   "cell_type": "code",
   "execution_count": 3,
   "id": "e7266ca7",
   "metadata": {},
   "outputs": [],
   "source": [
    "def extract_features(filepath):\n",
    "    '''\n",
    "    Create a dataframe correlation of the regions over time\n",
    "    \n",
    "    Input: filepath to open the dataframe\n",
    "    \n",
    "    Output: dataframe of correlations between region\n",
    "    '''\n",
    "    # Read the filepath as a dataframe (use 1 tab as separator and the first line as the header)\n",
    "    df = pd.read_csv(filepath, sep=r'\\s{1,}', engine='python', header=0)\n",
    "    \n",
    "    # Drop two features that get in the way of evaluation\n",
    "    df = df.drop('File', axis=1)\n",
    "    df = df.drop('Sub-brick', axis=1)\n",
    "    \n",
    "    # Get the correlation matrix of the dataframe\n",
    "    cor = df.corr()\n",
    "    \n",
    "    # Create an empty list to store the correlations\n",
    "    corr_vector = []\n",
    "    \n",
    "    # Loop through every row in the dataframe\n",
    "    for row in range(len(cor.index)):\n",
    "        # Loop through every feature in the dataframe\n",
    "        for feature in range(len(cor.columns)):\n",
    "            # Exclude unwanted values\n",
    "            #    1 when row number = feature number\n",
    "            #    repeat when row number > feature number\n",
    "            if row >= feature:\n",
    "                continue\n",
    "            \n",
    "            # Add the correlation value to the vector\n",
    "            corr_vector.append(cor.iloc[row, feature])\n",
    "    \n",
    "    # Return the correlation for each of the regions (method of vectorizing)\n",
    "    return corr_vector"
   ]
  },
  {
   "cell_type": "markdown",
   "id": "85da4d41",
   "metadata": {},
   "source": [
    "## Open files\n",
    "\n",
    "In this section, the files for all of the patients is opened and combined into two matrices to build a dataframe in the next section."
   ]
  },
  {
   "cell_type": "markdown",
   "id": "01d44b97",
   "metadata": {},
   "source": [
    "###  Filepaths\n",
    "\n",
    "Access the filepath to the preprocessed data folder. \n",
    "This is where the data for all of the sites are located.\n",
    "\n",
    "The filepath to the phenotypic data folder is also added here. \n",
    "This is where all of the phenotypic data files are located"
   ]
  },
  {
   "cell_type": "code",
   "execution_count": 4,
   "id": "a08c0f31",
   "metadata": {},
   "outputs": [],
   "source": [
    "# The folder for the project\n",
    "base_folder_filepath = get_base_filepath()\n",
    "\n",
    "# Preprocessed data site folder\n",
    "sites_filepath = base_folder_filepath +  '\\\\Data\\\\Preprocessed_data\\\\'\n",
    "\n",
    "# Phenotypic data site folder\n",
    "phenotypics_filepath = base_folder_filepath + '\\\\Data\\\\Phenotypic\\\\2023.7.13-Cleaned_Phenotypic_All_Subjects.csv'\n",
    "\n",
    "df_pheno = pd.read_csv(phenotypics_filepath, index_col=0)"
   ]
  },
  {
   "cell_type": "code",
   "execution_count": 5,
   "id": "9ea724b3",
   "metadata": {},
   "outputs": [
    {
     "data": {
      "text/html": [
       "<div>\n",
       "<style scoped>\n",
       "    .dataframe tbody tr th:only-of-type {\n",
       "        vertical-align: middle;\n",
       "    }\n",
       "\n",
       "    .dataframe tbody tr th {\n",
       "        vertical-align: top;\n",
       "    }\n",
       "\n",
       "    .dataframe thead th {\n",
       "        text-align: right;\n",
       "    }\n",
       "</style>\n",
       "<table border=\"1\" class=\"dataframe\">\n",
       "  <thead>\n",
       "    <tr style=\"text-align: right;\">\n",
       "      <th></th>\n",
       "      <th>Gender</th>\n",
       "      <th>Age</th>\n",
       "      <th>Handedness</th>\n",
       "      <th>Verbal IQ</th>\n",
       "      <th>Verbal IQ Filled</th>\n",
       "      <th>Performance IQ</th>\n",
       "      <th>Performance IQ Filled</th>\n",
       "      <th>IQ</th>\n",
       "      <th>IQ Filled</th>\n",
       "      <th>DX</th>\n",
       "    </tr>\n",
       "    <tr>\n",
       "      <th>ScanDir ID</th>\n",
       "      <th></th>\n",
       "      <th></th>\n",
       "      <th></th>\n",
       "      <th></th>\n",
       "      <th></th>\n",
       "      <th></th>\n",
       "      <th></th>\n",
       "      <th></th>\n",
       "      <th></th>\n",
       "      <th></th>\n",
       "    </tr>\n",
       "  </thead>\n",
       "  <tbody>\n",
       "    <tr>\n",
       "      <th>1018959</th>\n",
       "      <td>0.0</td>\n",
       "      <td>12.36</td>\n",
       "      <td>1.0</td>\n",
       "      <td>99.0</td>\n",
       "      <td>99.0</td>\n",
       "      <td>115.0</td>\n",
       "      <td>115.0</td>\n",
       "      <td>103.0</td>\n",
       "      <td>103.0</td>\n",
       "      <td>0.0</td>\n",
       "    </tr>\n",
       "    <tr>\n",
       "      <th>1019436</th>\n",
       "      <td>1.0</td>\n",
       "      <td>12.98</td>\n",
       "      <td>1.0</td>\n",
       "      <td>124.0</td>\n",
       "      <td>124.0</td>\n",
       "      <td>108.0</td>\n",
       "      <td>108.0</td>\n",
       "      <td>122.0</td>\n",
       "      <td>122.0</td>\n",
       "      <td>3.0</td>\n",
       "    </tr>\n",
       "    <tr>\n",
       "      <th>1043241</th>\n",
       "      <td>1.0</td>\n",
       "      <td>9.12</td>\n",
       "      <td>1.0</td>\n",
       "      <td>128.0</td>\n",
       "      <td>128.0</td>\n",
       "      <td>106.0</td>\n",
       "      <td>106.0</td>\n",
       "      <td>120.0</td>\n",
       "      <td>120.0</td>\n",
       "      <td>0.0</td>\n",
       "    </tr>\n",
       "    <tr>\n",
       "      <th>1266183</th>\n",
       "      <td>0.0</td>\n",
       "      <td>9.67</td>\n",
       "      <td>1.0</td>\n",
       "      <td>136.0</td>\n",
       "      <td>136.0</td>\n",
       "      <td>96.0</td>\n",
       "      <td>96.0</td>\n",
       "      <td>120.0</td>\n",
       "      <td>120.0</td>\n",
       "      <td>0.0</td>\n",
       "    </tr>\n",
       "    <tr>\n",
       "      <th>1535233</th>\n",
       "      <td>1.0</td>\n",
       "      <td>9.64</td>\n",
       "      <td>0.0</td>\n",
       "      <td>106.0</td>\n",
       "      <td>106.0</td>\n",
       "      <td>135.0</td>\n",
       "      <td>135.0</td>\n",
       "      <td>122.0</td>\n",
       "      <td>122.0</td>\n",
       "      <td>0.0</td>\n",
       "    </tr>\n",
       "  </tbody>\n",
       "</table>\n",
       "</div>"
      ],
      "text/plain": [
       "            Gender    Age  Handedness  Verbal IQ  Verbal IQ Filled   \n",
       "ScanDir ID                                                           \n",
       "1018959        0.0  12.36         1.0       99.0              99.0  \\\n",
       "1019436        1.0  12.98         1.0      124.0             124.0   \n",
       "1043241        1.0   9.12         1.0      128.0             128.0   \n",
       "1266183        0.0   9.67         1.0      136.0             136.0   \n",
       "1535233        1.0   9.64         0.0      106.0             106.0   \n",
       "\n",
       "            Performance IQ  Performance IQ Filled     IQ  IQ Filled   DX  \n",
       "ScanDir ID                                                                \n",
       "1018959              115.0                  115.0  103.0      103.0  0.0  \n",
       "1019436              108.0                  108.0  122.0      122.0  3.0  \n",
       "1043241              106.0                  106.0  120.0      120.0  0.0  \n",
       "1266183               96.0                   96.0  120.0      120.0  0.0  \n",
       "1535233              135.0                  135.0  122.0      122.0  0.0  "
      ]
     },
     "execution_count": 5,
     "metadata": {},
     "output_type": "execute_result"
    }
   ],
   "source": [
    "df_pheno.head()"
   ]
  },
  {
   "cell_type": "code",
   "execution_count": 6,
   "id": "8e0342a0",
   "metadata": {},
   "outputs": [],
   "source": [
    "correlations = df_pheno.drop('DX', axis=1).corrwith(df_pheno['DX'])"
   ]
  },
  {
   "cell_type": "markdown",
   "id": "03efa925",
   "metadata": {},
   "source": [
    "Find all of the features that have the most significant correlation to the diagonsis."
   ]
  },
  {
   "cell_type": "code",
   "execution_count": 7,
   "id": "a343fc5b",
   "metadata": {},
   "outputs": [
    {
     "data": {
      "text/plain": [
       "Verbal IQ Filled        -0.219833\n",
       "Performance IQ          -0.239673\n",
       "Performance IQ Filled   -0.267849\n",
       "IQ                      -0.240938\n",
       "IQ Filled               -0.243419\n",
       "dtype: float64"
      ]
     },
     "execution_count": 7,
     "metadata": {},
     "output_type": "execute_result"
    }
   ],
   "source": [
    "correlation_features = correlations.loc[abs(correlations) >= 0.21]\n",
    "correlation_features"
   ]
  },
  {
   "cell_type": "code",
   "execution_count": 8,
   "id": "6d899491",
   "metadata": {},
   "outputs": [
    {
     "name": "stderr",
     "output_type": "stream",
     "text": [
      "C:\\Users\\taylo\\AppData\\Local\\Temp\\ipykernel_18744\\1677502702.py:2: SettingWithCopyWarning: \n",
      "A value is trying to be set on a copy of a slice from a DataFrame.\n",
      "Try using .loc[row_indexer,col_indexer] = value instead\n",
      "\n",
      "See the caveats in the documentation: https://pandas.pydata.org/pandas-docs/stable/user_guide/indexing.html#returning-a-view-versus-a-copy\n",
      "  df_correlation_features['DX'] = df_pheno['DX']\n"
     ]
    }
   ],
   "source": [
    "df_correlation_features = df_pheno[correlation_features.index]\n",
    "df_correlation_features['DX'] = df_pheno['DX']"
   ]
  },
  {
   "cell_type": "markdown",
   "id": "180ea5df",
   "metadata": {},
   "source": [
    "View this dataframe."
   ]
  },
  {
   "cell_type": "code",
   "execution_count": 9,
   "id": "625d6aa0",
   "metadata": {},
   "outputs": [
    {
     "data": {
      "text/html": [
       "<div>\n",
       "<style scoped>\n",
       "    .dataframe tbody tr th:only-of-type {\n",
       "        vertical-align: middle;\n",
       "    }\n",
       "\n",
       "    .dataframe tbody tr th {\n",
       "        vertical-align: top;\n",
       "    }\n",
       "\n",
       "    .dataframe thead th {\n",
       "        text-align: right;\n",
       "    }\n",
       "</style>\n",
       "<table border=\"1\" class=\"dataframe\">\n",
       "  <thead>\n",
       "    <tr style=\"text-align: right;\">\n",
       "      <th></th>\n",
       "      <th>Verbal IQ Filled</th>\n",
       "      <th>Performance IQ</th>\n",
       "      <th>Performance IQ Filled</th>\n",
       "      <th>IQ</th>\n",
       "      <th>IQ Filled</th>\n",
       "      <th>DX</th>\n",
       "    </tr>\n",
       "    <tr>\n",
       "      <th>ScanDir ID</th>\n",
       "      <th></th>\n",
       "      <th></th>\n",
       "      <th></th>\n",
       "      <th></th>\n",
       "      <th></th>\n",
       "      <th></th>\n",
       "    </tr>\n",
       "  </thead>\n",
       "  <tbody>\n",
       "    <tr>\n",
       "      <th>1018959</th>\n",
       "      <td>99.0</td>\n",
       "      <td>115.0</td>\n",
       "      <td>115.0</td>\n",
       "      <td>103.0</td>\n",
       "      <td>103.0</td>\n",
       "      <td>0.0</td>\n",
       "    </tr>\n",
       "    <tr>\n",
       "      <th>1019436</th>\n",
       "      <td>124.0</td>\n",
       "      <td>108.0</td>\n",
       "      <td>108.0</td>\n",
       "      <td>122.0</td>\n",
       "      <td>122.0</td>\n",
       "      <td>3.0</td>\n",
       "    </tr>\n",
       "    <tr>\n",
       "      <th>1043241</th>\n",
       "      <td>128.0</td>\n",
       "      <td>106.0</td>\n",
       "      <td>106.0</td>\n",
       "      <td>120.0</td>\n",
       "      <td>120.0</td>\n",
       "      <td>0.0</td>\n",
       "    </tr>\n",
       "    <tr>\n",
       "      <th>1266183</th>\n",
       "      <td>136.0</td>\n",
       "      <td>96.0</td>\n",
       "      <td>96.0</td>\n",
       "      <td>120.0</td>\n",
       "      <td>120.0</td>\n",
       "      <td>0.0</td>\n",
       "    </tr>\n",
       "    <tr>\n",
       "      <th>1535233</th>\n",
       "      <td>106.0</td>\n",
       "      <td>135.0</td>\n",
       "      <td>135.0</td>\n",
       "      <td>122.0</td>\n",
       "      <td>122.0</td>\n",
       "      <td>0.0</td>\n",
       "    </tr>\n",
       "  </tbody>\n",
       "</table>\n",
       "</div>"
      ],
      "text/plain": [
       "            Verbal IQ Filled  Performance IQ  Performance IQ Filled     IQ   \n",
       "ScanDir ID                                                                   \n",
       "1018959                 99.0           115.0                  115.0  103.0  \\\n",
       "1019436                124.0           108.0                  108.0  122.0   \n",
       "1043241                128.0           106.0                  106.0  120.0   \n",
       "1266183                136.0            96.0                   96.0  120.0   \n",
       "1535233                106.0           135.0                  135.0  122.0   \n",
       "\n",
       "            IQ Filled   DX  \n",
       "ScanDir ID                  \n",
       "1018959         103.0  0.0  \n",
       "1019436         122.0  3.0  \n",
       "1043241         120.0  0.0  \n",
       "1266183         120.0  0.0  \n",
       "1535233         122.0  0.0  "
      ]
     },
     "execution_count": 9,
     "metadata": {},
     "output_type": "execute_result"
    }
   ],
   "source": [
    "df_correlation_features.head()"
   ]
  },
  {
   "cell_type": "markdown",
   "id": "7d6c809e",
   "metadata": {},
   "source": [
    "Export condensed dataframe as a .csv file."
   ]
  },
  {
   "cell_type": "code",
   "execution_count": 10,
   "id": "03976609",
   "metadata": {},
   "outputs": [],
   "source": [
    "X = df_pheno.drop('DX', axis=1)\n",
    "y = df_pheno['DX']\n",
    "\n",
    "X_train, X_test, y_train, y_test = train_test_split(X, y, random_state=1)"
   ]
  },
  {
   "cell_type": "code",
   "execution_count": 11,
   "id": "75fab725",
   "metadata": {},
   "outputs": [],
   "source": [
    "correlations_train = X_train.corrwith(y_train)"
   ]
  },
  {
   "cell_type": "code",
   "execution_count": 12,
   "id": "cfbb5347",
   "metadata": {},
   "outputs": [
    {
     "data": {
      "text/plain": [
       "Verbal IQ               -0.228769\n",
       "Verbal IQ Filled        -0.247800\n",
       "Performance IQ          -0.226345\n",
       "Performance IQ Filled   -0.256098\n",
       "IQ                      -0.233357\n",
       "IQ Filled               -0.236454\n",
       "dtype: float64"
      ]
     },
     "execution_count": 12,
     "metadata": {},
     "output_type": "execute_result"
    }
   ],
   "source": [
    "correlation_features_train = correlations_train.loc[abs(correlations_train) >= 0.21]\n",
    "correlation_features_train"
   ]
  },
  {
   "cell_type": "markdown",
   "id": "909b15e4",
   "metadata": {},
   "source": [
    "Create a dataframe of only the features with the highest correlation."
   ]
  },
  {
   "cell_type": "code",
   "execution_count": 13,
   "id": "d9f10bfd",
   "metadata": {},
   "outputs": [
    {
     "name": "stderr",
     "output_type": "stream",
     "text": [
      "C:\\Users\\taylo\\AppData\\Local\\Temp\\ipykernel_18744\\571509698.py:2: SettingWithCopyWarning: \n",
      "A value is trying to be set on a copy of a slice from a DataFrame.\n",
      "Try using .loc[row_indexer,col_indexer] = value instead\n",
      "\n",
      "See the caveats in the documentation: https://pandas.pydata.org/pandas-docs/stable/user_guide/indexing.html#returning-a-view-versus-a-copy\n",
      "  df_correlation_features['DX'] = df_pheno['DX']\n",
      "C:\\Users\\taylo\\AppData\\Local\\Temp\\ipykernel_18744\\571509698.py:5: SettingWithCopyWarning: \n",
      "A value is trying to be set on a copy of a slice from a DataFrame.\n",
      "Try using .loc[row_indexer,col_indexer] = value instead\n",
      "\n",
      "See the caveats in the documentation: https://pandas.pydata.org/pandas-docs/stable/user_guide/indexing.html#returning-a-view-versus-a-copy\n",
      "  df_correlation_features_train['DX'] = df_pheno['DX']\n"
     ]
    }
   ],
   "source": [
    "df_correlation_features = df_pheno[correlation_features.index]\n",
    "df_correlation_features['DX'] = df_pheno['DX']\n",
    "\n",
    "df_correlation_features_train = df_pheno[correlation_features_train.index]\n",
    "df_correlation_features_train['DX'] = df_pheno['DX']"
   ]
  },
  {
   "cell_type": "markdown",
   "id": "561ed0e5",
   "metadata": {},
   "source": [
    "Export condensed dataframe as a .csv file."
   ]
  },
  {
   "cell_type": "code",
   "execution_count": 14,
   "id": "428ba68d",
   "metadata": {},
   "outputs": [],
   "source": [
    "df_correlation_features.to_csv(base_folder_filepath + '\\\\Data\\\\Preprocessed_data\\\\Condensed\\\\2023.7.21-Phenotypic_Condensed.csv')\n",
    "df_correlation_features_train.to_csv(base_folder_filepath + '\\\\Data\\\\Preprocessed_data\\\\Condensed\\\\2023.7.21-Phenotypic_Condensed_Train.csv')"
   ]
  }
 ],
 "metadata": {
  "kernelspec": {
   "display_name": "Python 3 (ipykernel)",
   "language": "python",
   "name": "python3"
  },
  "language_info": {
   "codemirror_mode": {
    "name": "ipython",
    "version": 3
   },
   "file_extension": ".py",
   "mimetype": "text/x-python",
   "name": "python",
   "nbconvert_exporter": "python",
   "pygments_lexer": "ipython3",
   "version": "3.10.0"
  }
 },
 "nbformat": 4,
 "nbformat_minor": 5
}
