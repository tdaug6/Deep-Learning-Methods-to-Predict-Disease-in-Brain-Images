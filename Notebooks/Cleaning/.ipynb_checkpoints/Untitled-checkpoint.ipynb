{
 "cells": [
  {
   "cell_type": "markdown",
   "id": "f722ad17",
   "metadata": {},
   "source": [
    "# Condense Region Correlation Dataframe\n",
    "\n",
    "This notebook attempts to extract the most important features from the region correlations. \n",
    "The original dataset is the atlas region correlations for the subjects from all the sites.\n",
    "The output dataset will be the features from the original dataset that have the highest correlation to the diagnosis."
   ]
  },
  {
   "cell_type": "code",
   "execution_count": 1,
   "id": "80539c21",
   "metadata": {},
   "outputs": [],
   "source": [
    "import os\n",
    "import pandas as pd\n",
    "import numpy as np\n",
    "from sklearn.model_selection import train_test_split"
   ]
  },
  {
   "cell_type": "markdown",
   "id": "150fc6b7",
   "metadata": {},
   "source": [
    "### get_base_filepath()\n",
    "\n",
    "Access the filepath for th ebase folder of the project. \n",
    "From here, any other asset of the project can be located."
   ]
  },
  {
   "cell_type": "code",
   "execution_count": 2,
   "id": "542f0f48",
   "metadata": {},
   "outputs": [],
   "source": [
    "def get_base_filepath():\n",
    "    '''\n",
    "    Access the filepath for the base folder of the project\n",
    "    \n",
    "    Input: None\n",
    "    \n",
    "    Output: The filepath to the root of the folder\n",
    "    '''\n",
    "    # Get current directory\n",
    "    os.path.abspath(os.curdir)\n",
    "\n",
    "    # Go up a directory level\n",
    "    os.chdir('..')\n",
    "    os.chdir('..')\n",
    "\n",
    "    # Set baseline filepath to the project folder directory\n",
    "    base_folder_filepath = os.path.abspath(os.curdir)\n",
    "    return base_folder_filepath"
   ]
  },
  {
   "cell_type": "markdown",
   "id": "e9cecf13",
   "metadata": {},
   "source": [
    "### extract_features()\n",
    "\n",
    "Create a dataframe using the mean of regions over time."
   ]
  },
  {
   "cell_type": "code",
   "execution_count": 3,
   "id": "e7266ca7",
   "metadata": {},
   "outputs": [],
   "source": [
    "def extract_features(filepath):\n",
    "    '''\n",
    "    Create a dataframe correlation of the regions over time\n",
    "    \n",
    "    Input: filepath to open the dataframe\n",
    "    \n",
    "    Output: dataframe of correlations between region\n",
    "    '''\n",
    "    # Read the filepath as a dataframe (use 1 tab as separator and the first line as the header)\n",
    "    df = pd.read_csv(filepath, sep=r'\\s{1,}', engine='python', header=0)\n",
    "    \n",
    "    # Drop two features that get in the way of evaluation\n",
    "    df = df.drop('File', axis=1)\n",
    "    df = df.drop('Sub-brick', axis=1)\n",
    "    \n",
    "    # Get the correlation matrix of the dataframe\n",
    "    cor = df.corr()\n",
    "    \n",
    "    # Create an empty list to store the correlations\n",
    "    corr_vector = []\n",
    "    \n",
    "    # Loop through every row in the dataframe\n",
    "    for row in range(len(cor.index)):\n",
    "        # Loop through every feature in the dataframe\n",
    "        for feature in range(len(cor.columns)):\n",
    "            # Exclude unwanted values\n",
    "            #    1 when row number = feature number\n",
    "            #    repeat when row number > feature number\n",
    "            if row >= feature:\n",
    "                continue\n",
    "            \n",
    "            # Add the correlation value to the vector\n",
    "            corr_vector.append(cor.iloc[row, feature])\n",
    "    \n",
    "    # Return the correlation for each of the regions (method of vectorizing)\n",
    "    return corr_vector"
   ]
  },
  {
   "cell_type": "markdown",
   "id": "85da4d41",
   "metadata": {},
   "source": [
    "## Open files\n",
    "\n",
    "In this section, the files for all of the patients is opened and combined into two matrices to build a dataframe in the next section."
   ]
  },
  {
   "cell_type": "markdown",
   "id": "01d44b97",
   "metadata": {},
   "source": [
    "###  Filepaths\n",
    "\n",
    "Access the filepath to the preprocessed data folder. \n",
    "This is where the data for all of the sites are located.\n",
    "\n",
    "The filepath to the phenotypic data folder is also added here. \n",
    "This is where all of the phenotypic data files are located"
   ]
  },
  {
   "cell_type": "code",
   "execution_count": 4,
   "id": "a08c0f31",
   "metadata": {},
   "outputs": [],
   "source": [
    "# The folder for the project\n",
    "base_folder_filepath = get_base_filepath()\n",
    "\n",
    "# Preprocessed data site folder\n",
    "sites_filepath = base_folder_filepath +  '\\\\Data\\\\Preprocessed_data\\\\'\n",
    "\n",
    "# Phenotypic data site folder\n",
    "phenotypics_filepath = base_folder_filepath + '\\\\Data\\\\Phenotypic\\\\2023.7.11-Cleaned_Phenotypic_Training_Sites.csv'\n",
    "\n",
    "df_pheno = pd.read_csv(phenotypics_filepath, index_col=0)"
   ]
  },
  {
   "cell_type": "code",
   "execution_count": 5,
   "id": "9ea724b3",
   "metadata": {},
   "outputs": [
    {
     "data": {
      "text/html": [
       "<div>\n",
       "<style scoped>\n",
       "    .dataframe tbody tr th:only-of-type {\n",
       "        vertical-align: middle;\n",
       "    }\n",
       "\n",
       "    .dataframe tbody tr th {\n",
       "        vertical-align: top;\n",
       "    }\n",
       "\n",
       "    .dataframe thead th {\n",
       "        text-align: right;\n",
       "    }\n",
       "</style>\n",
       "<table border=\"1\" class=\"dataframe\">\n",
       "  <thead>\n",
       "    <tr style=\"text-align: right;\">\n",
       "      <th></th>\n",
       "      <th>Gender</th>\n",
       "      <th>Age</th>\n",
       "      <th>Handedness</th>\n",
       "      <th>Verbal IQ</th>\n",
       "      <th>Performance IQ</th>\n",
       "      <th>IQ</th>\n",
       "      <th>DX</th>\n",
       "    </tr>\n",
       "    <tr>\n",
       "      <th>ID</th>\n",
       "      <th></th>\n",
       "      <th></th>\n",
       "      <th></th>\n",
       "      <th></th>\n",
       "      <th></th>\n",
       "      <th></th>\n",
       "      <th></th>\n",
       "    </tr>\n",
       "  </thead>\n",
       "  <tbody>\n",
       "    <tr>\n",
       "      <th>1038415</th>\n",
       "      <td>1</td>\n",
       "      <td>14.92</td>\n",
       "      <td>1.0</td>\n",
       "      <td>109.0</td>\n",
       "      <td>103.0</td>\n",
       "      <td>107.0</td>\n",
       "      <td>3</td>\n",
       "    </tr>\n",
       "    <tr>\n",
       "      <th>1201251</th>\n",
       "      <td>1</td>\n",
       "      <td>12.33</td>\n",
       "      <td>1.0</td>\n",
       "      <td>115.0</td>\n",
       "      <td>103.0</td>\n",
       "      <td>110.0</td>\n",
       "      <td>3</td>\n",
       "    </tr>\n",
       "    <tr>\n",
       "      <th>1245758</th>\n",
       "      <td>0</td>\n",
       "      <td>8.58</td>\n",
       "      <td>1.0</td>\n",
       "      <td>121.0</td>\n",
       "      <td>88.0</td>\n",
       "      <td>106.0</td>\n",
       "      <td>0</td>\n",
       "    </tr>\n",
       "    <tr>\n",
       "      <th>1253411</th>\n",
       "      <td>1</td>\n",
       "      <td>8.08</td>\n",
       "      <td>1.0</td>\n",
       "      <td>119.0</td>\n",
       "      <td>106.0</td>\n",
       "      <td>114.0</td>\n",
       "      <td>0</td>\n",
       "    </tr>\n",
       "    <tr>\n",
       "      <th>1419103</th>\n",
       "      <td>0</td>\n",
       "      <td>9.92</td>\n",
       "      <td>1.0</td>\n",
       "      <td>124.0</td>\n",
       "      <td>76.0</td>\n",
       "      <td>102.0</td>\n",
       "      <td>0</td>\n",
       "    </tr>\n",
       "  </tbody>\n",
       "</table>\n",
       "</div>"
      ],
      "text/plain": [
       "         Gender    Age  Handedness  Verbal IQ  Performance IQ     IQ  DX\n",
       "ID                                                                      \n",
       "1038415       1  14.92         1.0      109.0           103.0  107.0   3\n",
       "1201251       1  12.33         1.0      115.0           103.0  110.0   3\n",
       "1245758       0   8.58         1.0      121.0            88.0  106.0   0\n",
       "1253411       1   8.08         1.0      119.0           106.0  114.0   0\n",
       "1419103       0   9.92         1.0      124.0            76.0  102.0   0"
      ]
     },
     "execution_count": 5,
     "metadata": {},
     "output_type": "execute_result"
    }
   ],
   "source": [
    "df_pheno.head()"
   ]
  },
  {
   "cell_type": "code",
   "execution_count": 6,
   "id": "8e0342a0",
   "metadata": {},
   "outputs": [],
   "source": [
    "correlations = df_pheno.drop('DX', axis=1).corrwith(df_pheno['DX'])"
   ]
  },
  {
   "cell_type": "markdown",
   "id": "03efa925",
   "metadata": {},
   "source": [
    "Find all of the features that have the most significant correlation to the diagonsis."
   ]
  },
  {
   "cell_type": "code",
   "execution_count": 7,
   "id": "a343fc5b",
   "metadata": {},
   "outputs": [
    {
     "data": {
      "text/plain": [
       "Gender            0.168812\n",
       "Verbal IQ        -0.217291\n",
       "Performance IQ   -0.234445\n",
       "IQ               -0.184566\n",
       "dtype: float64"
      ]
     },
     "execution_count": 7,
     "metadata": {},
     "output_type": "execute_result"
    }
   ],
   "source": [
    "correlation_features = correlations.loc[abs(correlations) >= 0.1]\n",
    "correlation_features"
   ]
  },
  {
   "cell_type": "code",
   "execution_count": 8,
   "id": "6d899491",
   "metadata": {},
   "outputs": [
    {
     "name": "stderr",
     "output_type": "stream",
     "text": [
      "C:\\Users\\taylo\\AppData\\Local\\Temp\\ipykernel_13804\\1677502702.py:2: SettingWithCopyWarning: \n",
      "A value is trying to be set on a copy of a slice from a DataFrame.\n",
      "Try using .loc[row_indexer,col_indexer] = value instead\n",
      "\n",
      "See the caveats in the documentation: https://pandas.pydata.org/pandas-docs/stable/user_guide/indexing.html#returning-a-view-versus-a-copy\n",
      "  df_correlation_features['DX'] = df_pheno['DX']\n"
     ]
    }
   ],
   "source": [
    "df_correlation_features = df_pheno[correlation_features.index]\n",
    "df_correlation_features['DX'] = df_pheno['DX']"
   ]
  },
  {
   "cell_type": "markdown",
   "id": "180ea5df",
   "metadata": {},
   "source": [
    "View this dataframe."
   ]
  },
  {
   "cell_type": "code",
   "execution_count": 9,
   "id": "625d6aa0",
   "metadata": {},
   "outputs": [
    {
     "data": {
      "text/html": [
       "<div>\n",
       "<style scoped>\n",
       "    .dataframe tbody tr th:only-of-type {\n",
       "        vertical-align: middle;\n",
       "    }\n",
       "\n",
       "    .dataframe tbody tr th {\n",
       "        vertical-align: top;\n",
       "    }\n",
       "\n",
       "    .dataframe thead th {\n",
       "        text-align: right;\n",
       "    }\n",
       "</style>\n",
       "<table border=\"1\" class=\"dataframe\">\n",
       "  <thead>\n",
       "    <tr style=\"text-align: right;\">\n",
       "      <th></th>\n",
       "      <th>Gender</th>\n",
       "      <th>Verbal IQ</th>\n",
       "      <th>Performance IQ</th>\n",
       "      <th>IQ</th>\n",
       "      <th>DX</th>\n",
       "    </tr>\n",
       "    <tr>\n",
       "      <th>ID</th>\n",
       "      <th></th>\n",
       "      <th></th>\n",
       "      <th></th>\n",
       "      <th></th>\n",
       "      <th></th>\n",
       "    </tr>\n",
       "  </thead>\n",
       "  <tbody>\n",
       "    <tr>\n",
       "      <th>1038415</th>\n",
       "      <td>1</td>\n",
       "      <td>109.0</td>\n",
       "      <td>103.0</td>\n",
       "      <td>107.0</td>\n",
       "      <td>3</td>\n",
       "    </tr>\n",
       "    <tr>\n",
       "      <th>1201251</th>\n",
       "      <td>1</td>\n",
       "      <td>115.0</td>\n",
       "      <td>103.0</td>\n",
       "      <td>110.0</td>\n",
       "      <td>3</td>\n",
       "    </tr>\n",
       "    <tr>\n",
       "      <th>1245758</th>\n",
       "      <td>0</td>\n",
       "      <td>121.0</td>\n",
       "      <td>88.0</td>\n",
       "      <td>106.0</td>\n",
       "      <td>0</td>\n",
       "    </tr>\n",
       "    <tr>\n",
       "      <th>1253411</th>\n",
       "      <td>1</td>\n",
       "      <td>119.0</td>\n",
       "      <td>106.0</td>\n",
       "      <td>114.0</td>\n",
       "      <td>0</td>\n",
       "    </tr>\n",
       "    <tr>\n",
       "      <th>1419103</th>\n",
       "      <td>0</td>\n",
       "      <td>124.0</td>\n",
       "      <td>76.0</td>\n",
       "      <td>102.0</td>\n",
       "      <td>0</td>\n",
       "    </tr>\n",
       "  </tbody>\n",
       "</table>\n",
       "</div>"
      ],
      "text/plain": [
       "         Gender  Verbal IQ  Performance IQ     IQ  DX\n",
       "ID                                                   \n",
       "1038415       1      109.0           103.0  107.0   3\n",
       "1201251       1      115.0           103.0  110.0   3\n",
       "1245758       0      121.0            88.0  106.0   0\n",
       "1253411       1      119.0           106.0  114.0   0\n",
       "1419103       0      124.0            76.0  102.0   0"
      ]
     },
     "execution_count": 9,
     "metadata": {},
     "output_type": "execute_result"
    }
   ],
   "source": [
    "df_correlation_features.head()"
   ]
  },
  {
   "cell_type": "markdown",
   "id": "7d6c809e",
   "metadata": {},
   "source": [
    "Export condensed dataframe as a .csv file."
   ]
  },
  {
   "cell_type": "code",
   "execution_count": 10,
   "id": "08a2022f",
   "metadata": {},
   "outputs": [],
   "source": [
    "df_correlation_features.to_csv(base_folder_filepath + '\\\\Data\\\\Preprocessed_data\\\\2023.7.21-Phenotypic_Condensed.csv')"
   ]
  }
 ],
 "metadata": {
  "kernelspec": {
   "display_name": "Python 3 (ipykernel)",
   "language": "python",
   "name": "python3"
  },
  "language_info": {
   "codemirror_mode": {
    "name": "ipython",
    "version": 3
   },
   "file_extension": ".py",
   "mimetype": "text/x-python",
   "name": "python",
   "nbconvert_exporter": "python",
   "pygments_lexer": "ipython3",
   "version": "3.10.0"
  }
 },
 "nbformat": 4,
 "nbformat_minor": 5
}
